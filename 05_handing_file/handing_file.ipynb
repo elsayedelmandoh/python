{
 "cells": [
  {
   "cell_type": "markdown",
   "metadata": {},
   "source": [
    "# Electro Pi"
   ]
  },
  {
   "cell_type": "markdown",
   "metadata": {},
   "source": [
    "# Handing File"
   ]
  },
  {
   "cell_type": "markdown",
   "metadata": {},
   "source": [
    "+ Script contians code written outside the scope of classes and functions.\n",
    "+ Modeule is set of variable , functions and classes.\n",
    "+ Package is set of modules\n",
    "+ Library is set of packages\n",
    "+ Framework is set of libraries."
   ]
  },
  {
   "cell_type": "markdown",
   "metadata": {},
   "source": [
    "![\"table\"](handing_file.png)"
   ]
  },
  {
   "cell_type": "markdown",
   "metadata": {},
   "source": [
    "w means writing file; \n",
    "w+ means reading and writing the file.\n",
    "\n",
    "a means writing file, append mode; \n",
    "a+ means reading and writing file,\n",
    "\n",
    "r means reading file; \n",
    "r+ means reading and writing the file.\n",
    "\n",
    "name.close() : to close the file"
   ]
  },
  {
   "cell_type": "markdown",
   "metadata": {},
   "source": [
    "+ Orders created in file ?\n",
    "1. r  > Read data only \n",
    "2. r+ > Read and write \n",
    "3. w  > Write only and delete old writing (Override)\n",
    "4. w+ > Write and read and delete old writing (Override)\n",
    "5. a  > Append only and not delete old writing\n",
    "6. a+ > Append and read and not delete old writing\n",
    "7. wb > binary files : \n",
    "8. rb > binary files : \n",
    "\n",
    "9. a & a+ & w & w+ > Create file, If it not found ...\n",
    "10. w & w+          > Delete all in file and write again ."
   ]
  },
  {
   "cell_type": "markdown",
   "metadata": {},
   "source": [
    "+ Functions using C language ...\n",
    "1. fopen(\"name file\",\"Orders\") ? - Function can open file and create Orders ...\n",
    "2. fprintf(name file , \"write anything\") ? - Function to write anything in file ...\n",
    "3. fscanf(name file ,\"%datatype\",variable) ? - Function Read file and stop at space ...\n",
    "4. fclose(name file) ? - Function to close file ..."
   ]
  },
  {
   "cell_type": "markdown",
   "metadata": {},
   "source": [
    "# w \n",
    "1. Write only \n",
    "2. delete old writing (Override) \n",
    "3. create file if it not found"
   ]
  },
  {
   "cell_type": "code",
   "execution_count": null,
   "metadata": {},
   "outputs": [],
   "source": [
    "# method write(\"what do i think about ?\")\n",
    "import os \n",
    "os.getcwd()\n",
    "file2 = open(r\"e:\\COURSES\\100 Days Of Code\\Day 7\\rio2.txt\",'w')\n",
    "file2.write(\"hello world\\n\" * 5) "
   ]
  },
  {
   "cell_type": "code",
   "execution_count": null,
   "metadata": {},
   "outputs": [],
   "source": [
    "# method writeline(list) \n",
    "import os \n",
    "os.getcwd()\n",
    "file2 = open(r\"e:\\COURSES\\100 Days Of Code\\Day 7\\rio2.txt\",'w')\n",
    "\n",
    "listskills = ['python\\n','C++\\n', 'java\\n','HTML\\n']\n",
    "\n",
    "file2.writelines(listskills)"
   ]
  },
  {
   "cell_type": "code",
   "execution_count": null,
   "metadata": {},
   "outputs": [],
   "source": [
    "# w \n",
    "with open(r'test//file.txt', 'w') as f:\n",
    "    f.write('Hello World!')"
   ]
  },
  {
   "cell_type": "markdown",
   "metadata": {},
   "source": [
    "# w+\n",
    "1. Write \n",
    "2. read \n",
    "3. delete old writing (Override)\n",
    "4. create file if it not found"
   ]
  },
  {
   "cell_type": "code",
   "execution_count": null,
   "metadata": {},
   "outputs": [],
   "source": [
    "# method seek() \n",
    "# return from speciffic position in file\n",
    "file5 = open(r\"e:\\COURSES\\100 Days Of Code\\Day 7\\rio5.txt\",'w+')\n",
    "file5.write(\"hello guys\\n\")\n",
    "print(file5.seek(2))\n",
    "print(file5.readlines())\n",
    "file5.close()"
   ]
  },
  {
   "cell_type": "code",
   "execution_count": null,
   "metadata": {},
   "outputs": [],
   "source": [
    "# Write file using user input\n",
    "import os\n",
    "# os.getcwd()\n",
    "\n",
    "user_input = input('Enter your message to save it : ')\n",
    "\n",
    "# w > Write only and delete old writing\n",
    "with open(r\"e:\\COURSES\\100 Days Of Code\\Day 7\\rio7.txt\",'w') as file: \n",
    "    # write message elly user hyktbha f file\n",
    "    file.write(user_input) \n",
    "\n",
    "# a > Append only and not delete old writing\n",
    "with open(r\"e:\\COURSES\\100 Days Of Code\\Day 7\\rio7.txt\",'a') as file2:\n",
    "    # write message elly user hyktbha f file in ela5er\n",
    "    file2.write(user_input) "
   ]
  },
  {
   "cell_type": "code",
   "execution_count": null,
   "metadata": {},
   "outputs": [],
   "source": [
    "# read file using user input\n",
    "\n",
    "# r > display data only \n",
    "with open(r\"e:\\COURSES\\100 Days Of Code\\Day 7\\rio7.txt\",'r') as file3:\n",
    "    # display all date of file\n",
    "    print(file3.read()) \n",
    "\n",
    "# r > display data only \n",
    "with open(r\"e:\\COURSES\\100 Days Of Code\\Day 7\\rio7.txt\",'r') as file4:\n",
    "    # display first 5 chars of file\n",
    "    print(file4.readline(5)) \n",
    "\n",
    "# r > display data only as list\n",
    "with open(r\"e:\\COURSES\\100 Days Of Code\\Day 7\\rio7.txt\",'r') as file5:\n",
    "    # display all date of file in list with \\n elly hwa enter 34an 3mlt new line\n",
    "    print(file5.readlines()) "
   ]
  },
  {
   "cell_type": "code",
   "execution_count": null,
   "metadata": {},
   "outputs": [],
   "source": [
    "# w+\n",
    "with open(r'test//file.txt', 'w+') as f:\n",
    "    f.write('Hello World!...')\n",
    "    f.seek(0) # to back to the beginning of the file \n",
    "    print(f.read()) # Hello World!"
   ]
  },
  {
   "cell_type": "markdown",
   "metadata": {},
   "source": [
    "# a\n",
    "1. Append only \n",
    "2. not delete old writing\n",
    "3. create new file if it not found"
   ]
  },
  {
   "cell_type": "code",
   "execution_count": null,
   "metadata": {},
   "outputs": [],
   "source": [
    "import os \n",
    "os.getcwd()\n",
    "file2 = open(r\"e:\\COURSES\\100 Days Of Code\\Day 7\\rio3.txt\",'a')\n",
    "file2.write(\" hello python\\n\" * 7) \n",
    "file2.write(\"\\nHi\\n\\n\")"
   ]
  },
  {
   "cell_type": "code",
   "execution_count": null,
   "metadata": {},
   "outputs": [],
   "source": [
    "# method truncate(number of chars)\n",
    "# remove all chars except first 5 chars\n",
    "file4 = open(r\"e:\\COURSES\\100 Days Of Code\\Day 7\\rio4.txt\",'a')\n",
    "\n",
    "file4.write(\"hello world \"*3)\n",
    "file4.truncate(5) \n",
    "file4.close()"
   ]
  },
  {
   "cell_type": "code",
   "execution_count": null,
   "metadata": {},
   "outputs": [],
   "source": [
    "# method tell()\n",
    "# return position of mouse in file4\n",
    "# new line is two bytes\n",
    "file4 = open(r\"e:\\COURSES\\100 Days Of Code\\Day 7\\rio4.txt\",'a')\n",
    "\n",
    "print(file4.tell())\n",
    "file4.close()"
   ]
  },
  {
   "cell_type": "code",
   "execution_count": null,
   "metadata": {},
   "outputs": [],
   "source": [
    "# a\n",
    "with open(r'test//file.txt', 'a') as f:\n",
    "    f.write('Hey!...')"
   ]
  },
  {
   "cell_type": "code",
   "execution_count": null,
   "metadata": {},
   "outputs": [],
   "source": [
    "# a+\n",
    "with open(r'test//file.txt', 'a+') as f:\n",
    "    f.write('Hello World!...')\n",
    "    f.seek(0) # to back to the beginning of the file \n",
    "    print(f.read()) # Hello World!...Hello World!..."
   ]
  },
  {
   "cell_type": "markdown",
   "metadata": {},
   "source": [
    "# r \n",
    "1. read data only"
   ]
  },
  {
   "cell_type": "code",
   "execution_count": null,
   "metadata": {},
   "outputs": [],
   "source": [
    "import os \n",
    "os.getcwd()\n",
    "file = open(r\"e:\\COURSES\\100 Days Of Code\\Day 7\\rio.txt\",'r')  # return file data object not content of file\n",
    "\n",
    "print(file.name) # e:\\COURSES\\100 Days Of Code\\Day 7\\rio.txt\n",
    "print(file.mode) # r \n",
    "print(file.encoding) # cp1252"
   ]
  },
  {
   "cell_type": "code",
   "execution_count": null,
   "metadata": {},
   "outputs": [],
   "source": [
    "# method read('number of chars')\n",
    "# if args is empty then return all chars\n",
    "import os \n",
    "os.getcwd()\n",
    "file = open(r\"e:\\COURSES\\100 Days Of Code\\Day 7\\rio.txt\",'r')  # return file data object not content of file\n",
    "\n",
    "print(file.read(4)) # read only 4 characters\n",
    "print(file.read()) # read all characters\n",
    "\n",
    "file.close() # close file"
   ]
  },
  {
   "cell_type": "code",
   "execution_count": null,
   "metadata": {},
   "outputs": [],
   "source": [
    "# method readline('number of chars')\n",
    "# if args is empty then return all lines\n",
    "import os \n",
    "os.getcwd()\n",
    "file = open(r\"e:\\COURSES\\100 Days Of Code\\Day 7\\rio.txt\",'r')  # return file data object not content of file\n",
    "\n",
    "print(file.readline(7)) # read only 7 characters from line\n",
    "print(file.readline()) # read all characters in line\n",
    "\n",
    "file.close() # close file"
   ]
  },
  {
   "cell_type": "code",
   "execution_count": null,
   "metadata": {},
   "outputs": [],
   "source": [
    "# method readlines() : return all lines in list\n",
    "import os \n",
    "os.getcwd()\n",
    "file = open(r\"e:\\COURSES\\100 Days Of Code\\Day 7\\rio.txt\",'r')  # return file data object not content of file\n",
    "\n",
    "print(file.readlines(5)) # read only 5 characters from line\n",
    "print(file.readlines()) # read all characters in line\n",
    "print(type(file.readlines())) # list\n",
    "\n",
    "file.close() # close file"
   ]
  },
  {
   "cell_type": "code",
   "execution_count": null,
   "metadata": {},
   "outputs": [],
   "source": [
    "# loop on file\n",
    "import os \n",
    "os.getcwd()\n",
    "file = open(r\"e:\\COURSES\\100 Days Of Code\\Day 7\\rio.txt\",'r')\n",
    "\n",
    "for _ in file:\n",
    "    print(_)\n",
    "\n",
    "for _ in file:\n",
    "    print(_)\n",
    "    if _.startswith(\"im\"):\n",
    "        break\n",
    "\n",
    "file.close() # close file"
   ]
  },
  {
   "cell_type": "code",
   "execution_count": null,
   "metadata": {},
   "outputs": [],
   "source": [
    "# r\n",
    "with open('test//file.txt','r') as f:  # default `r` mode\n",
    "    print(f.read())"
   ]
  },
  {
   "cell_type": "code",
   "execution_count": null,
   "metadata": {},
   "outputs": [],
   "source": [
    "with open('test//file.txt','r+') as f:  # default `r` mode\n",
    "    print(f.read())\n",
    "    f.write('\\nHello !')\n",
    "    f.seek(0) # to back to the beginning of the file\n",
    "    print(f.read())"
   ]
  }
 ],
 "metadata": {
  "kernelspec": {
   "display_name": "Python 3.10.4 64-bit",
   "language": "python",
   "name": "python3"
  },
  "language_info": {
   "codemirror_mode": {
    "name": "ipython",
    "version": 3
   },
   "file_extension": ".py",
   "mimetype": "text/x-python",
   "name": "python",
   "nbconvert_exporter": "python",
   "pygments_lexer": "ipython3",
   "version": "3.10.4"
  },
  "orig_nbformat": 4,
  "vscode": {
   "interpreter": {
    "hash": "916dbcbb3f70747c44a77c7bcd40155683ae19c65e1c03b4aa3499c5328201f1"
   }
  }
 },
 "nbformat": 4,
 "nbformat_minor": 2
}
