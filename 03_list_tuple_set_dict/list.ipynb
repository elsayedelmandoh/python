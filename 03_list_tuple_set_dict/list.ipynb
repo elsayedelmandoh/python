{
 "cells": [
  {
   "attachments": {},
   "cell_type": "markdown",
   "metadata": {},
   "source": [
    "# List ..\n",
    "1. List Items are enclosed in \"Square bracket []\"\n",
    "2. List is \"ordered\" To use index to access elements,\n",
    "3. List is \"mutable\" object that can change their elements.\n",
    "4. List Items are't unique\n",
    "5. List can have different data type"
   ]
  },
  {
   "cell_type": "code",
   "execution_count": null,
   "metadata": {},
   "outputs": [],
   "source": [
    "# Create list from different data type\n",
    "lst = [1, \"Elsayed\", True , 3.5 , [2,4,6]]"
   ]
  },
  {
   "cell_type": "code",
   "execution_count": null,
   "metadata": {},
   "outputs": [],
   "source": [
    "# List is ordered ...\n",
    "\n",
    "# print all data of list\n",
    "print(lst) # [1, \"Elsayed\", True , 3.5 , [2,4,6]]\n",
    "\n",
    "# print first element\n",
    "print(lst[0]) # 1\n",
    "\n",
    "# print last element\n",
    "print(lst[-1]) # [2,4,6]\n",
    "\n",
    "# print Third element from the End\n",
    "print(lst[-3]) # True\n",
    "\n",
    "# 2D\n",
    "print(lst[4][2]) # 6\n",
    "\n",
    "# supoort slicin ..\n",
    "print(lst[1:4]) [\"Elsayed\", True, 3.5]"
   ]
  },
  {
   "cell_type": "code",
   "execution_count": null,
   "metadata": {},
   "outputs": [],
   "source": [
    "# List is mutable\n",
    "\n",
    "lst[2] = False\n",
    "print(lst) # [1, \"Elsayed\", False , 3.5 , [2,4,6]]\n",
    "\n",
    "lst[0:2] = [] \n",
    "print(lst) # [False , 3.5 , [2,4,6]]"
   ]
  },
  {
   "cell_type": "code",
   "execution_count": null,
   "metadata": {},
   "outputs": [],
   "source": [
    "# List Items is not unique\n",
    "\n",
    "lst2 = [1,2,3,3,3,4,4,5,6]\n",
    "print(lst2) # [1,2,3,3,3,4,4,5,6]"
   ]
  },
  {
   "cell_type": "markdown",
   "metadata": {},
   "source": [
    "# Methods of list .."
   ]
  },
  {
   "cell_type": "markdown",
   "metadata": {},
   "source": [
    "# append()"
   ]
  },
  {
   "cell_type": "code",
   "execution_count": null,
   "metadata": {},
   "outputs": [],
   "source": [
    "# list.append(obj)\n",
    "\n",
    "lst = [1, \"Elsayed\", True , 3.5 , [2,4,6], 34]\n",
    "lst.append(11)\n",
    "print(lst) # [1, \"Elsayed\", True , 3.5 , [2,4,6], 34, 11]\n",
    "\n",
    "newlst= [1,2]\n",
    "lst.append(newlst) \n",
    "print(lst) # [1, \"Elsayed\", True , 3.5 , [2,4,6], 34, 11, [1,2]]"
   ]
  },
  {
   "cell_type": "markdown",
   "metadata": {},
   "source": [
    "# extend()"
   ]
  },
  {
   "cell_type": "code",
   "execution_count": null,
   "metadata": {},
   "outputs": [],
   "source": [
    "# list.extend(newlst)\n",
    "\n",
    "lst = [1, \"Elsayed\", True , 3.5 , [2,4,6], 34]\n",
    "newlst= [1,2]\n",
    "\n",
    "lst.extend(newlst)\n",
    "print(lst) # [1, \"Elsayed\", True , 3.5 , [2,4,6], 34, 1, 2]"
   ]
  },
  {
   "cell_type": "markdown",
   "metadata": {},
   "source": [
    "# remove()"
   ]
  },
  {
   "cell_type": "code",
   "execution_count": null,
   "metadata": {},
   "outputs": [],
   "source": [
    "# list.remove(obj)\n",
    "\n",
    "lst = [1, \"Elsayed\", True , 3.5 , [2,4,6], 3.5 ,3.5,3.5]\n",
    "lst.remove(3.5)\n",
    "print(lst) # [1, 'Elsayed', True, [2, 4, 6], 3.5, 3.5]"
   ]
  },
  {
   "cell_type": "markdown",
   "metadata": {},
   "source": [
    "# sort()"
   ]
  },
  {
   "cell_type": "code",
   "execution_count": null,
   "metadata": {},
   "outputs": [],
   "source": [
    "# list.sort()\n",
    "\n",
    "lst = [4,5,6,7,6,2]\n",
    "lst.sort()\n",
    "print(lst) # [2, 4, 5, 6, 6, 7]\n",
    "\n",
    "lst = ['a','A','B','c','z','Z']\n",
    "lst.sort()\n",
    "print(lst) # ['A', 'B', 'Z', 'a', 'c', 'z']"
   ]
  },
  {
   "cell_type": "code",
   "execution_count": null,
   "metadata": {},
   "outputs": [],
   "source": [
    "# list.sort(reverse=True)\n",
    "\n",
    "lst = [4,5,6,7,6,2]\n",
    "lst.sort(reverse=True)\n",
    "print(lst) # [7, 6, 6, 5, 4, 2]\n",
    "\n",
    "lst = ['a','A','B','c','z','Z']\n",
    "lst.sort(reverse=True)\n",
    "print(lst) # ['z', 'c', 'a', 'Z', 'B', 'A']"
   ]
  },
  {
   "cell_type": "markdown",
   "metadata": {},
   "source": [
    "# reverse()"
   ]
  },
  {
   "cell_type": "code",
   "execution_count": null,
   "metadata": {},
   "outputs": [],
   "source": [
    "lst = ['a',5,6,7,1,'c','z','Z']\n",
    "lst.reverse()\n",
    "print(lst)"
   ]
  },
  {
   "cell_type": "markdown",
   "metadata": {},
   "source": [
    "# clear()"
   ]
  },
  {
   "cell_type": "code",
   "execution_count": null,
   "metadata": {},
   "outputs": [],
   "source": [
    "a = [2,3,5,6]\n",
    "a.clear()\n",
    "print(a)"
   ]
  },
  {
   "cell_type": "markdown",
   "metadata": {},
   "source": [
    "# copy()"
   ]
  },
  {
   "cell_type": "code",
   "execution_count": null,
   "metadata": {},
   "outputs": [],
   "source": [
    "co = [2,5,6]\n",
    "coplist = co.copy()\n",
    "print(co) # [2,5,6]\n",
    "print(coplist) # [2,5,6]\n",
    "\n",
    "co.append(1)\n",
    "print(co) # [2,5,6,1]\n",
    "print(coplist) # [2,5,6] > shallow copy : only take copy from main list"
   ]
  },
  {
   "cell_type": "markdown",
   "metadata": {},
   "source": [
    "# count()"
   ]
  },
  {
   "cell_type": "code",
   "execution_count": null,
   "metadata": {},
   "outputs": [],
   "source": [
    "cou = [1,2,3,4,4,4,4]\n",
    "print(cou.count(4)) # 4"
   ]
  },
  {
   "cell_type": "markdown",
   "metadata": {},
   "source": [
    "# index()"
   ]
  },
  {
   "cell_type": "code",
   "execution_count": null,
   "metadata": {},
   "outputs": [],
   "source": [
    "ind = [1,3,4,4,5,\"Elsayed\"]\n",
    "print(ind.index(\"Elsayed\")) # 5\n",
    "# if element is not found return 'Error'"
   ]
  },
  {
   "cell_type": "markdown",
   "metadata": {},
   "source": [
    "# insert()"
   ]
  },
  {
   "cell_type": "code",
   "execution_count": null,
   "metadata": {},
   "outputs": [],
   "source": [
    "ins = [2,4,5,6]\n",
    "ins.insert(0,\"aa\") # [\"aa\",2,4,5,6]\n",
    "print(ins)\n",
    "ins.insert(-1,\"xx\") # ['aa', 2, 4, 5, 'xx', 6]\n",
    "print(ins)"
   ]
  },
  {
   "cell_type": "markdown",
   "metadata": {},
   "source": [
    "# pop()"
   ]
  },
  {
   "cell_type": "code",
   "execution_count": null,
   "metadata": {},
   "outputs": [],
   "source": [
    "# pop() : remove and return last element\n",
    "po = [1,2,24,5]\n",
    "print(po.pop()) # 5\n",
    "print(po) # [1,2,24]"
   ]
  },
  {
   "cell_type": "code",
   "execution_count": null,
   "metadata": {},
   "outputs": [],
   "source": [
    "# List .... [ ] ----> Square bracket\n",
    "\n",
    "List = [1, \"Elsayed\", True , 3.5 , [2,4,6]] # create list \n",
    "\n",
    "print(List) # print all data of list\n",
    "print(List[2]) # the third element (true)\n",
    "print(List[4][2]) # print 6 elly f List [2,4,6]\n",
    "print(List[-1]) # last element \n",
    "\n",
    "# Change data of loop  ...\n",
    "List[0] = \"Hello\"\n",
    "print(List) # [Hello, \"Elsayed\", True , 3.5 , [2,4,6]]\n",
    "\n",
    "# loop 3la List using for loop .....\n",
    "for i in range(len(List)):\n",
    "    print(List[i])\n",
    "\n",
    "\n",
    "print (\"List[] ..........\")    # \n",
    "List2 = [1,2,3,5,5]       # permision allthing\n",
    "print(List2[1])                 # Can indexing and print it \n",
    "List2[2] = 7                    # editing \n",
    "print(List2)                    # can repeat data \n",
    "\n",
    "# list.append(obj) # add element in last list\n",
    "List2.append(7) #[1,2,3,5,5,5,5,5,7]\n",
    "\n",
    "# list.remove(obj) # delete element in list\n",
    "List2.remove(7)\n",
    "print(List2)\n",
    "\n",
    "# list.insert(index , obj) # add element in last list with index\n",
    "List2.insert(0,3) # insex  0 , element 3\n",
    "print(List2)\n",
    "\n",
    "# list.pop() # remove last element\n",
    "List2.pop()\n",
    "print(List2)\n",
    "\n",
    "# list.count(obj) # element mwgod kam mara\n",
    "print(List2.count(5))\n",
    "\n",
    "# list.sort(obj) # sort element from from els8yr to elkber\n",
    "List2.sort()\n",
    "print(List2)\n",
    "\n",
    "# list.sort(obj , reverse=true) # sort element from elkber lls8yr\n",
    "List2.sort(reverse=True)\n",
    "print(List2)\n",
    "\n",
    "\n",
    "# list.reverse() # reverse element\n",
    "List2.reverse()\n",
    "print(List2)"
   ]
  }
 ],
 "metadata": {
  "kernelspec": {
   "display_name": "Python 3",
   "language": "python",
   "name": "python3"
  },
  "language_info": {
   "codemirror_mode": {
    "name": "ipython",
    "version": 3
   },
   "file_extension": ".py",
   "mimetype": "text/x-python",
   "name": "python",
   "nbconvert_exporter": "python",
   "pygments_lexer": "ipython3",
   "version": "3.11.4"
  },
  "orig_nbformat": 4,
  "vscode": {
   "interpreter": {
    "hash": "ab58cbacd942ca503049d3378ed1180a79e5c5d17c40fd38c92a577d131c0358"
   }
  }
 },
 "nbformat": 4,
 "nbformat_minor": 2
}
