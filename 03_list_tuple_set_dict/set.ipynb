{
 "cells": [
  {
   "cell_type": "markdown",
   "metadata": {},
   "source": [
    "# Day 5 of 100 Days of code .."
   ]
  },
  {
   "cell_type": "markdown",
   "metadata": {},
   "source": [
    "# Set \n",
    "1. Set Items are enclosed in \"Curly brackets\"\n",
    "2. Set is \"Not ordered\" & \"Not indexed\"\n",
    "3. Set is \"Immutable\" object that can't change their elements.\n",
    "4. Set Items is unique\n",
    "5. Set can have different data type"
   ]
  },
  {
   "cell_type": "markdown",
   "metadata": {},
   "source": [
    "# Set can have different data type"
   ]
  },
  {
   "cell_type": "code",
   "execution_count": null,
   "metadata": {},
   "outputs": [],
   "source": [
    "# Set has only immutable data type (numbers, Strings, tuples) Not list and Dict\n",
    "st ={1,2,5.6,\"Rio\"}\n",
    "print(st) # {1, 2, 5.6, 'Rio'}\n",
    "\n",
    "st ={1,2,5.6,\"Rio\",True,[1,2,3]}\n",
    "# print(st) # unhashable type: 'list'\n"
   ]
  },
  {
   "cell_type": "markdown",
   "metadata": {},
   "source": [
    "# Set is \"Not ordered\" & \"Not indexed\""
   ]
  },
  {
   "cell_type": "code",
   "execution_count": null,
   "metadata": {},
   "outputs": [],
   "source": [
    "st = {1,\"rio\",6,4.6,5}\n",
    "# print(st[2]) # 'set' object is not subscriptable"
   ]
  },
  {
   "attachments": {},
   "cell_type": "markdown",
   "metadata": {},
   "source": [
    "# Set is \"Immutable\" object that can't change their elements."
   ]
  },
  {
   "cell_type": "code",
   "execution_count": null,
   "metadata": {},
   "outputs": [],
   "source": [
    "st = {1,\"rio\",6,4.6,5}\n",
    "st[2] = 5  # 'set' object does not support item assignment\n"
   ]
  },
  {
   "cell_type": "markdown",
   "metadata": {},
   "source": [
    "# Set Items is unique"
   ]
  },
  {
   "cell_type": "code",
   "execution_count": null,
   "metadata": {},
   "outputs": [],
   "source": [
    "st = {1,\"rio\",6,1,4.6,5,6}\n",
    "print(st) # {1, 4.6, 5, 6, 'rio'}"
   ]
  },
  {
   "cell_type": "markdown",
   "metadata": {},
   "source": [
    "# in , not in"
   ]
  },
  {
   "cell_type": "code",
   "execution_count": null,
   "metadata": {},
   "outputs": [],
   "source": [
    "set1={'a','b','c'}\n",
    "set2=set(['d','e','f',1,True,2.4])\n",
    "print(set1) # {'c', 'a', 'b'}\n",
    "print(set2) # {1, 2.4, 'f', 'd', 'e'}\n",
    "\n",
    "\n",
    "# type\n",
    "print(type(set1)) # set\n",
    "print(type(set2)) # set\n",
    "\n",
    "# in > membership\n",
    "print('r' in set1) # false\n",
    "print('q' not in set1) # True\n",
    "\n",
    "# len\n",
    "print(len(set1)) # 3"
   ]
  },
  {
   "cell_type": "markdown",
   "metadata": {},
   "source": [
    "# and , or"
   ]
  },
  {
   "cell_type": "code",
   "execution_count": null,
   "metadata": {},
   "outputs": [],
   "source": [
    "# and , or\n",
    "set1 = {1,2,3,4}\n",
    "set2 = {1,50,7}\n",
    "print(type(set1))\n",
    "print(set1 and set2) # (1,50,7)\n",
    "print(set1 or set2) # (1,2,3,4)"
   ]
  },
  {
   "cell_type": "markdown",
   "metadata": {},
   "source": [
    "# Methods .."
   ]
  },
  {
   "cell_type": "markdown",
   "metadata": {},
   "source": [
    "# add"
   ]
  },
  {
   "cell_type": "code",
   "execution_count": null,
   "metadata": {},
   "outputs": [],
   "source": [
    "st = {1,\"rio\",6,1,4.6,5,6}\n",
    "st.add(7)\n",
    "print(st) # {1, 4.6, 5, 6, 7, 'rio'}"
   ]
  },
  {
   "cell_type": "code",
   "execution_count": null,
   "metadata": {},
   "outputs": [],
   "source": [
    "set1={'a','b','c'}\n",
    "set2=set(['d','e','f',1,True,2.4])\n",
    "\n",
    "print(set1) # {'c', 'a', 'b'}\n",
    "set1.remove('a')\n",
    "print(set1) # {'c', 'b'}\n",
    "set1.add('q')\n",
    "print(set1) # {'c', 'q', 'b'}"
   ]
  },
  {
   "cell_type": "markdown",
   "metadata": {},
   "source": [
    "# union()"
   ]
  },
  {
   "cell_type": "code",
   "execution_count": null,
   "metadata": {},
   "outputs": [],
   "source": [
    "st1={\"One\",\"Two\",\"Three\"}\n",
    "st2={\"1\",\"2\",\"3\"}\n",
    "st3={\"Zero\",\"Cool\"}\n",
    "print(st2.union(st3,st1)) # {'2', 'Cool', 'Two', 'Three', '3', '1', 'Zero', 'One'}\n"
   ]
  },
  {
   "cell_type": "code",
   "execution_count": null,
   "metadata": {},
   "outputs": [],
   "source": [
    "set1 = {1,2,3,4}\n",
    "set2 = {1,50,7}\n",
    "print(set1 | set2) # (1,2,3,4,50,7)"
   ]
  },
  {
   "cell_type": "markdown",
   "metadata": {},
   "source": [
    "# remove()"
   ]
  },
  {
   "cell_type": "code",
   "execution_count": null,
   "metadata": {},
   "outputs": [],
   "source": [
    "st={1,2,3,4}\n",
    "st.remove(1) # remove 1\n",
    "# st.remove(7) # Error , 7 not found\n",
    "print(st) # {2, 3, 4}"
   ]
  },
  {
   "cell_type": "markdown",
   "metadata": {},
   "source": [
    "# discard()"
   ]
  },
  {
   "cell_type": "code",
   "execution_count": null,
   "metadata": {},
   "outputs": [],
   "source": [
    "st={1,2,3,4}\n",
    "st.discard(1) # remove 1\n",
    "st.discard(7) # not error\n",
    "print(st) # {2, 3, 4}"
   ]
  },
  {
   "cell_type": "markdown",
   "metadata": {},
   "source": [
    "# pop()"
   ]
  },
  {
   "cell_type": "code",
   "execution_count": null,
   "metadata": {},
   "outputs": [],
   "source": [
    "# return random elements from set\n",
    "st={1,2,3,4}\n",
    "print(st.pop()) # 1 "
   ]
  },
  {
   "cell_type": "markdown",
   "metadata": {},
   "source": [
    "# difference()"
   ]
  },
  {
   "cell_type": "code",
   "execution_count": null,
   "metadata": {},
   "outputs": [],
   "source": [
    "a={1,2,3,4}\n",
    "b={1,2,\"Osama\",\"Ahned\"}\n",
    "print(a) # {1, 2, 3, 4}\n",
    "print(a.difference(b)) # a - b # {3, 4}\n",
    "print(a) # {1, 2, 3, 4}"
   ]
  },
  {
   "cell_type": "code",
   "execution_count": null,
   "metadata": {},
   "outputs": [],
   "source": [
    "set1 = {1,2,3,4}\n",
    "set2 = {1,50,7}\n",
    "print(set1 - set2) # (2,3,4)\n"
   ]
  },
  {
   "cell_type": "markdown",
   "metadata": {},
   "source": [
    "# difference_update()"
   ]
  },
  {
   "cell_type": "code",
   "execution_count": null,
   "metadata": {},
   "outputs": [],
   "source": [
    "# return result and put them in original set and remove all other elements\n",
    "c={1,2,3,4}\n",
    "d={1,2,3,\"Osana\",\"Ahmed\"}\n",
    "print(c) # {1, 2, 3, 4}\n",
    "c.difference_update(d) #c-d\n",
    "print(c) # {4}"
   ]
  },
  {
   "cell_type": "markdown",
   "metadata": {},
   "source": [
    "# intersection()"
   ]
  },
  {
   "cell_type": "code",
   "execution_count": null,
   "metadata": {},
   "outputs": [],
   "source": [
    "e={1,2,3,4,\"X\"}\n",
    "f={\"Osama\",\"X\",2}\n",
    "print(e.intersection(f)) # e & f # {2, 'X'}\n",
    "print(e) # {1, 2, 3, 4, 'X'}"
   ]
  },
  {
   "cell_type": "code",
   "execution_count": null,
   "metadata": {},
   "outputs": [],
   "source": [
    "set1 = {1,2,3,4}\n",
    "set2 = {1,50,7}\n",
    "print(set1 & set2) # (1)\n"
   ]
  },
  {
   "cell_type": "markdown",
   "metadata": {},
   "source": [
    "# intersection_update()"
   ]
  },
  {
   "cell_type": "code",
   "execution_count": null,
   "metadata": {},
   "outputs": [],
   "source": [
    "g={1,2,3,4,\"X\",\"Osama\"}\n",
    "h={\"Osama\",\"X\",2}\n",
    "print(g) # {1, 2, 3, 4, 'Osama', 'X'}\n",
    "g.intersection_update(h) #g & h # not return\n",
    "print(g) # {'Osama', 2, 'X'}"
   ]
  },
  {
   "cell_type": "markdown",
   "metadata": {},
   "source": [
    "# symmetric_difference()"
   ]
  },
  {
   "cell_type": "code",
   "execution_count": null,
   "metadata": {},
   "outputs": [],
   "source": [
    "# elements are not found in both sets of elements\n",
    "z={1,2,3,4,5,\"X\"}\n",
    "x={\"Elsayed\",\"Rio\",1,2,4,\"x\"}\n",
    "print(z.symmetric_difference(x)) #1^j # {3, 5, 'Osama', 'Zero', 'X', 'x'}\n",
    "print(z) # {1, 2, 3, 4, 5, 'X'}"
   ]
  },
  {
   "cell_type": "code",
   "execution_count": null,
   "metadata": {},
   "outputs": [],
   "source": [
    "set1 = {1,2,3,4}\n",
    "set2 = {1,50,7}\n",
    "\n",
    "print(set1 ^ set2) # (2,3,4,50,7)\n"
   ]
  },
  {
   "cell_type": "markdown",
   "metadata": {},
   "source": [
    "# symmetric_difference_update()"
   ]
  },
  {
   "cell_type": "code",
   "execution_count": null,
   "metadata": {},
   "outputs": [],
   "source": [
    "# elements are not found in both sets of elements\n",
    "z={1,2,3,4,5,\"X\"}\n",
    "x={\"Elsayed\",\"Eio\",1,2,4,\"x\"}\n",
    "print(z) # {1, 2, 3, 4, 5, 'X'}\n",
    "z.symmetric_difference_update(x) #1^j # not return\n",
    "print(z) # {3, 'Elsayed', 5, 'Eio', 'X', 'x'}"
   ]
  },
  {
   "cell_type": "markdown",
   "metadata": {},
   "source": [
    "EX"
   ]
  },
  {
   "cell_type": "code",
   "execution_count": null,
   "metadata": {},
   "outputs": [],
   "source": [
    "set1={'a','b','c'}\n",
    "set2=set(['d','e','f',1,True,2.4])\n",
    "print(set1) # {'c', 'a', 'b'}\n",
    "print(set2) # {1, 2.4, 'f', 'd', 'e'}\n",
    "\n",
    "\n",
    "# type\n",
    "print(type(set1)) # set\n",
    "print(type(set2)) # set\n",
    "\n",
    "# in > membership\n",
    "print('r' in set1) # false\n",
    "print('q' not in set1) # True\n",
    "\n",
    "# len\n",
    "print(len(set1)) # 3"
   ]
  },
  {
   "cell_type": "code",
   "execution_count": null,
   "metadata": {},
   "outputs": [],
   "source": [
    "# add\n",
    "print(set1) # {'c', 'a', 'b'}\n",
    "set1.remove('a')\n",
    "print(set1) # {'c', 'b'}\n",
    "set1.add('q')\n",
    "print(set1) # {'c', 'q', 'b'}"
   ]
  },
  {
   "cell_type": "code",
   "execution_count": null,
   "metadata": {},
   "outputs": [
    {
     "name": "stdout",
     "output_type": "stream",
     "text": [
      "<class 'set'>\n",
      "{1, 50, 7}\n",
      "{1, 2, 3, 4}\n"
     ]
    }
   ],
   "source": [
    "# and , or\n",
    "set1 = {1,2,3,4}\n",
    "set2 = {1,50,7}\n",
    "print(type(set1))\n",
    "print(set1 and set2) # (1,50,7)\n",
    "print(set1 or set2) # (1,2,3,4)"
   ]
  },
  {
   "cell_type": "code",
   "execution_count": null,
   "metadata": {},
   "outputs": [],
   "source": [
    "# | UNION : return all element in both sets\n",
    "print(set1 | set2) # (1,2,3,4,50,7)\n",
    "print(set1.union(set2)) # (1,2,3,4,50,7)"
   ]
  },
  {
   "cell_type": "code",
   "execution_count": null,
   "metadata": {},
   "outputs": [],
   "source": [
    "# & INTERSECTION : Return the intersection of two sets as a new set.\n",
    "print(set1 & set2) # (1)\n",
    "print(set1.intersection(set2)) # (1)"
   ]
  },
  {
   "cell_type": "code",
   "execution_count": null,
   "metadata": {},
   "outputs": [],
   "source": [
    "# - DIFFERENCE : set1 - set2 \n",
    "print(set1 - set2) # (2,3,4)\n",
    "print(set1.difference(set2)) # (2,3,4)"
   ]
  },
  {
   "cell_type": "code",
   "execution_count": null,
   "metadata": {},
   "outputs": [],
   "source": [
    "# ^ SYMMETRIC DIFFERENCE : Return all element in both sets but not intersection\n",
    "print(set1 ^ set2) # (2,3,4,50,7)\n",
    "print(set1.symmetric_difference(set2)) # (2,3,4,50,7)"
   ]
  }
 ],
 "metadata": {
  "kernelspec": {
   "display_name": "Python 3",
   "language": "python",
   "name": "python3"
  },
  "language_info": {
   "codemirror_mode": {
    "name": "ipython",
    "version": 3
   },
   "file_extension": ".py",
   "mimetype": "text/x-python",
   "name": "python",
   "nbconvert_exporter": "python",
   "pygments_lexer": "ipython3",
   "version": "3.10.8"
  },
  "orig_nbformat": 4,
  "vscode": {
   "interpreter": {
    "hash": "ab58cbacd942ca503049d3378ed1180a79e5c5d17c40fd38c92a577d131c0358"
   }
  }
 },
 "nbformat": 4,
 "nbformat_minor": 2
}
