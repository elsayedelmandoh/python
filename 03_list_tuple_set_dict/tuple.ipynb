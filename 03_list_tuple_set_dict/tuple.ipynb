{
 "cells": [
  {
   "cell_type": "markdown",
   "metadata": {},
   "source": [
    "# Tuple \n",
    "1. Tuple Items are enclosed in \"Parentheses\"\n",
    "2. Tuple is \"ordered\" To use index to access elements,\n",
    "3. Tuple is \"Immutable\" object that can't change their elements.\n",
    "4. Tuple Items is not unique\n",
    "5. Tuple can have different data type"
   ]
  },
  {
   "cell_type": "markdown",
   "metadata": {},
   "source": [
    "# Tuple is \"ordered\" To use index to access elements"
   ]
  },
  {
   "cell_type": "code",
   "execution_count": null,
   "metadata": {},
   "outputs": [],
   "source": [
    "tup = (3,4,5,6,7,9,8)\n",
    "print(tup[3]) # 6\n",
    "print(tup[-2]) # 9"
   ]
  },
  {
   "cell_type": "markdown",
   "metadata": {},
   "source": [
    "# Tuple is \"Immutable\" object that can't change or add elements."
   ]
  },
  {
   "cell_type": "code",
   "execution_count": null,
   "metadata": {},
   "outputs": [],
   "source": [
    "tup = (True,3,\"Hello\",8.5)\n",
    "# tup[1] = 5\n",
    "# print(tup) # 'tuple' object does not support item assignment"
   ]
  },
  {
   "cell_type": "markdown",
   "metadata": {},
   "source": [
    "# Tuple Items is not unique"
   ]
  },
  {
   "cell_type": "code",
   "execution_count": null,
   "metadata": {},
   "outputs": [],
   "source": [
    "tup = (1,2,3,3,3,4)\n",
    "print(tup) # (1, 2, 3, 3, 3, 4)"
   ]
  },
  {
   "cell_type": "markdown",
   "metadata": {},
   "source": [
    "# diff between Tuple and String"
   ]
  },
  {
   "cell_type": "code",
   "execution_count": null,
   "metadata": {},
   "outputs": [],
   "source": [
    "tup = (\"hello\") \n",
    "str = \"hello\"\n",
    "print(type(tup)) # str\n",
    "print(type(str)) # str\n",
    "\n",
    "tup = (\"hello\",)\n",
    "str = \"hello\"\n",
    "print(type(tup)) # tuple\n",
    "print(type(str)) # str"
   ]
  },
  {
   "cell_type": "markdown",
   "metadata": {},
   "source": [
    "# diff between Tuple and int"
   ]
  },
  {
   "cell_type": "code",
   "execution_count": null,
   "metadata": {},
   "outputs": [],
   "source": [
    "# no add no remove no edit \n",
    "\n",
    "tup = (2) # int\n",
    "tup = (2,) # Tuple\n",
    "\n",
    "print (\"Tuple() ..........\")   # \n",
    "Tuple = (0,5,6,6,6,6,6)        # Using with data which not change in future (Coordinates(x,y)) \n",
    "print(Tuple[0])                # can indexing and print it \n",
    "# Tuple[0] = 4  -----> (Error) # can't edit index \n",
    "print(Tuple)                   # can repeat data "
   ]
  },
  {
   "cell_type": "markdown",
   "metadata": {},
   "source": [
    "# Methods .."
   ]
  },
  {
   "cell_type": "markdown",
   "metadata": {},
   "source": [
    "# count()"
   ]
  },
  {
   "cell_type": "code",
   "execution_count": null,
   "metadata": {},
   "outputs": [],
   "source": [
    "cou = [1,2,3,4,4]\n",
    "print(cou.count(4)) # 2"
   ]
  },
  {
   "cell_type": "markdown",
   "metadata": {},
   "source": [
    "# index()"
   ]
  },
  {
   "cell_type": "code",
   "execution_count": null,
   "metadata": {},
   "outputs": [],
   "source": [
    "ind = [1,3,4,4,5,\"Elsayed\"]\n",
    "print(ind.index(\"Elsayed\")) # 5\n",
    "print(ind.index(4)) # 2 : find first element\n",
    "# if element is not found return 'Error'"
   ]
  },
  {
   "cell_type": "markdown",
   "metadata": {},
   "source": [
    "# Destruct()"
   ]
  },
  {
   "cell_type": "code",
   "execution_count": null,
   "metadata": {},
   "outputs": [],
   "source": [
    "a = [1,2,3]\n",
    "x,y,z = a\n",
    "print(x,y,z,sep=' > ') # 1 > 2 > 3\n",
    "\n",
    "a = [1,2,5,4]\n",
    "x,y,_,z = a # _ : to ignore element 3 (5)\n",
    "print(x,y,z,sep=' > ') # 1 > 2 > 4"
   ]
  },
  {
   "cell_type": "markdown",
   "metadata": {},
   "source": [
    "ALL methods are same methods List.."
   ]
  },
  {
   "cell_type": "code",
   "execution_count": null,
   "metadata": {},
   "outputs": [],
   "source": [
    "# Tuple .... [ ] ----> Square bracket\n",
    "# no add no remove no edit \n",
    "\n",
    "tup = (2) # int\n",
    "tup = (2,) # Tuple\n",
    "\n",
    "print (\"Tuple() ..........\")   # \n",
    "Tuple = (0,5,6,6,6,6,6)        # Using with data which not change in future (Coordinates(x,y)) \n",
    "print(Tuple[0])                # can indexing and print it \n",
    "# Tuple[0] = 4  -----> (Error) # can't edit index \n",
    "print(Tuple)                   # can repeat data "
   ]
  }
 ],
 "metadata": {
  "kernelspec": {
   "display_name": "Python 3",
   "language": "python",
   "name": "python3"
  },
  "language_info": {
   "codemirror_mode": {
    "name": "ipython",
    "version": 3
   },
   "file_extension": ".py",
   "mimetype": "text/x-python",
   "name": "python",
   "nbconvert_exporter": "python",
   "pygments_lexer": "ipython3",
   "version": "3.10.8"
  },
  "orig_nbformat": 4,
  "vscode": {
   "interpreter": {
    "hash": "ab58cbacd942ca503049d3378ed1180a79e5c5d17c40fd38c92a577d131c0358"
   }
  }
 },
 "nbformat": 4,
 "nbformat_minor": 2
}
