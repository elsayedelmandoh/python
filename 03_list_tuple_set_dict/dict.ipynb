{
 "cells": [
  {
   "attachments": {},
   "cell_type": "markdown",
   "metadata": {},
   "source": [
    "# Dictionary\n",
    "1. Dictionary Items are enclosed in \"Curly brackets\" and key : value \n",
    "2. key is immutable > [number,string,tuple]\n",
    "3. value is any data type \n",
    "4. Dictionary is \"ordered\" To use index you can use key as index to element,\n",
    "5. Dictionary is \"mutable\" object that can change their elements.\n",
    "6. Dictionary Items is unique"
   ]
  },
  {
   "cell_type": "code",
   "execution_count": null,
   "metadata": {},
   "outputs": [],
   "source": [
    "# Dictionary Items are enclosed in \"Curly brackets\" and key : value \n",
    "# key is immutable > [number,string,tuple]\n",
    "# value is any data type\n",
    "cust = {\"name\":\"Elsayed\",\n",
    "\"age\": 20,\n",
    "\"skills\": [\"python\", \"java\",\"C++\",\"OOP\"],\n",
    "4 : 4.5,\n",
    "(\"address\",\"locations\"): [\"badr\",\"cairo\"]}"
   ]
  },
  {
   "cell_type": "code",
   "execution_count": null,
   "metadata": {},
   "outputs": [],
   "source": [
    "# Dictionary is \" ordered\" To use index you can use key as index to element,\n",
    "cust = {\"name\":\"Elsayed\",\n",
    "\"age\": 20,\n",
    "\"skills\": [\"python\", \"java\",\"C++\",\"OOP\"],\n",
    "4 : 4.5,\n",
    "(\"address\",\"locations\"): [\"badr\",\"cairo\"]}\n",
    "print(cust[\"name\"]) # Elsayed   \n",
    "print(cust.get(\"name\")) # Elsayed"
   ]
  },
  {
   "cell_type": "code",
   "execution_count": null,
   "metadata": {},
   "outputs": [],
   "source": [
    "# to show keys\n",
    "print(cust.keys()) # dict_keys(['name', 'age', 'skills', 4, ('address', 'locations')])\n",
    "# to show values\n",
    "print(cust.values()) # dict_values(['Elsayed', 20, ['python', 'java', 'C++', 'OOP'], 4.5, ['badr', 'cairo']])\n",
    "# to show keys and values\n",
    "print(cust.items()) # dict_items([('name', 'Elsayed'), ('age', 20), ('skills', ['python', 'java', 'C++', 'OOP']), (4, 4.5), (('address', 'locations'), ['badr', 'cairo'])])"
   ]
  },
  {
   "cell_type": "markdown",
   "metadata": {},
   "source": [
    "# Methods .."
   ]
  },
  {
   "cell_type": "markdown",
   "metadata": {},
   "source": [
    "# clear()"
   ]
  },
  {
   "cell_type": "code",
   "execution_count": null,
   "metadata": {},
   "outputs": [],
   "source": [
    "#clear()\n",
    "user={\n",
    "   \"name\":\"Osama\"\n",
    "}\n",
    "print(user) # {'name': 'Osama'}\n",
    "user.clear()\n",
    "print(user) # {}"
   ]
  },
  {
   "cell_type": "markdown",
   "metadata": {},
   "source": [
    "# update()"
   ]
  },
  {
   "cell_type": "code",
   "execution_count": null,
   "metadata": {},
   "outputs": [],
   "source": [
    "member={ \n",
    "   \"name\":\"Osama\"\n",
    "}\n",
    "print(member) # {'name': 'Osama'}\n",
    "member[\"age\"]=36\n",
    "print(member) # {'name': 'Osama', 'age': 36}\n",
    "member.update({\"country\":\"Egypt\"}) # update existing key or add new key\n",
    "print(member) # {'name': 'Osama', 'age': 36,'country': 'Egypt'}"
   ]
  },
  {
   "cell_type": "markdown",
   "metadata": {},
   "source": [
    "# dict with for looop "
   ]
  },
  {
   "cell_type": "code",
   "execution_count": null,
   "metadata": {},
   "outputs": [
    {
     "name": "stdout",
     "output_type": "stream",
     "text": [
      "+ skills and Progress ForRioIs:\n",
      " - HTML ==> 70%\n",
      " - CSS ==> 80%\n",
      " - JS ==> 70%\n",
      "+ skills and Progress ForAhmedIs:\n",
      " - HTML ==> 90%\n",
      " - CSS ==> 80%\n",
      " - JS ==> 90%\n",
      "+ skills and Progress ForSayedIs:\n",
      " - HTML ==> 70%\n",
      " - CSS ==> 60%\n",
      " - JS ==> 9e%\n"
     ]
    }
   ],
   "source": [
    "peoples={ \n",
    "    \"Rio\":{\n",
    "        \"Html\":\"70%\",\n",
    "        \"Css\":\"80%\",\n",
    "        \"Js\":\"70%\",\n",
    "    },\n",
    "    \"Ahmed\":{\n",
    "        \"Html\":\"90%\",\n",
    "        \"Css\":\"80%\",\n",
    "        \"Js\":\"90%\",\n",
    "   },\n",
    "    \"Sayed\":{\n",
    "        \"Html\":\"70%\",\n",
    "        \"Css\":\"60%\",\n",
    "        \"JS\":\"9e%\",\n",
    "    }\n",
    "}\n",
    "for name in peoples: # loop for key in peoples \n",
    "    print(f\"+ skills and Progress For {name} Is:\")\n",
    "    for skill in peoples[name]: # loop for key in name \n",
    "        print(f\" - {skill.upper()} ==> {peoples[name][skill]}\")"
   ]
  },
  {
   "cell_type": "code",
   "execution_count": null,
   "metadata": {},
   "outputs": [],
   "source": [
    "print(\"Dict .... dictionarie\")\n",
    "# Consist of k : value,\n",
    "Dict = {\n",
    "    \"Name\":\"Elsayed\",\n",
    "    \"Age\":19,\n",
    "    \"Country\":\"Egypt\"\n",
    "}\n",
    "print(Dict)              # print all data\n",
    "print(Dict[\"Name\"])      # print value of Name\n",
    "print(Dict[\"Age\"])       # print value of Age\n",
    "print(Dict[\"Country\"])   # print value of country\n",
    "\n",
    "# method get()\n",
    "print(Dict.get(\"Age\")) # print value of Age\n",
    "\n",
    "# Extract all keys\n",
    "print(Dict.keys())\n",
    "\n",
    "# Extract all values\n",
    "print(Dict.values())\n",
    "\n",
    "# Extract all keys and values\n",
    "print(Dict.items())\n",
    "\n",
    "dic = {\n",
    "    'ahmed':4,\n",
    "    'ali':5,\n",
    "    'ali':2\n",
    "}\n",
    "dic['ali'] # 2"
   ]
  }
 ],
 "metadata": {
  "kernelspec": {
   "display_name": "Python 3",
   "language": "python",
   "name": "python3"
  },
  "language_info": {
   "codemirror_mode": {
    "name": "ipython",
    "version": 3
   },
   "file_extension": ".py",
   "mimetype": "text/x-python",
   "name": "python",
   "nbconvert_exporter": "python",
   "pygments_lexer": "ipython3",
   "version": "3.10.8"
  },
  "orig_nbformat": 4,
  "vscode": {
   "interpreter": {
    "hash": "ab58cbacd942ca503049d3378ed1180a79e5c5d17c40fd38c92a577d131c0358"
   }
  }
 },
 "nbformat": 4,
 "nbformat_minor": 2
}
