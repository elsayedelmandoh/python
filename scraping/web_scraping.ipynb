{
 "cells": [
  {
   "cell_type": "markdown",
   "metadata": {},
   "source": [
    "xml has more rules so json file more update from xml file"
   ]
  },
  {
   "cell_type": "markdown",
   "metadata": {},
   "source": [
    "API should be files json format"
   ]
  },
  {
   "cell_type": "markdown",
   "metadata": {},
   "source": [
    "in search google write"
   ]
  },
  {
   "cell_type": "markdown",
   "metadata": {},
   "source": [
    "chrome webdriver \"versionchrome\""
   ]
  },
  {
   "cell_type": "markdown",
   "metadata": {},
   "source": [
    "open first link"
   ]
  },
  {
   "cell_type": "markdown",
   "metadata": {},
   "source": [
    "https://chromedriver.chromium.org/downloads"
   ]
  },
  {
   "cell_type": "markdown",
   "metadata": {},
   "source": [
    "open Current Releases"
   ]
  },
  {
   "cell_type": "markdown",
   "metadata": {},
   "source": [
    "https://googlechromelabs.github.io/chrome-for-testing/#stable"
   ]
  },
  {
   "cell_type": "markdown",
   "metadata": {},
   "source": [
    "select Stable Version with chromedriver\twin64"
   ]
  },
  {
   "cell_type": "markdown",
   "metadata": {},
   "source": [
    "https://edgedl.me.gvt1.com/edgedl/chrome/chrome-for-testing/116.0.5845.96/win64/chromedriver-win64.zip"
   ]
  },
  {
   "cell_type": "markdown",
   "metadata": {},
   "source": [
    "extract zip file in the same directory this notebook"
   ]
  },
  {
   "cell_type": "code",
   "execution_count": 42,
   "metadata": {},
   "outputs": [],
   "source": [
    "from selenium import webdriver\n",
    "import pandas as pd"
   ]
  },
  {
   "cell_type": "code",
   "execution_count": 43,
   "metadata": {},
   "outputs": [],
   "source": [
    "driver = webdriver.Chrome()"
   ]
  },
  {
   "cell_type": "markdown",
   "metadata": {},
   "source": [
    "drive now has response "
   ]
  },
  {
   "cell_type": "code",
   "execution_count": 44,
   "metadata": {},
   "outputs": [],
   "source": [
    "driver.get('https://www.amazon.eg/-/en/%D9%85%D9%88%D8%A8%D8%A7%D9%8A%D9%84%D8%A7%D8%AA/b/?ie=UTF8&node=21832883031&ref_=nav_cs_mobiles')"
   ]
  },
  {
   "cell_type": "code",
   "execution_count": 45,
   "metadata": {},
   "outputs": [
    {
     "data": {
      "text/plain": [
       "['Samsung Galaxy A54 - Dual SIM Mobile Phone Android, 8GB RAM, 256GB, Awesome Graphite - 1 year Warranty',\n",
       " 'Samsung Galaxy A54 - Dual SIM Mobile Phone Android, 8GB RAM, 256GB, 5G, Awesome White - 1 year Warranty',\n",
       " 'Samsung Galaxy A04e Dual SIM Smartphone - 3GB RAM, 64GB Storage, LTE, Copper - 1 year Warranty',\n",
       " 'SAMSUNG Galaxy A04 Dual SIM Smartphone- 3GB RAM, 32GB Storage, LTE, White - 1 year Warranty',\n",
       " 'Samsung Galaxy A14 - Android Smartphone, Dual SIM, 128GB Storage, 4GB RAM, 4G - Black - 1 year Warranty',\n",
       " 'Samsung Galaxy A23, Dual SIM, 4GB RAM, 128GB Storage, Black - 1 year Warranty',\n",
       " 'Samsung Galaxy A04s, Dual SIM, 4GB RAM, 64GB Storage, LTE, Copper - 1 year Warranty',\n",
       " 'Samsung galaxy a34 dual sim mobile phone android, 8gb ram, 128gb, awesome graphite - 1 year Warranty',\n",
       " 'Xiaomi redmi a1+ - smartphone 32gb, 2gb ram, dual sim, black',\n",
       " 'Redmi 12 Dual SIM, 4GB RAM, 128GB ROM - Midnight Black',\n",
       " 'Samsung Galaxy A54 Dual SIM Mobile Phone Android, 8GB RAM, 128GB, 5G, Awesome Graphite - 1 year Warranty',\n",
       " 'Redmi Note 12 Dual SIM, 4GB RAM, 128GB ROM, 4G LTE, Onyx Gray']"
      ]
     },
     "execution_count": 45,
     "metadata": {},
     "output_type": "execute_result"
    }
   ],
   "source": [
    "products= driver.find_elements(\"xpath\", \"//span[@class='a-size-base-plus a-color-base a-text-normal']\")\n",
    "products = [product.text for product in products]\n",
    "products"
   ]
  },
  {
   "cell_type": "code",
   "execution_count": 46,
   "metadata": {},
   "outputs": [
    {
     "data": {
      "text/plain": [
       "12"
      ]
     },
     "execution_count": 46,
     "metadata": {},
     "output_type": "execute_result"
    }
   ],
   "source": [
    "len(products)"
   ]
  },
  {
   "cell_type": "code",
   "execution_count": 47,
   "metadata": {},
   "outputs": [
    {
     "data": {
      "text/plain": [
       "['3,637.50',\n",
       " '3,777.00',\n",
       " '32,499.00',\n",
       " '32,989.00',\n",
       " '15,050',\n",
       " '15,777',\n",
       " '3,770',\n",
       " '3,515',\n",
       " '5,399',\n",
       " '6,599',\n",
       " '4,600',\n",
       " '10,100',\n",
       " '3,399',\n",
       " '6,349',\n",
       " '13,444',\n",
       " '7,409']"
      ]
     },
     "execution_count": 47,
     "metadata": {},
     "output_type": "execute_result"
    }
   ],
   "source": [
    "prices= driver.find_elements(\"xpath\", \"//span[@class='a-price-whole']\")\n",
    "prices = [price.text for price in prices]\n",
    "prices"
   ]
  },
  {
   "cell_type": "code",
   "execution_count": 48,
   "metadata": {},
   "outputs": [
    {
     "data": {
      "text/plain": [
       "16"
      ]
     },
     "execution_count": 48,
     "metadata": {},
     "output_type": "execute_result"
    }
   ],
   "source": [
    "len(prices)"
   ]
  },
  {
   "cell_type": "markdown",
   "metadata": {},
   "source": [
    "send_keys for enter email and pass"
   ]
  },
  {
   "cell_type": "markdown",
   "metadata": {},
   "source": [
    "https://testsigma.com/"
   ]
  },
  {
   "cell_type": "code",
   "execution_count": null,
   "metadata": {},
   "outputs": [],
   "source": []
  },
  {
   "cell_type": "markdown",
   "metadata": {},
   "source": [
    "wuzzuf"
   ]
  },
  {
   "cell_type": "code",
   "execution_count": null,
   "metadata": {},
   "outputs": [],
   "source": [
    "# driver= webdriver.Chrome()\n",
    "# driver.get(\"\")\n",
    "# feature_1= driver.find_elements('xpath', )\n",
    "# feature_2= driver.find_elements('xpath', )\n"
   ]
  },
  {
   "cell_type": "markdown",
   "metadata": {},
   "source": [
    "line plot "
   ]
  },
  {
   "cell_type": "markdown",
   "metadata": {},
   "source": [
    "one featurea"
   ]
  },
  {
   "cell_type": "markdown",
   "metadata": {},
   "source": [
    "area plots"
   ]
  },
  {
   "cell_type": "markdown",
   "metadata": {},
   "source": [
    "bar charts\n",
    "- comare between categoricals data"
   ]
  },
  {
   "cell_type": "markdown",
   "metadata": {},
   "source": [
    "pie charts\n",
    "- comare between categoricals data\n",
    "- should be total 100% of the population"
   ]
  },
  {
   "cell_type": "markdown",
   "metadata": {},
   "source": [
    "scatter plots\n",
    "- two continuous numerical features"
   ]
  },
  {
   "cell_type": "markdown",
   "metadata": {},
   "source": [
    "histogram for one feature"
   ]
  },
  {
   "cell_type": "markdown",
   "metadata": {},
   "source": []
  }
 ],
 "metadata": {
  "kernelspec": {
   "display_name": "Python 3",
   "language": "python",
   "name": "python3"
  },
  "language_info": {
   "codemirror_mode": {
    "name": "ipython",
    "version": 3
   },
   "file_extension": ".py",
   "mimetype": "text/x-python",
   "name": "python",
   "nbconvert_exporter": "python",
   "pygments_lexer": "ipython3",
   "version": "3.11.4"
  },
  "orig_nbformat": 4
 },
 "nbformat": 4,
 "nbformat_minor": 2
}
