{
 "cells": [
  {
   "cell_type": "markdown",
   "metadata": {},
   "source": [
    "# Numpy Module"
   ]
  },
  {
   "cell_type": "markdown",
   "metadata": {},
   "source": [
    "+ numpy for math \n",
    "+ pandas for data\n",
    "+ matlab for grap"
   ]
  },
  {
   "cell_type": "code",
   "execution_count": null,
   "metadata": {},
   "outputs": [],
   "source": [
    "import numpy as np"
   ]
  },
  {
   "cell_type": "code",
   "execution_count": null,
   "metadata": {},
   "outputs": [],
   "source": [
    "'''\n",
    "radian / degree = pi / 180 \n",
    "so ..\n",
    "radian = degree * pi / 180 \n",
    "degree = radian * 180 / pi\n",
    "'''\n",
    "\n",
    "# pi / 180 : to convert from degrees to radians\n",
    "print(np.sin(30*np.pi/180))\n",
    "\n",
    "# 180 / pi : to convert from radians to degrees\n",
    "\n",
    "# or ---------------------------------------\n",
    "\n",
    "print(np.sin(np.deg2rad(30)))"
   ]
  },
  {
   "cell_type": "code",
   "execution_count": null,
   "metadata": {},
   "outputs": [],
   "source": [
    "# round \n",
    "'''\n",
    "0.6 to 0.9 are ceil\n",
    "0.1 to 0.5 are floor\n",
    "'''\n",
    "print(np.round(2.4)) # 2\n",
    "print(np.round(2.5)) # 2\n",
    "print(np.round(2.6)) # 3"
   ]
  },
  {
   "cell_type": "code",
   "execution_count": null,
   "metadata": {},
   "outputs": [],
   "source": [
    "# floor \n",
    "print(np.floor(2.7)) # 2\n",
    "print(np.floor(2.3)) # 2"
   ]
  },
  {
   "cell_type": "code",
   "execution_count": null,
   "metadata": {},
   "outputs": [],
   "source": [
    "# ceil \n",
    "print(np.ceil(2.7)) # 3\n",
    "print(np.ceil(2.3)) # 3"
   ]
  },
  {
   "cell_type": "code",
   "execution_count": null,
   "metadata": {},
   "outputs": [],
   "source": [
    "# mod(n1,n2) = n1 % n2\n",
    "print(np.mod(31,5)) # 1"
   ]
  },
  {
   "cell_type": "code",
   "execution_count": null,
   "metadata": {},
   "outputs": [],
   "source": [
    "# power(base,power)\n",
    "print(np.power(2,3)) # 8"
   ]
  },
  {
   "cell_type": "code",
   "execution_count": null,
   "metadata": {},
   "outputs": [],
   "source": [
    "# arrays\n",
    "ls = [1,2,3,5,4]\n",
    "arr = np.array(ls)\n",
    "print(ls) # [1, 2, 3, 5, 4]\n",
    "print(arr) # [1 2 3 5 4]"
   ]
  },
  {
   "cell_type": "code",
   "execution_count": null,
   "metadata": {},
   "outputs": [],
   "source": [
    "ls = [[1,2,3],[4,5,6],[7,8,9]]\n",
    "arr = np.array(ls)\n",
    "print(ls) # [[1, 2, 3], [4, 5, 6], [7, 8, 9]]\n",
    "print(arr)\n",
    "'''\n",
    "[[1 2 3]\n",
    " [4 5 6]\n",
    " [7 8 9]]\n",
    "'''"
   ]
  },
  {
   "cell_type": "code",
   "execution_count": null,
   "metadata": {},
   "outputs": [],
   "source": [
    "# array one line\n",
    "arr = np.array([range(i,i+3) for i in [1,5,8]])\n",
    "print(arr)\n",
    "'''\n",
    "[[ 1  2  3]\n",
    " [ 5  6  7]\n",
    " [ 8  9 10]]\n",
    "'''\n",
    "\n",
    "arr = np.array([range(i,i+4) for i in [1,5,8]])\n",
    "print(arr)\n",
    "'''\n",
    "[[ 1  2  3  4]\n",
    " [ 5  6  7  8]\n",
    " [ 8  9 10 11]]\n",
    "'''\n",
    "\n",
    "arr = np.array([range(i,i+4) for i in [1,5,8,12]])\n",
    "print(arr)\n",
    "'''\n",
    "[[ 1  2  3  4]\n",
    " [ 5  6  7  8]\n",
    " [ 8  9 10 11]\n",
    " [12 13 14 15]]\n",
    "'''"
   ]
  },
  {
   "cell_type": "code",
   "execution_count": null,
   "metadata": {},
   "outputs": [],
   "source": [
    "# determine data type\n",
    "print(np.array([('elsayed', 20,3.8,'male'),('mhmd', 22,3.9,'male'),('ahmed',19,3.6,'male'),('mona',20,3.7,'female')],dtype=[('name',\"7U\"),('age','i2'),('gpa','f2'),('gander','6U')]))\n",
    "\n",
    "# error\n",
    "# determine data type\n",
    "print(np.array([('elsasfdfgyed', 20,3.8,'male'),('mhmd', 22,3.9,'male'),('ahmed',19,3.6,'male'),('mona',20,3.7,'female')],dtype=[('name',\"7U\"),('age','i2'),('gpa','f2'),('gander','6U')]))\n",
    "# only print 7 digit from elsasfd"
   ]
  },
  {
   "cell_type": "code",
   "execution_count": null,
   "metadata": {},
   "outputs": [],
   "source": [
    "# np.empty((row,colum))\n",
    "print(np.empty((2,3))) # empty matrix 2 rows and 3 columns"
   ]
  },
  {
   "cell_type": "code",
   "execution_count": null,
   "metadata": {},
   "outputs": [],
   "source": [
    "# np.random.random((row,colum))\n",
    "print(np.random.random((2,3))) # return numbers form 0 to 1 as matrix 2 rows and 3 columns\n",
    "'''\n",
    "[[0.20751384 0.82559592 0.39591979]\n",
    " [0.24221651 0.75545912 0.13936819]]\n",
    "'''\n",
    "\n",
    "print(np.random.random((2,3))*10) # return numbers form 0 to 10 as matrix 2 rows and 3 columns\n",
    "'''\n",
    "[[6.04249428 1.15402611 1.54676542]\n",
    " [0.51647152 6.93058527 0.77727209]]\n",
    "'''\n",
    "\n",
    "print(np.random.random((2,3))*10+10) # return numbers form 10 to 20 as matrix 2 rows and 3 columns\n",
    "'''\n",
    "[[14.05312344 19.959442   11.93720631]\n",
    " [19.42369319 17.23358505 10.62668063]]\n",
    "'''\n",
    "\n",
    "print((np.random.random((2,3))+10)*10) # return numbers form 100 to 110 as matrix 2 rows and 3 columns\n",
    "'''\n",
    "[[100.56889213 109.94290104 108.16330322]\n",
    " [100.9678728  100.61369151 102.62310933]]\n",
    "'''\n",
    "\n",
    "print(np.random.random((2,3))*100+200) # return numbers form 200 to 300 as matrix with 2 rows and 3 columns\n",
    "'''\n",
    "[[296.31148902 289.43900727 205.08235474]\n",
    " [290.07673613 260.99400656 255.77594445]]\n",
    "'''"
   ]
  },
  {
   "cell_type": "code",
   "execution_count": null,
   "metadata": {},
   "outputs": [],
   "source": [
    "# np.random.uniform(low,high,count) return as list\n",
    "print(np.random.uniform(1,10,15)) # 15 random numbers from 1 to 10\n",
    "\n",
    "ls1 = np.random.uniform(1,10,16)\n",
    "ls2 = np.random.uniform(1,10,6)\n",
    "ls2.sort()\n",
    "print(np.array(ls1))\n",
    "print(np.array(ls2))"
   ]
  },
  {
   "cell_type": "code",
   "execution_count": null,
   "metadata": {},
   "outputs": [],
   "source": [
    "# normal distribution >> np.random.normal(start,end,count)\n",
    "print(np.random.normal(5,10,8)) # return 8 numbers form 5 to 10 as list\n",
    "'''\n",
    "[ 2.68982212  1.06521118  9.13914003 -3.36241647 -1.86114438 15.30888735\n",
    " 11.63440426 -6.92532138]\n",
    "'''"
   ]
  },
  {
   "cell_type": "code",
   "execution_count": null,
   "metadata": {},
   "outputs": [],
   "source": [
    "# np.random.randint(range)\n",
    "print(np.random.randint(200)) # random number from 0 to 199\n",
    "# 182"
   ]
  },
  {
   "cell_type": "code",
   "execution_count": null,
   "metadata": {},
   "outputs": [],
   "source": [
    "print(np.random.randint(200,size=5)) # random matrix 2 rows and 5 columns with numbers  numbers from 0 to 199\n",
    "# [107  62 192 134 118]"
   ]
  },
  {
   "cell_type": "code",
   "execution_count": null,
   "metadata": {},
   "outputs": [],
   "source": [
    "print(np.random.randint(100,200,size=8)) # random matrix 1 rows and 8 columns with numbers from 100 to 199\n",
    "# [176 149 194 126 144 182 125 155]"
   ]
  },
  {
   "cell_type": "code",
   "execution_count": null,
   "metadata": {},
   "outputs": [],
   "source": [
    "print(np.random.randint(100,200,size=(2,5))) # random matrix 2 rows and 5 columns with numbers from 100 to 199\n",
    "'''\n",
    "[[116 144 156 114 121]\n",
    " [163 143 115 178 131]]\n",
    "'''"
   ]
  },
  {
   "cell_type": "code",
   "execution_count": null,
   "metadata": {},
   "outputs": [],
   "source": [
    "print(np.random.randint(100,200,size=(2,5,3))) # random matrix 2 layers and 5 rows and 3 columns with numbers from 100 to 199\n",
    "'''\n",
    "[[[136 126 171]\n",
    "  [194 118 116]\n",
    "  [185 168 173]\n",
    "  [107 123 126]\n",
    "  [185 112 182]]\n",
    "\n",
    " [[137 130 132]\n",
    "  [155 165 196]\n",
    "  [179 187 107]\n",
    "  [138 148 166]\n",
    "  [159 150 156]]]\n",
    "'''"
   ]
  },
  {
   "cell_type": "code",
   "execution_count": null,
   "metadata": {},
   "outputs": [],
   "source": [
    "print(np.random.randint(100,200,size=(3,5,4))) # random matrix 3 layers and 5 rows and 4 columns with numbers from 100 to 199\n",
    "'''\n",
    "[[[171 105 166 186]\n",
    "  [149 186 186 110]\n",
    "  [197 100 147 169]\n",
    "  [172 100 100 166]\n",
    "  [162 169 112 129]]\n",
    "\n",
    " [[122 112 164 191]\n",
    "  [121 180 164 178]\n",
    "  [150 186 177 118]\n",
    "  [124 192 139 186]\n",
    "  [138 174 139 138]]\n",
    "\n",
    " [[143 195 114 106]\n",
    "  [179 182 115 100]\n",
    "  [180 184 117 177]\n",
    "  [164 172 131 101]\n",
    "  [179 184 195 125]]]\n",
    "'''"
   ]
  },
  {
   "cell_type": "code",
   "execution_count": null,
   "metadata": {},
   "outputs": [],
   "source": [
    "# reshape(list,(rows,columns))\n",
    "ls = np.random.randint(10,20,8)\n",
    "arr = np.reshape(ls,(2,4))\n",
    "\n",
    "print(ls)\n",
    "# [11 14 16 15 18 19 16 17]\n",
    "\n",
    "print(arr)\n",
    "'''\n",
    "[[11 14 16 15]\n",
    " [18 19 16 17]]\n",
    "'''"
   ]
  },
  {
   "cell_type": "code",
   "execution_count": null,
   "metadata": {},
   "outputs": [],
   "source": [
    "# random.rand(layout,rows,cols)\n",
    "print(np.random.rand(2,4,3))\n",
    "'''\n",
    "[[[0.98614    0.61208242 0.98296403]\n",
    "  [0.29835686 0.65584079 0.60002409]\n",
    "  [0.81230996 0.76082099 0.03954777]\n",
    "  [0.62977305 0.11677823 0.51369862]]\n",
    "\n",
    " [[0.84009958 0.8509469  0.58316351]\n",
    "  [0.79642463 0.22215372 0.59250504]\n",
    "  [0.95072422 0.81211105 0.55567093]\n",
    "  [0.49362475 0.04736241 0.04381471]]]\n",
    "'''"
   ]
  },
  {
   "cell_type": "code",
   "execution_count": null,
   "metadata": {},
   "outputs": [],
   "source": [
    "# random.choice(list)\n",
    "ls = ['a',1,True,1.5,False,'Hello']\n",
    "print(np.random.choice(ls))"
   ]
  },
  {
   "cell_type": "code",
   "execution_count": null,
   "metadata": {},
   "outputs": [],
   "source": [
    "# random.shuffle(list)\n",
    "ls = [1,2,3,4,5,6,7,8,9]\n",
    "print(ls) # [1, 2, 3, 4, 5, 6, 7, 8, 9]\n",
    "np.random.shuffle(ls)\n",
    "print(ls) # [3, 9, 1, 2, 8, 4, 6, 5, 7]"
   ]
  },
  {
   "cell_type": "code",
   "execution_count": null,
   "metadata": {},
   "outputs": [],
   "source": [
    "# zeros(layout,rows,cols)\n",
    "print(np.zeros(5)) # 1D\n",
    "# [0. 0. 0. 0. 0.]\n",
    "print(np.zeros((5,6))) # 2D\n",
    "'''\n",
    "[[0. 0. 0. 0. 0. 0.]\n",
    " [0. 0. 0. 0. 0. 0.]\n",
    " [0. 0. 0. 0. 0. 0.]\n",
    " [0. 0. 0. 0. 0. 0.]\n",
    " [0. 0. 0. 0. 0. 0.]]\n",
    "'''\n",
    "print(np.zeros((2,5,6))) # 3D\n",
    "'''\n",
    "[[[0. 0. 0. 0. 0. 0.]\n",
    "  [0. 0. 0. 0. 0. 0.]\n",
    "  [0. 0. 0. 0. 0. 0.]\n",
    "  [0. 0. 0. 0. 0. 0.]\n",
    "  [0. 0. 0. 0. 0. 0.]]\n",
    "\n",
    " [[0. 0. 0. 0. 0. 0.]\n",
    "  [0. 0. 0. 0. 0. 0.]\n",
    "  [0. 0. 0. 0. 0. 0.]\n",
    "  [0. 0. 0. 0. 0. 0.]\n",
    "  [0. 0. 0. 0. 0. 0.]]]\n",
    "'''\n"
   ]
  },
  {
   "cell_type": "code",
   "execution_count": null,
   "metadata": {},
   "outputs": [],
   "source": [
    "# ones(layout,rows,cols)\n",
    "print(np.ones(6)) # 1D\n",
    "# [1. 1. 1. 1. 1. 1.]\n",
    "\n",
    "print(np.ones((4,2))) # 2D\n",
    "'''\n",
    "[[1. 1.]\n",
    " [1. 1.]\n",
    " [1. 1.]\n",
    " [1. 1.]]\n",
    "'''\n",
    "print(np.ones((2,3,5))) # 3D\n",
    "'''\n",
    "[[[1. 1. 1. 1. 1.]\n",
    "  [1. 1. 1. 1. 1.]\n",
    "  [1. 1. 1. 1. 1.]]\n",
    "\n",
    " [[1. 1. 1. 1. 1.]\n",
    "  [1. 1. 1. 1. 1.]\n",
    "  [1. 1. 1. 1. 1.]]]\n",
    "'''"
   ]
  },
  {
   "cell_type": "code",
   "execution_count": null,
   "metadata": {},
   "outputs": [],
   "source": [
    "# eye(rows,cols) : Identity matrix\n",
    "print(np.eye(5))\n",
    "'''\n",
    "[[1. 0. 0. 0. 0.]\n",
    " [0. 1. 0. 0. 0.]\n",
    " [0. 0. 1. 0. 0.]\n",
    " [0. 0. 0. 1. 0.]\n",
    " [0. 0. 0. 0. 1.]]\n",
    "'''"
   ]
  },
  {
   "cell_type": "code",
   "execution_count": null,
   "metadata": {},
   "outputs": [],
   "source": [
    "print(np.eye(5,6))\n",
    "'''\n",
    "[[1. 0. 0.]\n",
    " [0. 1. 0.]\n",
    " [0. 0. 1.]\n",
    " [0. 0. 0.]\n",
    " [0. 0. 0.]]\n",
    "'''"
   ]
  },
  {
   "cell_type": "code",
   "execution_count": null,
   "metadata": {},
   "outputs": [],
   "source": [
    "# full((rows, cols), number)\n",
    "print(np.full((5,3),7))\n",
    "'''\n",
    "[[7 7 7]\n",
    " [7 7 7]\n",
    " [7 7 7]\n",
    " [7 7 7]\n",
    " [7 7 7]]\n",
    "'''"
   ]
  },
  {
   "cell_type": "code",
   "execution_count": null,
   "metadata": {},
   "outputs": [],
   "source": [
    "# arange(start=0,end).reshape(rows,cols,layout)\n",
    "print(np.arange(27).reshape(3,3,3))\n",
    "'''\n",
    "[[[ 0  1  2]\n",
    "  [ 3  4  5]\n",
    "  [ 6  7  8]]\n",
    "\n",
    " [[ 9 10 11]\n",
    "  [12 13 14]\n",
    "  [15 16 17]]\n",
    "\n",
    " [[18 19 20]\n",
    "  [21 22 23]\n",
    "  [24 25 26]]]\n",
    "'''"
   ]
  },
  {
   "cell_type": "code",
   "execution_count": null,
   "metadata": {},
   "outputs": [],
   "source": [
    "# linspace(start, end, count=50) # include end # count default 50\n",
    "print(np.linspace(10,20)) # 50 number in matrix from 10 to 20  \n",
    "'''\n",
    "[10.         10.20408163 10.40816327 10.6122449  10.81632653 11.02040816\n",
    " 11.2244898  11.42857143 11.63265306 11.83673469 12.04081633 12.24489796\n",
    " 12.44897959 12.65306122 12.85714286 13.06122449 13.26530612 13.46938776\n",
    " 13.67346939 13.87755102 14.08163265 14.28571429 14.48979592 14.69387755\n",
    " 14.89795918 15.10204082 15.30612245 15.51020408 15.71428571 15.91836735\n",
    " 16.12244898 16.32653061 16.53061224 16.73469388 16.93877551 17.14285714\n",
    " 17.34693878 17.55102041 17.75510204 17.95918367 18.16326531 18.36734694\n",
    " 18.57142857 18.7755102  18.97959184 19.18367347 19.3877551  19.59183673\n",
    " 19.79591837 20.        ]\n",
    "'''"
   ]
  },
  {
   "cell_type": "code",
   "execution_count": null,
   "metadata": {},
   "outputs": [],
   "source": [
    "print(np.linspace(10,20,5)) \n",
    "'''\n",
    "[10.  12.5 15.  17.5 20. ]\n",
    "''' "
   ]
  },
  {
   "cell_type": "code",
   "execution_count": null,
   "metadata": {},
   "outputs": [],
   "source": [
    "print(np.linspace(10,20,6).reshape(2,3)) \n",
    "'''\n",
    "[[10. 12. 14.]\n",
    " [16. 18. 20.]]\n",
    "'''\n"
   ]
  },
  {
   "cell_type": "code",
   "execution_count": null,
   "metadata": {},
   "outputs": [],
   "source": [
    "#  diag(array([2,5,4,56,68],k=2) # k = 2 => add two rows and two cols zeros on matrix\n",
    "print(np.diag([2,3,6,5,8]))\n",
    "'''\n",
    "[[2 0 0 0 0]\n",
    " [0 3 0 0 0]\n",
    " [0 0 6 0 0]\n",
    " [0 0 0 5 0]\n",
    " [0 0 0 0 8]]\n",
    "'''"
   ]
  },
  {
   "cell_type": "code",
   "execution_count": null,
   "metadata": {},
   "outputs": [],
   "source": [
    "print(np.diag([2,3,6,5,8],k=3)) # add 3 rows and 3 columns zeros\n",
    "'''\n",
    "[[0 0 0 2 0 0 0 0]\n",
    " [0 0 0 0 3 0 0 0]\n",
    " [0 0 0 0 0 6 0 0]\n",
    " [0 0 0 0 0 0 5 0]\n",
    " [0 0 0 0 0 0 0 8]\n",
    " [0 0 0 0 0 0 0 0]\n",
    " [0 0 0 0 0 0 0 0]\n",
    " [0 0 0 0 0 0 0 0]]\n",
    "'''"
   ]
  },
  {
   "cell_type": "code",
   "execution_count": null,
   "metadata": {},
   "outputs": [],
   "source": [
    "# count_nonzero(condition)\n",
    "mat = np.random.randint(0,10,(3,5))\n",
    "print(mat)\n",
    "'''\n",
    "[[5 4 2 0 3]\n",
    " [3 0 3 7 0]\n",
    " [9 4 2 3 9]]\n",
    "'''\n",
    "print(np.count_nonzero(mat)) # 12"
   ]
  },
  {
   "cell_type": "code",
   "execution_count": null,
   "metadata": {},
   "outputs": [],
   "source": [
    "mat = np.random.randint(0,10,(3,5))\n",
    "print(mat)\n",
    "'''\n",
    "[[7 9 9 2 5]\n",
    " [3 7 7 1 3]\n",
    " [1 1 7 8 5]]\n",
    "'''\n",
    "print(np.count_nonzero(mat > 5)) # 7"
   ]
  },
  {
   "cell_type": "code",
   "execution_count": null,
   "metadata": {},
   "outputs": [],
   "source": [
    "mat = np.random.randint(10,30,(3,4))\n",
    "print(mat)\n",
    "'''\n",
    "[[20 19 26 16]\n",
    " [19 16 19 16]\n",
    " [28 11 25 29]]\n",
    "'''\n",
    "print(np.count_nonzero(mat>20,axis=1)) # [1 0 3]"
   ]
  },
  {
   "cell_type": "code",
   "execution_count": null,
   "metadata": {},
   "outputs": [],
   "source": [
    "# any(condition) : return true if any value true otherwise false\n",
    "mat = np.random.randint(10,30,(3,4))\n",
    "print(mat)\n",
    "'''\n",
    "[[15 12 24 15]\n",
    " [26 17 26 27]\n",
    " [27 29 29 26]]\n",
    "'''\n",
    "print(np.any(mat > 20)) # True\n",
    "\n",
    "print(np.any(mat > 20,axis = 1)) # [ True  True  True]\n"
   ]
  },
  {
   "cell_type": "code",
   "execution_count": null,
   "metadata": {},
   "outputs": [],
   "source": [
    "# all(condition) : return true if all value true otherwise false\n",
    "\n",
    "mat = np.random.randint(10,30,(3,4))\n",
    "print(mat)\n",
    "'''\n",
    "[[14 27 27 18]\n",
    " [10 15 25 19]\n",
    " [22 29 22 20]]\n",
    "'''\n",
    "print(np.all(mat > 20)) # False\n",
    "\n",
    "print(np.all(mat > 20,axis = 1)) # [False False False]"
   ]
  },
  {
   "cell_type": "code",
   "execution_count": null,
   "metadata": {},
   "outputs": [],
   "source": [
    "a = np.random.randint(5,25,10).reshape(2,5)\n",
    "b = a[a>20]\n",
    "c = a[a<20]\n",
    "print(a)\n",
    "'''\n",
    "[[23 10  7 21  9]\n",
    " [ 7 23  5 20 15]]\n",
    "'''\n",
    "print(b)\n",
    "# [23 21 23]\n",
    "print(c)\n",
    "# [10  7  9  7  5 15]"
   ]
  },
  {
   "cell_type": "code",
   "execution_count": null,
   "metadata": {},
   "outputs": [],
   "source": [
    "# isclose(matrix1 , matrix2, rtol= 0.5) \n",
    "'''\n",
    "compare between matrix1 and matrix2 and \n",
    "if difference is only 0.5 then return True\n",
    "otherwise return False\n",
    "'''\n",
    "a = np.arange(15).reshape(3,5) # not include 15 \n",
    "b = np.arange(15).reshape(3,5)\n",
    "c = np.arange(15).reshape(3,5)*2\n",
    "ab = np.isclose(a, b,rtol = 0.5)\n",
    "ac = np.isclose(a, c,rtol = 0.3)\n",
    "print(a)\n",
    "'''\n",
    "[[ 0  1  2  3  4]\n",
    " [ 5  6  7  8  9]\n",
    " [10 11 12 13 14]]\n",
    "'''\n",
    "print(b)\n",
    "'''\n",
    "[[ 0  1  2  3  4]\n",
    " [ 5  6  7  8  9]\n",
    " [10 11 12 13 14]]\n",
    "'''\n",
    "print(c)\n",
    "'''\n",
    "[[ 0  2  4  6  8]\n",
    " [10 12 14 16 18]\n",
    " [20 22 24 26 28]]\n",
    "'''\n",
    "print(ab)\n",
    "'''\n",
    "[[ True  True  True  True  True]\n",
    " [ True  True  True  True  True]\n",
    " [ True  True  True  True  True]]\n",
    "'''\n",
    "print(ac)\n",
    "'''\n",
    "[[ True False False False False]\n",
    " [False False False False False]\n",
    " [False False False False False]]\n",
    "'''"
   ]
  },
  {
   "cell_type": "code",
   "execution_count": null,
   "metadata": {},
   "outputs": [],
   "source": [
    "# multiply(matrix , number, out )\n",
    "a = np.arange(7)\n",
    "b = np.empty(7)\n",
    "print(a)\n",
    "'''\n",
    "[0 1 2 3 4 5 6]\n",
    "'''\n",
    "print(b)\n",
    "'''\n",
    "[0.0e+000 4.9e-324 9.9e-324 1.5e-323 2.0e-323 2.5e-323 3.0e-323]\n",
    "'''\n",
    "np.multiply(a,10,out=b)\n",
    "print(b)\n",
    "'''\n",
    "[ 0. 10. 20. 30. 40. 50. 60.]\n",
    "'''"
   ]
  },
  {
   "cell_type": "code",
   "execution_count": null,
   "metadata": {},
   "outputs": [],
   "source": [
    "# multiply(matrix , number, out )\n",
    "a = np.arange(7)\n",
    "b = np.empty(7)\n",
    "print(a)\n",
    "'''\n",
    "[0 1 2 3 4 5 6]\n",
    "'''\n",
    "print(b)\n",
    "'''\n",
    "[0.0e+000 4.9e-324 9.9e-324 1.5e-323 2.0e-323 2.5e-323 3.0e-323]\n",
    "'''\n",
    "c = np.multiply(a,10)\n",
    "print(c)\n",
    "# [ 0 10 20 30 40 50 60]"
   ]
  },
  {
   "cell_type": "code",
   "execution_count": null,
   "metadata": {},
   "outputs": [],
   "source": [
    "# multiply.reduce(matrix) return multiply all numbers\n",
    "a = np.arange(2,7) # [2 3 4 5 6]\n",
    "print(np.multiply.reduce(a)) # 720"
   ]
  },
  {
   "cell_type": "code",
   "execution_count": null,
   "metadata": {},
   "outputs": [],
   "source": [
    "# multiply.outer(matrix1 , matrix2)\n",
    "a = np.arange(7) # [0 1 2 3 4 5 6]\n",
    "b = np.arange(7) # [0 1 2 3 4 5 6]\n",
    "c = np.multiply.outer(a,b)\n",
    "'''\n",
    "[[0*0 0*1 0*2 0*3 0*4 0*5 0*6]\n",
    " [1*0 1*1 1*2 1*3 1*4 1*5 1*6]\n",
    " [2*0 2*1 2*2 2*3 2*4 2*5 2*6]\n",
    " [3*0 3*1 3*2 3*3 3*4 3*5 3*6]\n",
    " [4*0 4*1 4*2 4*3 4*4 4*5 4*6]\n",
    " [5*0 5*1 5*2 5*3 5*4 5*6 5*6]\n",
    " [6*0 6*1 6*2 6*3 6*4 6*5 6*6]]\n",
    "'''\n",
    "print(c)\n",
    "'''\n",
    "[[ 0  0  0  0  0  0  0]\n",
    " [ 0  1  2  3  4  5  6]\n",
    " [ 0  2  4  6  8 10 12]\n",
    " [ 0  3  6  9 12 15 18]\n",
    " [ 0  4  8 12 16 20 24]\n",
    " [ 0  5 10 15 20 25 30]\n",
    " [ 0  6 12 18 24 30 36]]\n",
    "'''"
   ]
  },
  {
   "cell_type": "code",
   "execution_count": null,
   "metadata": {},
   "outputs": [],
   "source": [
    "# multiply.accumulate(matrix) ~ same factorial\n",
    "a = np.arange(1,7) # [1 2 3 4 5 6]\n",
    "print(np.multiply.accumulate(a))\n",
    "'''\n",
    "[1 2*1 3*2*1 4*3*2*1  5*4*3*2*1 6*5*4*3*2*1]\n",
    "'''\n",
    "'''\n",
    "[1 2 6 24 120 720]\n",
    "'''"
   ]
  },
  {
   "cell_type": "code",
   "execution_count": null,
   "metadata": {},
   "outputs": [],
   "source": [
    "# power(matrix , power, out)\n",
    "a = np.arange(7)\n",
    "b = np.empty(7)\n",
    "print(a)\n",
    "'''\n",
    "[0 1 2 3 4 5 6]\n",
    "'''\n",
    "print(b)\n",
    "'''\n",
    "[0.0e+000 4.9e-324 9.9e-324 1.5e-323 2.0e-323 2.5e-323 3.0e-323]\n",
    "'''\n",
    "c = np.power(a,3)\n",
    "print(c)\n",
    "# [  0   1   8  27  64 125 216]"
   ]
  },
  {
   "cell_type": "code",
   "execution_count": null,
   "metadata": {},
   "outputs": [],
   "source": [
    "# add(matrix , number, out)\n",
    "a = np.arange(7)\n",
    "b = np.empty(7)\n",
    "print(a)\n",
    "'''\n",
    "[0 1 2 3 4 5 6]\n",
    "'''\n",
    "print(b)\n",
    "'''\n",
    "[0.0e+000 4.9e-324 9.9e-324 1.5e-323 2.0e-323 2.5e-323 3.0e-323]\n",
    "'''\n",
    "c = np.add(a,7)\n",
    "print(c)\n",
    "# [ 7  8  9 10 11 12 13]"
   ]
  },
  {
   "cell_type": "code",
   "execution_count": null,
   "metadata": {},
   "outputs": [],
   "source": [
    "# add.reduce(matrix) return collection numbers\n",
    "a = np.arange(7) # [0 1 2 3 4 5 6]\n",
    "print(np.add.reduce(a)) # 21"
   ]
  },
  {
   "cell_type": "code",
   "execution_count": null,
   "metadata": {},
   "outputs": [],
   "source": [
    "# add.accumulate(matrix) return matrix with collection all back \n",
    "a = np.arange(2,7) # [2 3 4 5 6]\n",
    "print(np.add.accumulate(a))\n",
    "'''\n",
    "[2 3+2 4+3+2 5+4+3+2 6+5+4+3+2]\n",
    "'''\n",
    "'''\n",
    "[2 5 9 14 20]\n",
    "'''"
   ]
  },
  {
   "cell_type": "code",
   "execution_count": null,
   "metadata": {},
   "outputs": [],
   "source": [
    "# len(matrix) \n",
    "a = np.arange(5) # [0 1 2 3 4]\n",
    "print(len(a)) # 5\n",
    "\n",
    "b = np.arange(6).reshape(3,2)\n",
    "'''\n",
    "[[0 1]\n",
    " [2 3]\n",
    " [4 5]]\n",
    "'''\n",
    "print(len(b)) # = count rows = 3"
   ]
  },
  {
   "cell_type": "code",
   "execution_count": null,
   "metadata": {},
   "outputs": [],
   "source": [
    "# size(matrix)\n",
    "a = np.arange(5) # [0 1 2 3 4]\n",
    "print(np.size(a)) # 5\n",
    "\n",
    "b = np.arange(6).reshape(3,2)\n",
    "'''\n",
    "[[0 1]\n",
    " [2 3]\n",
    " [4 5]]\n",
    "'''\n",
    "print(np.size(b)) # = count all number in rows and cols = 6"
   ]
  },
  {
   "cell_type": "code",
   "execution_count": null,
   "metadata": {},
   "outputs": [],
   "source": [
    "# shape(matrix)\n",
    "a = np.arange(5) # [0 1 2 3 4]\n",
    "print(np.shape(a)) # (5, ) because not reshape it\n",
    "\n",
    "b = np.arange(6).reshape(3,2)\n",
    "'''\n",
    "[[0 1]\n",
    " [2 3]\n",
    " [4 5]]\n",
    "'''\n",
    "print(np.shape(b)) # = shape rows and cols = (3,2)"
   ]
  },
  {
   "cell_type": "code",
   "execution_count": null,
   "metadata": {},
   "outputs": [],
   "source": [
    "# ndim(matrix) = nmber of dimensional \n",
    "a = np.arange(5) # [0 1 2 3 4]\n",
    "print(np.ndim(a)) # 1\n",
    "\n",
    "b = np.arange(6).reshape(3,2)\n",
    "'''\n",
    "[[0 1]\n",
    " [2 3]\n",
    " [4 5]]\n",
    "'''\n",
    "print(np.ndim(b)) # 2\n",
    "\n",
    "c = np.arange(27).reshape(3,3,3) # not include 27 = 0 to 26 \n",
    "print(c)\n",
    "'''\n",
    "[[[ 0  1  2]\n",
    "  [ 3  4  5]\n",
    "  [ 6  7  8]]\n",
    "\n",
    " [[ 9 10 11]\n",
    "  [12 13 14]\n",
    "  [15 16 17]]\n",
    "\n",
    " [[18 19 20]\n",
    "  [21 22 23]\n",
    "  [24 25 26]]]\n",
    "'''\n",
    "print(np.ndim(c)) # 3"
   ]
  },
  {
   "cell_type": "code",
   "execution_count": null,
   "metadata": {},
   "outputs": [],
   "source": [
    "# dtype(matrix)\n",
    "a = np.arange(7) # [0 1 2 3 4 5 6]\n",
    "print(a.dtype) # int64 > integer 64 bit\n",
    "\n",
    "b = np.arange(6).reshape(3,2)\n",
    "'''\n",
    "[[0 1]\n",
    " [2 3]\n",
    " [4 5]]\n",
    "'''\n",
    "print(b.dtype) # int64\n",
    "\n",
    "c = np.array(['a', 'b'])\n",
    "print(c.dtype) # U1"
   ]
  },
  {
   "cell_type": "code",
   "execution_count": null,
   "metadata": {},
   "outputs": [],
   "source": [
    "# matrix\n",
    "print(np.matrix([i for i in range(10)]).reshape(2,5))\n",
    "\n",
    "print(np.matrix('{} {} {} {} {} ; {} {} {} {} {}'.format(0,1,2,3,4,5,6,7,8,9)))"
   ]
  },
  {
   "cell_type": "code",
   "execution_count": null,
   "metadata": {},
   "outputs": [],
   "source": [
    "# trace(matrix) collection diagonal \n",
    "print(np.trace(np.eye(5))) # 1+1+1+1+1 = 5 \n",
    "'''\n",
    "[[1. 0. 0. 0. 0.]\n",
    " [0. 1. 0. 0. 0.]\n",
    " [0. 0. 1. 0. 0.]\n",
    " [0. 0. 0. 1. 0.]\n",
    " [0. 0. 0. 0. 1.]]\n",
    "'''\n",
    "\n",
    "print('*'*20)\n",
    "\n",
    "print(np.arange(9).reshape(3,3))\n",
    "'''\n",
    "[[0 1 2]\n",
    " [3 4 5]\n",
    " [6 7 8]]\n",
    "'''\n",
    "print(np.trace(np.arange(9).reshape(3,3))) # 12\n",
    "\n",
    "print('*'*20)\n",
    "\n",
    "print(np.arange(27).reshape(3,3,3))\n",
    "'''\n",
    "[[[ 0  1  2] # this \n",
    "  [ 3  4  5]\n",
    "  [ 6  7  8]]\n",
    "\n",
    " [[ 9 10 11]\n",
    "  [12 13 14] #  + this\n",
    "  [15 16 17]]\n",
    "\n",
    " [[18 19 20]\n",
    "  [21 22 23]\n",
    "  [24 25 26]]] #  + this\n",
    "'''\n",
    "print(np.trace(np.arange(27).reshape(3,3,3))) # [36 39 42] "
   ]
  },
  {
   "cell_type": "code",
   "execution_count": null,
   "metadata": {},
   "outputs": [],
   "source": [
    "# linalg.det(matrix)\n",
    "a = np.arange(1,5).reshape(2,2)\n",
    "'''\n",
    "[[1 2]\n",
    " [3 4]]\n",
    "'''\n",
    "print(np.linalg.det(a)) # 1*4 - 2*3 = -2.0\n",
    "\n",
    "b = np.arange(9).reshape(3,3) \n",
    "'''\n",
    "  - + -\n",
    "[[0 1 2]\n",
    " [3 4 5]\n",
    " [6 7 8]]\n",
    "'''\n",
    "print(np.linalg.det(b)) # -0*(4*8 - 5*7) +1*(3*8 - 5*6) -2*(3*7 - 4*6) = 0.0"
   ]
  },
  {
   "cell_type": "code",
   "execution_count": null,
   "metadata": {},
   "outputs": [],
   "source": [
    "# linalg.eig = eigenvalues \n",
    "a = np.arange(1,5).reshape(2,2)\n",
    "'''\n",
    "[[1 2]\n",
    " [3 4]]\n",
    "'''\n",
    "print(np.linalg.eig(a))\n",
    "\n",
    "b = np.arange(9).reshape(3,3) \n",
    "'''\n",
    "[[0 1 2]\n",
    " [3 4 5]\n",
    " [6 7 8]]\n",
    "'''\n",
    "print(np.linalg.eig(b)) # ???????"
   ]
  },
  {
   "cell_type": "code",
   "execution_count": null,
   "metadata": {},
   "outputs": [],
   "source": [
    "# slice\n",
    "a = np.arange(2,9) # [2 3 4 5 6 7 8]\n",
    "print(a[3]) # 5\n",
    "print(a[-1]) # 8\n",
    "print(a[::-2]) # [8 6 4 2]"
   ]
  },
  {
   "cell_type": "code",
   "execution_count": null,
   "metadata": {},
   "outputs": [],
   "source": [
    "a = np.arange(1,37).reshape(6,6) # [2 3 4 5 6 7 8]\n",
    "'''\n",
    "[[ 1  2  3  4  5  6]\n",
    " [ 7  8  9 10 11 12]\n",
    " [13 14 15 16 17 18]\n",
    " [19 20 21 22 23 24]\n",
    " [25 26 27 28 29 30]\n",
    " [31 32 33 34 35 36]]\n",
    "'''\n",
    "print(a[3]) # [19 20 21 22 23 24]\n",
    "print(a[-1]) #  [31 32 33 34 35 36]]\n",
    "print(a[::-2])\n",
    "'''\n",
    "[[31 32 33 34 35 36]\n",
    " [19 20 21 22 23 24]\n",
    " [ 7  8  9 10 11 12]]\n",
    "'''"
   ]
  },
  {
   "cell_type": "code",
   "execution_count": null,
   "metadata": {},
   "outputs": [],
   "source": [
    "a = np.arange(1,37).reshape(6,6) # [2 3 4 5 6 7 8]\n",
    "'''\n",
    "[[ 1  2  3  4  5  6]\n",
    " [ 7  8  9 10 11 12]\n",
    " [13 14 15 16 17 18]\n",
    " [19 20 21 22 23 24]\n",
    " [25 26 27 28 29 30]\n",
    " [31 32 33 34 35 36]]\n",
    "'''\n",
    "print(a[3,2]) # 21\n",
    "print(a[2,:]) #  [13 14 15 16 17 18]"
   ]
  },
  {
   "cell_type": "code",
   "execution_count": null,
   "metadata": {},
   "outputs": [],
   "source": [
    "a = np.arange(1,37).reshape(6,6) # [2 3 4 5 6 7 8]\n",
    "'''\n",
    "[[ 1  2  3  4  5  6]\n",
    " [ 7  8  9 10 11 12]\n",
    " [13 14 15 16 17 18]\n",
    " [19 20 21 22 23 24]\n",
    " [25 26 27 28 29 30]\n",
    " [31 32 33 34 35 36]]\n",
    "'''\n",
    "\n",
    "print(a[:,2]) #  [3 9 15 21 27 33]"
   ]
  },
  {
   "cell_type": "code",
   "execution_count": null,
   "metadata": {},
   "outputs": [],
   "source": [
    "a = np.arange(1,37).reshape(6,6) # [2 3 4 5 6 7 8]\n",
    "'''\n",
    "[[ 1  2  3  4  5  6]\n",
    " [ 7  8  9 10 11 12]\n",
    " [13 14 15 16 17 18]\n",
    " [19 20 21 22 23 24]\n",
    " [25 26 27 28 29 30]\n",
    " [31 32 33 34 35 36]]\n",
    "'''\n",
    "print(a[:,2:4])\n",
    "'''\n",
    "[[3 4]\n",
    " [9 10]\n",
    " [15 16]\n",
    " [21 22]\n",
    " [27 28]\n",
    " [33 34]\n",
    "'''"
   ]
  },
  {
   "cell_type": "code",
   "execution_count": null,
   "metadata": {},
   "outputs": [],
   "source": [
    "a = np.arange(1,37).reshape(6,6) # [2 3 4 5 6 7 8]\n",
    "'''\n",
    "[[ 1  2  3  4  5  6]\n",
    " [ 7  8  9 10 11 12]\n",
    " [13 14 15 16 17 18]\n",
    " [19 20 21 22 23 24]\n",
    " [25 26 27 28 29 30]\n",
    " [31 32 33 34 35 36]]\n",
    "'''\n",
    "print(a[1:4,:])\n",
    "'''\n",
    " [ 7  8  9 10 11 12]\n",
    " [13 14 15 16 17 18]\n",
    " [19 20 21 22 23 24]\n",
    "'''"
   ]
  },
  {
   "cell_type": "code",
   "execution_count": null,
   "metadata": {},
   "outputs": [],
   "source": [
    "a = np.arange(1,37).reshape(6,6) # [2 3 4 5 6 7 8]\n",
    "'''\n",
    "[[ 1  2  3  4  5  6]\n",
    " [ 7  8  9 10 11 12]\n",
    " [13 14 15 16 17 18]\n",
    " [19 20 21 22 23 24]\n",
    " [25 26 27 28 29 30]\n",
    " [31 32 33 34 35 36]]\n",
    "'''\n",
    "print(a[:,-2]) # [5 11 17 23 29 35]"
   ]
  },
  {
   "cell_type": "code",
   "execution_count": null,
   "metadata": {},
   "outputs": [],
   "source": [
    "a = np.arange(1,37).reshape(6,6) # [2 3 4 5 6 7 8]\n",
    "'''\n",
    "[[ 1  2  3  4  5  6]\n",
    " [ 7  8  9 10 11 12]\n",
    " [13 14 15 16 17 18]\n",
    " [19 20 21 22 23 24]\n",
    " [25 26 27 28 29 30]\n",
    " [31 32 33 34 35 36]]\n",
    "'''\n",
    "print(a[-1,:]) #  [31 32 33 34 35 36]]"
   ]
  },
  {
   "cell_type": "code",
   "execution_count": null,
   "metadata": {},
   "outputs": [],
   "source": [
    "a = np.arange(1,37).reshape(6,6) # [2 3 4 5 6 7 8]\n",
    "'''\n",
    "[[ 1  2  3  4  5  6]\n",
    " [ 7  8  9 10 11 12]\n",
    " [13 14 15 16 17 18]\n",
    " [19 20 21 22 23 24]\n",
    " [25 26 27 28 29 30]\n",
    " [31 32 33 34 35 36]]\n",
    "'''\n",
    "print(a[:,:])\n",
    "'''\n",
    "[[ 1  2  3  4  5  6]\n",
    " [ 7  8  9 10 11 12]\n",
    " [13 14 15 16 17 18]\n",
    " [19 20 21 22 23 24]\n",
    " [25 26 27 28 29 30]\n",
    " [31 32 33 34 35 36]]\n",
    "'''"
   ]
  },
  {
   "cell_type": "code",
   "execution_count": null,
   "metadata": {},
   "outputs": [],
   "source": [
    "a = np.arange(1,37).reshape(6,6) # [2 3 4 5 6 7 8]\n",
    "'''\n",
    "[[ 1  2  3  4  5  6]\n",
    " [ 7  8  9 10 11 12]\n",
    " [13 14 15 16 17 18]\n",
    " [19 20 21 22 23 24]\n",
    " [25 26 27 28 29 30]\n",
    " [31 32 33 34 35 36]]\n",
    "'''\n",
    "print(a[::-1,::-1])\n",
    "'''\n",
    "[[36 35 34 33 32 31]\n",
    " [30 29 28 27 26 25]\n",
    " [24 23 22 21 20 19]\n",
    " [18 17 16 15 14 13]\n",
    " [12 11 10  9  8  7]\n",
    " [ 6  5  4  3  2  1]]\n",
    "'''"
   ]
  },
  {
   "cell_type": "code",
   "execution_count": null,
   "metadata": {},
   "outputs": [],
   "source": [
    "a = np.arange(1,37).reshape(6,6) # [2 3 4 5 6 7 8]\n",
    "'''\n",
    "[[ 1  2  3  4  5  6]\n",
    " [ 7  8  9 10 11 12]\n",
    " [13 14 15 16 17 18]\n",
    " [19 20 21 22 23 24]\n",
    " [25 26 27 28 29 30]\n",
    " [31 32 33 34 35 36]]\n",
    "'''\n",
    "a[2,4] = 0\n",
    "print(a)\n",
    "'''\n",
    "[[ 1  2  3  4  5  6]\n",
    " [ 7  8  9 10 11 12]\n",
    " [13 14 15 16 #0 18]\n",
    " [19 20 21 22 23 24]\n",
    " [25 26 27 28 29 30]\n",
    " [31 32 33 34 35 36]]\n",
    "'''"
   ]
  },
  {
   "cell_type": "code",
   "execution_count": null,
   "metadata": {},
   "outputs": [],
   "source": [
    "a = np.arange(1,37).reshape(6,6) # [2 3 4 5 6 7 8]\n",
    "'''\n",
    "[[ 1  2  3  4  5  6]\n",
    " [ 7  8  9 10 11 12]\n",
    " [13 14 15 16 17 18]\n",
    " [19 20 21 22 23 24]\n",
    " [25 26 27 28 29 30]\n",
    " [31 32 33 34 35 36]]\n",
    "'''\n",
    "a[:,4] = 0\n",
    "print(a)\n",
    "'''\n",
    "[[ 1  2  3  4  0  6]\n",
    " [ 7  8  9 10  0 12]\n",
    " [13 14 15 16  0 18]\n",
    " [19 20 21 22  0 24]\n",
    " [25 26 27 28  0 30]\n",
    " [31 32 33 34  0 36]]\n",
    "'''"
   ]
  },
  {
   "cell_type": "code",
   "execution_count": null,
   "metadata": {},
   "outputs": [],
   "source": [
    "a = np.arange(1,37).reshape(6,6) # [2 3 4 5 6 7 8]\n",
    "'''\n",
    "[[ 1  2  3  4  5  6]\n",
    " [ 7  8  9 10 11 12]\n",
    " [13 14 15 16 17 18]\n",
    " [19 20 21 22 23 24]\n",
    " [25 26 27 28 29 30]\n",
    " [31 32 33 34 35 36]]\n",
    "'''\n",
    "a[3,:] = 0\n",
    "print(a)\n",
    "'''\n",
    "[[ 1  2  3  4  5  6]\n",
    " [ 7  8  9 10 11 12]\n",
    " [13 14 15 16 17 18]\n",
    " [ 0  0  0  0  0  0]\n",
    " [25 26 27 28 29 30]\n",
    " [31 32 33 34 35 36]]\n",
    "'''"
   ]
  },
  {
   "cell_type": "code",
   "execution_count": null,
   "metadata": {},
   "outputs": [],
   "source": [
    "a = np.arange(1,37).reshape(6,6) # [2 3 4 5 6 7 8]\n",
    "'''\n",
    "[[ 1  2  3  4  5  6]\n",
    " [ 7  8  9 10 11 12]\n",
    " [13 14 15 16 17 18]\n",
    " [19 20 21 22 23 24]\n",
    " [25 26 27 28 29 30]\n",
    " [31 32 33 34 35 36]]\n",
    "'''\n",
    "a[:,:] = 0\n",
    "print(a)\n",
    "'''\n",
    "[[0 0 0 0 0 0]\n",
    " [0 0 0 0 0 0]\n",
    " [0 0 0 0 0 0]\n",
    " [0 0 0 0 0 0]\n",
    " [0 0 0 0 0 0]\n",
    " [0 0 0 0 0 0]]\n",
    "'''"
   ]
  },
  {
   "cell_type": "code",
   "execution_count": null,
   "metadata": {},
   "outputs": [],
   "source": [
    "a = np.arange(16).reshape(4,4)\n",
    "b = a[2: , 3:] # change with a\n",
    "print(a)\n",
    "print(b)\n",
    "a[:,:] = 7\n",
    "print(a)\n",
    "print(b)"
   ]
  },
  {
   "cell_type": "code",
   "execution_count": null,
   "metadata": {},
   "outputs": [],
   "source": [
    "a = np.arange(16).reshape(4,4)\n",
    "b = a[2: , 3:].copy() # not chaneg with a\n",
    "print(a)\n",
    "print(b)\n",
    "a[:,:] = 7\n",
    "print(a)\n",
    "print(b)"
   ]
  },
  {
   "cell_type": "code",
   "execution_count": null,
   "metadata": {},
   "outputs": [],
   "source": [
    "a = np.arange(27).reshape(3,3,3)\n",
    "print(a)\n",
    "'''\n",
    "[[[ 0  1  2]\n",
    "  [ 3  4  5]\n",
    "  [ 6  7  8]]\n",
    "\n",
    " [[ 9 10 11]\n",
    "  [12 13 14]\n",
    "  [15 16 17]]\n",
    "\n",
    " [[18 19 20]\n",
    "  [21 22 23]\n",
    "  [24 25 26]]]\n",
    "'''\n",
    "print(a[1])\n",
    "'''\n",
    "[[ 9 10 11]\n",
    " [12 13 14]\n",
    " [15 16 17]]\n",
    "'''\n",
    "print(a[0,2]) # [6 7 8]\n",
    "print(a[2,1,0]) # 21"
   ]
  },
  {
   "cell_type": "code",
   "execution_count": null,
   "metadata": {},
   "outputs": [],
   "source": [
    "x = np.arange(10) # [0 1 2 3 4 5 6 7 8 9]\n",
    "x1 , x2 ,x3 , x4= np.split(x, (2,3,4))\n",
    "print(x1,x2,x3,x4) # [0 1] [2] [3] [4 5 6 7 8 9]"
   ]
  },
  {
   "cell_type": "code",
   "execution_count": null,
   "metadata": {},
   "outputs": [],
   "source": [
    "x = np.arange(10) # [0 1 2 3 4 5 6 7 8 9]\n",
    "x1 , x2 ,x3 , x4= np.split(x, (0,3,4))\n",
    "print(x1,x2,x3,x4) # [] [0 1 2] [3] [4 5 6 7 8 9]"
   ]
  },
  {
   "cell_type": "code",
   "execution_count": null,
   "metadata": {},
   "outputs": [],
   "source": [
    "x = np.arange(10) # [0 1 2 3 4 5 6 7 8 9]\n",
    "x1 , x2 ,x3= np.split(x, (4,2))\n",
    "print(x1,x2,x3) # [0 1 2 3] [] [2 3 4 5 6 7 8 9]"
   ]
  },
  {
   "cell_type": "code",
   "execution_count": null,
   "metadata": {},
   "outputs": [],
   "source": [
    "# 2D [][]\n",
    "x = np.arange(9).reshape(3,3)\n",
    "'''\n",
    "[[0 1 2]\n",
    " [3 4 5]\n",
    " [6 7 8]]\n",
    "'''\n",
    "print(x[2][1]) # 7"
   ]
  },
  {
   "cell_type": "code",
   "execution_count": null,
   "metadata": {},
   "outputs": [],
   "source": [
    "# vstack((matrix1,matrix2)) : must equal cols\n",
    "a = np.arange(8).reshape(2,4)\n",
    "b = 3*np.arange(8).reshape(2,4)\n",
    "avb = np.vstack((a,b))\n",
    "print(a)\n",
    "'''\n",
    "[[0 1 2 3]\n",
    " [4 5 6 7]]\n",
    "'''\n",
    "print(b)\n",
    "'''\n",
    "[[ 0  3  6  9]\n",
    " [12 15 18 21]]\n",
    "'''\n",
    "print(avb)\n",
    "'''\n",
    "[[ 0  1  2  3]\n",
    " [ 4  5  6  7]\n",
    " [ 0  3  6  9]\n",
    " [12 15 18 21]]\n",
    "'''"
   ]
  },
  {
   "cell_type": "code",
   "execution_count": null,
   "metadata": {},
   "outputs": [],
   "source": [
    "# hstack((matrix1,matrix2)) : must equal rows\n",
    "a = np.arange(8).reshape(2,4)\n",
    "b = 3*np.arange(8).reshape(2,4)\n",
    "ahb = np.hstack((a,b))\n",
    "print(a)\n",
    "'''\n",
    "[[0 1 2 3]\n",
    " [4 5 6 7]]\n",
    "'''\n",
    "print(b)\n",
    "'''\n",
    "[[ 0  3  6  9]\n",
    " [12 15 18 21]]\n",
    "'''\n",
    "print(ahb)\n",
    "'''\n",
    "[[ 0  1  2  3  0  3  6  9]\n",
    " [ 4  5  6  7 12 15 18 21]]\n",
    "'''"
   ]
  },
  {
   "cell_type": "code",
   "execution_count": null,
   "metadata": {},
   "outputs": [],
   "source": [
    "# concatenate([matrix1,matrix2] , axis = 0 )  axis = 0 >> same vstack \n",
    "a = np.arange(8).reshape(2,4)\n",
    "b = 3*np.arange(8).reshape(2,4)\n",
    "ac0b = np.concatenate([a,b],axis=0)\n",
    "print(a)\n",
    "'''\n",
    "[[0 1 2 3]\n",
    " [4 5 6 7]]\n",
    "'''\n",
    "print(b)\n",
    "'''\n",
    "[[ 0  3  6  9]\n",
    " [12 15 18 21]]\n",
    "'''\n",
    "print(ac0b)\n",
    "'''\n",
    "[[ 0  1  2  3]\n",
    " [ 4  5  6  7]\n",
    " [ 0  3  6  9]\n",
    " [12 15 18 21]]\n",
    "'''"
   ]
  },
  {
   "cell_type": "code",
   "execution_count": null,
   "metadata": {},
   "outputs": [],
   "source": [
    "# concatenate([matrix1,matrix2] , axis = 1) >> axis = 1 >> same hstack\n",
    "\n",
    "a = np.arange(8).reshape(2,4)\n",
    "b = 3*np.arange(8).reshape(2,4)\n",
    "ac1b = np.concatenate([a,b],axis=1)\n",
    "print(a)\n",
    "'''\n",
    "[[0 1 2 3]\n",
    " [4 5 6 7]]\n",
    "'''\n",
    "print(b)\n",
    "'''\n",
    "[[ 0  3  6  9]\n",
    " [12 15 18 21]]\n",
    "'''\n",
    "print(ac1b)\n",
    "'''\n",
    "[[ 0  1  2  3  0  3  6  9]\n",
    " [ 4  5  6  7 12 15 18 21]]\n",
    "'''"
   ]
  },
  {
   "cell_type": "code",
   "execution_count": null,
   "metadata": {},
   "outputs": [],
   "source": [
    "# max(matrix)\n",
    "# argmax(matrix)\n",
    "a = np.random.randint(5,10,size = 8).reshape(2,4)\n",
    "print(np.max(a))\n",
    "print(np.argmax(a)) # position"
   ]
  },
  {
   "cell_type": "code",
   "execution_count": null,
   "metadata": {},
   "outputs": [],
   "source": [
    "# min(matrix)\n",
    "# argmin(matrix)\n",
    "a = np.random.randint(5,10,size = 8).reshape(2,4)\n",
    "print(np.min(a))\n",
    "print(np.argmin(a)) # position"
   ]
  },
  {
   "cell_type": "code",
   "execution_count": null,
   "metadata": {},
   "outputs": [],
   "source": [
    "# varience(matrix)\n",
    "a = np.arange(7).reshape(1,7)\n",
    "print(np.var(a)) # 4.0"
   ]
  },
  {
   "cell_type": "code",
   "execution_count": null,
   "metadata": {},
   "outputs": [],
   "source": [
    "# covarience(matrix)\n",
    "a = np.arange(8).reshape(2,4)\n",
    "print(np.cov(a)) \n",
    "'''\n",
    "[[1.66666667 1.66666667]\n",
    " [1.66666667 1.66666667]]\n",
    "'''"
   ]
  },
  {
   "cell_type": "code",
   "execution_count": null,
   "metadata": {},
   "outputs": [],
   "source": [
    "# dot(matrix) : multiply matrix\n",
    "a = np.arange(12).reshape(3,4)\n",
    "b = np.arange(12).reshape(4,3)\n",
    "print(np.dot(a,b))\n",
    "'''\n",
    "[[ 42  48  54]\n",
    " [114 136 158]\n",
    " [186 224 262]]\n",
    "'''"
   ]
  },
  {
   "cell_type": "code",
   "execution_count": null,
   "metadata": {},
   "outputs": [],
   "source": [
    "# sum(matrix) : sum matrix\n",
    "a = np.arange(12).reshape(3,4)\n",
    "print(np.sum(a)) # 66\n",
    "print(np.sum(a,axis = 0)) # [12 15 18 21]\n",
    "print(np.sum(a,axis = 1)) # [6 22 38]"
   ]
  },
  {
   "cell_type": "code",
   "execution_count": null,
   "metadata": {},
   "outputs": [],
   "source": [
    "# mean and standard deviation and varience\n",
    "a = np.arange(12).reshape(3,4)\n",
    "print(np.mean(a)) # 5.5\n",
    "print(np.std(a)) # 3.4\n",
    "print(np.var(a)) # 11.9"
   ]
  },
  {
   "cell_type": "code",
   "execution_count": null,
   "metadata": {},
   "outputs": [],
   "source": [
    "# corrcoef(matrix)\n",
    "a = np.random.randint(4,9,size = 12).reshape(3,4)\n",
    "print(np.corrcoef(a))"
   ]
  },
  {
   "cell_type": "code",
   "execution_count": null,
   "metadata": {},
   "outputs": [],
   "source": [
    "# sort(matrix , axis=0 or 1)\n",
    "a = np.random.randint(4,9,size = 12).reshape(3,4)\n",
    "print(np.sort(a, axis=0))\n",
    "'''\n",
    "[[4 5 5 5]\n",
    " [4 5 6 8]\n",
    " [5 6 8 8]]\n",
    "'''\n",
    "print(np.sort(a, axis=1))\n",
    "'''\n",
    "[[4 5 5 8]\n",
    " [4 6 6 8]\n",
    " [5 5 5 8]]\n",
    "'''"
   ]
  },
  {
   "cell_type": "code",
   "execution_count": null,
   "metadata": {},
   "outputs": [],
   "source": [
    "# linalg.inv(matrix) : linear algebra function\n",
    "a = np.random.randint(5,15,size =9).reshape(3,3)\n",
    "b = np.linalg.inv(a)\n",
    "print(np.linalg.inv(a))\n",
    "'''\n",
    "[[-0.55504587  0.2706422   0.40825688]\n",
    " [ 0.0412844  -0.07798165  0.06880734]\n",
    " [ 0.39908257 -0.08715596 -0.33486239]]\n",
    "'''\n",
    "print(np.dot(a,b))\n",
    "'''\n",
    "[[ 1.00000000e+00  1.66533454e-16 -4.99600361e-16]\n",
    " [ 2.22044605e-16  1.00000000e+00 -1.11022302e-15]\n",
    " [ 5.55111512e-17  5.55111512e-17  1.00000000e+00]]\n",
    "'''"
   ]
  },
  {
   "cell_type": "markdown",
   "metadata": {},
   "source": [
    "# read files ........"
   ]
  },
  {
   "cell_type": "code",
   "execution_count": null,
   "metadata": {},
   "outputs": [],
   "source": [
    "# loadtxt(location, dtype, skiprows, usecols)\n",
    "file_path = r\"/media//elsayedelmandoh//Rio//Courses//Python//Coding//loadtxt.txt\"\n",
    "dtype1 = np.dtype([('gender','S1'),('height','f8')])\n",
    "print(np.loadtxt(file_path,dtype= dtype1,skiprows = 9, usecols = (1,3)))\n",
    "'''\n",
    "[(b'M', 1.82) (b'M', 1.77) (b'F', 1.68) (b'M', 1.72) (b'F', 1.78)\n",
    " (b'F', 1.6 ) (b'M', 1.72) (b'M', 1.83) (b'F', 1.56) (b'F', 1.64)\n",
    " (b'M', 1.63) (b'M', 1.67) (b'M', 1.66) (b'F', 1.59) (b'F', 1.7 )\n",
    " (b'M', 1.97) (b'F', 1.66) (b'F', 1.63) (b'M', 1.69)]\n",
    "'''\n",
    "# import os\n",
    "# print(os.path.isfile(d))\n",
    "# print(np.loadtxt(r\"/media//elsayedelmandoh//Rio//Courses//Python//Coding//loadtxt.txt\",dtype= [('gender','S1'),('height','f8')],skiprows = 9, usecols = (1,3)))"
   ]
  },
  {
   "cell_type": "code",
   "execution_count": null,
   "metadata": {},
   "outputs": [],
   "source": [
    "file_path = r\"/media//elsayedelmandoh//Rio//Courses//Python//Coding//008-mod_numpy//student_data.txt\"\n",
    "print(np.loadtxt(file_path,dtype= [('height','S1')],skiprows = 9, usecols = (3)))\n",
    "'''\n",
    "[(b'1',) (b'1',) (b'1',) (b'1',) (b'1',) (b'1',) (b'1',) (b'1',) (b'1',)\n",
    " (b'1',) (b'1',) (b'1',) (b'1',) (b'1',) (b'1',) (b'1',) (b'1',) (b'1',)\n",
    " (b'1',)]\n",
    "'''"
   ]
  },
  {
   "cell_type": "code",
   "execution_count": null,
   "metadata": {},
   "outputs": [],
   "source": [
    "file_path = r\"/media//elsayedelmandoh//Rio//Courses//Python//Coding//008-mod_numpy//median_age\"\n",
    "a , b , c = np.loadtxt(file_path,unpack=True,skiprows=3)\n",
    "# import os\n",
    "# print(os.path.isfile(file_path))\n",
    "print(a) # [1890. 1900. 1910. 1920. 1930.]\n",
    "print(b) # [26.1 25.9 25.1 24.6 24.3]\n",
    "print(c) # [22.  21.9 21.6 21.2 21.3]"
   ]
  },
  {
   "cell_type": "code",
   "execution_count": null,
   "metadata": {},
   "outputs": [],
   "source": [
    "file_path = r\"/media//elsayedelmandoh//Rio//Courses//Python//Coding//008-mod_numpy//subject_number.txt\"\n",
    "dtype1 = np.dtype([('id','u8'),('gender','S1'),('black','f8'),('color','f8')])\n",
    "print(np.genfromtxt(file_path,dtype= dtype1,delimiter=',',missing_values='X'))\n",
    "# between data is ,\n",
    "# ignore x\n",
    "'''\n",
    "[(18446744073709551615, b' ',   nan,   nan)\n",
    " (                   1, b'F', 18.72, 31.11)\n",
    " (                   2, b'F', 21.14, 52.47)\n",
    " (                   3, b'F', 19.38, 33.9 )]\n",
    "'''"
   ]
  },
  {
   "cell_type": "markdown",
   "metadata": {},
   "source": [
    "# polynomial "
   ]
  },
  {
   "cell_type": "code",
   "execution_count": null,
   "metadata": {},
   "outputs": [],
   "source": [
    "# np.polynomial.Polynomial\n",
    "pln = np.polynomial.Polynomial\n",
    "x = np.array([0,20,40,60,80,100,120,140,160])\n",
    "y = np.array([0,2,4,6,8,10,12,14,16])\n",
    "# must be x and y are same lenght\n",
    "points , status = pln.fit(x,y,1,full=True)\n",
    "'''\n",
    "1 > equation from one degree\n",
    "full > draw all points\n",
    "'''\n",
    "print(points) # 8.000000000000004 + 7.999999999999998·x¹\n",
    "'''\n",
    "Y = mX + a\n",
    "m > slop \n",
    "a > level y when x = 0\n",
    "then \n",
    "Y = 7.9X**1 + 8.0\n",
    "'''"
   ]
  },
  {
   "cell_type": "code",
   "execution_count": null,
   "metadata": {},
   "outputs": [],
   "source": [
    "# np.polynomial.Polynomial\n",
    "pln = np.polynomial.Polynomial\n",
    "x = np.array([0,20,40,60,80,100,120,140,160])\n",
    "y = np.array([0,2,4,6,8,10,12,14,16])\n",
    "# must be x and y are same lenght\n",
    "points , status = pln.fit(x,y,2,full=True)\n",
    "'''\n",
    "1 > equation from two degree\n",
    "full > draw all points\n",
    "'''\n",
    "print(points) # 8.000000000000004 + 8.0·x¹ - 4.2726130004827435e-15·x²\n",
    "'''\n",
    "Y = mX + a\n",
    "m > slop \n",
    "a > level y when x = 0\n",
    "then \n",
    "Y = 4.2X**2 + 8.0X**1 + 8.0\n",
    "'''"
   ]
  },
  {
   "cell_type": "code",
   "execution_count": null,
   "metadata": {},
   "outputs": [],
   "source": [
    "# np.polynomial.Polynomial\n",
    "pln = np.polynomial.Polynomial\n",
    "x = np.array([0,20,40,60,80,100,120,140,160])\n",
    "y = np.array([0,2,4,6,8,10,12,14,16])\n",
    "# must be x and y are same lenght\n",
    "points , status = pln.fit(x,y,3,full=True)\n",
    "'''\n",
    "1 > equation from three degree\n",
    "full > draw all points\n",
    "'''\n",
    "print(points) # 8.000000000000005 + 7.999999999999993·x¹ - 6.4089195007241145e-15·x² -1.9678956988336473e-15·x³\n",
    "'''\n",
    "Y = mX + a\n",
    "m > slop \n",
    "a > level y when x = 0\n",
    "then \n",
    "Y = -1.9X**3 -6.4X**2 + 7.9X + 8.0\n",
    "'''"
   ]
  },
  {
   "cell_type": "code",
   "execution_count": null,
   "metadata": {},
   "outputs": [],
   "source": [
    "# polyfit\n",
    "x = np.array([0,20,40,60,80,100,120,140,160])\n",
    "y = np.array([0,2,4,6,8,10,12,14,16])\n",
    "print(np.polyfit(x,y,2)) # [3.42368933e-19 1.00000000e-01 0.00000000e+00]"
   ]
  },
  {
   "cell_type": "code",
   "execution_count": null,
   "metadata": {},
   "outputs": [],
   "source": [
    "# poly1d() : to generate equations\n",
    "print(np.poly1d((7))) # y = 7\n",
    "print(np.poly1d((7,2))) # y = 7x + 2\n",
    "print(np.poly1d((7,3,5))) # y = 7x**2 + 3x + 5\n",
    "print(np.poly1d((5,9,6,2.5))) # y = 5x**3 + 9x**2 + 6x + 2.5\n",
    "print(np.poly1d((9,5,4.3,6.1,22))) # y = 9x**4 + 5x**3 + 4.3x**2 + 6.1x + 22"
   ]
  },
  {
   "cell_type": "code",
   "execution_count": null,
   "metadata": {},
   "outputs": [],
   "source": [
    "# ploy1d with x = number\n",
    "eq = np.poly1d((2,5,7)) # y = 2x**2 + 5x + 7\n",
    "print(eq(0)) # 7 : 2*0**2 + 5*0 + 7\n",
    "print(eq(5)) # 82  : 2*5**2 + 5*5 + 7"
   ]
  },
  {
   "cell_type": "code",
   "execution_count": null,
   "metadata": {},
   "outputs": [],
   "source": [
    "# polyval()\n",
    "print(np.polyval((1,2),5)) # y = x + 2 = 5 + 2 + 7 \n",
    "print(np.polyval((5,2,1),3)) # y = 5x**2 + 2x + 1 = 5*3**2 + 2*3 + 1 =  52"
   ]
  },
  {
   "cell_type": "code",
   "execution_count": null,
   "metadata": {},
   "outputs": [],
   "source": [
    "# polyder(equation , count of dev) : poly derevative\n",
    "print(np.polyder(np.poly1d((1,2,3)))) # y = x**2 + 2x + 3 = 2x + 2\n",
    "print(np.polyder(np.poly1d((1,2,3,7))) , 2) # y = x**3 + 2x**2 + 3x + 7 = 3x**2 + 4x + 3\n",
    "print(np.polyder(np.poly1d((1,2,3,4,5))) , 3) # 4x**3 + 6x**2 + 6x + 4"
   ]
  },
  {
   "cell_type": "code",
   "execution_count": null,
   "metadata": {},
   "outputs": [],
   "source": [
    "# ployint(equation, count of int) : poly integration\n",
    "print(np.polyint(np.poly1d((1,2,3)))) # 0.3333x**3 + 1x**2 + 3x\n",
    "print(np.polyint(np.poly1d((1,2,3,7))) , 2) # 0.25x**4 + 0.6667x**3 + 1.5x**2 + 7x\n",
    "print(np.polyint(np.poly1d((1,2,3,4,5))) , 3) # 0.2x**5 + 0.5x**4 + 1x**3 + 2x**2 + 5x"
   ]
  },
  {
   "cell_type": "code",
   "execution_count": null,
   "metadata": {},
   "outputs": [],
   "source": [
    "# roots((equation))\n",
    "'''\n",
    "one root for equation of one degree\n",
    "two roots for equations of two degree\n",
    "three roots for equations of three degree\n",
    "...\n",
    "...\n",
    "...\n",
    "'''\n",
    "print(np.roots(np.poly1d((1,2)))) # [-2]\n",
    "print(np.roots(np.poly1d((1,2,3)))) # [-1.+1.41421356j -1.-1.41421356j]\n",
    "print(np.roots(np.poly1d((1,2,3,7))) , 2) # [-2.13249369+0.j          0.06624684+1.81056712j  0.06624684-1.81056712j] \n",
    "print(np.roots(np.poly1d((1,2,3,4,5))) , 3) # [-1.28781548+0.85789676j -1.28781548-0.85789676j  0.28781548+1.41609308j 0.28781548-1.41609308j]"
   ]
  },
  {
   "cell_type": "markdown",
   "metadata": {},
   "source": [
    "# date time "
   ]
  },
  {
   "cell_type": "code",
   "execution_count": null,
   "metadata": {},
   "outputs": [],
   "source": [
    "# datetime\n",
    "print(np.datetime64(\"2002-06-18\")) # 2002-06-18\n",
    "print(np.datetime64(\"2002-06-18\") + np.arange(30)) \n",
    "'''\n",
    "add 30 day on date time\n",
    "['2002-06-18' '2002-06-19' '2002-06-20' '2002-06-21' '2002-06-22'\n",
    " '2002-06-23' '2002-06-24' '2002-06-25' '2002-06-26' '2002-06-27'\n",
    " '2002-06-28' '2002-06-29' '2002-06-30' '2002-07-01' '2002-07-02'\n",
    " '2002-07-03' '2002-07-04' '2002-07-05' '2002-07-06' '2002-07-07'\n",
    " '2002-07-08' '2002-07-09' '2002-07-10' '2002-07-11' '2002-07-12'\n",
    " '2002-07-13' '2002-07-14' '2002-07-15' '2002-07-16' '2002-07-17']\n",
    "''' "
   ]
  },
  {
   "cell_type": "code",
   "execution_count": null,
   "metadata": {},
   "outputs": [],
   "source": [
    "# datetime\n",
    "print(np.datetime64(\"2002-06-18\")) # 2002-06-18\n",
    "print(np.datetime64(\"2002-06-18\") - np.arange(30)) \n",
    "'''\n",
    "mins 30 day on date time\n",
    "['2002-06-18' '2002-06-17' '2002-06-16' '2002-06-15' '2002-06-14'\n",
    " '2002-06-13' '2002-06-12' '2002-06-11' '2002-06-10' '2002-06-09'\n",
    " '2002-06-08' '2002-06-07' '2002-06-06' '2002-06-05' '2002-06-04'\n",
    " '2002-06-03' '2002-06-02' '2002-06-01' '2002-05-31' '2002-05-30'\n",
    " '2002-05-29' '2002-05-28' '2002-05-27' '2002-05-26' '2002-05-25'\n",
    " '2002-05-24' '2002-05-23' '2002-05-22' '2002-05-21' '2002-05-20']\n",
    "''' "
   ]
  },
  {
   "cell_type": "code",
   "execution_count": null,
   "metadata": {},
   "outputs": [],
   "source": [
    "# my age as days\n",
    "print(np.datetime64(\"2022-09-01\") - np.datetime64(\"2002-06-18\")) # 7380 days wooow "
   ]
  },
  {
   "cell_type": "code",
   "execution_count": null,
   "metadata": {},
   "outputs": [],
   "source": [
    "# fromfunction(lambda , shape) shape = matrix\n",
    "print(np.fromfunction(lambda i: i**3 , shape = (10,))) # [  0.   1.   8.  27.  64. 125. 216. 343. 512. 729.]"
   ]
  },
  {
   "cell_type": "code",
   "execution_count": null,
   "metadata": {},
   "outputs": [],
   "source": [
    "print(np.fromfunction(lambda x, y: x*y , shape = (10,4)))\n",
    "# x : from 0 to 9 \n",
    "# y : from 0 to 3\n",
    "# i + all values of j "
   ]
  },
  {
   "cell_type": "code",
   "execution_count": null,
   "metadata": {},
   "outputs": [],
   "source": [
    "print(np.fromfunction(lambda x, y , z: x+y+z , shape = (2,4,5), dtype= int))\n",
    "# x : from 0 and 1\n",
    "# y : from 0 to 3\n",
    "# z : from 0 to 4"
   ]
  },
  {
   "cell_type": "code",
   "execution_count": null,
   "metadata": {},
   "outputs": [],
   "source": [
    "def fun(i):\n",
    "    return i % 2 == 0\n",
    "\n",
    "print(np.fromfunction(fun , (20,) , dtype = int)) # not include 20\n",
    "'''\n",
    "[ True False  True False  True False  True False  True False  True False\n",
    "  True False  True False  True False  True False]\n",
    "'''"
   ]
  },
  {
   "cell_type": "markdown",
   "metadata": {},
   "source": [
    "# Electro pi"
   ]
  },
  {
   "cell_type": "markdown",
   "metadata": {},
   "source": [
    "fansy indexing"
   ]
  },
  {
   "cell_type": "code",
   "execution_count": 22,
   "metadata": {},
   "outputs": [
    {
     "data": {
      "text/plain": [
       "array([[ 2, 19, 16, 14,  1],\n",
       "       [16,  3,  1,  1,  1],\n",
       "       [19, 14,  7, 19,  3],\n",
       "       [11,  8, 12,  0, 19]])"
      ]
     },
     "execution_count": 22,
     "metadata": {},
     "output_type": "execute_result"
    }
   ],
   "source": [
    "import numpy as np\n",
    "lst= np.random.randint(0, 20, (4,5))\n",
    "lst"
   ]
  },
  {
   "cell_type": "code",
   "execution_count": 23,
   "metadata": {},
   "outputs": [
    {
     "data": {
      "text/plain": [
       "array([14,  1])"
      ]
     },
     "execution_count": 23,
     "metadata": {},
     "output_type": "execute_result"
    }
   ],
   "source": [
    "fans_index= ((0,1), (3))\n",
    "lst[fans_index]"
   ]
  },
  {
   "cell_type": "markdown",
   "metadata": {},
   "source": [
    "add new dimension"
   ]
  },
  {
   "cell_type": "code",
   "execution_count": 30,
   "metadata": {},
   "outputs": [
    {
     "data": {
      "text/plain": [
       "array([[7, 3, 9, 9, 6, 9, 6]])"
      ]
     },
     "execution_count": 30,
     "metadata": {},
     "output_type": "execute_result"
    }
   ],
   "source": [
    "lst= np.random.randint(3, 10, (1,7))\n",
    "lst"
   ]
  },
  {
   "cell_type": "code",
   "execution_count": 31,
   "metadata": {},
   "outputs": [
    {
     "data": {
      "text/plain": [
       "(1, 7)"
      ]
     },
     "execution_count": 31,
     "metadata": {},
     "output_type": "execute_result"
    }
   ],
   "source": [
    "lst.shape"
   ]
  },
  {
   "cell_type": "code",
   "execution_count": 32,
   "metadata": {},
   "outputs": [
    {
     "data": {
      "text/plain": [
       "array([[[7, 3, 9, 9, 6, 9, 6]]])"
      ]
     },
     "execution_count": 32,
     "metadata": {},
     "output_type": "execute_result"
    }
   ],
   "source": [
    "# add all values as columns and new dimensions as row\n",
    "lst = lst[:, np.newaxis]\n",
    "lst"
   ]
  },
  {
   "cell_type": "code",
   "execution_count": 34,
   "metadata": {},
   "outputs": [
    {
     "data": {
      "text/plain": [
       "(1, 1, 7)"
      ]
     },
     "execution_count": 34,
     "metadata": {},
     "output_type": "execute_result"
    }
   ],
   "source": [
    "lst.shape"
   ]
  },
  {
   "cell_type": "code",
   "execution_count": 35,
   "metadata": {},
   "outputs": [
    {
     "data": {
      "text/plain": [
       "array([[[[7, 3, 9, 9, 6, 9, 6]]]])"
      ]
     },
     "execution_count": 35,
     "metadata": {},
     "output_type": "execute_result"
    }
   ],
   "source": [
    "lst = lst[np.newaxis, :]\n",
    "lst"
   ]
  },
  {
   "cell_type": "code",
   "execution_count": 36,
   "metadata": {},
   "outputs": [
    {
     "data": {
      "text/plain": [
       "(1, 1, 1, 7)"
      ]
     },
     "execution_count": 36,
     "metadata": {},
     "output_type": "execute_result"
    }
   ],
   "source": [
    "lst.shape"
   ]
  },
  {
   "cell_type": "code",
   "execution_count": null,
   "metadata": {},
   "outputs": [],
   "source": []
  }
 ],
 "metadata": {
  "kernelspec": {
   "display_name": "Python 3.10.4 64-bit",
   "language": "python",
   "name": "python3"
  },
  "language_info": {
   "codemirror_mode": {
    "name": "ipython",
    "version": 3
   },
   "file_extension": ".py",
   "mimetype": "text/x-python",
   "name": "python",
   "nbconvert_exporter": "python",
   "pygments_lexer": "ipython3",
   "version": "3.11.4"
  },
  "orig_nbformat": 4,
  "vscode": {
   "interpreter": {
    "hash": "916dbcbb3f70747c44a77c7bcd40155683ae19c65e1c03b4aa3499c5328201f1"
   }
  }
 },
 "nbformat": 4,
 "nbformat_minor": 2
}
