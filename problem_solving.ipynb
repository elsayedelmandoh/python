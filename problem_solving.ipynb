{
 "cells": [
  {
   "cell_type": "markdown",
   "metadata": {},
   "source": [
    "# Problem solving using python"
   ]
  },
  {
   "cell_type": "markdown",
   "metadata": {},
   "source": [
    "# Default Dict in collections"
   ]
  },
  {
   "cell_type": "code",
   "execution_count": null,
   "metadata": {},
   "outputs": [],
   "source": [
    "'''\n",
    "take input n : numbers of group A\n",
    "take input m : numbers of group B\n",
    "create dict using defaultdict from collections\n",
    "take element group a as dict\n",
    "take element grop b as list\n",
    "check if element list_b is found in dict_a print(index) else print(-1)\n",
    "'''"
   ]
  },
  {
   "cell_type": "code",
   "execution_count": null,
   "metadata": {},
   "outputs": [],
   "source": [
    "from collections import defaultdict\n",
    "'''\n",
    "The 'defaultdict' tool is a container in the collections class of Python. It's similar to the usual dictionary (dict) container, but the only difference is that a defaultdict will have a default value if that key has not been set yet. If you didn't use a defaultdict you'd have to check to see if that key exists, and if it doesn't, set it to what you want.\n",
    "'''\n",
    "\n",
    "# input ..\n",
    "n , m = list(map(int,input().split()))\n",
    "dict_a = defaultdict(list) # 'a', 'a', 'b', 'a', 'b'\n",
    "for i in range(1,n+1): # 1 2 3 4 5\n",
    "    dict_a[input()].append(i) \n",
    "\n",
    "list_b = [input() for i in range(m)] # 'a' , 'b'\n",
    "\n",
    "# output ..\n",
    "for i in list_b:\n",
    "    print(*dict_a[i]) if i in dict_a else print('-1')\n",
    "# *dict_a[i] : to convert [1,2,3,4,5] to 1, 2, 3, 4, 5"
   ]
  },
  {
   "cell_type": "markdown",
   "metadata": {},
   "source": [
    "# Collections.Counter()"
   ]
  },
  {
   "cell_type": "code",
   "execution_count": null,
   "metadata": {},
   "outputs": [],
   "source": [
    "# from collections import Counter\n",
    "# '''\n",
    "# >> Counter is a container\n",
    "# that stores 'elements' as 'dictionary keys'\n",
    "# and their 'counts' are stored as 'dictionary values'.\n",
    "# myList = [1,1,2,3,4,5,3,2,3,4,2,1,2,3]\n",
    "# Counter({2: 4, 3: 4, 1: 3, 4: 2, 5: 1})\n",
    "\n",
    "# # Task ..\n",
    "# Ragha is a shoe shop owner. His shop has X number of shoes.\n",
    "# He has a list containing the size of each shoe he has in his shop.\n",
    "# There are X number of customers who are willing to pay x amount of money\n",
    "# only if they get the shoe of their desired size.\n",
    "\n",
    "# # input ..\n",
    "# line1 : number of shoes\n",
    "# line2 : space separated list of all the shoe sizes in the shop.\n",
    "# line3 : number of customers\n",
    "# next all lines : space separated values of the shoe size desired by the customer and x, the price of the shoe.\n",
    "# '''\n",
    "\n",
    "# # ** inputs **\n",
    "# # number of shoes\n",
    "# num_shoes = int(input()) # 10\n",
    "\n",
    "# # list of all the shoe sizes in the shop\n",
    "# shoe_sizes = list(map(int, input().split())) # 2 3 4 5 6 8 7 6 5 18 with one line\n",
    "\n",
    "# #  number of customers.\n",
    "# num_customers = int(input()) # 6\n",
    "\n",
    "# # take shoes size\n",
    "# lst_size_price = []\n",
    "# for _ in range(num_customers):\n",
    "#     size_price = map(int, input().split()) # take size of shoes and price with one line\n",
    "#     '''\n",
    "#     6 55\n",
    "#     6 45\n",
    "#     6 55\n",
    "#     4 40\n",
    "#     18 60\n",
    "#     10 50\n",
    "#     '''\n",
    "#     lst_size_price.append(tuple(size_price))\n",
    "#     '''\n",
    "#     (6,55)\n",
    "#     (6,45)\n",
    "#     (6,55)\n",
    "#     (4,40)\n",
    "#     (18,60)\n",
    "#     (10,50)\n",
    "#     '''\n",
    "\n",
    "# # **9 process **\n",
    "# # import counter to store shoe size and counts as dict\n",
    "# from collections import Counter\n",
    "\n",
    "# #  shoe sizes and counts \n",
    "# count_shoe_sizes = Counter(shoe_sizes) # Counter({5: 2, 6: 2, 2: 1, 3: 1, 4: 1, 8: 1, 7: 1, 18: 1})\n",
    "\n",
    "# # shoe sizes only\n",
    "# items_shoe = count_shoe_sizes.keys()  # dict_keys([2, 3, 4, 5, 6, 8, 7, 18])\n",
    "\n",
    "# total_money = 0\n",
    "# for shoe in lst_size_price: # [ (6,55), (6,45), (6,55), (4,40), (18,60), (10,50) ]\n",
    "#     if shoe[0] in items_shoe and count_shoe_sizes[shoe[0]] != 0:\n",
    "#         total_money += shoe[1] # increament money += price of shoe\n",
    "#         print(f'money : {total_money}') # 55 > 100 > not_avaiable > 140 > 200 > not_avaiable\n",
    "#         count_shoe_sizes[shoe[0]] -= 1 # decreament count shoe -= 1\n",
    "#         print(count_shoe_sizes)\n",
    "#         '''\n",
    "#         - (6,55)\n",
    "#         Counter({5: 2, 2: 1, 3: 1, 4: 1, 6: 1, 8: 1, 7: 1, 18: 1})\n",
    "\n",
    "#         - (6,45) \n",
    "#         Counter({5: 2, 2: 1, 3: 1, 4: 1, 8: 1, 7: 1, 18: 1, 6: 0})\n",
    "\n",
    "#         Not avaiable (6,55)\n",
    "\n",
    "#         - (4,40)\n",
    "#         Counter({5: 2, 2: 1, 3: 1, 8: 1, 7: 1, 18: 1, 4: 0, 6: 0})\n",
    "\n",
    "#         - (18,60)\n",
    "#         Counter({5: 2, 2: 1, 3: 1, 8: 1, 7: 1, 4: 0, 6: 0, 18: 0})\n",
    "\n",
    "#         Not avaiable (10,50)\n",
    "\n",
    "#         '''\n",
    "#     else:\n",
    "#         total_money += 0\n",
    "#         # Not avaiable (6,55) \n",
    "#         # Not avaiable (10,50)\n",
    "\n",
    "# # ** ouputs **\n",
    "# print(total_money) # 200\n"
   ]
  },
  {
   "cell_type": "code",
   "execution_count": null,
   "metadata": {},
   "outputs": [],
   "source": [
    "from collections import Counter\n",
    "\n",
    "num_shoes, shoe_sizes = input(), Counter([int(x) for x in input().split()])\n",
    "\n",
    "total_money = 0 \n",
    "\n",
    "for i in range(int(input())): # take num_customers\n",
    "    \n",
    "    size, price_shoe = list(map(int, input().split()))\n",
    "    \n",
    "    # get : return number of parameter, return 0 if not found\n",
    "    if shoe_sizes.get(size) and shoe_sizes.get(size) != 0: # avaiable/not_avaiable and size != 0\n",
    "        total_money += price_shoe\n",
    "        shoe_sizes[size] = shoe_sizes.get(size) - 1 # decreament count shoe -= 1\n",
    "    \n",
    "print(total_money)\n"
   ]
  },
  {
   "cell_type": "markdown",
   "metadata": {},
   "source": [
    "# Merge the tools"
   ]
  },
  {
   "cell_type": "code",
   "execution_count": null,
   "metadata": {},
   "outputs": [],
   "source": [
    "'''\n",
    "n = len(string)\n",
    "k = factor(n)\n",
    "m = n/k\n",
    "'''"
   ]
  },
  {
   "cell_type": "code",
   "execution_count": null,
   "metadata": {},
   "outputs": [],
   "source": [
    "from collections import OrderedDict\n"
   ]
  },
  {
   "cell_type": "code",
   "execution_count": null,
   "metadata": {},
   "outputs": [],
   "source": [
    "\n",
    "def merge_the_tools(string,k): # AABCAAADA 3\n",
    "    n = len(string) # 9\n",
    "    m = int(n/k) # 3\n",
    "    result = []\n",
    "    for i in range(0,n,k): # 0 : 2 , 3 : 5 , 6 : 8\n",
    "        result.append(\"\".join(OrderedDict.fromkeys(string[i:i+k])))\n",
    "    print(\"\\n\".join(result))\n",
    "\n",
    "merge_the_tools('AABCAAADA',4)\n",
    "\n",
    "\n",
    "# chain : to merge two dict\n",
    "# from itertools import chain\n",
    "# from collections import OrderedDict\n",
    "\n",
    "# b = {'e':6,'f':7,'g':8,'h':9,'i':8}\n",
    "# a = {'a':1,'b':2,'c':3,'d':4,'e':5}\n",
    "\n",
    "# print(OrderedDict(chain(a.items(), b.items())))\n",
    "# OrderedDict([('a', 1), ('b', 2), ('c', 3), ('d', 4), ('e', 6), ('f', 7), ('g', 8), ('h', 9), ('i', 8)])\n",
    "# print({**a,**b})\n",
    "# {'a': 1, 'b': 2, 'c': 3, 'd': 4, 'e': 6, 'f': 7, 'g': 8, 'h': 9, 'i': 8}\n",
    "\n",
    "# e : '6' > override"
   ]
  },
  {
   "cell_type": "markdown",
   "metadata": {},
   "source": [
    "# The minion game"
   ]
  },
  {
   "cell_type": "code",
   "execution_count": null,
   "metadata": {},
   "outputs": [],
   "source": [
    "def minion_game(s):\n",
    "    player_1 = \"Kevin\"\n",
    "    player_2 = \"Stuart\"\n",
    "    kevin_score = 0\n",
    "    stuart_score = 0\n",
    "    ln_s = len(s) # 2\n",
    "    for i in range(len(s)): # 0 1\n",
    "        if s[i] in \"AEIOU\":\n",
    "            kevin_score += ln_s - i\n",
    "        else:\n",
    "            stuart_score +=ln_s - i\n",
    "    \n",
    "    if kevin_score > stuart_score:\n",
    "        print(f\"{player_1} {kevin_score}\")\n",
    "    elif stuart_score > kevin_score:\n",
    "        print(f\"{player_2} {stuart_score}\")\n",
    "    elif stuart_score == kevin_score:\n",
    "        print(\"Draw\")\n",
    "    else:\n",
    "        print(\"Draw\")\n",
    "\n",
    "if __name__ == '__main__':\n",
    "    # s = input()\n",
    "    s = 'B'\n",
    "    minion_game(s)"
   ]
  },
  {
   "cell_type": "markdown",
   "metadata": {},
   "source": [
    "# Find String "
   ]
  },
  {
   "cell_type": "code",
   "execution_count": null,
   "metadata": {},
   "outputs": [],
   "source": [
    "def count_substring(string, sub_string):\n",
    "    count = 0\n",
    "    for i in range(len(string)):\n",
    "        if string[i:].startswith(sub_string):\n",
    "            count += 1\n",
    "    return count\n",
    "\n",
    "    \n",
    "if __name__ == '__main__':\n",
    "    string = input().strip()\n",
    "    sub_string = input().strip()\n",
    "    \n",
    "    count = count_substring(string, sub_string)\n",
    "    print(count)"
   ]
  },
  {
   "cell_type": "markdown",
   "metadata": {},
   "source": [
    "# Capitalize"
   ]
  },
  {
   "cell_type": "code",
   "execution_count": null,
   "metadata": {},
   "outputs": [],
   "source": [
    "'''\n",
    "string.capwords\n",
    "It splits the given string using the split() method.\n",
    "It capitalizes every word using the capitalize() method. \n",
    "It joins the capitalized words into a single string using the join() method.\n",
    "'''"
   ]
  },
  {
   "cell_type": "code",
   "execution_count": null,
   "metadata": {},
   "outputs": [],
   "source": [
    "import string\n",
    "def solve(s):\n",
    "    return string.capwords(s, ' ')\n",
    "# with all spaces\n",
    "print(solve(\"chris alan   5sdg5\")) # Chris Alan   5sdg5\n",
    "print(solve(\"    hello   world  lol\")) #      hello   world  lol\n",
    "\n",
    "def solve_without_space(s):\n",
    "    return string.capwords(s,)\n",
    "# remove spaces\n",
    "print(solve_without_space(\"chris    alan 5sdg5\")) # Chris Alan 5sdg5\n",
    "print(solve_without_space(\"    hello   world  lol\")) #      hello   world  lol\n",
    "\n"
   ]
  },
  {
   "cell_type": "markdown",
   "metadata": {},
   "source": [
    "# Alphabet Rangoli"
   ]
  },
  {
   "cell_type": "code",
   "execution_count": null,
   "metadata": {},
   "outputs": [],
   "source": [
    "'''\n",
    "ord(a,b,c,d,e) 97 , 98 , 99 , 100 , 101 , 102\n",
    "'''"
   ]
  },
  {
   "cell_type": "code",
   "execution_count": null,
   "metadata": {},
   "outputs": [],
   "source": [
    "def print_rangoli(size):\n",
    "    import string\n",
    "    strlow = string.ascii_lowercase\n",
    "    # top and middle\n",
    "    for i in reversed(strlow[0:size]):  # 4 3 2 1 0 = e d c b a\n",
    "        # print(ord(i)) # 101 100 99 98 97 = e d c b a\n",
    "        print('-'.join(strlow[size - 1:ord(i) - 97:-1] +\n",
    "                       strlow[ord(i) - 97:size]\n",
    "                       ).center(4 * size - 3, '-'))\n",
    "        # top\n",
    "        # strlow[4:4:-1] + strlow[4:5] = '' + 'e' = 'e'\n",
    "        # strlow[4:3:-1] + strlow[3:5] = 'd' + 'de' = 'd-e'\n",
    "        # strlow[4:2:-1] + strlow[2:5] = 'ed' + 'cde' = 'c-d-e'\n",
    "        # strlow[4:1:-1] + strlow[1:5] = 'edc' + 'bcde' = 'c-d-e'\n",
    "\n",
    "        # middle\n",
    "        # strlow[4:0:-1] + strlow[0:5] = 'edcb' + 'abcde' = 'c-d-e'\n",
    "\n",
    "    # bottom\n",
    "    for i in strlow[1:size]:  # 1 2 3 4 = b c d e\n",
    "        # print(ord(i)) # 98 99 100 101 = b c d e\n",
    "        print('-'.join(strlow[size - 1:ord(i) - 97:-1] +\n",
    "                       strlow[ord(i) - 97:size]\n",
    "                       ).center(4 * size - 3, '-'))\n",
    "        # buttom\n",
    "        # strlow[4:1:-1] + strlow[1:5] = 'edc' + 'bcde' = 'e-d-c-b-c-d-e'\n",
    "        # strlow[4:2:-1] + strlow[2:5] = 'ed' + 'cde' = 'e-d-c-d-e'\n",
    "        # strlow[4:3:-1] + strlow[3:5] = 'e' + 'de' = 'e-d-e'\n",
    "        # strlow[4:4:-1] + strlow[4:5] = '' + 'e' = 'e'\n",
    "\n",
    "\n",
    "print_rangoli(5)\n",
    "'''\n",
    "--------e--------\n",
    "------e-d-e------\n",
    "----e-d-c-d-e----\n",
    "--e-d-c-b-c-d-e--\n",
    "e-d-c-b-a-b-c-d-e\n",
    "--e-d-c-b-c-d-e--\n",
    "----e-d-c-d-e----\n",
    "------e-d-e------\n",
    "--------e--------\n",
    "'''\n",
    "\n",
    "# print(len(\"----c----\")) # 3 > 9\n",
    "# print(len(\"--------e--------\")) # 5 > 17\n",
    "# print(len(\"------------------j------------------\")) # 10 > 37\n"
   ]
  },
  {
   "cell_type": "markdown",
   "metadata": {},
   "source": [
    "# String Formatting"
   ]
  },
  {
   "cell_type": "code",
   "execution_count": null,
   "metadata": {},
   "outputs": [],
   "source": [
    "# print(bin(12)) # 0b1100\n",
    "# print(bin(12)[2:]) # 1100\n",
    "# print(0b1100[2:])\n"
   ]
  },
  {
   "cell_type": "code",
   "execution_count": null,
   "metadata": {},
   "outputs": [],
   "source": [
    "def print_formatted(n): # n = 17\n",
    "    for i in range(1, n + 1):\n",
    "        print(\" \".join(map(lambda string: string.rjust(len(bin(n)[2:]), ' '), [str(i), oct(i)[2:], hex(i)[2:].upper(), bin(i)[2:]])))\n",
    "print_formatted(5)\n",
    "\n",
    "'''\n",
    "decimal octal hexa binary\n",
    "    1     1     1     1\n",
    "    2     2     2    10\n",
    "    3     3     3    11\n",
    "    4     4     4   100\n",
    "    5     5     5   101\n",
    "    6     6     6   110\n",
    "    7     7     7   111\n",
    "    8    10     8  1000\n",
    "    9    11     9  1001\n",
    "   10    12     A  1010\n",
    "   11    13     B  1011\n",
    "   12    14     C  1100\n",
    "   13    15     D  1101\n",
    "   14    16     E  1110\n",
    "   15    17     F  1111\n",
    "   16    20    10 10000\n",
    "   17    21    11 10001\n",
    "'''"
   ]
  },
  {
   "cell_type": "code",
   "execution_count": null,
   "metadata": {},
   "outputs": [],
   "source": [
    "if __name__ == '__main__':\n",
    "    n = int(input())\n",
    "    print_formatted(n)"
   ]
  },
  {
   "cell_type": "markdown",
   "metadata": {},
   "source": [
    "# Designer door mat"
   ]
  },
  {
   "cell_type": "code",
   "execution_count": null,
   "metadata": {},
   "outputs": [],
   "source": [
    "row , col = map(int,input().split())\n",
    "pattern = '.|.'\n",
    "space = '-'\n",
    "text = 'WELCOME'\n",
    "for i in range(row//2):\n",
    "    print((pattern*(2*i+1)).center(col,space))\n"
   ]
  },
  {
   "cell_type": "code",
   "execution_count": null,
   "metadata": {},
   "outputs": [],
   "source": [
    "print(text.center(col,space))\n"
   ]
  },
  {
   "cell_type": "code",
   "execution_count": null,
   "metadata": {},
   "outputs": [],
   "source": [
    "\n",
    "for i in reversed(range(row//2)):\n",
    "    print((pattern*(2*i+1)).center(col,space))\n"
   ]
  },
  {
   "cell_type": "markdown",
   "metadata": {},
   "source": [
    "# Text Alignment"
   ]
  },
  {
   "cell_type": "markdown",
   "metadata": {},
   "source": [
    "You are given a partial code that is used for generating the HackerRank Logo of variable thickness.\n",
    "\n",
    "Your task is to replace the blank (______) with rjust, ljust or center.\n"
   ]
  },
  {
   "cell_type": "code",
   "execution_count": null,
   "metadata": {},
   "outputs": [],
   "source": [
    "# Replace all ______ with rjust, ljust or center.\n",
    "# This must be an odd number\n",
    "ip = int(input())\n",
    "ch = 'H'"
   ]
  },
  {
   "cell_type": "code",
   "execution_count": null,
   "metadata": {},
   "outputs": [],
   "source": [
    "# Top cone ..\n",
    "'''\n",
    "    H    . 4 space - 1 H - 4 space\n",
    "   HHH   . 3 space - 3 H - 3 space\n",
    "  HHHHH  . 2 space - 5 H - 2 space\n",
    " HHHHHHH . 1 space - 7 H - 1 space\n",
    "HHHHHHHHH. 0 space - 9 H - 0 space\n",
    "'''\n",
    "for i in range(ip):  # 0,1,2,3,4\n",
    "    print((ch*i).rjust(ip-1) + ch + (ch*i).ljust(ip-1))\n"
   ]
  },
  {
   "cell_type": "code",
   "execution_count": null,
   "metadata": {},
   "outputs": [],
   "source": [
    "# Top pillars ..\n",
    "'''\n",
    "2 space - 5 H - 3 space + 12 space - 5 H - 13 space\n",
    "  HHHHH               HHHHH             .\n",
    "  HHHHH               HHHHH             .\n",
    "  HHHHH               HHHHH             .\n",
    "  HHHHH               HHHHH             .\n",
    "  HHHHH               HHHHH             .\n",
    "  HHHHH               HHHHH             .\n",
    "'''\n",
    "for i in range(ip+1):  # 0,1,2,3,4,5\n",
    "    print((ch*ip).center(ip*2)+(ch*ip).center(ip*6))\n"
   ]
  },
  {
   "cell_type": "code",
   "execution_count": null,
   "metadata": {},
   "outputs": [],
   "source": [
    "# Middle Belt ..\n",
    "'''\n",
    "2 space - 25 H - 3 space\n",
    "  HHHHHHHHHHHHHHHHHHHHHHHHH   .\n",
    "  HHHHHHHHHHHHHHHHHHHHHHHHH   .\n",
    "  HHHHHHHHHHHHHHHHHHHHHHHHH   .\n",
    "'''\n",
    "for i in range(ip//2+1):  # 0,1,2\n",
    "    print((ch*5*ip).center(ip*6))\n"
   ]
  },
  {
   "cell_type": "code",
   "execution_count": null,
   "metadata": {},
   "outputs": [],
   "source": [
    "# Buttom pillars ..\n",
    "'''\n",
    "2 space - 5 H - 3 space + 12 space - 5 H - 13 space\n",
    "  HHHHH               HHHHH             .\n",
    "  HHHHH               HHHHH             .\n",
    "  HHHHH               HHHHH             .\n",
    "  HHHHH               HHHHH             .\n",
    "  HHHHH               HHHHH             .\n",
    "  HHHHH               HHHHH             .\n",
    "'''\n",
    "for i in range(ip+1):  # 0,1,2,3,4,5\n",
    "    print((ch*ip).center(ip*2)+(ch*ip).center(ip*6))\n"
   ]
  },
  {
   "cell_type": "code",
   "execution_count": null,
   "metadata": {},
   "outputs": [],
   "source": [
    "# Buttom cone ..\n",
    "'''\n",
    "                    HHHHHHHHH . 20 space - 9 H - 1 space\n",
    "                     HHHHHHH  . 21 space - 7 H - 2 space\n",
    "                      HHHHH   . 22 space - 5 H - 3 space\n",
    "                       HHH    . 23 space - 3 H - 4 space\n",
    "                        H     . 24 space - 1 H - 5 space\n",
    "'''\n",
    "for i in range(ip-1, -1, -1):  # 4,3,2,1,0\n",
    "    print(((ch*i).rjust(ip) + ch + (ch*i).ljust(ip)).rjust(ip*6))"
   ]
  },
  {
   "cell_type": "code",
   "execution_count": null,
   "metadata": {},
   "outputs": [],
   "source": [
    "# for i in reversed(range(ip)):\n",
    "#   print(((ch*i).rjust(ip)+ ch + (ch*i).ljust(ip)).rjust(ip*6))\n",
    "\n",
    "\n",
    "# output .....\n",
    "'''\n",
    "input = 5\n",
    "    H    .\n",
    "   HHH   .\n",
    "  HHHHH  .\n",
    " HHHHHHH .\n",
    "HHHHHHHHH.\n",
    "  HHHHH               HHHHH              .\n",
    "  HHHHH               HHHHH              .\n",
    "  HHHHH               HHHHH              .\n",
    "  HHHHH               HHHHH              .\n",
    "  HHHHH               HHHHH              .\n",
    "  HHHHH               HHHHH              .\n",
    "  HHHHHHHHHHHHHHHHHHHHHHHHH   .\n",
    "  HHHHHHHHHHHHHHHHHHHHHHHHH   .\n",
    "  HHHHHHHHHHHHHHHHHHHHHHHHH   .\n",
    "  HHHHH               HHHHH              .\n",
    "  HHHHH               HHHHH              .\n",
    "  HHHHH               HHHHH              .\n",
    "  HHHHH               HHHHH              .\n",
    "  HHHHH               HHHHH              .\n",
    "  HHHHH               HHHHH              .\n",
    "                    HHHHHHHHH .\n",
    "                     HHHHHHH  .\n",
    "                      HHHHH   .\n",
    "                       HHH    .\n",
    "                        H     .\n",
    "'''\n"
   ]
  },
  {
   "cell_type": "markdown",
   "metadata": {},
   "source": [
    "# Text Wrap"
   ]
  },
  {
   "cell_type": "code",
   "execution_count": null,
   "metadata": {},
   "outputs": [],
   "source": [
    "# import textwrap as tw\n",
    "# s = '''\\\n",
    "#     Hello\n",
    "#     world\n",
    "# '''\n",
    "# print(tw.indent(s, '+ ', lambda line: True))\n",
    "'''\n",
    "+ hello+\n",
    "+\n",
    "+ world\n",
    "'''"
   ]
  },
  {
   "cell_type": "code",
   "execution_count": null,
   "metadata": {},
   "outputs": [],
   "source": [
    "import textwrap as tw\n"
   ]
  },
  {
   "cell_type": "code",
   "execution_count": null,
   "metadata": {},
   "outputs": [],
   "source": [
    "def wrap(string, max_width):\n",
    "    new_str = tw.fill(string,max_width)\n",
    "    return new_str\n",
    "if __name__ == '__main__':\n",
    "    string, max_width = input(), int(input())\n",
    "    result = wrap(string, max_width)\n",
    "    print(result)\n"
   ]
  },
  {
   "cell_type": "markdown",
   "metadata": {},
   "source": [
    "# String Validators"
   ]
  },
  {
   "cell_type": "code",
   "execution_count": null,
   "metadata": {},
   "outputs": [],
   "source": [
    "def is_alnum(string):\n",
    "    for i in range(len(string)):\n",
    "        if string[i].isalnum():\n",
    "            return True\n",
    "    return False\n",
    "\n",
    "def is_alpha(string):\n",
    "    for i in range(len(string)):\n",
    "        if string[i].isalpha():\n",
    "            return True\n",
    "    return False\n",
    "\n",
    "def is_digit(string):\n",
    "    for i in range(len(string)):\n",
    "        if string[i].isdigit():\n",
    "            return True\n",
    "    return False\n",
    "\n",
    "def is_lower(string):\n",
    "    for i in range(len(string)):\n",
    "        if string[i].islower():\n",
    "            return True\n",
    "    return False\n",
    "\n",
    "def is_upper(string):\n",
    "    for i in range(len(string)):\n",
    "        if string[i].isupper():\n",
    "            return True\n",
    "    return False"
   ]
  },
  {
   "cell_type": "code",
   "execution_count": null,
   "metadata": {},
   "outputs": [],
   "source": [
    "if __name__ == '__main__':\n",
    "    s = 'qA2'\n",
    "    print(is_alnum(s))\n",
    "    print(is_alpha(s))\n",
    "    print(is_digit(s))\n",
    "    print(is_lower(s))\n",
    "    print(is_upper(s))"
   ]
  },
  {
   "cell_type": "markdown",
   "metadata": {},
   "source": [
    "# Mutable and Immutable Objects"
   ]
  },
  {
   "cell_type": "code",
   "execution_count": null,
   "metadata": {},
   "outputs": [],
   "source": [
    "def mutate_string(string, position, character):\n",
    "    ls = list(string)\n",
    "    ls[position] = character\n",
    "    string = ''.join(ls)\n",
    "    return string\n",
    "\n",
    "if __name__ == '__main__':\n",
    "    s = input()\n",
    "    i, c = input().split()\n",
    "    s_new = mutate_string(s, int(i), c)\n",
    "    print(s_new)"
   ]
  },
  {
   "cell_type": "markdown",
   "metadata": {},
   "source": [
    "# what is your name?"
   ]
  },
  {
   "cell_type": "code",
   "execution_count": null,
   "metadata": {},
   "outputs": [],
   "source": [
    "# Complete the 'print_full_name' function below.\n",
    "#\n",
    "# The function is expected to return a STRING.\n",
    "# The function accepts following parameters:\n",
    "#  1. STRING first\n",
    "#  2. STRING last\n",
    "# output : Hello Ross Taylor! You just delved into python."
   ]
  },
  {
   "cell_type": "code",
   "execution_count": null,
   "metadata": {},
   "outputs": [],
   "source": [
    "def print_full_name(first, last):\n",
    "    print(f'Hello {first} {last}! You just delved into python.')\n",
    "\n",
    "if __name__ == '__main__':\n",
    "    first_name = input()\n",
    "    last_name = input()\n",
    "    print_full_name(first_name, last_name)"
   ]
  },
  {
   "cell_type": "markdown",
   "metadata": {},
   "source": [
    "# Split and Join"
   ]
  },
  {
   "cell_type": "code",
   "execution_count": null,
   "metadata": {},
   "outputs": [],
   "source": [
    "#-- Split: Split a string into a list\n",
    "#-- Join: Join a list into a string"
   ]
  },
  {
   "cell_type": "code",
   "execution_count": null,
   "metadata": {},
   "outputs": [],
   "source": [
    "def split_join(line):\n",
    "    line = line.split()\n",
    "    line = '-'.join(line)\n",
    "    return line\n",
    "\n",
    "if __name__ == '__main__':\n",
    "    print(split_join(\"Hello Rio 'rIo'\"))"
   ]
  },
  {
   "cell_type": "markdown",
   "metadata": {},
   "source": [
    "# Swap Case"
   ]
  },
  {
   "cell_type": "code",
   "execution_count": null,
   "metadata": {},
   "outputs": [],
   "source": [
    "def swap_case(s):\n",
    "    return s.swapcase()\n",
    "\n",
    "#-- Main --#\n",
    "if __name__ == '__main__':\n",
    "    print(swap_case(\"HelLo RiO 'rIo'\"))"
   ]
  },
  {
   "cell_type": "markdown",
   "metadata": {},
   "source": [
    "# Finding the percentage"
   ]
  },
  {
   "cell_type": "code",
   "execution_count": null,
   "metadata": {},
   "outputs": [],
   "source": [
    "n = int(input())\n",
    "student_marks = {}\n",
    "for _ in range(n):\n",
    "    name, *line = input().split()\n",
    "    scores = list(map(float, line))\n",
    "    student_marks[name] = scores\n",
    "query_name = input()\n",
    "# average ..\n",
    "print(f\"{sum(student_marks[query_name])/len(student_marks[query_name]):.2f}\")\n"
   ]
  },
  {
   "cell_type": "markdown",
   "metadata": {},
   "source": [
    "# Lists"
   ]
  },
  {
   "cell_type": "code",
   "execution_count": null,
   "metadata": {},
   "outputs": [],
   "source": [
    "N = int(input())\n",
    "command=[]\n",
    "for i in range(N):\n",
    "    command.append(input().split())\n",
    "\n",
    "result = []\n",
    "\n",
    "for i in range(N):\n",
    "    if command[i][0] == 'insert':\n",
    "        result.insert(int(command[i][1], int(command[i][2])))\n",
    "    \n",
    "    elif command[i][0] == 'print':\n",
    "        print(result)\n",
    "\n",
    "    elif command[i][0] == 'remove':\n",
    "        result.remove(int(command[i][1]))\n",
    "    \n",
    "    elif command[i][0] == 'append':\n",
    "        result.append(int(command[i][1]))\n",
    "\n",
    "    elif command[i][0] == 'sort':\n",
    "        result.sort()\n",
    "\n",
    "    elif command[i][0] == 'pop':\n",
    "        result.pop()\n",
    "    \n",
    "    elif command[i][0] == 'reverse':\n",
    "        result.reverse()"
   ]
  },
  {
   "cell_type": "markdown",
   "metadata": {},
   "source": [
    "# runner up score"
   ]
  },
  {
   "cell_type": "markdown",
   "metadata": {},
   "source": [
    "how take five elements from user using map function"
   ]
  },
  {
   "cell_type": "code",
   "execution_count": null,
   "metadata": {},
   "outputs": [],
   "source": [
    "n = int(input())\n",
    "arr = list(map(int, input().split()))[:n]\n",
    "arr.sort()\n",
    "for i in arr[::-1]: \n",
    "    if i < max(arr):\n",
    "        print(i)\n",
    "        break"
   ]
  },
  {
   "cell_type": "markdown",
   "metadata": {},
   "source": [
    "# list comprehension"
   ]
  },
  {
   "cell_type": "code",
   "execution_count": null,
   "metadata": {},
   "outputs": [],
   "source": [
    "x= int(input())\n",
    "y = int(input())\n",
    "z= int(input())\n",
    "n= int(input())\n",
    "ls = [[a,b,c] for a in range(x+1) for b in range(y+1) for c in range(z+1) if a+b+c != n]\n",
    "print(ls)"
   ]
  },
  {
   "cell_type": "markdown",
   "metadata": {},
   "source": [
    "# Itertools.combinations_with_replacement"
   ]
  },
  {
   "cell_type": "markdown",
   "metadata": {},
   "source": [
    "'''\n",
    "take input with split space\n",
    "EX: hack 22\n",
    "use function sorted to sort first part in input\n",
    "Ex: hack\n",
    "for \n",
    "'''"
   ]
  },
  {
   "cell_type": "code",
   "execution_count": null,
   "metadata": {},
   "outputs": [],
   "source": [
    "\n",
    "from itertools import combinations_with_replacement\n",
    "\n",
    "str,rep = input().split() # s = hack , k = 2\n",
    "print(str) # hack \n",
    "\n",
    "rep = int(rep) # convert k (str) to int\n",
    "\n",
    "str = [x for x in str] # convert s (str) to list\n",
    "print('befor sort:',str) # ['h', 'a', 'c', 'k']\n",
    "str.sort() # sort ascending order of elements\n",
    "print('after sort:',str) # ['a', 'c', 'h', 'k']\n",
    "\n",
    "lst = list(combinations_with_replacement(str,rep)) # create list l from combinations_with_replacement method \n",
    "print('befor l:',lst) # [('a', 'a'), ('a', 'c'), ('a', 'h'), ('a', 'k'), ('c', 'c'), ('c', 'h'), ('c', 'k'), ('h', 'h'), ('h', 'k'), ('k', 'k')]\n",
    "lst.sort() # sort ascending order of elements\n",
    "print('after l:',lst) # [('a', 'a'), ('a', 'c'), ('a', 'h'), ('a', 'k'), ('c', 'c'), ('c', 'h'), ('c', 'k'), ('h', 'h'), ('h', 'k'), ('k', 'k')]\n",
    "\n",
    "for i in lst: # loop through l \n",
    "    str = '' # create empty string s\n",
    "    print('s in loop 1:',str) # s in loop 1:\n",
    "\n",
    "    for rep in i: # loop through i \n",
    "        str+=rep # add k to s string \n",
    "        print('s in loop 2:',str) \n",
    "        '''\n",
    "        a\n",
    "        aa\n",
    "        a\n",
    "        ac\n",
    "        a\n",
    "        ah\n",
    "        a\n",
    "        ak\n",
    "        c\n",
    "        cc\n",
    "        c\n",
    "        ch\n",
    "        c\n",
    "        ck\n",
    "        h\n",
    "        hh\n",
    "        h\n",
    "        hk\n",
    "        k\n",
    "        kk\n",
    "        '''\n",
    "    print(str)\n",
    "    '''\n",
    "    aa\n",
    "    ac\n",
    "    ah\n",
    "    ak\n",
    "    cc\n",
    "    ch\n",
    "    ck\n",
    "    hh\n",
    "    hk\n",
    "    kk\n",
    "    '''"
   ]
  },
  {
   "cell_type": "markdown",
   "metadata": {},
   "source": [
    "# write the function to find leap year"
   ]
  },
  {
   "cell_type": "code",
   "execution_count": null,
   "metadata": {},
   "outputs": [],
   "source": [
    "'''\n",
    "find leap year\n",
    "year % 4 == 0 and year % 100 != 0 or year % 400 == 0\n",
    "'''"
   ]
  },
  {
   "cell_type": "code",
   "execution_count": null,
   "metadata": {},
   "outputs": [],
   "source": [
    "def is_leap(year):\n",
    "    leap = False\n",
    "    \n",
    "    # Write your logic here\n",
    "    if year % 4 == 0 and year % 100 != 0 or year % 400 == 0:\n",
    "        leap = True\n",
    "    return leap\n",
    "\n",
    "year = int(input())\n",
    "print(is_leap(year))"
   ]
  },
  {
   "cell_type": "markdown",
   "metadata": {},
   "source": [
    "# Loops"
   ]
  },
  {
   "cell_type": "code",
   "execution_count": null,
   "metadata": {},
   "outputs": [],
   "source": [
    "'''\n",
    "The provided code stub reads and integer ,n  , from STDIN. For all non-negative integers i < n , print i**2. \n",
    "'''"
   ]
  },
  {
   "cell_type": "code",
   "execution_count": null,
   "metadata": {},
   "outputs": [],
   "source": [
    "if __name__ == '__main__':\n",
    "    n = int(input())\n",
    "    while n > 0:\n",
    "        for i in range(n):\n",
    "            print(i**2)\n",
    "        break"
   ]
  },
  {
   "cell_type": "markdown",
   "metadata": {},
   "source": [
    "# Add Commas and Underscore to a number"
   ]
  },
  {
   "cell_type": "code",
   "execution_count": null,
   "metadata": {},
   "outputs": [],
   "source": [
    "'''\n",
    "if 3 digit number , not need to add comma and underscore\n",
    "if 6 digit number, put underscore after 3 digit number\n",
    "if 9 digit number, put comma after 3 digit number and underscore after 6 digit number\n",
    "\n",
    "steps:\n",
    "take a number as input\n",
    "convert it to string into list\n",
    "count qual last 3 digits to insert underscore\n",
    "through loop from count - 3 digits to beginning number\n",
    "insert comma after 3 digit number\n",
    "'''"
   ]
  },
  {
   "cell_type": "code",
   "execution_count": null,
   "metadata": {},
   "outputs": [],
   "source": [
    "def addCommasAndUnderscore(num):\n",
    "    if len(str(num)) > 3:\n",
    "        ls = list(str(num))\n",
    "        count = len(ls) - 3 # 4\n",
    "        ls.insert(count,'_')\n",
    "        if count > 3 :\n",
    "            for _ in ls[count-3::-3]:\n",
    "                count -= 3\n",
    "                if count != 0:\n",
    "                    ls.insert(count,',')\n",
    "                    \n",
    "            return ''.join(ls)\n",
    "        return ''.join(ls)\n",
    "    return num\n",
    "\n",
    "print(addCommasAndUnderscore(15))\n",
    "print(addCommasAndUnderscore(155))\n",
    "print(addCommasAndUnderscore(15555))\n",
    "print(addCommasAndUnderscore(1254345567556489))\n"
   ]
  },
  {
   "cell_type": "markdown",
   "metadata": {},
   "source": [
    "Another way"
   ]
  },
  {
   "cell_type": "code",
   "execution_count": null,
   "metadata": {},
   "outputs": [],
   "source": [
    "def addCommasAndUnderscore(num):\n",
    "    formatted = f'{num:,}'\n",
    "    if len(formatted) > 3:\n",
    "        to_list = formatted.split(',')\n",
    "        first_part = to_list[:-1]\n",
    "        first_join= int(''.join(first_part))\n",
    "        first_format = f'{first_join:,}'\n",
    "        res = f'{first_format}_{to_list[-1]}'\n",
    "        return res\n",
    "    return formatted\n",
    "\n",
    "print(addCommasAndUnderscore(15))\n",
    "print(addCommasAndUnderscore(155))\n",
    "print(addCommasAndUnderscore(15555))\n",
    "print(addCommasAndUnderscore(1254345567556489))"
   ]
  },
  {
   "cell_type": "markdown",
   "metadata": {},
   "source": [
    "# remove duplicate from string "
   ]
  },
  {
   "cell_type": "code",
   "execution_count": null,
   "metadata": {},
   "outputs": [],
   "source": [
    "'''\n",
    "take a string as input\n",
    "split the string as list\n",
    "filter the list to remove duplicate\n",
    "return the list as string after joining the list\n",
    "'''"
   ]
  },
  {
   "cell_type": "code",
   "execution_count": null,
   "metadata": {},
   "outputs": [],
   "source": [
    "def removeDuplicate(string):\n",
    "    words = list(string.split()) # ['hello', 'hello', 'rio', 'rio']\n",
    "    for word in words:\n",
    "        if word in words:\n",
    "            words.remove(word)\n",
    "    return \" \".join(words)\n",
    "\n",
    "print(removeDuplicate(\"hello hello rio rio \"))"
   ]
  },
  {
   "cell_type": "markdown",
   "metadata": {},
   "source": [
    "Another way"
   ]
  },
  {
   "cell_type": "code",
   "execution_count": null,
   "metadata": {},
   "outputs": [],
   "source": [
    "def remove_duplicate_words_from(sentence):\n",
    "  words_list = sentence.split(\" \")\n",
    "  result = []\n",
    "  for word in words_list:\n",
    "    if word not in result:\n",
    "      result.append(word)\n",
    "  return \" \".join(result)\n",
    "\n",
    "# Testing Ouput\n",
    "print(remove_duplicate_words_from(\"Hello Elzero Web Web Hello School\"))"
   ]
  },
  {
   "cell_type": "markdown",
   "metadata": {},
   "source": [
    "Another way"
   ]
  },
  {
   "cell_type": "code",
   "execution_count": null,
   "metadata": {},
   "outputs": [],
   "source": [
    "def remove_duplicate_words_from(sentence):\n",
    "  words_list = sentence.split(\" \")\n",
    "  unique_only = list(dict.fromkeys(words_list)) # not duplicate words\n",
    "  final_result = \" \".join(unique_only)\n",
    "  return final_result\n",
    "\n",
    "# Testing Ouput\n",
    "print(remove_duplicate_words_from(\"Hello Elzero Web Web Hello School\"))\n",
    "# Hello Elzero Web School"
   ]
  },
  {
   "cell_type": "markdown",
   "metadata": {},
   "source": [
    "Another way"
   ]
  },
  {
   "cell_type": "code",
   "execution_count": null,
   "metadata": {},
   "outputs": [],
   "source": [
    "def remove_duplicate_words_from(sentence):\n",
    "  return \" \".join(list(dict.fromkeys(sentence.split(\" \"))))\n",
    "\n",
    "# Testing Ouput\n",
    "print(remove_duplicate_words_from(\"Hello Elzero Web Web Hello School\"))\n",
    "# Hello Elzero Web School\n"
   ]
  },
  {
   "cell_type": "markdown",
   "metadata": {},
   "source": [
    "# Remove a character from a string"
   ]
  },
  {
   "cell_type": "code",
   "execution_count": null,
   "metadata": {},
   "outputs": [],
   "source": [
    "'''\n",
    "take char and string as input\n",
    "looop through the string\n",
    "if i == char lower or upper\n",
    "remove it from the string\n",
    "return the string\n",
    "'''"
   ]
  },
  {
   "cell_type": "code",
   "execution_count": null,
   "metadata": {},
   "outputs": [],
   "source": [
    "def removeCharFrom(string,char):\n",
    "    for c in string:\n",
    "        if c == char.lower() or c == char.upper():\n",
    "            string = string.replace(c,\"\")\n",
    "    return string\n",
    "\n",
    "print(removeCharFrom(\"kHellkkKKKKkkko wokKkrldkk \",'k'))"
   ]
  },
  {
   "cell_type": "code",
   "execution_count": null,
   "metadata": {},
   "outputs": [],
   "source": [
    "print(removeCharFrom(\"FHellffFFFFFo woFFFFFrldFFF \",'f'))"
   ]
  },
  {
   "cell_type": "code",
   "execution_count": null,
   "metadata": {},
   "outputs": [],
   "source": [
    "print(removeCharFrom(\"Hell@@@@@@@@@o wo@@@@rld@@@ \",'@'))"
   ]
  },
  {
   "cell_type": "markdown",
   "metadata": {},
   "source": [
    "another way"
   ]
  },
  {
   "cell_type": "code",
   "execution_count": null,
   "metadata": {},
   "outputs": [],
   "source": [
    "def remove_char_from(word, c):\n",
    "  word_without_char = []\n",
    "  for char in word:\n",
    "    if char != c.lower() and char != c.upper():\n",
    "      word_without_char.append(char) \n",
    "  return \"\".join(word_without_char)"
   ]
  },
  {
   "cell_type": "markdown",
   "metadata": {},
   "source": [
    "another way"
   ]
  },
  {
   "cell_type": "code",
   "execution_count": null,
   "metadata": {},
   "outputs": [],
   "source": [
    "def remove_char_from(word, c):\n",
    "    return ''.join(filter(lambda x: x != c.upper() and x != c.lower() , word))\n",
    "\n",
    "# Testing Ouput\n",
    "print(remove_char_from(\"ElddzeroD WebDD ddSchool\", \"d\"))  # Elzero Web School"
   ]
  },
  {
   "cell_type": "code",
   "execution_count": null,
   "metadata": {},
   "outputs": [],
   "source": [
    "print(remove_char_from(\"ElxzeroX Web Sxchool\", \"x\"))  # Elzero Web School"
   ]
  },
  {
   "cell_type": "code",
   "execution_count": null,
   "metadata": {},
   "outputs": [],
   "source": [
    "print(remove_char_from(\"Elzero@ Web@@ @@School\", \"@\"))  # Elzero Web School"
   ]
  },
  {
   "cell_type": "markdown",
   "metadata": {},
   "source": [
    "# Longest Word in"
   ]
  },
  {
   "cell_type": "code",
   "execution_count": null,
   "metadata": {},
   "outputs": [],
   "source": [
    "'''\n",
    "take a string as input\n",
    "split the string \n",
    "loop through the string\n",
    "set longest word is first word\n",
    "check if current word is longer than first word\n",
    "set longest word to current word\n",
    "'''"
   ]
  },
  {
   "cell_type": "code",
   "execution_count": null,
   "metadata": {},
   "outputs": [],
   "source": [
    "def longestWord(string):\n",
    "    ls = list(string.split())\n",
    "    longest = ls[0]\n",
    "    for word in ls:\n",
    "        if len(word) > len(longest):\n",
    "            longest = word\n",
    "    return longest\n",
    "\n",
    "print(longestWord(\"The quick brown fox jumps over the lazzzzzzzzzzy dog\"))"
   ]
  },
  {
   "cell_type": "markdown",
   "metadata": {},
   "source": [
    "another way"
   ]
  },
  {
   "cell_type": "code",
   "execution_count": null,
   "metadata": {},
   "outputs": [],
   "source": [
    "def longest_word_in(sentence):\n",
    "  count = 0\n",
    "  words_list = sentence.split(\" \")\n",
    "  for word in words_list:\n",
    "    if len(word) > count:\n",
    "      count = len(word)\n",
    "      longest = word\n",
    "  return longest"
   ]
  },
  {
   "cell_type": "markdown",
   "metadata": {},
   "source": [
    "another way"
   ]
  },
  {
   "cell_type": "code",
   "execution_count": null,
   "metadata": {},
   "outputs": [],
   "source": [
    "def longest_word_in(sentence):\n",
    "  longest = \"\"\n",
    "  words_list = sentence.split(\" \")\n",
    "  for word in words_list:\n",
    "    if len(word) > len(longest):\n",
    "      longest = word\n",
    "  return longest\n",
    "\n",
    "# Testing Ouput\n",
    "print(longest_word_in(\"In Programming We Love Elzero Academy Tooooooooooo Much\")) # Tooooooooooo"
   ]
  },
  {
   "cell_type": "markdown",
   "metadata": {},
   "source": [
    "# Number to Reversed List"
   ]
  },
  {
   "cell_type": "markdown",
   "metadata": {},
   "source": [
    "sudo code"
   ]
  },
  {
   "cell_type": "code",
   "execution_count": null,
   "metadata": {},
   "outputs": [],
   "source": [
    "'''\n",
    "take numbers 123456789 \n",
    "reverse them to 987654321\n",
    "convert them to list\n",
    "'''"
   ]
  },
  {
   "cell_type": "code",
   "execution_count": null,
   "metadata": {},
   "outputs": [],
   "source": [
    "def numberToReversedList(numbers):\n",
    "    res = list(int(n) for n in str(numbers))\n",
    "    res.reverse()\n",
    "    return res\n",
    "\n",
    "print(numberToReversedList(123456789))"
   ]
  },
  {
   "cell_type": "markdown",
   "metadata": {},
   "source": [
    "another way"
   ]
  },
  {
   "cell_type": "code",
   "execution_count": null,
   "metadata": {},
   "outputs": [],
   "source": [
    "def convert(n):\n",
    "    # Convert To String\n",
    "    st = str(n)\n",
    "    # Create Empty List\n",
    "    result = []\n",
    "    # Loop On String Contains The Numbers\n",
    "    for num in st:\n",
    "        # Append Every Number To Empty List\n",
    "        result.append(int(num))\n",
    "    # Reverse The List\n",
    "    result.reverse()\n",
    "    return result\n",
    "\n",
    "\n",
    "print(convert(564987654))  # [4, 5, 6, 7, 8, 9, 4, 6, 5]"
   ]
  },
  {
   "cell_type": "code",
   "execution_count": null,
   "metadata": {},
   "outputs": [],
   "source": [
    "print(convert(529132))  # [2, 3, 1, 9, 2, 5]"
   ]
  },
  {
   "cell_type": "markdown",
   "metadata": {},
   "source": [
    "another way"
   ]
  },
  {
   "cell_type": "code",
   "execution_count": null,
   "metadata": {},
   "outputs": [],
   "source": [
    "def convert(n):\n",
    "    # Create Empty List\n",
    "    result = []\n",
    "    # Loop On String Contains The Numbers\n",
    "    for num in str(n):\n",
    "        # Append Every Number To Empty List At Position 0\n",
    "        result.insert(0, int(num))\n",
    "    return result\n",
    "\n",
    "print(convert(564987654))  # [4, 5, 6, 7, 8, 9, 4, 6, 5]"
   ]
  },
  {
   "cell_type": "code",
   "execution_count": null,
   "metadata": {},
   "outputs": [],
   "source": [
    "print(convert(529132))  # [2, 3, 1, 9, 2, 5]"
   ]
  },
  {
   "cell_type": "markdown",
   "metadata": {},
   "source": [
    "another way"
   ]
  },
  {
   "cell_type": "code",
   "execution_count": null,
   "metadata": {},
   "outputs": [],
   "source": [
    "def convert(n):\n",
    "    return [int(num) for num in str(n)[::-1]]\n",
    "\n",
    "# int(num) => Make num Integer\n",
    "# str(n) => Convert n To String\n",
    "# [::-1] => Slicing Backwards\n",
    "\n",
    "\n",
    "print(convert(564987654))  # [4, 5, 6, 7, 8, 9, 4, 6, 5]"
   ]
  },
  {
   "cell_type": "code",
   "execution_count": null,
   "metadata": {},
   "outputs": [],
   "source": [
    "print(convert(529132))  # [2, 3, 1, 9, 2, 5]"
   ]
  },
  {
   "cell_type": "markdown",
   "metadata": {},
   "source": [
    "# Find Missing Letter in Sequence"
   ]
  },
  {
   "cell_type": "markdown",
   "metadata": {},
   "source": [
    "sudo code"
   ]
  },
  {
   "cell_type": "code",
   "execution_count": null,
   "metadata": {},
   "outputs": [],
   "source": [
    "'''\n",
    "import string to retrun => 'abcdefghijklmnopqrstuvwxyz'\n",
    "def findMissingLetter(list):\n",
    "    loop zip(string.ascii_lowercase, list)\n",
    "    if string.ascii_lowercase[i] != list[i]:\n",
    "        return string.ascii_lowercase[i]\n",
    "'''"
   ]
  },
  {
   "cell_type": "code",
   "execution_count": null,
   "metadata": {},
   "outputs": [],
   "source": [
    "import string"
   ]
  },
  {
   "cell_type": "code",
   "execution_count": null,
   "metadata": {},
   "outputs": [],
   "source": [
    "def findMissingLetter(list):\n",
    "    for i in range(len(list)):\n",
    "        if string.ascii_lowercase[i] != list[i]:\n",
    "            return string.ascii_lowercase[i]\n",
    "    return \"No Missing Letter In List\"\n",
    "    \n",
    "list = 'abcdf'\n",
    "print(findMissingLetter(list))"
   ]
  },
  {
   "cell_type": "markdown",
   "metadata": {},
   "source": [
    "another way"
   ]
  },
  {
   "cell_type": "code",
   "execution_count": null,
   "metadata": {},
   "outputs": [],
   "source": [
    "def find_missing_letter_in(givenLetters):\n",
    "  alpha = string.ascii_lowercase\n",
    "  start = alpha.index(givenLetters[0])\n",
    "  for letter in alpha[start:]:\n",
    "    if letter not in givenLetters:\n",
    "      return letter\n",
    "\n",
    "  return f\"No Missing Letter In Sequence\"\n",
    "\n",
    "print(find_missing_letter_in(\"abcdeghi\"))  # f"
   ]
  },
  {
   "cell_type": "code",
   "execution_count": null,
   "metadata": {},
   "outputs": [],
   "source": [
    "print(find_missing_letter_in(\"defgi\"))  # h"
   ]
  },
  {
   "cell_type": "code",
   "execution_count": null,
   "metadata": {},
   "outputs": [],
   "source": [
    "print(find_missing_letter_in(\"xyz\"))  # No Missing Letter In Sequence"
   ]
  },
  {
   "cell_type": "markdown",
   "metadata": {},
   "source": [
    "# Summuation of numbers"
   ]
  },
  {
   "cell_type": "markdown",
   "metadata": {},
   "source": [
    "sudo code"
   ]
  },
  {
   "cell_type": "code",
   "execution_count": null,
   "metadata": {},
   "outputs": [],
   "source": [
    "'''\n",
    "> take numbers\n",
    "> create sum = 0\n",
    "> loop through numbers\n",
    "> add summuation number and sum\n",
    "> print sum\n",
    "'''"
   ]
  },
  {
   "cell_type": "code",
   "execution_count": null,
   "metadata": {},
   "outputs": [],
   "source": [
    "inp = input(\"Enter numbers between space: \")\n",
    "sum = 0 \n",
    "for i in inp.split():\n",
    "    sum += int(i)\n",
    "print(sum)"
   ]
  },
  {
   "cell_type": "markdown",
   "metadata": {},
   "source": [
    "# Leetcode - 9 july, 2022 - Medium"
   ]
  },
  {
   "cell_type": "code",
   "execution_count": null,
   "metadata": {},
   "outputs": [],
   "source": [
    "import heapq"
   ]
  },
  {
   "cell_type": "code",
   "execution_count": null,
   "metadata": {},
   "outputs": [],
   "source": [
    "class Solution:\n",
    "    def maxResult(self, nums, k):\n",
    "        n = len(nums)\n",
    "        D = [-float('inf')] * (n)\n",
    "        # stores (D[index], index), max heap\n",
    "        heap = [(-nums[0], 0)]\n",
    "        \n",
    "        D[0] = nums[0]\n",
    "        \n",
    "        for i in range(1, n):\n",
    "            # get max D value from before k steps\n",
    "            (maxValue, index) = heap[0]\n",
    "            \n",
    "            # if maxValue is from many steps before(index we can't jump from), abandon it\n",
    "\t\t\t# O(logN)\n",
    "            while index < i - k:\n",
    "                heapq.heappop(heap)\n",
    "                (maxValue, index) = heap[0]\n",
    "            \n",
    "            D[i] = -maxValue + nums[i]\n",
    "\t\t\t# O(logN)\n",
    "            heapq.heappush(heap, (-D[i], i))\n",
    "\n",
    "        return D[n-1]\n",
    "obj2 =Solution()\n",
    "print(obj2.maxResult([1,-1,-2,4,-7,3],2))"
   ]
  },
  {
   "cell_type": "markdown",
   "metadata": {},
   "source": [
    "# Leetcode - 9 july, 2022 - Esay\n",
    "\n",
    "create Tribonacci() function "
   ]
  },
  {
   "cell_type": "code",
   "execution_count": null,
   "metadata": {},
   "outputs": [],
   "source": [
    "class Solution():\n",
    "    def Tribonacci(self,n):\n",
    "        if n == 0:\n",
    "            return 0\n",
    "        if n == 1:\n",
    "            return 1\n",
    "        if n == 2:\n",
    "            return 1\n",
    "        return self.Tribonacci(n-1) + self.Tribonacci(n-2) + self.Tribonacci(n-3)\n",
    "obj1 = Solution()\n",
    "print(obj1.Tribonacci(25))"
   ]
  },
  {
   "cell_type": "markdown",
   "metadata": {},
   "source": [
    "# Leetcode - 7 august, 2022 - Esay\n",
    "\n",
    "fibonacci()"
   ]
  },
  {
   "cell_type": "code",
   "execution_count": null,
   "metadata": {},
   "outputs": [],
   "source": [
    "class Solution(object):\n",
    "    def fib(self, n):\n",
    "        \"\"\"\n",
    "        :type n: int\n",
    "        :rtype: int\n",
    "        \"\"\"\n",
    "        if n == 0:\n",
    "            return 0\n",
    "        elif n == 1:\n",
    "            return 1\n",
    "        else:\n",
    "            return self.fib(n-1) + self.fib(n-2)\n",
    "obj1 = Solution()\n",
    "print(obj1.fib(2))\n",
    "print(obj1.fib(3))\n",
    "print(obj1.fib(4))"
   ]
  },
  {
   "cell_type": "markdown",
   "metadata": {},
   "source": [
    "# Leetcode - 7 august, 2022 - Esay"
   ]
  },
  {
   "cell_type": "code",
   "execution_count": null,
   "metadata": {},
   "outputs": [],
   "source": [
    "class Solution(object):\n",
    "    def climbStairs(self, n):\n",
    "        \"\"\"\n",
    "        :type n: int\n",
    "        :rtype: int\n",
    "        \"\"\"\n",
    "        if n == 1:\n",
    "            return 1\n",
    "        elif n == 2:\n",
    "            return 2\n",
    "        else:\n",
    "            return self.climbStairs(n-1)+self.climbStairs(n-2)\n",
    "obj1 = Solution()\n",
    "print(obj1.climbStairs(4))  "
   ]
  },
  {
   "cell_type": "markdown",
   "metadata": {},
   "source": [
    "# Leetcode - 7 august, 2022 - Hard\n",
    "\n",
    "solution Problem paint House ||| and then create method mincost(self,houses,cost,m,n,target) from calss Solution"
   ]
  },
  {
   "cell_type": "code",
   "execution_count": null,
   "metadata": {},
   "outputs": [],
   "source": [
    "class Solution(object):\n",
    "    def minCost(self, A, cost, m, n, target):\n",
    "        dp, dp2 = {(0, 0): 0}, {}\n",
    "        for i, a in enumerate(A):\n",
    "            for cj in (range(1, n + 1) if a == 0 else [a]):\n",
    "                for ci, b in dp:\n",
    "                    b2 = b + (ci != cj)\n",
    "                    if b2 > target: continue\n",
    "                    dp2[cj, b2] = min(dp2.get((cj,b2), float('inf')), dp[ci, b] + (cost[i][cj - 1] if cj != a else 0))\n",
    "            dp, dp2 = dp2, {}\n",
    "        return min([dp[c, b] for c, b in dp if b == target] or [-1])\n",
    "obj1 = Solution()\n",
    "print(obj1.minCost([0,0,0,0,0],[[1,10],[10,1],[10,1],[1,10],[5,1]],5,2,3))"
   ]
  },
  {
   "cell_type": "markdown",
   "metadata": {},
   "source": [
    "# Leetcode - 7 august, 2022 - Esay\n",
    "\n",
    "problem Two Sum\n",
    "\n",
    "create function that give array of integers nums and intger target from class solution"
   ]
  },
  {
   "cell_type": "code",
   "execution_count": null,
   "metadata": {},
   "outputs": [],
   "source": [
    "class Solution(object):\n",
    "    def twoSum(self, nums, target):\n",
    "        \"\"\"\n",
    "        :type nums: List[int]\n",
    "        :type target: int\n",
    "        :rtype: List[int]\n",
    "        \"\"\"\n",
    "        for i in range(len(nums)):\n",
    "            for j in range(i+1, len(nums)):\n",
    "                if nums[i] + nums[j] == target:\n",
    "                    return [i, j]\n",
    "obj1 = Solution()\n",
    "print(obj1.twoSum([3,2,4],6))"
   ]
  },
  {
   "cell_type": "markdown",
   "metadata": {},
   "source": [
    "# Leetcode - 7 august, 2022 - Medium\n",
    "\n",
    "create threeSum function from class solution"
   ]
  },
  {
   "cell_type": "code",
   "execution_count": null,
   "metadata": {},
   "outputs": [],
   "source": [
    "class solution():\n",
    "    def threeSum(self, nums):\n",
    "        \"\"\"\n",
    "        :type nums: List[int]\n",
    "        :rtype: List[List[int]]\n",
    "        \"\"\"\n",
    "        nums.sort()\n",
    "        result = []\n",
    "        for i in range(len(nums) - 2):\n",
    "            if i > 0 and nums[i] == nums[i - 1]:\n",
    "                continue\n",
    "            l, r = i + 1, len(nums) - 1\n",
    "            while l < r:\n",
    "                s = nums[i] + nums[l] + nums[r]\n",
    "                if s < 0:\n",
    "                    l += 1\n",
    "                elif s > 0:\n",
    "                    r -= 1\n",
    "                else:\n",
    "                    result.append([nums[i], nums[l], nums[r]])\n",
    "                    while l < r and nums[l] == nums[l + 1]:\n",
    "                        l += 1\n",
    "                    while l < r and nums[r] == nums[r - 1]:\n",
    "                        r -= 1\n",
    "                    l += 1\n",
    "                    r -= 1\n",
    "        return result\n",
    "obj1 = solution()\n",
    "print(obj1.threeSum([-1,0,1,2,-1,-4]))"
   ]
  }
 ],
 "metadata": {
  "kernelspec": {
   "display_name": "Python 3",
   "language": "python",
   "name": "python3"
  },
  "language_info": {
   "codemirror_mode": {
    "name": "ipython",
    "version": 3
   },
   "file_extension": ".py",
   "mimetype": "text/x-python",
   "name": "python",
   "nbconvert_exporter": "python",
   "pygments_lexer": "ipython3",
   "version": "3.11.4"
  },
  "orig_nbformat": 4
 },
 "nbformat": 4,
 "nbformat_minor": 2
}
