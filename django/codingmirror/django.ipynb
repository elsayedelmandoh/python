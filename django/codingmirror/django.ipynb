{
 "cells": [
  {
   "cell_type": "markdown",
   "metadata": {},
   "source": [
    "# CodingMirror "
   ]
  },
  {
   "cell_type": "markdown",
   "metadata": {},
   "source": [
    "[Course](https://www.youtube.com/playlist?list=PL2z1gXAKH9c3XUn2HYMWRbAon4z6AQ4CL)"
   ]
  },
  {
   "cell_type": "markdown",
   "metadata": {},
   "source": [
    "# 2- DjangoTutorial for Beginners _ Installation - دورة جانغو للمبتدئين _ تجهيز بيئة العمل(360P)"
   ]
  },
  {
   "cell_type": "markdown",
   "metadata": {},
   "source": [
    "+ install virtualenv in anywhere\n",
    "\n",
    "pip install virtualenv"
   ]
  },
  {
   "cell_type": "markdown",
   "metadata": {},
   "source": [
    "+ First step: create new folder for `project_name`"
   ]
  },
  {
   "cell_type": "markdown",
   "metadata": {},
   "source": [
    "+ Go to `project_name` folder to create new environment \n",
    "\n",
    "virtualenv env_name"
   ]
  },
  {
   "cell_type": "markdown",
   "metadata": {},
   "source": [
    "+ From `project_name` folder, activate env \n",
    "\n",
    "name_env\\Scripts\\activate\n",
    "\n",
    "+ From `project_name` folder, deactivate env\n",
    "\n",
    "name_env\\Scripts\\deactivate"
   ]
  },
  {
   "cell_type": "markdown",
   "metadata": {},
   "source": [
    "+ from `project_name` folder , install django\n",
    "\n",
    "pip install django"
   ]
  },
  {
   "cell_type": "markdown",
   "metadata": {},
   "source": [
    "# 3- DjangoTutorial for Beginners _ Getting Started with django- دورة جانغو للمبتدئين(360P)"
   ]
  },
  {
   "cell_type": "markdown",
   "metadata": {},
   "source": [
    "+ create project in new folder\n",
    "\n",
    "django-admin startproject project_name\n",
    "\n",
    "+ create project in current folder (add . )\n",
    "\n",
    "django-admin startproject project_name ."
   ]
  },
  {
   "cell_type": "markdown",
   "metadata": {},
   "source": [
    "files\n",
    "\n",
    "+ managr.py : usen it in run anything in project\n",
    "\n",
    "+ init : python package\n",
    "\n",
    "+ wsgi and wsgi : for deployment on online server\n",
    "\n",
    "+ settings: manage all configuration settings for project and control on database.\n",
    "\n",
    "+ urls: all links pages"
   ]
  },
  {
   "cell_type": "markdown",
   "metadata": {},
   "source": [
    "+ run server default port 8000\n",
    "\n",
    "enter on location `manage.py` file to run the server using this command\n",
    "\n",
    "python manage.py runserver\n",
    "\n",
    "--\n",
    "+ copy link port and paste in browser\n",
    "\n",
    "--\n",
    "\n",
    "+ run server on anthor port 5000 (must be not used)\n",
    "\n",
    "enter on location `manage.py` file to run the server using this command\n",
    "\n",
    "python manage.py runserver 5000\n",
    "\n"
   ]
  },
  {
   "cell_type": "markdown",
   "metadata": {},
   "source": [
    "\n",
    "+ when create server first time, automatically create `db.sqlite3` file:\n",
    "    - need migrate for columns in `db.sqlite3` file\n",
    "    - write command line: python manage.py migrate"
   ]
  },
  {
   "cell_type": "markdown",
   "metadata": {},
   "source": [
    "# 4- DjangoTutorial for Beginners _ django app- دورة جانغو للمبتدئين(360P)"
   ]
  },
  {
   "cell_type": "markdown",
   "metadata": {},
   "source": [
    "Project is contians on `more apps`\n",
    "\n",
    "project is `dicussion_board`\n",
    "\n",
    "app is `boards`"
   ]
  },
  {
   "cell_type": "markdown",
   "metadata": {},
   "source": [
    "![\"project_app\"](project_app.png)"
   ]
  },
  {
   "cell_type": "markdown",
   "metadata": {},
   "source": [
    "every `one project` contians on `more apps`"
   ]
  },
  {
   "cell_type": "markdown",
   "metadata": {},
   "source": [
    "![\"app_view_models_templates_urls\"](app_view_models_templates_urls.png)"
   ]
  },
  {
   "cell_type": "markdown",
   "metadata": {},
   "source": [
    "we create file `TEMPLATES` & `URLS`\n",
    "\n",
    "`VIEWS` control on `MODELS`, `TEMPLATES` and `URLS`"
   ]
  },
  {
   "cell_type": "markdown",
   "metadata": {},
   "source": [
    "+ To create a app for project:\n",
    "\n",
    "django-admin startapp boards\n",
    "\n",
    "+ by `manage.py` file\n",
    "\n",
    "python manage.py startapp app_name"
   ]
  },
  {
   "cell_type": "markdown",
   "metadata": {},
   "source": [
    "Now we created new app called boards: \n",
    "!['create app'](create_app.png)"
   ]
  },
  {
   "cell_type": "markdown",
   "metadata": {},
   "source": [
    "+ contian of new app `boards`\n",
    "\n",
    "    - migrations folder: control on `MODELS` of database, make tracking for any modifications\n",
    "\n",
    "    - admin.py to control admin panel for this app\n",
    "\n",
    "    - apps.py to all configurations for app\n",
    "\n",
    "    - models.py: translate database for models and each models or classes with database\n",
    "\n",
    "    - tests.py: to all tests for all functions to get any errors \n",
    "\n",
    "    - views.py to take request or report and response it "
   ]
  },
  {
   "cell_type": "markdown",
   "metadata": {},
   "source": [
    "+ after create new app we should be initalize it in main project\n",
    "\n",
    "    - so we added new_app called `boards` in `INSTALLED_APPS` list in `settings.py` file from porject `discussion board` folder\n",
    "\n",
    "    - and run server to make sure that project see app use this command\n",
    "\n",
    "    - py manage.py runserver\n",
    "\n",
    "    - ![\"define_app\"](define_app.png)"
   ]
  },
  {
   "cell_type": "markdown",
   "metadata": {},
   "source": [
    "+ display message on home page \n",
    "    - from `views.py` file in `boards` folder\n",
    "        - create funtion which make action in home page\n",
    "    - from `urls.py` file in `disussion_boards` folder\n",
    "        - import `views.py` file from `boards` folder\n",
    "        - from boards import views\n",
    "    - add url function into path of `urlpatterns` list in `urls.py` file from `disussion_boards` folder\n",
    "    - ![\"display_msg\"](display_msg.png)"
   ]
  },
  {
   "cell_type": "markdown",
   "metadata": {},
   "source": [
    "# 5- DjangoTutorial for Beginners _ our django project - دورة جانغو للمبتدئين(360P)"
   ]
  },
  {
   "cell_type": "markdown",
   "metadata": {},
   "source": [
    "![\"software_development_cycle\"](software_development_cycle.png)"
   ]
  },
  {
   "cell_type": "markdown",
   "metadata": {},
   "source": [
    "# Our project is `discussion board`"
   ]
  },
  {
   "cell_type": "markdown",
   "metadata": {},
   "source": [
    "+ 1. Main Entities: \n",
    "    - Board : contian name, description\n",
    "    - Topic : contian subject, board, created_by, created_dt\n",
    "    - Post : message, topic, created_by, created_dt\n",
    "    - User : contian username, password, created_by, created_dt\n",
    "    - ![\"classes\"](classes.png)"
   ]
  },
  {
   "cell_type": "markdown",
   "metadata": {},
   "source": [
    "# 6- DjangoTutorial for Beginners _ Install postgresql _ pgadmin4 - دورة جانغو للمبتدئين(360P)"
   ]
  },
  {
   "cell_type": "markdown",
   "metadata": {},
   "source": [
    "+ install `postgresql` package\n",
    "    - enter on link in `video 6` and click on `PostgreSQL installers on the EnterpriseDB`\n",
    "    - choose version of 64-bit\n",
    "    - after downloading \n",
    "    - open downloaded file.exe then next\n",
    "    - next\n",
    "    - mark on four components then next\n",
    "    - next \n",
    "    - create `password for postgres` then next\n",
    "    - `default port for postgresql 5432` (don't change it) then next\n",
    "    - next\n",
    "    - ready to install...\n",
    "\n",
    "    + To check installation: in search windows write sql: ![\"postgresql\"](postgresql.png)\n",
    "        - click enter for server: local server  \n",
    "        - click enter for database: postgres\n",
    "        - click enter for port: 5432\n",
    "        - click enter for username: postgres\n",
    "        - write `password postgres` which created it in previous steps when cick enter\n",
    "\n",
    "    + To check installation using `pgadmin 4` instead of terminal or command line: ![\"pgadmin\"](pgadmin.png)\n",
    "        - open psadmin then enter `password postgres`\n",
    "        - create server for postgres: ![\"server\"](server.png)\n",
    "        - in general tab enter Name: localhost\n",
    "        - in connection tab enter Host: localhost or id (127.0.0.1): ![\"pgadmin2\"](pgadmin2.png)"
   ]
  },
  {
   "cell_type": "markdown",
   "metadata": {},
   "source": [
    "+ Add new database\n",
    "    - ![\"pgadmin3\"](pgadmin3.png)\n",
    "    - in general tab enter Database: boards_django : ![\"pgadmin4\"](pgadmin4.png)"
   ]
  },
  {
   "cell_type": "markdown",
   "metadata": {},
   "source": [
    "# 7- DjangoTutorial for Beginners _ Database Configurations in django project - دورة جانغو للمبتدئين(360P)"
   ]
  },
  {
   "cell_type": "markdown",
   "metadata": {},
   "source": [
    "+ sqlite3 is default: \n",
    "     - ![\"3](3.png)\n",
    "     - convert sqlite3 to postgressql\n",
    "     - NAME : name of the database for postgres\n",
    "\n",
    "\n",
    "\n",
    "+ go to `settings.py` file from `discussion_board` folder\n",
    "     - Write type of database: `postgressql`\n",
    "     - Name of database: `boards_django`\n",
    "     - User of database for postgres: `postgres`\n",
    "     - Password of database for postgres: `000000`\n",
    "     - Host of database for postgres: `localhost`\n",
    "     - Port of database for postgres: 5432\n",
    "     - check ![\"1](1.png)\n",
    "\n",
    "+ Migration: to create tables into database\n",
    "        - open terminal in locatino project1 and run command: py manage.py migrate\n",
    "        - check tables: database_name --> schema --> tables : ![\"pgadmin5\"](pgadmin5.png)"
   ]
  },
  {
   "cell_type": "markdown",
   "metadata": {},
   "source": [
    "# 8- DjangoTutorial for Beginners _ Models - دورة جانغو للمبتدئين(360P)"
   ]
  },
  {
   "cell_type": "markdown",
   "metadata": {},
   "source": [
    "- Board : contian name, description\n",
    "- Topic : contian subject, board \"foreignkey\", created_by, created_dt\n",
    "- Post : message, topic, created_by, created_dt\n",
    "- User : contian username, password, created_by, created_dt\n",
    "- ![\"classes\"](classes.png)"
   ]
  },
  {
   "cell_type": "markdown",
   "metadata": {},
   "source": [
    "+ Convert classes to tabels\n",
    "    - open `models.py` file form `boards` folder\n",
    "    - from django.contrib.auth.models import User # to get tabel User into app \n",
    "    - Create class for each entity   \n",
    "    - django add automatically primary key, so not need define id or primary key attribute\n",
    "    - ![\"2\"](2.png)\n",
    "\n",
    "    + relation between Board and Topic is `one to many` so primary key from `Board` will be foreign key in `Topic`\n",
    "        - Board : another entity which have primary key\n",
    "        - related_name='topics'\n",
    "        - on_delete=  models.CASCADE(): to when delete topic will delete from boards too\n",
    "\n",
    "    + relation between User and Topic is `one to many` so primary key from `User` will be foreign key in `Topic` \n",
    "        - auto_now_add = add time now automatically\n",
    "\n"
   ]
  },
  {
   "cell_type": "markdown",
   "metadata": {},
   "source": [
    "+ Create tables of classes which created in `models file` :\n",
    "    - run this command: py manage.py makemigrations\n",
    "    - !['4'](4.png)\n",
    "\n",
    "+ in each run command for this command will create a new file such as '0001'_initial.py' file \n",
    "    - !['6'](6.png)"
   ]
  },
  {
   "cell_type": "markdown",
   "metadata": {},
   "source": [
    "+ Then write command to create in database : py manage.py migrate\n",
    "    - !['5'](5.png)"
   ]
  },
  {
   "cell_type": "markdown",
   "metadata": {},
   "source": [
    "+ To open python shell script\n",
    "    - run this command: py manage.py shell\n",
    "    - !['7'](7.png)"
   ]
  },
  {
   "cell_type": "markdown",
   "metadata": {},
   "source": [
    "+ To show objects name in class \n",
    "    - run command : class_name.objects.all()\n",
    "    - by default all objects are shown in `Objects` type\n",
    "    - !['8'](8.png)\n",
    "\n",
    "    - To convert object to string will write function `__str__`\n",
    "    - !['9'](9.png)\n",
    "\n",
    "    - Close cmd and will open it again\n",
    "    - run command again : class_name.objects.all()\n",
    "    - !['10'](10.png)"
   ]
  },
  {
   "cell_type": "markdown",
   "metadata": {},
   "source": [
    "# 9- DjangoTutorial for Beginners _ Views- دورة جانغو للمبتدئين(360P)"
   ]
  },
  {
   "cell_type": "markdown",
   "metadata": {},
   "source": [
    "+ views file to create funtions to display them on screens:\n",
    "    - create funtion: !['11'](11.png)\n",
    "    -  go to `urls` file of `dicussion_board` folder: to add path of function in `urlpatterns` list\n",
    "    - Output in terminal using print: !['12'](12.png)\n",
    "    - Output in page site using HttpResponse: !['13'](13.png)"
   ]
  },
  {
   "cell_type": "markdown",
   "metadata": {},
   "source": [
    "# 10- DjangoTutorial for Beginners _ Templates -  دورة جانغو للمبتدئين_ القوالب(360P)"
   ]
  },
  {
   "cell_type": "markdown",
   "metadata": {},
   "source": [
    "+ in `settings` file: python support `TEMPLATES` list\n",
    "+ We want to build this design : !['19'](19.png)"
   ]
  },
  {
   "cell_type": "markdown",
   "metadata": {},
   "source": [
    "+ Steps read templates html\n",
    "    - create `templates` folder in `BASE_DIR` to contians on all HTML templates\n",
    "\n",
    "    - Create html file into `templates` folder\n",
    "        - !['14'](14.png)\n",
    "\n",
    "    - add path `templates` folder in `TEMPLATES` list into `dicussion_board` folder\n",
    "        - !['15'](15.png)\n",
    "\n",
    "    - Template home.html file: \n",
    "        - h1 : Title Boards \n",
    "        - p : string hello \n",
    "        - create table\n",
    "            - thead : title head of columns\n",
    "                - tr : new row\n",
    "                - th : name of columns\n",
    "\n",
    "            - tbody : content of the table\n",
    "                - for loop to display boards list \n",
    "                - tr : new row\n",
    "                - td : content of data\n",
    "        - !['18'](18.png)\n",
    "\n",
    "    - create function which use this template \n",
    "        - !['16'](16.png)\n",
    "\n",
    "    - Output funciton\n",
    "        - !['17'](17.png)\n"
   ]
  },
  {
   "cell_type": "markdown",
   "metadata": {},
   "source": [
    "# 11- DjangoTutorial for Beginners _ Static Files-  دورة جانغو للمبتدئين(360P)"
   ]
  },
  {
   "cell_type": "markdown",
   "metadata": {},
   "source": [
    "+ static files are `CSS` files or `JavaScript` files or font or image files \n",
    "\n",
    "+ python support static files: !['20'](20.png)\n",
    "+ create folder called `static` which will include CSS and JavaScript files\n",
    "+ open site bootstrap and download CSS and JavaScript folders and move them to `static` folder\n",
    "+ define new folder called `static` into `settings` file: !['21'](21.png)\n",
    "+ connect HTML with CSS files: !['22'](22.png)"
   ]
  },
  {
   "cell_type": "markdown",
   "metadata": {},
   "source": [
    "# 12- DjangoTutorial for Beginners _ Admin Panel -  دورة جانغو للمبتدئين_ لوحة التحكم(360P)"
   ]
  },
  {
   "cell_type": "markdown",
   "metadata": {},
   "source": [
    "+ To craete admin panel:\n",
    "    + run command: py manage.py createsuperuser\n",
    "    + enter username and email and password \n",
    "    + pyhton automatically defined path admin page: !['23'](23.png)\n",
    "    "
   ]
  },
  {
   "cell_type": "markdown",
   "metadata": {},
   "source": [
    "# 13- DjangoTutorial for Beginners _ URLs -  دورة جانغو للمبتدئين _ الروابط(360P)"
   ]
  },
  {
   "cell_type": "markdown",
   "metadata": {},
   "source": [
    "+ create `url.py` file into each application folder such as `Boards` application folder, and call them into main `urls` file into `discussion_boards` folder !['24'](24.png)"
   ]
  },
  {
   "cell_type": "markdown",
   "metadata": {},
   "source": [
    "+ call function include into `urls` file into `discussion_boards` folder to merg e url app with urls main project !['25'](25.png) "
   ]
  },
  {
   "cell_type": "markdown",
   "metadata": {},
   "source": [
    "+ To handle error such as try and except : !['26'](26.png)"
   ]
  },
  {
   "cell_type": "markdown",
   "metadata": {},
   "source": [
    "# 14- DjangoTutorial for Beginners _ Reusable Templates -  دورة جانغو للمبتدئين(360P)"
   ]
  },
  {
   "cell_type": "markdown",
   "metadata": {},
   "source": [
    "+ Master file or base file: contains the common codes that i make on every page such as header or footer"
   ]
  },
  {
   "cell_type": "markdown",
   "metadata": {},
   "source": [
    "# 15- DjangoTutorial for Beginners _ Forms -  دورة جانغو للمبتدئين _ النماذج(360P)"
   ]
  },
  {
   "cell_type": "markdown",
   "metadata": {},
   "source": [
    "form for HTML but not need it"
   ]
  },
  {
   "cell_type": "markdown",
   "metadata": {},
   "source": [
    "# 16- DjangoTutorial for Beginners _ Django Forms -  دورة جانغو     للمبتدئين _ نماذج جانغو(360P)"
   ]
  },
  {
   "cell_type": "markdown",
   "metadata": {},
   "source": [
    "+ Forms with django: \n",
    "    - create new file into `boards` folder to contains all forms\n",
    "    - !['27'](27.png)"
   ]
  },
  {
   "cell_type": "markdown",
   "metadata": {},
   "source": [
    "# 17- DjangoTutorial for Beginners _ Render Bootstrap -  دورة جانغو للمبتدئين(360P)"
   ]
  },
  {
   "cell_type": "markdown",
   "metadata": {},
   "source": [
    "+ To install bootstrip :\n",
    "    - install libaray widget-tweaks: pip install django=widget-tweaks \n",
    "    - define library into `settings` file of `discussion_boards` folder"
   ]
  },
  {
   "cell_type": "markdown",
   "metadata": {},
   "source": [
    "# 18- DjangoTutorial for Beginners _ Authentication -  دورة جانغو للمبتدئين(360P)"
   ]
  },
  {
   "cell_type": "markdown",
   "metadata": {},
   "source": [
    "+ for make steps authentication, `create new app` called `accounts` to contians all steps authentication"
   ]
  },
  {
   "cell_type": "markdown",
   "metadata": {},
   "source": [
    "# 19- DjangoTutorial for Beginners _ Registration-  دورة جانغو للمبتدئين(360P)"
   ]
  },
  {
   "cell_type": "markdown",
   "metadata": {},
   "source": [
    "+ Steps after created new app: \n",
    "    - `define app` into `settings` file of `discussion_boards` folder: !['29'](29.png)\n",
    "    - `define url`:\n",
    "        - create new url file into `accounts` folder: !['30'](30.png)\n",
    "        - define url in `urls` file of `discussion_boards` folder: !['31'](31.png)\n",
    "    - `create views`: \n",
    "        - create function into `views` file: \n",
    "            - signup: !['32'](32.png)\n",
    "                - customize signup to add usernames, email and password\n",
    "                - create new file into `accounts` folder called `forms`\n",
    "                - build class signupforms: !['34'](34.png)\n",
    "                - replace default `UserCreationForm` with `SignUpForm`\n",
    "            - login: !['33'](33.png)\n",
    "        - create new file into `templates` folder for HTML and CSS\n",
    "    \n"
   ]
  },
  {
   "cell_type": "markdown",
   "metadata": {},
   "source": [
    "# 20- DjangoTutorial for Beginners _ Logout-  دورة جانغو للمبتدئين(360P)"
   ]
  },
  {
   "cell_type": "markdown",
   "metadata": {},
   "source": [
    "+ logout step: \n",
    "    - in `url` file of `account` folder: !['38'](38.png)\n",
    "    - into `settings` file of `discussion` folder: !['39'](39.png)\n",
    "\n",
    "+ install jQuery: \n",
    "    - press !['36'](36.png)\n",
    "    - save !['37'](37.png)"
   ]
  },
  {
   "cell_type": "markdown",
   "metadata": {},
   "source": [
    "# 21- DjangoTutorial for Beginners _ Login-  دورة جانغو للمبتدئين(360P)"
   ]
  },
  {
   "cell_type": "markdown",
   "metadata": {},
   "source": [
    "+ steps login:\n",
    "    - in `url` file of `account` folder: !['40'](40.png)\n",
    "    - into `settings` file of `discussion` folder: !['41'](41.png)\n",
    "    - create new file of `templates` folder called `login`"
   ]
  },
  {
   "cell_type": "markdown",
   "metadata": {},
   "source": [
    "# 22- DjangoTutorial for Beginners _ Change Password -  دورة جانغو للمبتدئين(360P)"
   ]
  },
  {
   "cell_type": "markdown",
   "metadata": {},
   "source": [
    "+ steps change_password:\n",
    "    - page change password: in `url` file of `account` folder: !['42'](42.png)\n",
    "    - page change password done: in `url` file of `account` folder: !['43'](43.png)\n",
    "    - into `settings` file of `discussion` folder: !['44'](44.png)\n",
    "    - create new file of `templates` folder called `change_password`\n",
    "    - create new file of `templates` folder called `change_password_done`"
   ]
  },
  {
   "cell_type": "markdown",
   "metadata": {},
   "source": [
    "# 23- DjangoTutorial for Beginners _ Protecting views -  دورة جانغو للمبتدئين(360P)"
   ]
  },
  {
   "cell_type": "markdown",
   "metadata": {},
   "source": [
    "+ into `views` file of `boards` folder import `login_required` with this line: \n",
    "    - from django.contrib.auth.decorators import `login_required`\n",
    "    - add `login_required` above function: !['45'](45.png)\n",
    "    - onr line for `next`: !['46'](46.png)"
   ]
  },
  {
   "cell_type": "markdown",
   "metadata": {},
   "source": [
    "# 24- DjangoTutorial for Beginners _ Topic Posts view _ ORM-  دورة جانغو للمبتدئين(360P)"
   ]
  },
  {
   "cell_type": "markdown",
   "metadata": {},
   "source": [
    "+ define url: !['47'](47.png)\n",
    "+ create function topic_posts into `views` file of `boards`: !['48'](48.png)"
   ]
  },
  {
   "cell_type": "markdown",
   "metadata": {},
   "source": [
    "# 25- DjangoTutorial for Beginners _ Reply Post view _ ORM-  دورة جانغو للمبتدئين(360P)"
   ]
  },
  {
   "cell_type": "markdown",
   "metadata": {},
   "source": [
    "+ steps reply: \n",
    "    - define url: !['49'](49.png)\n",
    "    - create function reply_topic into `views` file of `boards`: ![`50'](50.png)\n",
    "    - create form for posts: ![`51'](51.png)\n",
    "    - add decorator: !['52'](52.png)"
   ]
  },
  {
   "cell_type": "markdown",
   "metadata": {},
   "source": [
    "# 26- DjangoTutorial for Beginners _ QuerySets-  دورة جانغو للمبتدئين(360P)"
   ]
  },
  {
   "cell_type": "markdown",
   "metadata": {},
   "source": [
    "+ add method `str` into all classes\n",
    "+ add needed functions into each class\n",
    "+ ![`52'](52.png)"
   ]
  },
  {
   "cell_type": "markdown",
   "metadata": {},
   "source": [
    "# 27"
   ]
  },
  {
   "cell_type": "markdown",
   "metadata": {},
   "source": [
    "# 28-DjangoTutorial for Beginners _ Migrations-  دورة جانغو للمبتدئين(360P)"
   ]
  },
  {
   "cell_type": "markdown",
   "metadata": {},
   "source": [
    "+ after modification we add models into database using migrations:\n",
    "    - create file into migrations folder:     py manage.py migrations \n",
    "    - define all modification into database:  py manage.py migrate"
   ]
  },
  {
   "cell_type": "markdown",
   "metadata": {},
   "source": [
    "# 29- DjangoTutorial for Beginners _ Views Strategies -  دورة جانغو للمبتدئين(360P)"
   ]
  },
  {
   "cell_type": "markdown",
   "metadata": {},
   "source": [
    "+ Function Based View `FBV`: \n",
    "    - create function into views whcich take request and return response: !['53'](53.png)\n",
    "    - create url for function: !['54'](54.png)\n",
    "    - use condation\n",
    "\n",
    "+ Class Based View `CBV`:\n",
    "    - not use condation, use class, \n",
    "    - replace condation with function into class\n",
    "    - create class: !['55'](55.png)\n",
    "    - create url for class: !['56'](56.png)\n",
    "    - `CBV BETTER THAN FBV`\n",
    "+ Genaric Class Based View `GCBV`:\n",
    "    - use built-in function \n",
    "    - visit ccbv site for more info\n",
    "    - `GCBV BETTER THAN CBV and FBV`\n",
    "    - create class: !['57'](57.png)\n",
    "    - create url for class same url `CBV`: !['58'](58.png)\n"
   ]
  },
  {
   "cell_type": "markdown",
   "metadata": {},
   "source": [
    "# 30- DjangoTutorial for Beginners _ Update View -  دورة جانغو للمبتدئين(360P)"
   ]
  },
  {
   "cell_type": "markdown",
   "metadata": {},
   "source": [
    "+ use Updateview based on `Generic class based view`: \n",
    "    - import class: !['62'](62.png)\n",
    "    - create `Generic class based view`: !['60'](60.png)\n",
    "    - create url for class: !['60'](60.png)\n",
    "    - create template html\n",
    "    - use decorator: !['61'](61.png)"
   ]
  },
  {
   "cell_type": "markdown",
   "metadata": {},
   "source": [
    "# 31- DjangoTutorial for Beginners _ List View -  دورة جانغو للمبتدئين(360P)"
   ]
  },
  {
   "cell_type": "markdown",
   "metadata": {},
   "source": [
    "+ use Listview based on `Generic class based view`:\n",
    "    - import class: !['62'](62.png)\n",
    "    - create `Generic class based view`: !['63'](63.png)\n",
    "    - create url for class as view: !['64'](64.png)\n",
    "    - create template html\n",
    "    - use decorator if required"
   ]
  },
  {
   "cell_type": "markdown",
   "metadata": {},
   "source": [
    "# 32- DjangoTutorial for Beginners _ Pagination -  دورة جانغو للمبتدئين(360P)"
   ]
  },
  {
   "cell_type": "markdown",
   "metadata": {},
   "source": [
    "+ Pagination: !['65'](65.png)\n",
    "+ open terminal window:\n",
    "    - form boards.models import Board, Topic, Post\n",
    "    - from django.contrib.auth.models import User\n",
    "    - user= User.objects.first()\n",
    "    - board= Board.objects.get(name='AI')\n",
    "    - for i in range(100):\n",
    "    - subject= 'topic test #'.format(i)\n",
    "    - topic= Topic.objects.create(subject=subject, board=board, created_by=user)\n",
    "    - post.objects.create(message=\"Test Post\", topic=topic, created_by=user)\n",
    "+ Now we added 100 posts\n",
    "+ then we'll use Pagination\n",
    "+ import Pagination: from django.core.paginator import paginator\n",
    "+ add into funciton : !['66'](66.png)"
   ]
  },
  {
   "cell_type": "markdown",
   "metadata": {},
   "source": [
    "# 33- DjangoTutorial for Beginners _ Update Profile-  دورة جانغو للمبتدئين(360P)"
   ]
  },
  {
   "cell_type": "markdown",
   "metadata": {},
   "source": [
    "+ update profile: \n",
    "    - create url: !['67'](67.png)\n",
    "    - view using `Generic class based view` :\n",
    "        - model name \n",
    "        - fields or attributes\n",
    "        - temolate name\n",
    "        - url or next url for success\n",
    "        - !['68'](68.png)"
   ]
  },
  {
   "cell_type": "markdown",
   "metadata": {},
   "source": [
    "# 34- DjangoTutorial for Beginners _ Final Adjustment -  دورة جانغو للمبتدئين(360P)"
   ]
  },
  {
   "cell_type": "markdown",
   "metadata": {},
   "source": [
    "+"
   ]
  },
  {
   "cell_type": "markdown",
   "metadata": {},
   "source": [
    "# 35- Django Admin Tutorial - How to customize admin panel [Arabic]"
   ]
  },
  {
   "cell_type": "markdown",
   "metadata": {},
   "source": [
    "+ "
   ]
  },
  {
   "cell_type": "markdown",
   "metadata": {},
   "source": [
    "# 36- Django Rest Framework Tutorial -  Simple API using pure django  [Full course - Arabic]"
   ]
  },
  {
   "cell_type": "markdown",
   "metadata": {},
   "source": [
    "+"
   ]
  },
  {
   "cell_type": "markdown",
   "metadata": {},
   "source": [
    "# 37- Weather API using Django(360P)"
   ]
  },
  {
   "cell_type": "markdown",
   "metadata": {},
   "source": [
    "+"
   ]
  },
  {
   "cell_type": "markdown",
   "metadata": {},
   "source": [
    "# 38- What is an API_ - واجهة برمجة التطبيقات(360P)"
   ]
  },
  {
   "cell_type": "markdown",
   "metadata": {},
   "source": [
    "+ API: help project in integration with anothers APPS\n",
    "+ API return JSON or XML data"
   ]
  },
  {
   "cell_type": "markdown",
   "metadata": {},
   "source": [
    "# 39- Export Django Models to CSV from admin panel(360P)"
   ]
  },
  {
   "cell_type": "markdown",
   "metadata": {},
   "source": [
    "+ open terminal\n",
    "    - pip install django-import-export\n",
    "    - define app into `settings` file: !['69'](69.png) \n",
    "    - build function: !['70'](70.png) \n",
    "    - py manage.py runserver"
   ]
  },
  {
   "cell_type": "markdown",
   "metadata": {},
   "source": [
    "# 40- Deploy Django Project on DigitalOcean(360P)"
   ]
  },
  {
   "cell_type": "markdown",
   "metadata": {},
   "source": [
    "+ deploy project on digitalocean \n",
    "    - droplets \n",
    "    - ubuntu\n",
    "    - basic\n",
    "    - 5$\n",
    "    - frankfurt\n",
    "    - password and username= root\n",
    "    - "
   ]
  },
  {
   "cell_type": "markdown",
   "metadata": {},
   "source": [
    "# 41- How to work with AJAX Request With Django(360P)"
   ]
  },
  {
   "cell_type": "markdown",
   "metadata": {},
   "source": [
    "+"
   ]
  },
  {
   "cell_type": "markdown",
   "metadata": {},
   "source": []
  }
 ],
 "metadata": {
  "language_info": {
   "name": "python"
  }
 },
 "nbformat": 4,
 "nbformat_minor": 2
}
