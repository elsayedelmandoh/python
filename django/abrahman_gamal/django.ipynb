{
 "cells": [
  {
   "cell_type": "markdown",
   "metadata": {},
   "source": [
    "# Abdelrahman gamal "
   ]
  },
  {
   "cell_type": "markdown",
   "metadata": {},
   "source": [
    "[Course](https://www.youtube.com/playlist?list=PLknwEmKsW8OtK_n48UOuYGxJPbSFrICxm)"
   ]
  },
  {
   "cell_type": "markdown",
   "metadata": {},
   "source": [
    "# Django"
   ]
  },
  {
   "cell_type": "markdown",
   "metadata": {},
   "source": [
    "3. "
   ]
  },
  {
   "cell_type": "markdown",
   "metadata": {},
   "source": [
    "+ Create new env\n",
    "\n",
    "python -m venv project1"
   ]
  },
  {
   "cell_type": "markdown",
   "metadata": {},
   "source": [
    "+ activate env\n",
    "\n",
    "name_env\\Scripts\\activate"
   ]
  },
  {
   "cell_type": "markdown",
   "metadata": {},
   "source": [
    "+ install django\n",
    "\n",
    "pip install django"
   ]
  },
  {
   "cell_type": "markdown",
   "metadata": {},
   "source": [
    "+ create project\n",
    "\n",
    "django-admin startproject project_name"
   ]
  },
  {
   "cell_type": "markdown",
   "metadata": {},
   "source": [
    "+ run server\n",
    "\n",
    "enter on location `manage.py` file to run the server from this file\n",
    "\n",
    "python manage.py runserver\n",
    "\n",
    "copy link server and paste in browser"
   ]
  },
  {
   "cell_type": "markdown",
   "metadata": {},
   "source": [
    "4."
   ]
  },
  {
   "cell_type": "markdown",
   "metadata": {},
   "source": [
    "+ when create server first time, automatically create `db.sqlite3` file:\n",
    "    - need migrate for columns in `db.sqlite3` file\n",
    "    - write command line: python manage.py migrate"
   ]
  },
  {
   "cell_type": "markdown",
   "metadata": {},
   "source": [
    "5."
   ]
  },
  {
   "cell_type": "markdown",
   "metadata": {},
   "source": [
    "![\"project_app\"](project_app.png)"
   ]
  },
  {
   "cell_type": "markdown",
   "metadata": {},
   "source": [
    "enery `one project` contians on `more apps`"
   ]
  },
  {
   "cell_type": "markdown",
   "metadata": {},
   "source": [
    "![\"app_view_models_templates_urls\"](app_view_models_templates_urls.png)"
   ]
  },
  {
   "cell_type": "markdown",
   "metadata": {},
   "source": [
    "we create file `TEMPLATES` & `URLS`\n",
    "\n",
    "`VIEWS` control on `MODELS`, `TEMPLATES` and `URLS`"
   ]
  },
  {
   "cell_type": "markdown",
   "metadata": {},
   "source": [
    "6. create apps"
   ]
  },
  {
   "cell_type": "markdown",
   "metadata": {},
   "source": [
    "TO `create any app` for project, by `manage.py` file\n",
    "\n",
    "we write this command in terminal\n",
    "\n",
    "python manage.py startapp app_name"
   ]
  },
  {
   "cell_type": "markdown",
   "metadata": {},
   "source": [
    "![\"add_app\"](add_app.png)"
   ]
  },
  {
   "cell_type": "markdown",
   "metadata": {},
   "source": [
    "in `settings.py` we go to `INSTALLED_APPS` list we `add new app` for project.\n",
    "\n",
    "with this pattern  \n",
    "\n",
    "app_name.apps.App_nameConfig "
   ]
  },
  {
   "cell_type": "markdown",
   "metadata": {},
   "source": [
    "![\"active_app\"](active_app.png)"
   ]
  },
  {
   "cell_type": "markdown",
   "metadata": {},
   "source": [
    "+ in `urls.py` file which is in `project folder`, to add new app for project.\n",
    "\n",
    "    - import include from django.urls\n",
    "\n",
    "+ create `urls.py` file which is in `app folder,\n",
    "    - create `urls.py` file\n",
    "\n",
    "\n",
    "+ add `path or domain` this app in `urlpatterns` list\n",
    "\n",
    "    - path('', include('name_app.urls)) >>> `main app`\n",
    "\n",
    "    - path('pages/', include('name_app.urls)) >>> `pages app` which in `main app`\n"
   ]
  },
  {
   "cell_type": "markdown",
   "metadata": {},
   "source": [
    "7. views"
   ]
  },
  {
   "cell_type": "markdown",
   "metadata": {},
   "source": [
    "import HttpResponse from django.http\n",
    "\n",
    "create new function in `views.py` file for `pages app`\n",
    "\n",
    "go to `urls.py` file then import path from django.urls and import `views.py` file\n",
    "\n",
    "and create variable `urlpatterns` list (static variable for urls)  \n",
    "\n",
    "write path('', call function from `views.py` file, write function name with parameter name) >>> `main app` ''"
   ]
  },
  {
   "cell_type": "markdown",
   "metadata": {},
   "source": [
    "8. urls"
   ]
  },
  {
   "cell_type": "markdown",
   "metadata": {},
   "source": [
    "![\"about_page\"](about_page.png)"
   ]
  },
  {
   "cell_type": "markdown",
   "metadata": {},
   "source": [
    "same last step but new function with new path for `about page`"
   ]
  },
  {
   "cell_type": "markdown",
   "metadata": {},
   "source": [
    "9. templates"
   ]
  },
  {
   "cell_type": "markdown",
   "metadata": {},
   "source": [
    "1. models are database\n",
    "\n",
    "    views take models and templates and show for users..\n",
    "\n",
    "2. `dtl` is language for filters and templates.. (django template language)\n",
    "\n",
    "3. - create new folder with name `templates`\n",
    "    - import os in  `settings.py` file\n",
    "    - write in `TEMPLATES` list in `DIRS`: [os.path.joi n(BASE_DIR, \"templates\")]  \n",
    "    - in `TEMPLATES` folder create new folder with name `pages`(name_app)\n",
    "    when create any `app` we will need to create a `new folder` with `same name` in `TEMPLATES` folder\n",
    "    - create `index.html` file in `pages` folder and build templates.\n",
    "    - connect `index.html` file with `views` file in `pages` folder with imported `render` from  django.shortcuts and in fuction index(request) we return render(request, 'path index.html')"
   ]
  },
  {
   "cell_type": "markdown",
   "metadata": {},
   "source": [
    "10. context in views"
   ]
  },
  {
   "cell_type": "markdown",
   "metadata": {},
   "source": [
    "![\"context\"](context.png)"
   ]
  },
  {
   "cell_type": "markdown",
   "metadata": {},
   "source": [
    "![\"index_html\"](index_html.png)"
   ]
  },
  {
   "cell_type": "markdown",
   "metadata": {},
   "source": [
    "- in fuction index(request) we return render(request, 'path index.html', {\n",
    "    'name': 'ali',\n",
    "    'age': 27\n",
    " })"
   ]
  },
  {
   "cell_type": "markdown",
   "metadata": {},
   "source": [
    "11. filter DTL"
   ]
  },
  {
   "cell_type": "markdown",
   "metadata": {},
   "source": [
    "![\"capfirst\"](capfirst.png)"
   ]
  },
  {
   "cell_type": "markdown",
   "metadata": {},
   "source": [
    "capfirst is filter which make first character as capital"
   ]
  },
  {
   "cell_type": "markdown",
   "metadata": {},
   "source": [
    "![defaultt.png](defaultt.png)"
   ]
  },
  {
   "cell_type": "markdown",
   "metadata": {},
   "source": [
    "default make null values with `consistent value` such as `not found`"
   ]
  },
  {
   "cell_type": "markdown",
   "metadata": {},
   "source": [
    "![\"slicee\"](slicee.png)"
   ]
  },
  {
   "cell_type": "markdown",
   "metadata": {},
   "source": [
    "Slice make split for first 10 chars"
   ]
  },
  {
   "cell_type": "markdown",
   "metadata": {},
   "source": [
    "![\"length\"](length.png)"
   ]
  },
  {
   "cell_type": "markdown",
   "metadata": {},
   "source": [
    "length return size of text"
   ]
  },
  {
   "cell_type": "markdown",
   "metadata": {},
   "source": [
    "![\"add\"](add.png)"
   ]
  },
  {
   "cell_type": "markdown",
   "metadata": {},
   "source": [
    "add text on current text"
   ]
  },
  {
   "cell_type": "markdown",
   "metadata": {},
   "source": [
    "![\"cut\"](cut.png)"
   ]
  },
  {
   "cell_type": "markdown",
   "metadata": {},
   "source": [
    "cut make remove anything from text, in last example remove space"
   ]
  },
  {
   "cell_type": "markdown",
   "metadata": {},
   "source": [
    "![\"filesizeformat1\"](filesizeformat1.png)"
   ]
  },
  {
   "cell_type": "markdown",
   "metadata": {},
   "source": [
    "![\"filesizeformat2\"](filesizeformat2.png)"
   ]
  },
  {
   "cell_type": "markdown",
   "metadata": {},
   "source": [
    "result: ![\"filesizeformat3\"](filesizeformat3.png)"
   ]
  },
  {
   "cell_type": "markdown",
   "metadata": {},
   "source": [
    "12. tags extends"
   ]
  },
  {
   "cell_type": "markdown",
   "metadata": {},
   "source": [
    "![\"tags_extend1\"](tags_extend1.png)"
   ]
  },
  {
   "cell_type": "markdown",
   "metadata": {},
   "source": [
    "use `extends` for inheritance"
   ]
  },
  {
   "cell_type": "markdown",
   "metadata": {},
   "source": [
    "![\"tags_extend2\"](tags_extend2.png)"
   ]
  },
  {
   "cell_type": "markdown",
   "metadata": {},
   "source": [
    "1. create `base.html` in `templates` folder\n",
    "\n",
    "2. create function for this page `about` function\n",
    "\n",
    "3. connect page with `urls.py` file"
   ]
  },
  {
   "cell_type": "markdown",
   "metadata": {},
   "source": [
    "13. tags block"
   ]
  },
  {
   "cell_type": "markdown",
   "metadata": {},
   "source": [
    "should me make block to write html code\n",
    "![\"tags_block1\"](tags_block1.png)"
   ]
  },
  {
   "cell_type": "markdown",
   "metadata": {},
   "source": [
    "write block in `base.html` too\n",
    "![\"tags_block2\"](tags_block22.png)\n"
   ]
  },
  {
   "cell_type": "markdown",
   "metadata": {},
   "source": [
    "14. tags include"
   ]
  },
  {
   "cell_type": "markdown",
   "metadata": {},
   "source": []
  }
 ],
 "metadata": {
  "kernelspec": {
   "display_name": "Python 3",
   "language": "python",
   "name": "python3"
  },
  "language_info": {
   "name": "python",
   "version": "3.11.4"
  }
 },
 "nbformat": 4,
 "nbformat_minor": 2
}
