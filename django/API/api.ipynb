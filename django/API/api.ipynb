{
 "cells": [
  {
   "cell_type": "markdown",
   "metadata": {},
   "source": [
    "# CodingMirror "
   ]
  },
  {
   "cell_type": "markdown",
   "metadata": {},
   "source": [
    "[Course](https://www.youtube.com/playlist?list=PL2z1gXAKH9c3dglbz0tvLqJTJPVPgjW1x)"
   ]
  },
  {
   "cell_type": "markdown",
   "metadata": {},
   "source": [
    "+ API\n",
    "    - ![\"2.1\"](2.1.png)\n",
    "    - open settings and add `weather_api` into `INSTALLED_APP`\n",
    "    - ![\"2.2\"](2.2.png)\n",
    "    - request to get data using API\n",
    "    - response.json(): to return data with json format\n",
    "    - ![\"2.3\"](2.3.png)  \n",
    "    - create file `url` into app folder"
   ]
  },
  {
   "cell_type": "markdown",
   "metadata": {},
   "source": [
    "# 3- Django Rest Framework Tutorial -  Simple API using pure django  [Full course - Arabic]"
   ]
  },
  {
   "cell_type": "markdown",
   "metadata": {},
   "source": [
    "# Rest Framework"
   ]
  },
  {
   "cell_type": "markdown",
   "metadata": {},
   "source": [
    "+ In Python, a framework refers to a collection of modules and libraries that provide pre-written code to help developers build applications more efficiently. Frameworks often include reusable code, tools, and components that assist in solving common programming tasks, such as web development, GUI (Graphical User Interface) creation, database interaction"
   ]
  },
  {
   "cell_type": "markdown",
   "metadata": {},
   "source": [
    "Django REST framework (DRF) is a powerful and flexible toolkit for building Web APIs in Python. It is built on top of the Django web framework and provides a set of tools and conventions for quickly building robust and scalable APIs. DRF makes it easier to handle common tasks, such as authentication, serialization, and view creation, allowing developers to focus on designing and implementing the API's business logic.\n",
    "\n",
    "Some key features of Django REST framework include:\n",
    "\n",
    "1. **Serialization:** DRF provides serializers to convert complex data types, such as Django models, into Python data types that can be easily rendered into JSON or other content types. Serializers also handle deserialization, allowing data to be converted back into the original complex types.\n",
    "\n",
    "2. **Authentication and Authorization:** DRF includes a variety of authentication classes for handling different authentication methods (token-based, session-based, etc.). It also provides a flexible permission system for controlling access to resources.\n",
    "\n",
    "3. **Viewsets and Routers:** DRF introduces the concept of viewsets, which combine the logic for handling HTTP methods (GET, POST, PUT, DELETE, etc.) into a single class. Routers are used to automatically wire up URLs based on these viewsets, reducing boilerplate code.\n",
    "\n",
    "4. **Class-Based Views:** Similar to Django, DRF uses class-based views to organize code. This makes it easy to extend and customize views for different endpoints.\n",
    "\n",
    "5. **Browsable API:** DRF provides a browsable API that allows developers to interact with the API directly from their web browser, making it easier to understand and test API endpoints.\n",
    "\n",
    "6. **Throttling and Pagination:** DRF includes built-in support for throttling (limiting the rate of requests) and pagination, making it easy to manage large datasets and control traffic.\n",
    "\n",
    "7. **Django ORM Integration:** DRF seamlessly integrates with the Django ORM, making it easy to build APIs around existing models.\n",
    "\n",
    "8. **Authentication and Permissions:** DRF includes a range of built-in authentication classes (e.g., token authentication, session authentication) and permissions (e.g., Django model permissions, custom permissions) to control access to API resources.\n",
    "\n",
    "To use Django REST framework, you typically install it as a Django app and configure your project's settings to include its components. You can then define API views, serializers, and other components to create a RESTful API."
   ]
  },
  {
   "cell_type": "markdown",
   "metadata": {},
   "source": [
    "+ Build API\n",
    "    - run command : virtualenv env_name\n",
    "    - pip install django\n",
    "    - pip install djangorestframework\n",
    "    - py manage.py startproject projet_name .\n",
    "    - py manage.py startapp app_name\n",
    "    - add app and api in settings file\n",
    "    - ![\"2.4\"](2.4.png)\n"
   ]
  },
  {
   "cell_type": "markdown",
   "metadata": {},
   "source": [
    "In Django, \"modules\" and \"views\" serve different purposes within the framework.\n",
    "\n",
    "1. **Modules**:\n",
    "   In Django, modules typically refer to Python files that contain reusable code or configurations for different parts of your application. These modules can include models, forms, utility functions, custom middleware, and more. They help organize and modularize your codebase, making it easier to maintain and understand.\n",
    "\n",
    "2. **Views**:\n",
    "   Views in Django are a crucial part of the MVC (Model-View-Controller) architecture pattern that Django follows. In Django, views are Python functions or classes that receive web requests and return web responses. They contain the logic that processes the incoming request, interacts with the database or other services, and generates a response to send back to the client.\n",
    "\n",
    "   Views are responsible for rendering templates, performing data processing, handling form submissions, and more. They encapsulate the application's business logic and control the flow of information between the user and the backend components.\n",
    "\n",
    "To summarize:\n",
    "\n",
    "- **Modules** are files containing reusable code and configurations that help organize your Django project and keep your codebase modular.\n",
    "  \n",
    "- **Views** are Python functions or classes responsible for processing incoming requests, performing necessary actions, and returning appropriate responses. They are a fundamental component of Django's architecture for handling web requests and generating web responses.\n",
    "\n",
    "While modules provide a means to organize and reuse code across your Django project, views specifically handle the interaction between users and the application, implementing the necessary logic to respond to user requests."
   ]
  },
  {
   "cell_type": "markdown",
   "metadata": {},
   "source": [
    "+ setup database\n",
    "    - change name to postgressql\n",
    "        - py manage.py makemigrations\n",
    "        - py manage.py migrate\n",
    "+ backend\n",
    "    - ![\"3.1\"](3.1.png)\n",
    "    - ![\"3.2\"](3.2.png)\n",
    "+ Frontend\n",
    "    - ![\"3.3\"](3.3.png)\n",
    "    - ![\"3.4\"](3.4.png) "
   ]
  },
  {
   "cell_type": "markdown",
   "metadata": {},
   "source": [
    "# 4- Django Rest Framework Tutorial -  Serialization  [Full course - Arabic]"
   ]
  },
  {
   "cell_type": "markdown",
   "metadata": {},
   "source": [
    "+ using rest framework: \n",
    "    - create file called `serializers.py`\n",
    "    - !['4.1'](4.1.png)"
   ]
  },
  {
   "cell_type": "markdown",
   "metadata": {},
   "source": [
    "# 5- Django Rest Framework Tutorial -  Views using APIView (POST-GET)"
   ]
  },
  {
   "cell_type": "markdown",
   "metadata": {},
   "source": [
    "+ use APIView: \n",
    "    !['5.1'](5.1.png)"
   ]
  },
  {
   "cell_type": "markdown",
   "metadata": {},
   "source": [
    "# 6- Django Rest Framework Tutorial - Generic Views "
   ]
  },
  {
   "cell_type": "markdown",
   "metadata": {},
   "source": [
    "+ from mport rest_framework import generics\n",
    "+ functions into class :\n",
    "    - get --> list \n",
    "    - post --> create\n",
    "    + ![\"6.1\"](6.1.png)\n",
    "    + ![\"6.2\"](6.2.png)\n",
    "    + ![\"6.3\"](6.3.png)\n",
    "    + ![\"6.4\"](6.4.png)"
   ]
  },
  {
   "cell_type": "markdown",
   "metadata": {},
   "source": [
    "# 7- Django Rest Framework Tutorial - ViewSets "
   ]
  },
  {
   "cell_type": "markdown",
   "metadata": {},
   "source": [
    "+ from mport rest_framework import viewsets\n",
    "+ using ViewSets:\n",
    "    - view : ![\"7.1\"](7.1.png)\n",
    "    - url : ![\"7.2\"](7.2.png)"
   ]
  },
  {
   "cell_type": "markdown",
   "metadata": {},
   "source": [
    "# 8-  Django Admin Tutorial - How to customize admin panel"
   ]
  },
  {
   "cell_type": "markdown",
   "metadata": {},
   "source": []
  }
 ],
 "metadata": {
  "kernelspec": {
   "display_name": "Python 3",
   "language": "python",
   "name": "python3"
  },
  "language_info": {
   "codemirror_mode": {
    "name": "ipython",
    "version": 3
   },
   "file_extension": ".py",
   "mimetype": "text/x-python",
   "name": "python",
   "nbconvert_exporter": "python",
   "pygments_lexer": "ipython3",
   "version": "3.11.4"
  }
 },
 "nbformat": 4,
 "nbformat_minor": 2
}
