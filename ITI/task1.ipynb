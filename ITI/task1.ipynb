{
 "cells": [
  {
   "cell_type": "markdown",
   "metadata": {},
   "source": [
    "Elsayed Mohamed Elsayed Elmandoh"
   ]
  },
  {
   "cell_type": "markdown",
   "metadata": {},
   "source": [
    "1- write 3 variable and check for it's data types using type() function\n"
   ]
  },
  {
   "cell_type": "code",
   "execution_count": 5,
   "metadata": {},
   "outputs": [
    {
     "name": "stdout",
     "output_type": "stream",
     "text": [
      "<class 'int'>\n",
      "<class 'str'>\n",
      "<class 'list'>\n"
     ]
    }
   ],
   "source": [
    "a= 1\n",
    "b= 'hi'\n",
    "c= [1,2,3]\n",
    "print(type(a))\n",
    "print(type(b))\n",
    "print(type(c))"
   ]
  },
  {
   "cell_type": "markdown",
   "metadata": {},
   "source": [
    "2- write 3 variable and take it in one line using split() function and print it\n"
   ]
  },
  {
   "cell_type": "code",
   "execution_count": 6,
   "metadata": {},
   "outputs": [
    {
     "name": "stdout",
     "output_type": "stream",
     "text": [
      "hi\n",
      "hello\n",
      "hi\n"
     ]
    }
   ],
   "source": [
    "inp = input(\"Enter three variables separated by spaces: \")\n",
    "\n",
    "a, b, c = inp.split()\n",
    "\n",
    "print(a)\n",
    "print(b)\n",
    "print(c)"
   ]
  },
  {
   "cell_type": "markdown",
   "metadata": {},
   "source": [
    "3- write program take number from user then convert it to string \" casting \" then print lenth of this string using len() function"
   ]
  },
  {
   "cell_type": "code",
   "execution_count": 1,
   "metadata": {},
   "outputs": [
    {
     "name": "stdout",
     "output_type": "stream",
     "text": [
      "6\n"
     ]
    }
   ],
   "source": [
    "inp = input(\"Enter number: \")\n",
    "sr= str(inp)\n",
    "print(len(sr))"
   ]
  },
  {
   "cell_type": "markdown",
   "metadata": {},
   "source": [
    "4- you have number and you want to remove last k number from this number implement python program do that and print result"
   ]
  },
  {
   "cell_type": "code",
   "execution_count": 4,
   "metadata": {},
   "outputs": [
    {
     "name": "stdout",
     "output_type": "stream",
     "text": [
      "Resukt= 3443\n"
     ]
    }
   ],
   "source": [
    "nums = input(\"Enter number: \")\n",
    "k = int(input(\"Enter k to remove: \"))\n",
    "\n",
    "if k < 0 or k > len(nums):\n",
    "    print(f\"invalid number, please enter a number between 0 and {len(nums)}: \")\n",
    "else:\n",
    "    nums= nums[: -k]\n",
    "print(f\"Resukt= {nums}\")"
   ]
  },
  {
   "cell_type": "markdown",
   "metadata": {},
   "source": [
    "5- take integer multiple number in one line using map and split then print maximum and minimum number from it using min and max function "
   ]
  },
  {
   "cell_type": "code",
   "execution_count": 10,
   "metadata": {},
   "outputs": [
    {
     "name": "stdout",
     "output_type": "stream",
     "text": [
      "Max 56\n",
      "Min -2\n"
     ]
    }
   ],
   "source": [
    "inp_list= input(\"Enter integers separated by spaces: \").split()\n",
    "integers = list(map(int, inp_list))\n",
    "\n",
    "print(f\"Max {max(integers)}\")\n",
    "print(f\"Min {min(integers)}\")"
   ]
  },
  {
   "cell_type": "markdown",
   "metadata": {},
   "source": [
    "6- Write a Python program that finds the minimum of two values a and b."
   ]
  },
  {
   "cell_type": "code",
   "execution_count": 11,
   "metadata": {},
   "outputs": [
    {
     "name": "stdout",
     "output_type": "stream",
     "text": [
      "min: 2\n"
     ]
    }
   ],
   "source": [
    "a = int(input(\"Enter value a\"))\n",
    "b = int(input(\"Enter value b\"))\n",
    "min = a if a < b else b\n",
    "print(f\"min: {min}\")"
   ]
  },
  {
   "cell_type": "markdown",
   "metadata": {},
   "source": [
    "7- Write a program that reads an integer salary then:\n",
    "\n",
    "\tIf salary < 1000,\n",
    "\t-\tPrint you are poor\n",
    "\telif salary greater than or equal to 1000 and less than 20000\n",
    "\t-\tPrint good salary\n",
    "\telif salary greater than or equal to 20000\n",
    "\t-\tPrint you are rich"
   ]
  },
  {
   "cell_type": "code",
   "execution_count": 12,
   "metadata": {},
   "outputs": [
    {
     "name": "stdout",
     "output_type": "stream",
     "text": [
      "You are rich :)\n"
     ]
    }
   ],
   "source": [
    "salary = int(input(\"EEnter your salary\"))\n",
    "\n",
    "if salary < 1000:\n",
    "    print(\"You are poor :(\")\n",
    "elif salary >= 1000 and salary < 20000:\n",
    "    print(\"Good salary :-\")\n",
    "elif salary >= 20000:\n",
    "    print(\"You are rich :)\")"
   ]
  },
  {
   "cell_type": "markdown",
   "metadata": {},
   "source": [
    "8- Write a Python program that receives the age of the user and display whether he/she can drive a car. If the user is above 18 years old, he/she can drive."
   ]
  },
  {
   "cell_type": "code",
   "execution_count": 13,
   "metadata": {},
   "outputs": [
    {
     "name": "stdout",
     "output_type": "stream",
     "text": [
      "great! you can drive a car\n"
     ]
    }
   ],
   "source": [
    "age = int(input(\"Enter your age: \"))\n",
    "\n",
    "if age >= 18: \n",
    "    print(\"great! you can drive a car\")\n",
    "else:\n",
    "    print(\"ohh, you can't drive a car\")"
   ]
  },
  {
   "cell_type": "markdown",
   "metadata": {},
   "source": [
    "9- Write a Python program that divides two numbers together and display the result. However, if the second number is a zero then the calculation can't be done as dividing a number by zero gives a result of â€˜infinityâ€™."
   ]
  },
  {
   "cell_type": "code",
   "execution_count": 21,
   "metadata": {},
   "outputs": [
    {
     "name": "stdout",
     "output_type": "stream",
     "text": [
      "Result= 12.0\n"
     ]
    }
   ],
   "source": [
    "numerator= float(input(\"Enter num 1: \"))\n",
    "denominator= float(input(\"Enter num 2: \"))\n",
    "\n",
    "if denominator == 0: \n",
    "    print(\"the calculation can't be done as dividing a number by zero gives a result of â€˜infinityâ€™.\")\n",
    "else:\n",
    "    res= numerator / denominator\n",
    "    print(f\"Result= {res}\")"
   ]
  },
  {
   "cell_type": "markdown",
   "metadata": {},
   "source": [
    "10- We need to print 0,3,6,9,12 using for loop\n"
   ]
  },
  {
   "cell_type": "code",
   "execution_count": 24,
   "metadata": {},
   "outputs": [
    {
     "name": "stdout",
     "output_type": "stream",
     "text": [
      "0\n",
      "3\n",
      "6\n",
      "9\n",
      "12\n"
     ]
    }
   ],
   "source": [
    "for i in range(0,13,3):\n",
    "    print(i)"
   ]
  },
  {
   "cell_type": "markdown",
   "metadata": {},
   "source": [
    "11-We need to print 0 ,3 ,6 ,9 ,12 and index of positions using for loop -> hint: enumerate function "
   ]
  },
  {
   "cell_type": "code",
   "execution_count": 25,
   "metadata": {},
   "outputs": [
    {
     "name": "stdout",
     "output_type": "stream",
     "text": [
      "Index 0 of 0\n",
      "Index 1 of 3\n",
      "Index 2 of 6\n",
      "Index 3 of 9\n",
      "Index 4 of 12\n"
     ]
    }
   ],
   "source": [
    "for index, value in enumerate(range(0,13,3)):\n",
    "    print(f\"Index {index} of {value}\")"
   ]
  },
  {
   "cell_type": "markdown",
   "metadata": {},
   "source": [
    "12- Given a list of numbers. write a program to turn every item of a list into its square\n",
    "\tlst = [1, 2, 3, 4, 5, 6, 7]\n",
    "\tresult = [1, 4, 9, 16, 25, 36, 49]"
   ]
  },
  {
   "cell_type": "code",
   "execution_count": 26,
   "metadata": {},
   "outputs": [
    {
     "name": "stdout",
     "output_type": "stream",
     "text": [
      "Result = [1, 4, 9, 16, 25, 36, 49]\n"
     ]
    }
   ],
   "source": [
    "lst = [1, 2, 3, 4, 5, 6, 7]\n",
    "lst_sqr = [i**2 for i in lst]\n",
    "print(f\"Result = {lst_sqr}\")"
   ]
  },
  {
   "cell_type": "markdown",
   "metadata": {},
   "source": [
    "13-  write a program to Concatenate two lists\n"
   ]
  },
  {
   "cell_type": "code",
   "execution_count": 32,
   "metadata": {},
   "outputs": [
    {
     "data": {
      "text/plain": [
       "[1, 2, 3, 4, 5, 6]"
      ]
     },
     "execution_count": 32,
     "metadata": {},
     "output_type": "execute_result"
    }
   ],
   "source": [
    "lst1 = [1,2,3]\n",
    "lst2 = [4,5,6]\n",
    "lst1.extend(lst2)\n",
    "lst1"
   ]
  },
  {
   "cell_type": "markdown",
   "metadata": {},
   "source": [
    "14- write a program to Reverse the tuple\n"
   ]
  },
  {
   "cell_type": "code",
   "execution_count": 34,
   "metadata": {},
   "outputs": [
    {
     "data": {
      "text/plain": [
       "(4, 3, 2, 1)"
      ]
     },
     "execution_count": 34,
     "metadata": {},
     "output_type": "execute_result"
    }
   ],
   "source": [
    "tp = (1,2,3,4)\n",
    "tp_rev = tuple(reversed(tp))\n",
    "tp_rev"
   ]
  },
  {
   "cell_type": "markdown",
   "metadata": {},
   "source": [
    "15- Convert two lists into a dictionary\n",
    " \tkeys = ['Ten', 'Twenty', 'Thirty']\n",
    " \tvalues = [10, 20, 30]"
   ]
  },
  {
   "cell_type": "code",
   "execution_count": 37,
   "metadata": {},
   "outputs": [
    {
     "data": {
      "text/plain": [
       "{'Ten': 10, 'Twenty': 20, 'Thirty': 30}"
      ]
     },
     "execution_count": 37,
     "metadata": {},
     "output_type": "execute_result"
    }
   ],
   "source": [
    "keys= ['Ten', 'Twenty', 'Thirty']\n",
    "values = [10, 20, 30]\n",
    "\n",
    "dict = dict(zip(keys, values))\n",
    "dict"
   ]
  },
  {
   "cell_type": "markdown",
   "metadata": {},
   "source": [
    "16- Create a dictionary with the names of five countries as keys and their capitals as values. Print the capital of one of the countries."
   ]
  },
  {
   "cell_type": "code",
   "execution_count": 38,
   "metadata": {},
   "outputs": [
    {
     "name": "stdout",
     "output_type": "stream",
     "text": [
      "Cairo\n"
     ]
    }
   ],
   "source": [
    "countries_capitals = {\n",
    "    'Egypt': 'Cairo',\n",
    "    'USA': 'Washington',\n",
    "    'France': 'Paris',\n",
    "    'Japan': 'Tokyo',\n",
    "    'Germany': 'Berlin'\n",
    "}\n",
    "\n",
    "print(countries_capitals['Egypt'])"
   ]
  },
  {
   "cell_type": "markdown",
   "metadata": {},
   "source": [
    "17- Given two dictionaries containing student names and their corresponding grades, combine them into a new dictionary containing (name, grade) pairs."
   ]
  },
  {
   "cell_type": "code",
   "execution_count": 43,
   "metadata": {},
   "outputs": [
    {
     "name": "stdout",
     "output_type": "stream",
     "text": [
      "{'Elsayed': 85, 'Mohamed': 92, 'Ali': 78, 'Dan': 88, 'Joo': 95, 'Ahmed': 89}\n"
     ]
    }
   ],
   "source": [
    "dict1 = {'Elsayed': 85, 'Mohamed': 92, 'Ali': 78}\n",
    "dict2 = {'Dan': 88, 'Joo': 95, 'Ahmed': 89}\n",
    "\n",
    "combined_dict = {name: grade for name, grade in dict1.items()}\n",
    "combined_dict.update({name: grade for name, grade in dict2.items()})\n",
    "print(combined_dict)"
   ]
  },
  {
   "cell_type": "code",
   "execution_count": null,
   "metadata": {},
   "outputs": [],
   "source": []
  }
 ],
 "metadata": {
  "kernelspec": {
   "display_name": "Python 3",
   "language": "python",
   "name": "python3"
  },
  "language_info": {
   "codemirror_mode": {
    "name": "ipython",
    "version": 3
   },
   "file_extension": ".py",
   "mimetype": "text/x-python",
   "name": "python",
   "nbconvert_exporter": "python",
   "pygments_lexer": "ipython3",
   "version": "3.11.4"
  },
  "orig_nbformat": 4
 },
 "nbformat": 4,
 "nbformat_minor": 2
}
