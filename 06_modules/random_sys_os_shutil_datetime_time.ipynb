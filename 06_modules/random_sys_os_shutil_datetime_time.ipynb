{
 "cells": [
  {
   "cell_type": "markdown",
   "metadata": {},
   "source": [
    "# Packages & Modules .."
   ]
  },
  {
   "cell_type": "markdown",
   "metadata": {},
   "source": [
    ">> Modules : files containing python code .\n",
    "\n",
    ">> Package : directory containing sub-package and modules\n",
    "\n",
    ">> library : contains multiple modules.\n",
    "\n",
    ">> Package > module > functions."
   ]
  },
  {
   "cell_type": "markdown",
   "metadata": {},
   "source": [
    "+ https://pypi.org/"
   ]
  },
  {
   "cell_type": "markdown",
   "metadata": {},
   "source": [
    "# random module"
   ]
  },
  {
   "cell_type": "code",
   "execution_count": null,
   "metadata": {},
   "outputs": [],
   "source": [
    "import random as rn"
   ]
  },
  {
   "cell_type": "code",
   "execution_count": null,
   "metadata": {},
   "outputs": [],
   "source": [
    "# random()\n",
    "print(round(rn.random())) # random number from 0 to 1"
   ]
  },
  {
   "cell_type": "code",
   "execution_count": null,
   "metadata": {},
   "outputs": [],
   "source": [
    "# randint(start,end)\n",
    "print(rn.randint(10,21)) # random integer numbers from 10 to 20"
   ]
  },
  {
   "cell_type": "code",
   "execution_count": null,
   "metadata": {},
   "outputs": [],
   "source": [
    "# uniform(start,end) \n",
    "print(rn.uniform(10,21)) # random float numbers from 10 to 20"
   ]
  },
  {
   "cell_type": "code",
   "execution_count": null,
   "metadata": {},
   "outputs": [],
   "source": [
    "# randrange(end) \n",
    "print(rn.randrange(100)) # random integers numbers from 0 to 100\n",
    "print(rn.randrange(0,20,2)) # random integers numbers from 0 to 20 step 2\n",
    "# print(rn.randrange(-1)) # ValueError: empty range for randrange()"
   ]
  },
  {
   "cell_type": "code",
   "execution_count": null,
   "metadata": {},
   "outputs": [],
   "source": [
    "# choice(list)\n",
    "print(rn.choice([1,5,6])) # take random numbers from list"
   ]
  },
  {
   "cell_type": "code",
   "execution_count": null,
   "metadata": {},
   "outputs": [],
   "source": [
    "\n",
    "# sample(range(),count_numbers)\n",
    "print(rn.sample(range(10),5)) # random 5 numbers from 0 to 10 "
   ]
  },
  {
   "cell_type": "code",
   "execution_count": null,
   "metadata": {},
   "outputs": [],
   "source": [
    "# shuffle(list) \n",
    "items = [1,2,5,7,8]\n",
    "rn.shuffle([1,2,5,7,8]) # Error: must pass variable items not elements list\n",
    "rn.shuffle(items) # change sort elements in list\n",
    "print(items)\n",
    "\n",
    "# print(rn.shuffle(items)) # return none "
   ]
  },
  {
   "cell_type": "code",
   "execution_count": null,
   "metadata": {},
   "outputs": [],
   "source": [
    "from random import random , randint , randrange "
   ]
  },
  {
   "cell_type": "code",
   "execution_count": null,
   "metadata": {},
   "outputs": [],
   "source": [
    "print(random()) # random numbers \n",
    "print(randint(1,10)) # random from : 1 2 3 4 5 6 7 8 9 10\n",
    "print(randrange(1,10,2)) # random from : 1 3 5 7 9"
   ]
  },
  {
   "cell_type": "code",
   "execution_count": null,
   "metadata": {},
   "outputs": [],
   "source": [
    "from random import random , randint , randrange "
   ]
  },
  {
   "cell_type": "code",
   "execution_count": null,
   "metadata": {},
   "outputs": [],
   "source": [
    "print(random()) # random numbers \n",
    "print(randint(1,10)) # random from : 1 2 3 4 5 6 7 8 9 10\n",
    "print(randrange(1,10,2)) # random from : 1 3 5 7 9"
   ]
  },
  {
   "cell_type": "markdown",
   "metadata": {},
   "source": [
    "# sys module"
   ]
  },
  {
   "cell_type": "code",
   "execution_count": null,
   "metadata": {},
   "outputs": [],
   "source": [
    "import sys"
   ]
  },
  {
   "cell_type": "code",
   "execution_count": null,
   "metadata": {},
   "outputs": [],
   "source": [
    "print(sys.path) # return all paths"
   ]
  },
  {
   "cell_type": "code",
   "execution_count": null,
   "metadata": {},
   "outputs": [],
   "source": [
    "# append new path\n",
    "sys.path.append(r\"E:\\COURSES\\Projects\\Python Projects\\My Modules\")"
   ]
  },
  {
   "cell_type": "code",
   "execution_count": null,
   "metadata": {},
   "outputs": [],
   "source": [
    "# stop programs\n",
    "# sys.exit()\n",
    "for i in range(0, 10):\n",
    "    print(i)\n",
    "    if i == 5:\n",
    "        sys.exit(0) # stop program"
   ]
  },
  {
   "cell_type": "code",
   "execution_count": null,
   "metadata": {},
   "outputs": [],
   "source": [
    "import sys"
   ]
  },
  {
   "cell_type": "markdown",
   "metadata": {},
   "source": [
    "##  ![\"append_path\"](append_path.png)"
   ]
  },
  {
   "cell_type": "code",
   "execution_count": null,
   "metadata": {},
   "outputs": [],
   "source": [
    "print(sys.path) # return all paths"
   ]
  },
  {
   "cell_type": "code",
   "execution_count": null,
   "metadata": {},
   "outputs": [],
   "source": [
    "# append new path\n",
    "sys.path.append(r\"E:\\COURSES\\Projects\\Python Projects\\My Modules\")"
   ]
  },
  {
   "cell_type": "code",
   "execution_count": null,
   "metadata": {},
   "outputs": [],
   "source": [
    "# stop programs\n",
    "# sys.exit()\n",
    "for i in range(0, 10):\n",
    "    print(i)\n",
    "    if i == 5:\n",
    "        sys.exit(0) # stop program"
   ]
  },
  {
   "cell_type": "markdown",
   "metadata": {},
   "source": [
    "![\"run_pass_args_to_file\"](run_pass_args_to_file.png)"
   ]
  },
  {
   "cell_type": "code",
   "execution_count": null,
   "metadata": {},
   "outputs": [],
   "source": [
    "!python file_name.py"
   ]
  },
  {
   "cell_type": "markdown",
   "metadata": {},
   "source": [
    "# os module"
   ]
  },
  {
   "cell_type": "code",
   "execution_count": null,
   "metadata": {},
   "outputs": [],
   "source": [
    "import os"
   ]
  },
  {
   "cell_type": "code",
   "execution_count": null,
   "metadata": {},
   "outputs": [],
   "source": [
    "# Absolute path \n",
    "# + full path\n",
    "\n",
    "# get 'CWD': Current Working Directory with file name\n",
    "print(os.getcwd())\n",
    "\n",
    "# path\n",
    "open(r\"e:\\COURSES\\100 Days Of Code\\Day 7\\rio.txt\")  # return file data object not content of file"
   ]
  },
  {
   "cell_type": "code",
   "execution_count": null,
   "metadata": {},
   "outputs": [],
   "source": [
    "### Relative path\n",
    "# + only name file\n",
    "\n",
    "# path\n",
    "open(r\"rio.txt\") # return file data object not content of file"
   ]
  },
  {
   "cell_type": "code",
   "execution_count": null,
   "metadata": {},
   "outputs": [],
   "source": [
    "# get directory name\n",
    "\n",
    "# to get the Absolute path\n",
    "print(os.getcwd()) # get 'CWD': Current Working Directory with file name\n",
    "print(os.path.dirname(os.getcwd())) # get directory name"
   ]
  },
  {
   "cell_type": "code",
   "execution_count": null,
   "metadata": {},
   "outputs": [],
   "source": [
    "# change CWD\n",
    "# os.chdir(\"new path\")"
   ]
  },
  {
   "cell_type": "code",
   "execution_count": null,
   "metadata": {},
   "outputs": [],
   "source": [
    "# os.path.exists : check if file or dir exists or not\n",
    "print(os.path.exists(r'handingFile.ipynb')) # True\n",
    "print(os.path.exists(r'//media//elsayedelmandoh//1851b811-2c25-4d20-823a-cac5d82480ef//Courses//Machine Learning//Lab')) # True"
   ]
  },
  {
   "cell_type": "code",
   "execution_count": null,
   "metadata": {},
   "outputs": [],
   "source": [
    "import os # import module\n",
    "os.getcwd() # get 'CWD': Current Working Directory\n",
    "\n",
    "\n",
    "from os import getcwd # import only getcwd method from os module\n",
    "getcwd()\n",
    "\n",
    "\n",
    "import platform as pf # this is alias \"اختصار\"\n",
    "pf.platform() # get platform \"Windows\""
   ]
  },
  {
   "cell_type": "code",
   "execution_count": null,
   "metadata": {},
   "outputs": [],
   "source": [
    "# os.walk() >> to get all files in dir\n",
    "for root, dirs, files in os.walk(os.getcwd()):\n",
    "    # create loop for name file \n",
    "    for file in files:\n",
    "        print(f'root: {root} , name: {file}')\n",
    "        '''\n",
    "root: e:\\COURSES\\PYTHON\\Python Projects\\Huawei , name: BasicPythonHuawei.ipynb\n",
    "root: e:\\COURSES\\PYTHON\\Python Projects\\Huawei , name: file.txt\n",
    "        '''\n",
    "    print('*'*70)\n",
    "    # # create loop for name dirs\n",
    "    for dir in dirs:\n",
    "        print(f'root: {root} , name: {dir}') # no dirs found"
   ]
  },
  {
   "cell_type": "code",
   "execution_count": null,
   "metadata": {},
   "outputs": [],
   "source": [
    "# os.path >>\n",
    "# abspath(path) >> get absolute path name\n",
    "print('absolute name:',os.path.abspath(os.getcwd()))# absolute name: e:\\COURSES\\PYTHON\\Python Projects\\Huawei"
   ]
  },
  {
   "cell_type": "code",
   "execution_count": null,
   "metadata": {},
   "outputs": [],
   "source": [
    "# os.path.exists(path) > true if path is found\n",
    "print('Exists or not: ',os.path.exists(os.getcwd())) # True"
   ]
  },
  {
   "cell_type": "code",
   "execution_count": null,
   "metadata": {},
   "outputs": [],
   "source": [
    "# os.path.getsize(path) >\n",
    "print('Size:',os.path.getsize('Contents day 9.txt')) "
   ]
  },
  {
   "cell_type": "code",
   "execution_count": null,
   "metadata": {},
   "outputs": [],
   "source": [
    "# os.path.isfile(path) >>\n",
    "print('IS File :',os.path.isfile('Contents day 9.txt')) # True"
   ]
  },
  {
   "cell_type": "code",
   "execution_count": null,
   "metadata": {},
   "outputs": [],
   "source": [
    "# os.path.isfolder(path) >> \n",
    "print('IS File :',os.path.isdir(os.getcwd())) # True"
   ]
  },
  {
   "cell_type": "markdown",
   "metadata": {},
   "source": [
    "to show current directory"
   ]
  },
  {
   "cell_type": "code",
   "execution_count": null,
   "metadata": {},
   "outputs": [],
   "source": [
    "print(os.getcwd())"
   ]
  },
  {
   "cell_type": "markdown",
   "metadata": {},
   "source": [
    "show content of folder"
   ]
  },
  {
   "cell_type": "code",
   "execution_count": null,
   "metadata": {},
   "outputs": [],
   "source": [
    "os.listdir(os.getcwd())"
   ]
  },
  {
   "cell_type": "markdown",
   "metadata": {},
   "source": [
    "to change location of current directory"
   ]
  },
  {
   "cell_type": "code",
   "execution_count": null,
   "metadata": {},
   "outputs": [],
   "source": [
    "os.chdir(\"path_to_go_to\")"
   ]
  },
  {
   "cell_type": "code",
   "execution_count": null,
   "metadata": {},
   "outputs": [],
   "source": [
    "# os.walk() >> to get all files in dir\n",
    "for root, dirs, files in os.walk(os.getcwd()):\n",
    "    # create loop for name file \n",
    "    for file in files:\n",
    "        print(f'root: {root} , name: {file}')\n",
    "        '''\n",
    "root: e:\\COURSES\\PYTHON\\Python Projects\\Huawei , name: BasicPythonHuawei.ipynb\n",
    "root: e:\\COURSES\\PYTHON\\Python Projects\\Huawei , name: file.txt\n",
    "        '''\n",
    "    print('*'*70)\n",
    "    # # create loop for name dirs\n",
    "    for dir in dirs:\n",
    "        print(f'root: {root} , name: {dir}') # no dirs found"
   ]
  },
  {
   "cell_type": "markdown",
   "metadata": {},
   "source": [
    "![\"paths_types\"](paths_types.png)"
   ]
  },
  {
   "cell_type": "code",
   "execution_count": null,
   "metadata": {},
   "outputs": [],
   "source": [
    "# os.path >>\n",
    "# abspath(path) >> get absolute path name\n",
    "print('absolute name:',os.path.abspath(os.getcwd()))# absolute name: e:\\COURSES\\PYTHON\\Python Projects\\Huawei"
   ]
  },
  {
   "cell_type": "code",
   "execution_count": null,
   "metadata": {},
   "outputs": [],
   "source": [
    "# os.path.exists(path) > true if path is found\n",
    "print('Exists or not: ',os.path.exists(os.getcwd())) # True"
   ]
  },
  {
   "cell_type": "code",
   "execution_count": null,
   "metadata": {},
   "outputs": [],
   "source": [
    "# os.path.getsize(path) >\n",
    "print('Size:',os.path.getsize('Contents day 9.txt')) "
   ]
  },
  {
   "cell_type": "code",
   "execution_count": null,
   "metadata": {},
   "outputs": [],
   "source": [
    "# os.path.isfile(path) >>\n",
    "print('IS File :',os.path.isfile('Contents day 9.txt')) # True"
   ]
  },
  {
   "cell_type": "code",
   "execution_count": null,
   "metadata": {},
   "outputs": [],
   "source": [
    "# os.path.isfolder(path) >> \n",
    "print('IS File :',os.path.isdir(os.getcwd())) # True"
   ]
  },
  {
   "cell_type": "markdown",
   "metadata": {},
   "source": [
    "run file from notebook with same current directory"
   ]
  },
  {
   "cell_type": "markdown",
   "metadata": {},
   "source": [
    "![\"run_file_from_colab\"](run_file_from_colab.png)"
   ]
  },
  {
   "cell_type": "markdown",
   "metadata": {},
   "source": [
    "create file contian funcation"
   ]
  },
  {
   "cell_type": "code",
   "execution_count": null,
   "metadata": {},
   "outputs": [],
   "source": [
    "%%writefile file_name.py\n",
    "\n",
    "def help():\n",
    "    print(\"Four\")"
   ]
  },
  {
   "cell_type": "markdown",
   "metadata": {},
   "source": [
    "import function from file"
   ]
  },
  {
   "cell_type": "code",
   "execution_count": null,
   "metadata": {},
   "outputs": [],
   "source": [
    "from file_name import help\n",
    "help()"
   ]
  },
  {
   "cell_type": "markdown",
   "metadata": {},
   "source": [
    "pass arg (50) to file_name"
   ]
  },
  {
   "cell_type": "code",
   "execution_count": null,
   "metadata": {},
   "outputs": [],
   "source": [
    "%%writefile file_name.py \n",
    "import sys\n",
    "print(sys.argv)"
   ]
  },
  {
   "cell_type": "code",
   "execution_count": null,
   "metadata": {},
   "outputs": [],
   "source": [
    "! python file_name.py 50"
   ]
  },
  {
   "cell_type": "code",
   "execution_count": null,
   "metadata": {},
   "outputs": [],
   "source": [
    "x = sys.argv[1]\n",
    "x # because sys imported in file_name.py "
   ]
  },
  {
   "cell_type": "code",
   "execution_count": null,
   "metadata": {},
   "outputs": [],
   "source": [
    "%%writefile file_name.py\n",
    "import sys\n",
    "x= int(sys.argv[1]) # 'str' object cannot be interpreted as an integer, so convert it to a integer/\n",
    "print([num for num in range(x) if num % 5 == 0])"
   ]
  },
  {
   "cell_type": "code",
   "execution_count": null,
   "metadata": {},
   "outputs": [],
   "source": [
    "! python file_name.py 50"
   ]
  },
  {
   "cell_type": "markdown",
   "metadata": {},
   "source": [
    "# shutil module "
   ]
  },
  {
   "cell_type": "code",
   "execution_count": null,
   "metadata": {},
   "outputs": [],
   "source": [
    "import shutil as sh  # copy and move files and directories"
   ]
  },
  {
   "cell_type": "code",
   "execution_count": null,
   "metadata": {},
   "outputs": [],
   "source": [
    "# copy file \n",
    "print(sh.copy(r'Python Code.pdf', r'Lab//Python Code_copy.pdf')) # True\n",
    "\n",
    "# copy dir\n",
    "print(sh.copytree(r'Lab', r'Lab_copy')) # True"
   ]
  },
  {
   "cell_type": "code",
   "execution_count": null,
   "metadata": {},
   "outputs": [],
   "source": [
    "# move file or dir\n",
    "print(sh.move(r'Lab', r'Notes//Lab_move')) # True"
   ]
  },
  {
   "cell_type": "code",
   "execution_count": null,
   "metadata": {},
   "outputs": [],
   "source": [
    "# rename file or dir\n",
    "print(sh.move(r'Machine Learning',r'Lab')) # True"
   ]
  },
  {
   "cell_type": "code",
   "execution_count": null,
   "metadata": {},
   "outputs": [],
   "source": [
    "# remove dir\n",
    "print(sh.rmtree(r'Lab_copy')) # True"
   ]
  },
  {
   "cell_type": "markdown",
   "metadata": {},
   "source": [
    "# datetime"
   ]
  },
  {
   "cell_type": "markdown",
   "metadata": {},
   "source": [
    "+ https://strftime.org/"
   ]
  },
  {
   "cell_type": "code",
   "execution_count": null,
   "metadata": {},
   "outputs": [],
   "source": [
    "import datetime"
   ]
  },
  {
   "cell_type": "code",
   "execution_count": null,
   "metadata": {},
   "outputs": [],
   "source": [
    "print(datetime.datetime.now())\n",
    "print(datetime.datetime.now().today())\n",
    "print(datetime.datetime.now().date())"
   ]
  },
  {
   "cell_type": "code",
   "execution_count": null,
   "metadata": {},
   "outputs": [],
   "source": [
    "print(datetime.datetime.now().year)\n",
    "print(datetime.datetime.now().month)\n",
    "print(datetime.datetime.now().day)\n",
    "print(datetime.datetime.now().hour)\n",
    "print(datetime.datetime.now().minute)\n",
    "print(datetime.datetime.now().second)\n",
    "print(datetime.datetime.now().microsecond)"
   ]
  },
  {
   "cell_type": "code",
   "execution_count": null,
   "metadata": {},
   "outputs": [],
   "source": [
    "print(datetime.datetime.now().time())\n",
    "print(datetime.datetime.now().time().hour)\n",
    "print(datetime.datetime.now().time().minute)\n",
    "print(datetime.datetime.now().time().second)\n",
    "print(datetime.datetime.now().time().microsecond)\n",
    "print(datetime.datetime.now().time().max)\n",
    "print(datetime.datetime.now().time().min)"
   ]
  },
  {
   "cell_type": "markdown",
   "metadata": {},
   "source": [
    "+ https://strftime.org/"
   ]
  },
  {
   "cell_type": "code",
   "execution_count": null,
   "metadata": {},
   "outputs": [],
   "source": [
    "# specific date\n",
    "# must be year , month , day\n",
    "print(datetime.datetime(2002,6,18))"
   ]
  },
  {
   "cell_type": "code",
   "execution_count": null,
   "metadata": {},
   "outputs": [],
   "source": [
    "# sbustract date from date\n",
    "print(datetime.datetime.now() - datetime.datetime(2002,6,18))\n",
    "print(f'{(datetime.datetime.now() - datetime.datetime(2002,6,18)).days} days')"
   ]
  },
  {
   "cell_type": "code",
   "execution_count": null,
   "metadata": {},
   "outputs": [],
   "source": [
    "# strftime : string from time formatting \n",
    "myBirthday = datetime.datetime(2002,6,18,7,59,59)\n",
    "\n",
    "print(myBirthday.strftime(\"%Y-%m-%d\")) # 2002-06-18\n",
    "print(myBirthday.strftime(\"%Y-%m-%d %H:%M:%S\")) # 2002-06-18 12:59:59"
   ]
  },
  {
   "cell_type": "code",
   "execution_count": null,
   "metadata": {},
   "outputs": [],
   "source": [
    "print(myBirthday.strftime(\"%a\")) # Tue\n",
    "print(myBirthday.strftime(\"%A\")) # Tuesday"
   ]
  },
  {
   "cell_type": "code",
   "execution_count": null,
   "metadata": {},
   "outputs": [],
   "source": [
    "print(myBirthday.strftime(\"%b\")) # Jun\n",
    "print(myBirthday.strftime(\"%B\")) # June"
   ]
  },
  {
   "cell_type": "code",
   "execution_count": null,
   "metadata": {},
   "outputs": [],
   "source": [
    "print(myBirthday.strftime(\"%j\")) # day of year \n",
    "print(myBirthday.strftime(\"%W\")) # week of year\n",
    "print(myBirthday.strftime(\"%U\")) # week of year"
   ]
  },
  {
   "cell_type": "code",
   "execution_count": null,
   "metadata": {},
   "outputs": [],
   "source": [
    "print(myBirthday.strftime(\"%H\")) # 12\n",
    "print(myBirthday.strftime(\"%M\")) # 59\n",
    "print(myBirthday.strftime(\"%S\")) # 59"
   ]
  },
  {
   "cell_type": "code",
   "execution_count": null,
   "metadata": {},
   "outputs": [],
   "source": [
    "print(myBirthday.strftime(\"%y\")) # 02\n",
    "print(myBirthday.strftime(\"%m\")) # 06\n",
    "print(myBirthday.strftime(\"%d\")) # 18"
   ]
  },
  {
   "cell_type": "code",
   "execution_count": null,
   "metadata": {},
   "outputs": [],
   "source": [
    "print(myBirthday.strftime(\"%c\")) # Tue Jun 18 12:59:59 2002\n",
    "print(myBirthday.strftime(\"%x\")) # 06/18/2002\n",
    "print(myBirthday.strftime(\"%X\")) # 12:59:59"
   ]
  },
  {
   "cell_type": "markdown",
   "metadata": {},
   "source": [
    "# time"
   ]
  },
  {
   "cell_type": "code",
   "execution_count": 61,
   "metadata": {},
   "outputs": [],
   "source": [
    "import time"
   ]
  },
  {
   "cell_type": "code",
   "execution_count": 62,
   "metadata": {},
   "outputs": [
    {
     "name": "stdout",
     "output_type": "stream",
     "text": [
      "2022:07:12 21:28:42\n"
     ]
    }
   ],
   "source": [
    "''' strftime('format')\n",
    "\n",
    "%Y > year 2022\n",
    "%y > year 22 \n",
    "\n",
    "%m > month 01\n",
    "%d > day 04\n",
    "\n",
    "%H > hour\n",
    "%M > min \n",
    "%S > sec\n",
    "''' \n",
    "print(time.strftime('%Y:%m:%d %H:%M:%S',time.localtime()))"
   ]
  }
 ],
 "metadata": {
  "kernelspec": {
   "display_name": "Python 3.10.5 64-bit (windows store)",
   "language": "python",
   "name": "python3"
  },
  "language_info": {
   "codemirror_mode": {
    "name": "ipython",
    "version": 3
   },
   "file_extension": ".py",
   "mimetype": "text/x-python",
   "name": "python",
   "nbconvert_exporter": "python",
   "pygments_lexer": "ipython3",
   "version": "3.10.5"
  },
  "orig_nbformat": 4,
  "vscode": {
   "interpreter": {
    "hash": "729afad0724626e7b8436c49b9d68ca1d0caad87404d0437b0ea90e838748387"
   }
  }
 },
 "nbformat": 4,
 "nbformat_minor": 2
}
