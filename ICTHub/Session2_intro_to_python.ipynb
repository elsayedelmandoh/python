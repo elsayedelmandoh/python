{
  "cells": [
    {
      "cell_type": "code",
      "execution_count": null,
      "metadata": {
        "colab": {
          "base_uri": "https://localhost:8080/"
        },
        "id": "gBeQNyrL675K",
        "outputId": "75e5c983-1987-4442-b4c0-f27f14e993c4"
      },
      "outputs": [
        {
          "name": "stdout",
          "output_type": "stream",
          "text": [
            "10\n",
            "20\n"
          ]
        }
      ],
      "source": [
        "x = 10\n",
        "y = 20\n",
        "\n",
        "# < , > < = , > = != ==\n",
        "# True\n",
        "# False\n",
        "if x < y :\n",
        "  print (x)\n",
        "\n",
        "print (y)\n",
        "\n"
      ]
    },
    {
      "cell_type": "code",
      "execution_count": null,
      "metadata": {
        "id": "jwQokLGNEM6-"
      },
      "outputs": [],
      "source": [
        "if x > y :\n",
        "  print(y)\n",
        "else:\n",
        "  print(x)"
      ]
    },
    {
      "cell_type": "code",
      "execution_count": null,
      "metadata": {
        "colab": {
          "base_uri": "https://localhost:8080/"
        },
        "id": "6FRmSKFlGqI_",
        "outputId": "3fa61812-48de-4cd4-af3d-adc5b2f78624"
      },
      "outputs": [
        {
          "name": "stdout",
          "output_type": "stream",
          "text": [
            "D\n"
          ]
        }
      ],
      "source": [
        "\n",
        " #{90 = A, 80 = B, 70=C 60=D F }\n",
        "score = int (input(\"Enter your score \"))\n",
        "\n",
        "# logical and   or   not\n",
        "\n",
        "if score > 100 or score < 0 :\n",
        "   grade = \"Wrong number \"\n",
        "elif score >= 90:\n",
        "  grade = \"A\"\n",
        "elif score >= 80:\n",
        "  grade = \"B\"\n",
        "elif score >=70:\n",
        "  grade = \"C\"\n",
        "elif score >= 60:\n",
        "  grade= \"D\"\n",
        "else:\n",
        "  grade = \"F\"\n",
        "\n",
        "print ( grade)\n",
        "\n",
        "# implemet Error handling if greater than 100 or in negative\n",
        "# \" wrong number \""
      ]
    },
    {
      "cell_type": "code",
      "execution_count": null,
      "metadata": {
        "id": "zAQlV__AO6Qh"
      },
      "outputs": [],
      "source": [
        "i=1\n",
        "while i <= 10 :\n",
        "  print (i)\n",
        "  i +=1"
      ]
    },
    {
      "cell_type": "code",
      "execution_count": null,
      "metadata": {
        "id": "KghZheWWQOKk"
      },
      "outputs": [],
      "source": [
        "#break , Continue\n",
        "i=0\n",
        "while i <= 10 :\n",
        "  i +=1\n",
        "  if i ==3:\n",
        "    continue\n",
        "  print (i)\n",
        "\n",
        "print (\" OUT\")"
      ]
    },
    {
      "cell_type": "code",
      "execution_count": null,
      "metadata": {
        "id": "O3Al5LgxReD5"
      },
      "outputs": [],
      "source": [
        "# 5\n",
        "# 5*4*3*2*1"
      ]
    },
    {
      "cell_type": "code",
      "execution_count": null,
      "metadata": {
        "id": "ab49rj7LPcNL"
      },
      "outputs": [],
      "source": [
        "user_input = \"\"\n",
        "while user_input.lower() != \"quit\":\n",
        "  user_input = input(\"Enter a word (type 'Quit' to Exit)\")\n",
        "  print (\"you entered \" , user_input)"
      ]
    },
    {
      "cell_type": "code",
      "execution_count": null,
      "metadata": {
        "id": "TPAoeYXoNzSZ"
      },
      "outputs": [],
      "source": [
        "for i in range (0,6,2):\n",
        "  print (i)"
      ]
    },
    {
      "cell_type": "code",
      "execution_count": null,
      "metadata": {
        "colab": {
          "base_uri": "https://localhost:8080/"
        },
        "id": "dIYSSqqyYqrA",
        "outputId": "afca1be1-2ea3-410a-9a02-5ee8a15ffa3f"
      },
      "outputs": [
        {
          "name": "stdout",
          "output_type": "stream",
          "text": [
            " Hello, Welcome to ICT !\n"
          ]
        }
      ],
      "source": [
        "def great ():\n",
        "  print (\" Hello, Welcome to ICT !\")\n",
        "\n",
        "\n",
        "great ()"
      ]
    },
    {
      "cell_type": "code",
      "execution_count": null,
      "metadata": {
        "colab": {
          "base_uri": "https://localhost:8080/"
        },
        "id": "GckRlApDZTMM",
        "outputId": "40b88630-5d1d-4486-ea50-abba4c579dbf"
      },
      "outputs": [
        {
          "name": "stdout",
          "output_type": "stream",
          "text": [
            " Hello Bayan, Welcome to ICT !\n"
          ]
        }
      ],
      "source": [
        "def great (name ):\n",
        "  print (f\" Hello {name}, Welcome to ICT !\")\n",
        "\n",
        "sname= \"Bayan\"\n",
        "great (sname)"
      ]
    },
    {
      "cell_type": "code",
      "execution_count": null,
      "metadata": {
        "colab": {
          "base_uri": "https://localhost:8080/"
        },
        "id": "QJbz71sLa8UP",
        "outputId": "a6df3f0c-7737-4c19-e712-4150ef9f063a"
      },
      "outputs": [
        {
          "name": "stdout",
          "output_type": "stream",
          "text": [
            " Hello Bayan, Welcome to ICT !\n"
          ]
        }
      ],
      "source": [
        "def great (name = \"Guest\" ):\n",
        "  print (f\" Hello {name}, Welcome to ICT !\")\n",
        "\n",
        "sname= \"Bayan\"\n",
        "great (sname)"
      ]
    },
    {
      "cell_type": "code",
      "execution_count": null,
      "metadata": {
        "colab": {
          "base_uri": "https://localhost:8080/"
        },
        "id": "0Hrlhj43bQSL",
        "outputId": "790059d5-514b-4b99-a865-fd1c0dd6905e"
      },
      "outputs": [
        {
          "name": "stdout",
          "output_type": "stream",
          "text": [
            " Area is 24, Perimeter is: 20\n"
          ]
        }
      ],
      "source": [
        "def rectangleCalculater (L , W):\n",
        "  area = L *W\n",
        "  Per = 2*( L+W)\n",
        "  return area , Per\n",
        "area, P = rectangleCalculater (4,6)\n",
        "print (f\" Area is {area}, Perimeter is: {P}\")"
      ]
    },
    {
      "cell_type": "code",
      "execution_count": null,
      "metadata": {
        "colab": {
          "base_uri": "https://localhost:8080/"
        },
        "id": "JgwlTQSYcT95",
        "outputId": "159640e7-c359-4090-d61e-6e3af4a51ec5"
      },
      "outputs": [
        {
          "name": "stdout",
          "output_type": "stream",
          "text": [
            "Local result 10\n",
            "Global  result 10\n"
          ]
        }
      ],
      "source": [
        "def Multiply (number):\n",
        "  result = number *2\n",
        "  print (f\"Local result {result}\")\n",
        "  return result\n",
        "\n",
        "\n",
        "\n",
        "\n",
        "result = Multiply(5)\n",
        "\n",
        "print (f\"Global  result {result}\")"
      ]
    },
    {
      "cell_type": "code",
      "execution_count": null,
      "metadata": {
        "id": "WlqgKqz-da6E"
      },
      "outputs": [],
      "source": [
        "def outer (x):\n",
        "  y=5\n",
        "\n",
        "  def inner ():\n",
        "    result = x+y\n",
        "    print (result )\n",
        "\n",
        "  inner()\n",
        "\n",
        "outer ( 3)"
      ]
    },
    {
      "cell_type": "code",
      "execution_count": null,
      "metadata": {
        "id": "rJwlu__lZ4Ro"
      },
      "outputs": [],
      "source": [
        "def addNumbers (a, b):\n",
        "  result = a+b\n",
        "  print (result)\n",
        "  return result, a, b\n",
        "\n",
        "avgNumber = addNumbers(5,3)/2\n",
        "print (avgNumber)"
      ]
    },
    {
      "cell_type": "code",
      "execution_count": null,
      "metadata": {
        "id": "7Fqxm5Gwd31W"
      },
      "outputs": [],
      "source": [
        "def add (a, b):\n",
        "  return a+b\n",
        "\n",
        "def sub (a, b):\n",
        "  return a-b\n",
        "\n",
        "def mul (a, b ):\n",
        "  return a*b\n",
        "\n",
        "x = int ( input(\"Enter first number \"))\n",
        "y = int (input(\"Enter socrnd number \"))\n",
        "z = input (\" enter operation to Apply +  -  *  /\")\n",
        "\n",
        "if z == '+':\n",
        "  print (add(x,y))\n",
        "elif z== '++' :\n",
        "  print (x-y):\n",
        "elif z == '*':\n",
        "  print (x*y)\n",
        "elif z== '/':\n",
        "  print (x/y)\n"
      ]
    },
    {
      "cell_type": "markdown",
      "metadata": {
        "id": "L-3UFiH6d4UU"
      },
      "source": [
        "# Calculator functions + - * /"
      ]
    },
    {
      "cell_type": "markdown",
      "metadata": {
        "id": "bWYdfBm0-2wn"
      },
      "source": [
        "# Proplems ( loop)"
      ]
    },
    {
      "cell_type": "markdown",
      "metadata": {
        "id": "PVH3rjg8-xjK"
      },
      "source": [
        "4. **Problem:** Write a program that prints the multiplication table for a given number up to 10.\n",
        "\n",
        "5. **Problem:** Implement a program that calculates the factorial of a given number using a loop."
      ]
    },
    {
      "cell_type": "markdown",
      "metadata": {
        "id": "rL2Ltj0R-y9j"
      },
      "source": [
        "# Proplems (conditions)\n"
      ]
    },
    {
      "cell_type": "markdown",
      "metadata": {
        "id": "xTw4ZQe98L2i"
      },
      "source": [
        "1. **Problem:** Write a program that takes a number as input and prints whether it's positive, negative, or zero.\n",
        "\n",
        "2. **Problem:** Create a program that checks if a given year is a leap year. A leap year is divisible by 4, except for years that are divisible by 100 but not divisible by 400.\n",
        "\n",
        "3. **Problem:** Develop a program that determines if a given string is a palindrome (reads the same backward as forward)."
      ]
    },
    {
      "cell_type": "markdown",
      "metadata": {
        "id": "l80PIXFG-_Un"
      },
      "source": [
        "# Proplems ( functions)"
      ]
    },
    {
      "cell_type": "markdown",
      "metadata": {
        "id": "bjHrj_Td_C2T"
      },
      "source": [
        "6. **Problem:** Define a function that takes two numbers as parameters and returns their sum.\n",
        "\n",
        "7. **Problem:** Write a function that checks if a given number is prime. The function should return `True` if the number is prime, and `False` otherwise.\n",
        "\n",
        "8. **Problem:** Develop a function that takes a list of numbers as input and returns the average."
      ]
    },
    {
      "cell_type": "markdown",
      "metadata": {
        "id": "glxZ0igHlPzC"
      },
      "source": [
        "# Assignment"
      ]
    },
    {
      "cell_type": "markdown",
      "metadata": {
        "id": "-Xr15H_TlR3A"
      },
      "source": [
        "**Requirements:**\n",
        "1. The chatbot should greet the user and ask for their name.\n",
        "2. Based on the user's response, the chatbot should provide different responses.\n",
        "3. Implement a loop that allows the chatbot to continue the conversation until the user decides to exit.\n",
        "4. Include functions to handle different aspects of the conversation (e.g., greeting, asking for user input, providing responses).\n",
        "5. Use conditional statements to create different branches in the conversation."
      ]
    },
    {
      "cell_type": "markdown",
      "metadata": {},
      "source": [
        "send ass to mail: elakhdar.bayan@gmail.com"
      ]
    },
    {
      "cell_type": "markdown",
      "metadata": {},
      "source": [
        "- The chatbot should `greet the user` and `ask for their name`.\n",
        "- `function` to handel different aspects of the conversation (e.g., `greeting`)"
      ]
    },
    {
      "cell_type": "code",
      "execution_count": null,
      "metadata": {},
      "outputs": [],
      "source": [
        "def greet():\n",
        "    print(\"Hello! I'm a chatbot. What's your name?\")"
      ]
    },
    {
      "cell_type": "markdown",
      "metadata": {},
      "source": [
        "- Include `functions` to handle different aspects of the conversation (e.g., `asking for user input`, `providing responses`)."
      ]
    },
    {
      "cell_type": "code",
      "execution_count": null,
      "metadata": {},
      "outputs": [],
      "source": [
        "def get_user_name():\n",
        "    user_name = input(\"Please enter your name: \")\n",
        "    return user_name\n",
        "\n",
        "def respond_to_name(name):\n",
        "    print(f\"Nice to meet you, {name}!\")"
      ]
    },
    {
      "cell_type": "markdown",
      "metadata": {},
      "source": [
        "- Based on the user's response, the chatbot should `provide different responses`.\n",
        "- Implement a `loop` that `allows the chatbot to continue` the conversation `until the user decides to exit`.\n",
        "- `Use conditional` statements to create different branches in the conversation."
      ]
    },
    {
      "cell_type": "code",
      "execution_count": null,
      "metadata": {},
      "outputs": [],
      "source": [
        "def main():\n",
        "    greet()\n",
        "    user_name = get_user_name()\n",
        "    respond_to_name(user_name)\n",
        "\n",
        "    while True:\n",
        "        try:\n",
        "            user_input = input(\"How can I assist you today? (Type 'exit' to end the conversation): \")\n",
        "\n",
        "            if user_input.lower() == 'exit':\n",
        "                print(f\"{user_name}: {user_input}\")\n",
        "                print(\"Goodbye! Have a great day!\")\n",
        "                break\n",
        "\n",
        "            # conditions\n",
        "            elif 'how are you' in user_input.lower():\n",
        "                print(f\"{user_name}: {user_input}\")\n",
        "                print(\"I'm just a chatbot, but thanks for asking!\")\n",
        "\n",
        "            elif 'tell me a joke' in user_input.lower():\n",
        "                print(f\"{user_name}: {user_input}\")\n",
        "                print(\"Why don't scientists trust atoms? Because they make up everything!\")\n",
        "\n",
        "            elif 'thank you' in user_input.lower():\n",
        "                print(f\"{user_name}: {user_input}\")\n",
        "                print(\"Are you welcome\")\n",
        "            else:\n",
        "                print(f\"{user_name}: {user_input}\")\n",
        "                print(\"I'm sorry, I didn't understand that. Can you please clarify?\")\n",
        "\n",
        "        except KeyboardInterrupt:\n",
        "            print(\"\\nKeyboardInterrupt received.\\nExiting...\")\n",
        "            break"
      ]
    },
    {
      "cell_type": "markdown",
      "metadata": {},
      "source": [
        "Run code"
      ]
    },
    {
      "cell_type": "code",
      "execution_count": null,
      "metadata": {},
      "outputs": [
        {
          "name": "stdout",
          "output_type": "stream",
          "text": [
            "Hello! I'm a chatbot. What's your name?\n",
            "Nice to meet you, Elsayed!\n",
            "Elsayed: how are you\n",
            "I'm just a computer program, but thanks for asking!\n",
            "Elsayed: tell ME A jOkE\n",
            "Why don't scientists trust atoms? Because they make up everything!\n",
            "Elsayed: THANK YOU\n",
            "Are you welcome\n",
            "Elsayed: HI\n",
            "I'm sorry, I didn't understand that. Can you please clarify?\n",
            "Elsayed: EXIT\n",
            "Goodbye! Have a great day!\n"
          ]
        }
      ],
      "source": [
        "if __name__ == \"__main__\":\n",
        "    main()"
      ]
    }
  ],
  "metadata": {
    "colab": {
      "provenance": []
    },
    "kernelspec": {
      "display_name": "Python 3",
      "name": "python3"
    },
    "language_info": {
      "name": "python"
    }
  },
  "nbformat": 4,
  "nbformat_minor": 0
}
