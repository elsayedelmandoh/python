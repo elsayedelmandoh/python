{
 "cells": [
  {
   "cell_type": "markdown",
   "metadata": {},
   "source": [
    "# Regular Expression:\n",
    "- sequence of chars that define search pattern"
   ]
  },
  {
   "cell_type": "code",
   "execution_count": null,
   "metadata": {},
   "outputs": [],
   "source": [
    "import re # Module Regular"
   ]
  },
  {
   "cell_type": "code",
   "execution_count": null,
   "metadata": {},
   "outputs": [],
   "source": [
    "'''\n",
    "method match('part','whole') :\n",
    "check on 'www' is found in start of string otherwise None\n",
    "but if found f method span() >> return start and end of 'www' in string as tuple and not include end\n",
    "'''\n",
    "x=re.match('www','www.google.com').span()\n",
    "print(x) # (0, 3)\n",
    "print(type(x)) # Tuple\n",
    "\n",
    "print(re.match('com','wcomww.google.com').span()) # Error\n",
    "print(re.match('com','wcomww.google.com')) # law in mid or end of string f return \"None\""
   ]
  },
  {
   "cell_type": "code",
   "execution_count": null,
   "metadata": {},
   "outputs": [],
   "source": [
    "'''\n",
    "method search('part','whole') :\n",
    "check on 'www' is found in string otherwise None\n",
    "if found f method span() >> return start and end of 'www' in string as tuple\n",
    "'''\n",
    "s=re.search('goog','www.google.com').span()\n",
    "print(s) # (4,8)\n",
    "print(type(s)) # Tuple\n",
    "\n",
    "print(re.search('goog','www.google.com').span()) # Error\n",
    "print(re.search('gossog','www.google.com')) # None"
   ]
  },
  {
   "cell_type": "code",
   "execution_count": null,
   "metadata": {},
   "outputs": [],
   "source": [
    "line = 'hello rio, how are you ,come rio !'\n",
    "# (.*) : read all words before or after 'subString' elly bsearch 3leh\n",
    "searching = re.search(r'(.*)how are you (.*)',line)"
   ]
  },
  {
   "cell_type": "code",
   "execution_count": null,
   "metadata": {},
   "outputs": [],
   "source": [
    "'''\n",
    "method group(): return all strings\n",
    "method group(1): return all string but befor substring\n",
    "method group(2): return all string but after substring\n",
    "'''\n",
    "print(searching)\n",
    "if searching:\n",
    "    print(f'searching.group(): {searching.group()}') # searching.group(): hello rio, how are you ,come rio !\n",
    "    print(f'searching.group(): {searching.group(1)}') # searching.group(): hello rio, \n",
    "    print(f'searching.group(): {searching.group(2)}') # searching.group(): ,come rio !\n",
    "else:\n",
    "    print('subString not found !')\n"
   ]
  },
  {
   "cell_type": "code",
   "execution_count": null,
   "metadata": {},
   "outputs": [],
   "source": [
    "'''\n",
    "method compile('part') :\n",
    "(\\d+)make match on first digit in string\n",
    "check on 'www' is found in string otherwise None\n",
    "if found f method span() >> return start and end of 'www' in string as tuple\n",
    "'''\n",
    "m=re.compile(r'\\d+') # make match on first digit in string\n",
    "print(m.match('www.google.com')) # None\n",
    "print(m.match('11www.google.com').span()) # (0, 2) not include end\n",
    "\n",
    "# first digit in string\n",
    "print(m.search('www.google.com')) # None\n",
    "print(m.search('ww11w.google.com')) # span=(2, 4), match='11'>\n",
    "print(m.search('ww11w.google.com222')) # span=(2, 4), match='11'>"
   ]
  },
  {
   "cell_type": "code",
   "execution_count": null,
   "metadata": {},
   "outputs": [],
   "source": [
    "# method sub(subString , repl , string)\n",
    "# #.* >> all string elly after #\n",
    "# \\D >> remove all not digit\n",
    "\n",
    "phone = '2022-1010-2255 # this number phone'\n",
    "\n",
    "\n",
    "# remove subString after #\n",
    "num = re.sub(r'#.*',\"\",phone)\n",
    "print(num) # 2022-1010-2255 \n",
    "\n",
    "# remove Everything not digit\n",
    "num = re.sub(r'\\D',\"\",phone)\n",
    "print(num) # 202210102255\n",
    "# method fandall() >> return string as list\n",
    "# \\d+ >> match on first digit in string"
   ]
  },
  {
   "cell_type": "code",
   "execution_count": null,
   "metadata": {},
   "outputs": [],
   "source": [
    "# find all numbers \n",
    "text = 'Tomorrow is 2022/5/10 , Today is 2022/5/9'\n",
    "num1=re.findall(r'\\d+',text) # find all numbers only\n",
    "num2=re.findall(r'[0-9]{1,5}',text)\n",
    "# [0-9] >> find numbers from 0 to 9\n",
    "# {1,5} >> at least 1 digit and at most 5 digit , include 1 and 5 \n",
    "print(num1) # ['2022', '5', '10', '2022', '5', '9']\n",
    "print(num2) # ['2022', '5', '10', '2022', '5', '9']"
   ]
  },
  {
   "cell_type": "code",
   "execution_count": null,
   "metadata": {},
   "outputs": [],
   "source": [
    "# find all alpha\n",
    "alpha=re.findall(r'[a-zA-Z]+',text)\n",
    "print(alpha) # ['Tomorrow', 'is', 'Today', 'is']"
   ]
  },
  {
   "cell_type": "code",
   "execution_count": null,
   "metadata": {},
   "outputs": [],
   "source": [
    "# find all symbols\n",
    "sym=re.findall(r'\\W+',text) # all Symbols\n",
    "print(sym) # [' ', ' ', '/', '/', ' , ', ' ', ' ', '/', '/']\n",
    "sym=re.findall(r'\\W',text) # all Symbols\n",
    "print(sym) # [' ', ' ', '/', '/', ' ', ',', ' ', ' ', ' ', '/', '/']"
   ]
  },
  {
   "cell_type": "code",
   "execution_count": null,
   "metadata": {},
   "outputs": [],
   "source": [
    "# find all string (nums , alpha)\n",
    "# one way:\n",
    "str1=re.findall(r'\\w+',text) # all string as list\n",
    "print(str1) # ['Tomorrow', 'is', '2022', '5', '10', 'Today', 'is', '2022', '5', '9']\n",
    "# Two ways\n",
    "str2=re.findall(r'[a-zA-Z0-9]+',text) # all string as list\n",
    "print(str2) # ['Tomorrow', 'is', '2022', '5', '10', 'Today', 'is', '2022', '5', '9']"
   ]
  },
  {
   "cell_type": "code",
   "execution_count": null,
   "metadata": {},
   "outputs": [],
   "source": [
    "# Find all emails\n",
    "email = 'my email is elsayedelmandoh7@gmail.com'\n",
    "eml=re.findall(r'[a-zA-Z0-9]+@[a-zA-Z0-9]+\\.com',email)\n",
    "print(eml) # ['elsayedelmandoh7@gmail.com']"
   ]
  },
  {
   "cell_type": "code",
   "execution_count": null,
   "metadata": {},
   "outputs": [],
   "source": [
    "# find url\n",
    "url='python home , https://www.python.org  https://www.python.org977j7hyny'\n",
    "\n",
    "ul=re.findall(r'https?://.*',url)\n",
    "print(ul) # ['https://www.python.org  https://www.python.org977j7hyny']\n",
    "ul1=re.findall(r'https://.*',url) \n",
    "print(ul1) # ['https://www.python.org  https://www.python.org977j7hyny']"
   ]
  },
  {
   "cell_type": "code",
   "execution_count": null,
   "metadata": {},
   "outputs": [],
   "source": [
    "# find first div or tag\n",
    "html='aa<div>test1</div>bb<div>test2</div>cc'\n",
    "res=re.search('<div>.*</div>',html)\n",
    "print(res.group()) # <div>test1</div>bb<div>test2</div>\n",
    "html='aa<div>test1</div>bb<div>test2</div>cc'\n",
    "res=re.search('<div>.*?</div>',html) # ? >> l7d hna bas\n",
    "print(res.group()) # <div>test1</div>"
   ]
  }
 ],
 "metadata": {
  "kernelspec": {
   "display_name": "Python 3.10.4 64-bit",
   "language": "python",
   "name": "python3"
  },
  "language_info": {
   "name": "python",
   "version": "3.10.4"
  },
  "orig_nbformat": 4,
  "vscode": {
   "interpreter": {
    "hash": "916dbcbb3f70747c44a77c7bcd40155683ae19c65e1c03b4aa3499c5328201f1"
   }
  }
 },
 "nbformat": 4,
 "nbformat_minor": 2
}
