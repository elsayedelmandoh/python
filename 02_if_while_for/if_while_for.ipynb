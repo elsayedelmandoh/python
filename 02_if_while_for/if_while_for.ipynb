{
 "cells": [
  {
   "cell_type": "markdown",
   "metadata": {},
   "source": [
    "# if , while and for loop"
   ]
  },
  {
   "cell_type": "markdown",
   "metadata": {},
   "source": [
    "# if"
   ]
  },
  {
   "cell_type": "code",
   "execution_count": null,
   "metadata": {},
   "outputs": [],
   "source": [
    "if 0: # False\n",
    "    print('a')\n",
    "if 1: # True\n",
    "    print('s')\n",
    "if 'hello': # True\n",
    "    print('hello')\n",
    "if None: # False\n",
    "    print('None')\n",
    "\n",
    "'''\n",
    "output > \n",
    "s\n",
    "hello\n",
    "'''"
   ]
  },
  {
   "cell_type": "markdown",
   "metadata": {},
   "source": [
    "# if : elif : else : Nested iF"
   ]
  },
  {
   "cell_type": "code",
   "execution_count": null,
   "metadata": {},
   "outputs": [],
   "source": [
    "Name=input(\"Enter your name: \").strip().capitalize()\n",
    "Country=input(\"Enter your country: \").strip().capitalize()\n",
    "isStudent = input(\"Are you a student? (y/n): \").strip().lower()\n",
    "CName=\"Python Course\"\n",
    "cPrice= 1000\n",
    "\n",
    "if Country ==\"Egypt\" or Country == \"KSA\":\n",
    "    print(f\"Hello {Name} Because You Are From {Country}\")\n",
    "\n",
    "    if isStudent==\"y\":\n",
    "        print(f\"The Course '{CName}' Price Is: ${cPrice-90}\")\n",
    "    else:\n",
    "        print(f\"The Course '{CName}' Price Is: ${cPrice-80}\")\n",
    "\n",
    "else:\n",
    "    print(f\"Hello{Name} Because You Are From {Country}\")\n",
    "\n",
    "    if isStudent==\"y\":\n",
    "        print(f\"Hello {Name} Because You Are From {Country}\")\n",
    "    else:\n",
    "        print(f\"The Course '{CName}' \\nPrice Is: ${cPrice-30}\")\n"
   ]
  },
  {
   "cell_type": "markdown",
   "metadata": {},
   "source": [
    "# Ternary if"
   ]
  },
  {
   "cell_type": "code",
   "execution_count": null,
   "metadata": {},
   "outputs": [
    {
     "name": "stdout",
     "output_type": "stream",
     "text": [
      "No hello :(\n"
     ]
    }
   ],
   "source": [
    "code = input(\"Found Error ? (y/n): \").strip().lower()\n",
    "print(\"Hello World :)\" if code == 'n' else \"No hello :( \")"
   ]
  },
  {
   "cell_type": "markdown",
   "metadata": {},
   "source": [
    "# while"
   ]
  },
  {
   "cell_type": "code",
   "execution_count": null,
   "metadata": {},
   "outputs": [],
   "source": [
    "i = 0\n",
    "while i < 9: \n",
    "    i+=1\n",
    "    if i == 5:\n",
    "        print(f'# skip case when i = {i}')\n",
    "        continue \n",
    "        \n",
    "    if i == 7:\n",
    "        print(f'# stop program when i = {i}')\n",
    "        break\n",
    "    \n",
    "    print(i)\n",
    "\n",
    "    '''\n",
    "1\n",
    "2\n",
    "3\n",
    "4\n",
    "# skip case when i = 5\n",
    "6\n",
    "# stop program when i = 7\n",
    "    '''\n",
    "        \n"
   ]
  },
  {
   "cell_type": "markdown",
   "metadata": {},
   "source": [
    "# Calc your age with while loop;"
   ]
  },
  {
   "cell_type": "code",
   "execution_count": null,
   "metadata": {},
   "outputs": [],
   "source": [
    "age=int(input(\"Enter your age: \"))\n",
    "unit=input(\"Enter unit (months,weeks,days): \").strip().lower()\n",
    "while True:\n",
    "    if unit=='months':\n",
    "        print(f\"your age in months is {age*12:,}\")\n",
    "        break\n",
    "    elif unit=='weeks':\n",
    "        print(f\"your age in weeks is {age*4*12:,}\")\n",
    "        break\n",
    "    elif unit=='days':\n",
    "        print(f\"your age in days is {age*7*4*12:,}\")\n",
    "        break\n",
    "    else:\n",
    "        print(\"Invalid unit\")\n",
    "        unit=input(\"Enter unit (months,weeks,days): \").strip().lower()\n",
    "        continue"
   ]
  },
  {
   "cell_type": "markdown",
   "metadata": {},
   "source": [
    "# Password Guess using while loop"
   ]
  },
  {
   "cell_type": "code",
   "execution_count": null,
   "metadata": {},
   "outputs": [],
   "source": [
    "tries = 3\n",
    "mainPassword = \"12345678\"\n",
    "inputPassword = input(\"write Your Password:\")\n",
    "while inputPassword != mainPassword:\n",
    "    tries -=1\n",
    "    print(f\"wrong Password, {'Last' if tries == 0 else tries} Chance Left\")\n",
    "    inputPassword = input(\"Write Your Password:\")\n",
    "    if tries == 0:\n",
    "        print(\"All Tries Is Finished.\")\n",
    "        break\n",
    "else:\n",
    "    print(\"Correct Password\")"
   ]
  },
  {
   "cell_type": "markdown",
   "metadata": {},
   "source": [
    "# for"
   ]
  },
  {
   "cell_type": "code",
   "execution_count": null,
   "metadata": {},
   "outputs": [],
   "source": [
    "nums=[1,2,3,4,5,6,7]\n",
    "\n",
    "for i in nums:\n",
    "    print(i)\n",
    "else:\n",
    "    print('loop ends') # implement when loop ends\n",
    "'''\n",
    "1\n",
    "2\n",
    "3\n",
    "4\n",
    "5\n",
    "6\n",
    "7\n",
    "loop ends\n",
    "'''"
   ]
  },
  {
   "cell_type": "code",
   "execution_count": 39,
   "metadata": {},
   "outputs": [
    {
     "name": "stdout",
     "output_type": "stream",
     "text": [
      "1X1=1 , 1X2=2 , 1X3=3 , 1X4=4 , 1X5=5 , 1X6=6 , 1X7=7 , 1X8=8 , 1X9=9 , 1X10=10 , 1X11=11 , 1X12=12 , \n",
      "2X2=4 , 2X3=6 , 2X4=8 , 2X5=10 , 2X6=12 , 2X7=14 , 2X8=16 , 2X9=18 , 2X10=20 , 2X11=22 , 2X12=24 , \n",
      "3X3=9 , 3X4=12 , 3X5=15 , 3X6=18 , 3X7=21 , 3X8=24 , 3X9=27 , 3X10=30 , 3X11=33 , 3X12=36 , \n",
      "4X4=16 , 4X5=20 , 4X6=24 , 4X7=28 , 4X8=32 , 4X9=36 , 4X10=40 , 4X11=44 , 4X12=48 , \n",
      "5X5=25 , 5X6=30 , 5X7=35 , 5X8=40 , 5X9=45 , 5X10=50 , 5X11=55 , 5X12=60 , \n",
      "6X6=36 , 6X7=42 , 6X8=48 , 6X9=54 , 6X10=60 , 6X11=66 , 6X12=72 , \n",
      "7X7=49 , 7X8=56 , 7X9=63 , 7X10=70 , 7X11=77 , 7X12=84 , \n",
      "8X8=64 , 8X9=72 , 8X10=80 , 8X11=88 , 8X12=96 , \n",
      "9X9=81 , 9X10=90 , 9X11=99 , 9X12=108 , \n",
      "10X10=100 , 10X11=110 , 10X12=120 , \n",
      "11X11=121 , 11X12=132 , \n",
      "12X12=144 , \n"
     ]
    }
   ],
   "source": [
    "# multiplication Table\n",
    "for i in range(1,13): # Outer\n",
    "    for j in range(i,13): # Liner\n",
    "        print(f'{i}X{j}={i*j} , ',end='')\n",
    "    print() # to new line\n"
   ]
  },
  {
   "cell_type": "code",
   "execution_count": null,
   "metadata": {},
   "outputs": [],
   "source": []
  }
 ],
 "metadata": {
  "kernelspec": {
   "display_name": "Python 3",
   "language": "python",
   "name": "python3"
  },
  "language_info": {
   "codemirror_mode": {
    "name": "ipython",
    "version": 3
   },
   "file_extension": ".py",
   "mimetype": "text/x-python",
   "name": "python",
   "nbconvert_exporter": "python",
   "pygments_lexer": "ipython3",
   "version": "3.11.4"
  },
  "orig_nbformat": 4,
  "vscode": {
   "interpreter": {
    "hash": "ab58cbacd942ca503049d3378ed1180a79e5c5d17c40fd38c92a577d131c0358"
   }
  }
 },
 "nbformat": 4,
 "nbformat_minor": 2
}
