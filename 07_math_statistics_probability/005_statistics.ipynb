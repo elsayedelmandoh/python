{
 "cells": [
  {
   "cell_type": "markdown",
   "metadata": {},
   "source": [
    "# Statistics module"
   ]
  },
  {
   "cell_type": "code",
   "execution_count": 2,
   "metadata": {},
   "outputs": [],
   "source": [
    "import statistics as st"
   ]
  },
  {
   "cell_type": "markdown",
   "metadata": {},
   "source": [
    "![\"2.1-stat_measures_center\"](2.1-stat_measures_center.PNG)"
   ]
  },
  {
   "cell_type": "code",
   "execution_count": 3,
   "metadata": {},
   "outputs": [
    {
     "name": "stdout",
     "output_type": "stream",
     "text": [
      "4\n"
     ]
    }
   ],
   "source": [
    "# mean ..\n",
    "'''\n",
    "mean = (x1,x2,x3,x4)/n\n",
    "     = (7+3+5+1)/4 = 16 / 4 = 4\n",
    "'''\n",
    "ls = [7,3,5,1]\n",
    "print(st.mean(ls)) # 4"
   ]
  },
  {
   "cell_type": "code",
   "execution_count": 4,
   "metadata": {},
   "outputs": [
    {
     "name": "stdout",
     "output_type": "stream",
     "text": [
      "2.3863636363636362\n"
     ]
    }
   ],
   "source": [
    "# harmonic_mean ..\n",
    "'''\n",
    "harmonic_mean = n / (1/x1 + 1/x2 + 1/x3 + 1/x4)\n",
    "              = 4 / (1/7 + 1/3 + 1/5 + 1/1) = 105 / 44\n",
    "'''\n",
    "print(st.harmonic_mean(ls)) # 2.3863636363636362"
   ]
  },
  {
   "cell_type": "code",
   "execution_count": 5,
   "metadata": {},
   "outputs": [
    {
     "name": "stdout",
     "output_type": "stream",
     "text": [
      "5\n",
      "4.0\n"
     ]
    }
   ],
   "source": [
    "# median ..  الوسيط\n",
    "'''\n",
    "- sort elements\n",
    "- median in case odd numbers = take med element\n",
    "- median in case even numbers = (med1 + med2)/ 2\n",
    "'''\n",
    "ls = [7,3,5,1,6]\n",
    "print(st.median(ls)) # 5 \n",
    "\n",
    "ls = [7,3,5,1] \n",
    "print(st.median(ls)) # 1 3 5 7 > (3 + 5)/2 = 8 / 2 = 4"
   ]
  },
  {
   "cell_type": "code",
   "execution_count": 6,
   "metadata": {},
   "outputs": [
    {
     "name": "stdout",
     "output_type": "stream",
     "text": [
      "5\n",
      "3\n"
     ]
    }
   ],
   "source": [
    "# median_low\n",
    "'''\n",
    "odd : take med element\n",
    "even : No (med1 + med2)/ 2  but take med1 element only\n",
    "''' \n",
    "\n",
    "ls = [7,3,5,1,6]\n",
    "print(st.median_low(ls)) # 5 \n",
    "\n",
    "ls = [7,3,5,1]\n",
    "print(st.median_low(ls)) # 3"
   ]
  },
  {
   "cell_type": "code",
   "execution_count": 7,
   "metadata": {},
   "outputs": [
    {
     "name": "stdout",
     "output_type": "stream",
     "text": [
      "5\n",
      "5\n"
     ]
    }
   ],
   "source": [
    "# median_high\n",
    "'''\n",
    "odd : take med element\n",
    "even : No (med1 + med2)/ 2  but take med2 element only\n",
    "''' \n",
    "\n",
    "ls = [7,3,5,1,6]\n",
    "print(st.median_high(ls)) # 5 \n",
    "\n",
    "ls = [7,3,5,1]\n",
    "print(st.median_high(ls)) # 5"
   ]
  },
  {
   "cell_type": "code",
   "execution_count": 8,
   "metadata": {},
   "outputs": [
    {
     "name": "stdout",
     "output_type": "stream",
     "text": [
      "5\n"
     ]
    }
   ],
   "source": [
    "# mode ..\n",
    "'''\n",
    "the most frequent elements\n",
    "'''\n",
    "ls = [7,3,5,5,5,5,1,6]\n",
    "print(st.mode(ls)) # 5 "
   ]
  },
  {
   "cell_type": "markdown",
   "metadata": {},
   "source": [
    "![\"2.2-stat_measures_disparsion\"](2.2-stat_measures_disparsion.png)"
   ]
  },
  {
   "cell_type": "code",
   "execution_count": 10,
   "metadata": {},
   "outputs": [
    {
     "name": "stdout",
     "output_type": "stream",
     "text": [
      "1138.6666666666667\n"
     ]
    }
   ],
   "source": [
    "# variance .. التباين .. s**2\n",
    "'''\n",
    "with rule :\n",
    "    s**2 = sum((x - x')**2) / N - 1\n",
    "'''\n",
    "ls = [1,-25,-10,50,60,10]\n",
    "print(st.variance(ls)) # 1138.6666666666667"
   ]
  },
  {
   "cell_type": "code",
   "execution_count": 9,
   "metadata": {},
   "outputs": [
    {
     "name": "stdout",
     "output_type": "stream",
     "text": [
      "1.1338934190276817\n",
      "3.132015933791495\n",
      "1.2724180205607036\n"
     ]
    }
   ],
   "source": [
    "# stdev .. الانحراف المعياري\n",
    "'''\n",
    "**  مقدار التنوع والفروق بين العناصر **\n",
    "class 1 > degress 1 to 3 , then stdev is small\n",
    "class 2 > degress max between class 1 and class 2, then stdev is big\n",
    "class 3 > degress 7 to 10, then stdev is small\n",
    "\n",
    "with rule : \n",
    "    stdev = root(sum((x - x')**2) / n - 1)\n",
    "'''\n",
    "class1 = [1,3,1,0,3,2,1]\n",
    "print(st.stdev(class1)) # 1.1338934190276817\n",
    "\n",
    "class2 = [7,3,5,1,6,2,10]\n",
    "print(st.stdev(class2)) # 3.132015933791495\n",
    "\n",
    "class3 = [7,8,9,7,10,8,10]\n",
    "print(st.stdev(class3)) # 1.2724180205607036"
   ]
  },
  {
   "cell_type": "markdown",
   "metadata": {},
   "source": [
    "3. Sampling"
   ]
  },
  {
   "cell_type": "markdown",
   "metadata": {},
   "source": [
    "![3-sampling](3-sampling.PNG)"
   ]
  },
  {
   "cell_type": "markdown",
   "metadata": {},
   "source": [
    "+ `Error increases` when `sampling is small` and `Error increases` when `sampling is large`\n",
    "+ mean population => meuoh\n",
    "+ mean sample => x-bar"
   ]
  },
  {
   "cell_type": "markdown",
   "metadata": {},
   "source": [
    "4. Normal distribution"
   ]
  },
  {
   "cell_type": "markdown",
   "metadata": {},
   "source": [
    "!['4-normally_distribution'](4-normally_distribution.png)"
   ]
  },
  {
   "cell_type": "markdown",
   "metadata": {},
   "source": [
    "+ `mean is center` of distribution when `mean increases` normally distributed `shift to right` side and when `mean decreases` normally distributed `shift to left` side.\n",
    "+ when `standard deviation increases` normally distributed is `stretched` (take `large area` on graph) and when `standard deviation decreases` normally distributed is `shrunk` (take `small area` on graph)."
   ]
  },
  {
   "cell_type": "markdown",
   "metadata": {},
   "source": [
    "5. covariance and correlation"
   ]
  },
  {
   "cell_type": "markdown",
   "metadata": {},
   "source": [
    "![\"5.1-covariance\"](5.1-covariance.png)"
   ]
  },
  {
   "cell_type": "markdown",
   "metadata": {},
   "source": [
    "+ when `covariance is positive` then `relationship is positive` between two features.\n",
    "+ when `covariance is negative` then `relationship is negative` between two features.\n",
    "+ when `covariance is closed with zero` then `not found relationship` between two features.\n",
    "+ problem `covariance` that two features should be the `same scale values`. \n",
    "+ so we have other measure that is `correlation` that `not based on scale values` between two features."
   ]
  },
  {
   "cell_type": "markdown",
   "metadata": {},
   "source": [
    "![\"5.2-correlation\"](5.2-correlation.png)"
   ]
  },
  {
   "cell_type": "markdown",
   "metadata": {},
   "source": [
    "+ correlation rule = covariance / standard deviation of X * standard deviation of Y\n",
    "+ correlation return values between `-1 and 1`.\n",
    "+ `-1` indicates a perfect `negative` correlation\n",
    "+ `0` indicates `no` correlation\n",
    "+ `1` indicates a perfect `positive` correlation"
   ]
  },
  {
   "cell_type": "code",
   "execution_count": null,
   "metadata": {},
   "outputs": [],
   "source": []
  }
 ],
 "metadata": {
  "kernelspec": {
   "display_name": "Python 3.10.4 64-bit",
   "language": "python",
   "name": "python3"
  },
  "language_info": {
   "codemirror_mode": {
    "name": "ipython",
    "version": 3
   },
   "file_extension": ".py",
   "mimetype": "text/x-python",
   "name": "python",
   "nbconvert_exporter": "python",
   "pygments_lexer": "ipython3",
   "version": "3.11.4"
  },
  "orig_nbformat": 4,
  "vscode": {
   "interpreter": {
    "hash": "916dbcbb3f70747c44a77c7bcd40155683ae19c65e1c03b4aa3499c5328201f1"
   }
  }
 },
 "nbformat": 4,
 "nbformat_minor": 2
}
