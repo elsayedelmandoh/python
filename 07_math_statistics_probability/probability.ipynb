{
 "cells": [
  {
   "cell_type": "markdown",
   "metadata": {},
   "source": [
    "# Probability"
   ]
  },
  {
   "cell_type": "markdown",
   "metadata": {},
   "source": [
    "DeMorgon's Law"
   ]
  },
  {
   "cell_type": "markdown",
   "metadata": {},
   "source": [
    "![\"DeMorgon\"](DeMorgon.png)"
   ]
  },
  {
   "cell_type": "markdown",
   "metadata": {},
   "source": [
    "Hacker Statistics: Simulation large number of events "
   ]
  },
  {
   "cell_type": "code",
   "execution_count": 1,
   "metadata": {},
   "outputs": [],
   "source": [
    "import numpy as np"
   ]
  },
  {
   "cell_type": "code",
   "execution_count": 3,
   "metadata": {},
   "outputs": [
    {
     "data": {
      "text/plain": [
       "0.43071416452034084"
      ]
     },
     "execution_count": 3,
     "metadata": {},
     "output_type": "execute_result"
    }
   ],
   "source": [
    "np.random.random()"
   ]
  },
  {
   "cell_type": "code",
   "execution_count": null,
   "metadata": {},
   "outputs": [],
   "source": [
    "np.random.random() < 0.30 "
   ]
  },
  {
   "cell_type": "markdown",
   "metadata": {},
   "source": [
    "return 30% true and 70% false"
   ]
  },
  {
   "cell_type": "code",
   "execution_count": 12,
   "metadata": {},
   "outputs": [
    {
     "name": "stdout",
     "output_type": "stream",
     "text": [
      "Tail\n",
      "Tail\n",
      "Head\n",
      "Head\n",
      "Head\n",
      "Head\n",
      "Head\n",
      "Head\n",
      "Tail\n",
      "Head\n"
     ]
    }
   ],
   "source": [
    "prob = 0.5\n",
    "ls = []\n",
    "for i in range(10):\n",
    "    if np.random.random() < 0.5:\n",
    "        print(\"Head\")\n",
    "    else:\n",
    "        print(\"Tail\")"
   ]
  },
  {
   "cell_type": "markdown",
   "metadata": {},
   "source": [
    "we see num number of head and tail in case 0.50%"
   ]
  },
  {
   "cell_type": "code",
   "execution_count": 15,
   "metadata": {},
   "outputs": [
    {
     "data": {
      "text/plain": [
       "0.5015"
      ]
     },
     "execution_count": 15,
     "metadata": {},
     "output_type": "execute_result"
    }
   ],
   "source": [
    "prob = 0.5\n",
    "n = 10000\n",
    "ls = []\n",
    "for i in range(n):\n",
    "    if np.random.random() < 0.5:\n",
    "        ls.append(1)\n",
    "    else:\n",
    "        ls.append(0)\n",
    "        \n",
    "probs = sum(ls) / len(ls)\n",
    "probs"
   ]
  },
  {
   "cell_type": "markdown",
   "metadata": {},
   "source": [
    "we see probabilty of \"head\""
   ]
  },
  {
   "cell_type": "code",
   "execution_count": 2,
   "metadata": {},
   "outputs": [
    {
     "data": {
      "text/plain": [
       "0.4978"
      ]
     },
     "execution_count": 2,
     "metadata": {},
     "output_type": "execute_result"
    }
   ],
   "source": [
    "n = 10000\n",
    "\n",
    "(np.random.random(size=n) < 0.5).sum() / n\n"
   ]
  },
  {
   "cell_type": "markdown",
   "metadata": {},
   "source": [
    "This way is faster from loop"
   ]
  },
  {
   "cell_type": "markdown",
   "metadata": {},
   "source": [
    "Q1"
   ]
  },
  {
   "cell_type": "markdown",
   "metadata": {},
   "source": [
    "![\"Q1\"](Q1.png)"
   ]
  },
  {
   "cell_type": "markdown",
   "metadata": {},
   "source": [
    "+ Elsayed ELmandoh:\n",
    "- P(null) = 0\n",
    "- P(A complement) = 1 - P(A)\n",
    "- if A C B, then: P(A) ? P(B) ? \n",
    "    - P(A) = 1 - P(B)\n",
    "    - P(B) = 1 - P(A)\n",
    "- P(A - B) = P(A) - P(A ∩ B)\n",
    "- P(A u B) = P(A) + P(B) - P(A ∩ B)"
   ]
  },
  {
   "cell_type": "markdown",
   "metadata": {},
   "source": [
    "Q2"
   ]
  },
  {
   "cell_type": "markdown",
   "metadata": {},
   "source": [
    "![\"Q2\"](Q2.png)"
   ]
  },
  {
   "cell_type": "markdown",
   "metadata": {},
   "source": [
    "- Elsayed Elmandoh\n",
    "- Let B = x\n",
    "- P(A) = 2 * P(B)\n",
    "- P(B) = 2 * P(C)\n",
    "- P(A) = 4 * P(C)\n",
    "\n",
    "- P(B u C)\n",
    "- P(A) + P(B) + P(C) = 1\n",
    "- 4 P(A) + 2 P(C) + P(C) = 1\n",
    "\n",
    "- P(C) = 1/7 and P(B) = 2/7\n",
    "\n",
    "- P(B u C) = P(C) + P(B)\n",
    "- = 1/7 + 2/7\n",
    "- = 3/7 "
   ]
  },
  {
   "cell_type": "markdown",
   "metadata": {},
   "source": [
    "Q_interviews_1"
   ]
  },
  {
   "cell_type": "markdown",
   "metadata": {},
   "source": [
    "![\"Q_interviews_1\"](Q_interviews_1.png)"
   ]
  },
  {
   "cell_type": "markdown",
   "metadata": {},
   "source": [
    "- Sample space are 8 element (3 coins)\n",
    "- S = [HHH, HHT, HTH, THH, TTH, THT, HTT, TTT]\n",
    "- P(S) = 1/8\n",
    "1. 1/8\n",
    "2. 7/8 (should be appera H in any event)\n",
    "3. 3/8 \n",
    "4. 3/8 (Two head after together)"
   ]
  },
  {
   "cell_type": "markdown",
   "metadata": {},
   "source": [
    "- if two events are exclusive then they are dependent. \n",
    "- (if event A is win then event B is lose)"
   ]
  },
  {
   "cell_type": "markdown",
   "metadata": {},
   "source": [
    "Q3\n"
   ]
  },
  {
   "cell_type": "markdown",
   "metadata": {},
   "source": [
    "![\"Q3\"](Q3.jpeg)"
   ]
  },
  {
   "cell_type": "markdown",
   "metadata": {},
   "source": [
    "- Elsayed Elmandoh\n",
    "- Given\n",
    "    - Let Ahmed is P(A) = 75%\n",
    "    - Let Mhmod is P(B) = 2/3 = 0.66\n",
    "1. P(A and B) = P(A) * P(B) = 0.75 * 0.6 = 0.5\n",
    "2. P(A or B) = P(A) + P(B) - P(A and B) = 0.75 + 0.66 - 0.5 = 0.91\n",
    "3. P(not A and not B) =  1 - P(A or B) = 1 - 0.91 = 0.09\n",
    "4. P(A and not B) = P(A) - P(A and B) = 0.75 - 0.5 = 0.25\n",
    "5. P(B and not A) = P(B) - P(A and B) = 0.66 - 0.5 = 0.16"
   ]
  },
  {
   "cell_type": "code",
   "execution_count": null,
   "metadata": {},
   "outputs": [],
   "source": []
  },
  {
   "cell_type": "code",
   "execution_count": null,
   "metadata": {},
   "outputs": [],
   "source": []
  }
 ],
 "metadata": {
  "kernelspec": {
   "display_name": "Python 3",
   "language": "python",
   "name": "python3"
  },
  "language_info": {
   "codemirror_mode": {
    "name": "ipython",
    "version": 3
   },
   "file_extension": ".py",
   "mimetype": "text/x-python",
   "name": "python",
   "nbconvert_exporter": "python",
   "pygments_lexer": "ipython3",
   "version": "3.11.4"
  },
  "orig_nbformat": 4
 },
 "nbformat": 4,
 "nbformat_minor": 2
}
