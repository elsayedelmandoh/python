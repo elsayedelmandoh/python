{
 "cells": [
  {
   "cell_type": "markdown",
   "metadata": {},
   "source": [
    "# advanced method math"
   ]
  },
  {
   "cell_type": "code",
   "execution_count": null,
   "metadata": {},
   "outputs": [],
   "source": [
    "a = 5\n",
    "b = 7\n",
    "c = complex(a, b)\n",
    "print(c) # (5+7j)"
   ]
  },
  {
   "cell_type": "code",
   "execution_count": null,
   "metadata": {},
   "outputs": [],
   "source": [
    "a = 500\n",
    "b = 30\n",
    "c = divmod(a,b) # // and %\n",
    "print(c) # (16, 20)\n",
    "'''\n",
    "div : 500 / 30 = 16\n",
    "mod : 500 % 30 = 20\n",
    "'''"
   ]
  },
  {
   "cell_type": "code",
   "execution_count": null,
   "metadata": {},
   "outputs": [],
   "source": [
    "a = 5\n",
    "b = 2\n",
    "c = pow(a, b)\n",
    "print(c) # 25\n",
    "'''\n",
    "a ** b = 5 ** 2 = 25\n",
    "'''"
   ]
  },
  {
   "cell_type": "markdown",
   "metadata": {},
   "source": [
    "* advanced method for ' math '"
   ]
  },
  {
   "cell_type": "code",
   "execution_count": null,
   "metadata": {},
   "outputs": [],
   "source": [
    "import math"
   ]
  },
  {
   "cell_type": "code",
   "execution_count": null,
   "metadata": {},
   "outputs": [],
   "source": [
    "# modulos or remainder\n",
    "print(math.fmod(10, 3)) # return float >  1.0\n",
    "print(10%3)        # return int   >  1"
   ]
  },
  {
   "cell_type": "code",
   "execution_count": null,
   "metadata": {},
   "outputs": [],
   "source": [
    "print(math.factorial(3)) # 6\n",
    "'''\n",
    "3 * 2 * 1 = 6\n",
    "'''"
   ]
  },
  {
   "cell_type": "code",
   "execution_count": null,
   "metadata": {},
   "outputs": [],
   "source": [
    "print(math.log(20.5)) # 3.0204248861443626\n",
    "\n",
    "''' base is >> e\n",
    "log(20.5) to base e = 3.0204248861443626\n",
    "e ** y = x\n",
    "e ** 3.0204248861443626 = 20.5\n",
    "'''\n",
    "\n",
    "print(math.log(20.5, math.e)) # 3.0204248861443626\n",
    "print(math.log(10000)) # 9.210340371976184\n"
   ]
  },
  {
   "cell_type": "code",
   "execution_count": null,
   "metadata": {},
   "outputs": [],
   "source": [
    "print(math.log(7,49)) # 0.5\n",
    "\n",
    "''' base is >> 49\n",
    "log(7) to base 49 = 0.5\n",
    "49 ** 0.5 = 7\n",
    "'''\n",
    "\n",
    "print(math.log(49,7)) # 2.0"
   ]
  },
  {
   "cell_type": "code",
   "execution_count": null,
   "metadata": {},
   "outputs": [],
   "source": [
    "print(math.log10(10000)) # 4.0\n",
    "\n",
    "''' base is >> 10\n",
    "log(10000) to base 10 = 4.0\n",
    "10 ** 4.0 = 10000\n",
    "'''"
   ]
  },
  {
   "cell_type": "code",
   "execution_count": null,
   "metadata": {},
   "outputs": [],
   "source": [
    "print(math.sqrt(25)) # 5.0"
   ]
  },
  {
   "cell_type": "code",
   "execution_count": null,
   "metadata": {},
   "outputs": [],
   "source": [
    "# radian and degree\n",
    "'''\n",
    "radian / degree = pi / 180 \n",
    "so ..\n",
    "radian = degree * pi / 180 \n",
    "degree = radian * 180 / pi\n",
    "\n",
    "> radian to degree on calculator =  number + shift + ans + 2(radian) + shift + mode + 3(degree)\n",
    "> degree to radian on calculator = number + shift + ans + 1(degree) + shift + mode + 4(radian)\n",
    "'''\n",
    "print(math.radians(360)) # 360 degrees = 6.283 radians\n",
    "print(math.degrees(math.pi)) # 3.14 radian = 180 degree"
   ]
  },
  {
   "cell_type": "code",
   "execution_count": null,
   "metadata": {},
   "outputs": [],
   "source": [
    "print(math.pi) # 3.141592653589793\n",
    "'''\n",
    "perimeter of a circle = 2 * pi * r\n",
    "'''\n",
    "\n",
    "r = 0.5\n",
    "perimeter_circle = 2 * math.pi * r\n",
    "print(perimeter_circle)"
   ]
  },
  {
   "cell_type": "code",
   "execution_count": null,
   "metadata": {},
   "outputs": [],
   "source": [
    "# Trigonometric functions\n",
    "'''\n",
    "must be angel in 'radians' in sin or cos or tan\n",
    "'''\n",
    "\n",
    "print(math.sin(math.radians(30))) # 0.5\n",
    "print(math.cos(math.radians(60))) # 0.5\n",
    "print(math.tan(math.radians(45))) # 1.0"
   ]
  },
  {
   "cell_type": "code",
   "execution_count": null,
   "metadata": {},
   "outputs": [],
   "source": [
    "# Inverse Trigonometric Functions\n",
    "'''\n",
    "asin => arcsin = inverse of sin = sin ** -1\n",
    "acos => arccos = inverse of cos = cos ** -1\n",
    "atan => arctan = inverse of tan = tan ** -1\n",
    "return number radinas\n",
    "'''\n",
    "\n",
    "print(math.asin(0.9)) # 1.11\n",
    "print(math.acos(0.6)) # 0.92\n",
    "print(math.atan(5)) # 1.37"
   ]
  },
  {
   "cell_type": "code",
   "execution_count": null,
   "metadata": {},
   "outputs": [],
   "source": [
    "# Hyperbolic functions\n",
    "\n",
    "print(math.sinh(math.radians(30))) # 0.5478534738880397\n",
    "print(math.cosh(math.radians(60))) # 0.8390715290764524\n",
    "print(math.tanh(math.radians(45))) # 0.7615941559557649"
   ]
  },
  {
   "cell_type": "code",
   "execution_count": null,
   "metadata": {},
   "outputs": [],
   "source": [
    "# constants\n",
    "print(math.pi) # 3.141592653589793\n",
    "print(math.e) # 2.718281828459045\n",
    "print(math.tau) # 6.283185307179586"
   ]
  },
  {
   "cell_type": "code",
   "execution_count": null,
   "metadata": {},
   "outputs": [],
   "source": [
    "# Print the positive infinity\n",
    "print(math.inf) # inf\n",
    "print(math.inf > 0) # True\n",
    "\n",
    "# Print the negative infinity\n",
    "print (-math.inf) # -inf\n",
    "print(-math.inf < 0) # True\n",
    "\n",
    "print(math.nan) # nan"
   ]
  },
  {
   "cell_type": "code",
   "execution_count": null,
   "metadata": {},
   "outputs": [],
   "source": [
    "# second if positive then first positive , second if negative then first is negative\n",
    "print(math.copysign(-1, 1)) # 1\n",
    "print(math.copysign(1, -1)) # -1 "
   ]
  },
  {
   "cell_type": "code",
   "execution_count": null,
   "metadata": {},
   "outputs": [],
   "source": [
    "# Error functions \n",
    "print(math.erf(10)) # 0.9999999999999998"
   ]
  },
  {
   "cell_type": "code",
   "execution_count": null,
   "metadata": {},
   "outputs": [],
   "source": [
    "# Gamma function\n",
    "print(math.gamma(5)) # 24.0"
   ]
  },
  {
   "cell_type": "code",
   "execution_count": null,
   "metadata": {},
   "outputs": [],
   "source": [
    "import math "
   ]
  },
  {
   "cell_type": "code",
   "execution_count": null,
   "metadata": {},
   "outputs": [],
   "source": [
    "print(math.pow(10,3)) # return float value\n",
    "print(math.pow(5,2).is_integer()) # return true if float value is integer"
   ]
  }
 ],
 "metadata": {
  "kernelspec": {
   "display_name": "Python 3",
   "language": "python",
   "name": "python3"
  },
  "language_info": {
   "codemirror_mode": {
    "name": "ipython",
    "version": 3
   },
   "file_extension": ".py",
   "mimetype": "text/x-python",
   "name": "python",
   "nbconvert_exporter": "python",
   "pygments_lexer": "ipython3",
   "version": "3.10.8"
  },
  "orig_nbformat": 4,
  "vscode": {
   "interpreter": {
    "hash": "ab58cbacd942ca503049d3378ed1180a79e5c5d17c40fd38c92a577d131c0358"
   }
  }
 },
 "nbformat": 4,
 "nbformat_minor": 2
}
