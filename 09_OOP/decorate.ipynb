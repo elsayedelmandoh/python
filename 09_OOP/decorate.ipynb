{
 "cells": [
  {
   "cell_type": "markdown",
   "metadata": {},
   "source": [
    "# Decorators"
   ]
  },
  {
   "cell_type": "markdown",
   "metadata": {},
   "source": [
    "![\"decorate\"](decorate.png)"
   ]
  },
  {
   "cell_type": "code",
   "execution_count": 4,
   "metadata": {},
   "outputs": [],
   "source": [
    "def decorate(func_to_decorated):\n",
    "    def decorare_greeting():\n",
    "        print(\"Before function decor\")\n",
    "        func_to_decorated()\n",
    "        print(\"After function decor\")\n",
    "    return decorare_greeting"
   ]
  },
  {
   "cell_type": "markdown",
   "metadata": {},
   "source": [
    "without decorator"
   ]
  },
  {
   "cell_type": "code",
   "execution_count": 5,
   "metadata": {},
   "outputs": [
    {
     "name": "stdout",
     "output_type": "stream",
     "text": [
      "Before function decor\n",
      "Hello\n",
      "After function decor\n"
     ]
    }
   ],
   "source": [
    "def hello():\n",
    "    print(\"Hello\")\n",
    "\n",
    "hello = decorate(hello)\n",
    "hello()"
   ]
  },
  {
   "cell_type": "markdown",
   "metadata": {},
   "source": [
    "with decorator"
   ]
  },
  {
   "cell_type": "code",
   "execution_count": 6,
   "metadata": {},
   "outputs": [
    {
     "name": "stdout",
     "output_type": "stream",
     "text": [
      "Before function decor\n",
      "Hello\n",
      "After function decor\n"
     ]
    }
   ],
   "source": [
    "@decorate\n",
    "def hello():\n",
    "    print(\"Hello\")\n",
    "hello()"
   ]
  },
  {
   "cell_type": "markdown",
   "metadata": {},
   "source": [
    "![\"decorate_args\"](decorate_args.png)"
   ]
  },
  {
   "cell_type": "markdown",
   "metadata": {},
   "source": [
    "with args and kwargs"
   ]
  },
  {
   "cell_type": "code",
   "execution_count": 8,
   "metadata": {},
   "outputs": [
    {
     "name": "stdout",
     "output_type": "stream",
     "text": [
      "Function hello is decorated\n",
      "Before function decor\n",
      "I got args (50, 'HI')\n",
      "I got kwargs {'name': 'Anna', 'job': 'spy'}\n",
      "Hello (50, 'HI') {'name': 'Anna', 'job': 'spy'}\n",
      "After function decor\n"
     ]
    }
   ],
   "source": [
    "def decorate_2(func):\n",
    "    print(\"Function hello is decorated\")\n",
    "    def decorare_greeting(*args, **kwargs):\n",
    "        print(\"Before function decor\")\n",
    "        print(f\"I got args {args}\")\n",
    "        print(f\"I got kwargs {kwargs}\")\n",
    "        func(*args, **kwargs)\n",
    "        print(\"After function decor\")\n",
    "    return decorare_greeting\n",
    "\n",
    "@decorate_2\n",
    "def hello(*args, **kwargs):\n",
    "    print(\"Hello\", args, kwargs)\n",
    "    \n",
    "hello(50,\"HI\", name=\"Anna\", job=\"spy\")"
   ]
  },
  {
   "cell_type": "markdown",
   "metadata": {},
   "source": [
    "![\"decorate2\"](decorate2.png)"
   ]
  },
  {
   "cell_type": "markdown",
   "metadata": {},
   "source": [
    "nested functions without decorator"
   ]
  },
  {
   "cell_type": "code",
   "execution_count": 10,
   "metadata": {},
   "outputs": [
    {
     "name": "stdout",
     "output_type": "stream",
     "text": [
      "Before function func_1\n",
      "Before function func_2\n",
      "eating\n",
      "After function func_2\n",
      "After function func_1\n"
     ]
    }
   ],
   "source": [
    "def func_1(func_to_decorated):\n",
    "    def decorate():\n",
    "        print(\"Before function func_1\")\n",
    "        func_to_decorated()\n",
    "        print(\"After function func_1\")\n",
    "    return decorate\n",
    "\n",
    "def func_2(func_to_decorated):\n",
    "    def decorate():\n",
    "        print(\"Before function func_2\")\n",
    "        func_to_decorated()\n",
    "        print(\"After function func_2\")\n",
    "    return decorate\n",
    "\n",
    "def eat():\n",
    "    print(\"eating\")\n",
    "    \n",
    "food= func_1(func_2(eat))\n",
    "food()"
   ]
  },
  {
   "cell_type": "markdown",
   "metadata": {},
   "source": [
    "nested functions with decorator"
   ]
  },
  {
   "cell_type": "code",
   "execution_count": 13,
   "metadata": {},
   "outputs": [
    {
     "name": "stdout",
     "output_type": "stream",
     "text": [
      "Before function func_1\n",
      "Before function func_2\n",
      "eating\n",
      "After function func_2\n",
      "After function func_1\n"
     ]
    }
   ],
   "source": [
    "def func_1(func_to_decorated):\n",
    "    def decorate():\n",
    "        print(\"Before function func_1\")\n",
    "        func_to_decorated()\n",
    "        print(\"After function func_1\")\n",
    "    return decorate\n",
    "\n",
    "def func_2(func_to_decorated):\n",
    "    def decorate():\n",
    "        print(\"Before function func_2\")\n",
    "        func_to_decorated()\n",
    "        print(\"After function func_2\")\n",
    "    return decorate\n",
    "\n",
    "@func_1 # second\n",
    "@func_2 # first\n",
    "def eat():\n",
    "    print(\"eating\")\n",
    "    \n",
    "eat()"
   ]
  }
 ],
 "metadata": {
  "kernelspec": {
   "display_name": "Python 3",
   "language": "python",
   "name": "python3"
  },
  "language_info": {
   "codemirror_mode": {
    "name": "ipython",
    "version": 3
   },
   "file_extension": ".py",
   "mimetype": "text/x-python",
   "name": "python",
   "nbconvert_exporter": "python",
   "pygments_lexer": "ipython3",
   "version": "3.11.4"
  },
  "orig_nbformat": 4
 },
 "nbformat": 4,
 "nbformat_minor": 2
}
