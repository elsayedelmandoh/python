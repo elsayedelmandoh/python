{
 "cells": [
  {
   "attachments": {},
   "cell_type": "markdown",
   "metadata": {},
   "source": [
    "## 13. Features of OOP or Object Oriented Programming:\n",
    "+ Why OOP ? :(\n",
    "+ Class & Object :(\n",
    "+ Inheritance :)\n",
    "+ Polymorphism :)\n",
    "+ Encapsulation :)\n",
    "+ Abstract :)"
   ]
  },
  {
   "cell_type": "code",
   "execution_count": null,
   "metadata": {},
   "outputs": [],
   "source": [
    "# akram three point\n",
    "# kareem three point\n",
    "# romiassaa three point\n",
    "# malak three"
   ]
  },
  {
   "cell_type": "code",
   "execution_count": null,
   "metadata": {},
   "outputs": [],
   "source": [
    "# one ponint\n",
    "# two class\n",
    "# class one has two attribute\n",
    "# class two inhertance two atribute\n",
    "# class method\n",
    "# classs attribute\n",
    "# private attribute\n",
    "# protected attribute\n",
    "\n",
    "# two point\n",
    "# private attribute\n",
    "# protected attribute\n",
    "\n",
    "# \n",
    "class Car:\n",
    "\n",
    "    count = 0\n",
    "\n",
    "    def __init__(self , color , version, age, name):\n",
    "        self.color = color\n",
    "        self.version = version\n",
    "        self.__age = age\n",
    "        self._name = name\n",
    "\n",
    "    def wl(self):\n",
    "        return self.__age\n",
    "\n",
    "class Bmw(Car):\n",
    "    def __init__(self, color, version , _name):\n",
    "        super().__init__(color, version, _name)\n",
    "    \n",
    "    @classmethod\n",
    "    def welcome(cls):\n",
    "        return f\"welcome {cls.name}\"\n",
    "    \n",
    "    def sl(self):\n",
    "        return f\"{self._name}\" \n",
    "    \n",
    "    def set_name(self , name):\n",
    "        self._name = name\n",
    "\n",
    "    def get_name(self):\n",
    "        return self._name"
   ]
  },
  {
   "attachments": {},
   "cell_type": "markdown",
   "metadata": {},
   "source": [
    "### 4. Encapsulation\n",
    "+ Public \n",
    "+ Protected\n",
    "+ Private"
   ]
  },
  {
   "attachments": {},
   "cell_type": "markdown",
   "metadata": {},
   "source": [
    ">> Public\n",
    "+ can be accessed from outside the class.\n",
    "+ Can be accessed from within the class.\n",
    "+ can be accessed from subclasses"
   ]
  },
  {
   "cell_type": "code",
   "execution_count": null,
   "metadata": {},
   "outputs": [],
   "source": [
    "class Base:\n",
    "    def __init__(self,name):\n",
    "        self.name = name\n",
    "    \n",
    "    def welcom(self):\n",
    "        # inside class\n",
    "        return f\"Hello {self.name}\"\n",
    "    \n",
    "class Sub(Base):\n",
    "    def __init__(self, name):\n",
    "        super().__init__(name)\n",
    "\n",
    "\n",
    "# outside class\n",
    "obj1 = Base(\"Ali\")\n",
    "print(obj1.name)\n",
    "print(obj1.welcom())\n",
    "\n",
    "# sub class\n",
    "obj2 = Sub(\"Elsayed\")\n",
    "print(obj2.name)\n",
    "print(obj2.welcom())"
   ]
  },
  {
   "attachments": {},
   "cell_type": "markdown",
   "metadata": {},
   "source": [
    ">> Protected\n",
    "+ Cannot be accessed outside the class.\n",
    "+ Can be accessed from within the class.\n",
    "+ can be accessed from subclasses"
   ]
  },
  {
   "cell_type": "code",
   "execution_count": null,
   "metadata": {},
   "outputs": [],
   "source": [
    "class Base:\n",
    "    def __init__(self,name,age):\n",
    "        self._name = name\n",
    "        self.age = age\n",
    "\n",
    "    def _welcom(self):\n",
    "        # inside class\n",
    "        return f\"Hello {self._name}\"\n",
    "    \n",
    "class Sub(Base):\n",
    "    def __init__(self, name):\n",
    "        super().__init__(name)\n",
    "\n",
    "\n",
    "# outside class\n",
    "# obj1 = Base(\"Ali\")\n",
    "# print(obj1._name)\n",
    "# print(obj1._welcom())\n",
    "\n",
    "# sub class\n",
    "obj2 = Sub(\"Elsayed\")\n",
    "print(obj2._name)\n",
    "print(obj2._welcom())"
   ]
  },
  {
   "attachments": {},
   "cell_type": "markdown",
   "metadata": {},
   "source": [
    ">> Private\n",
    "+ Cannot be accessed outside the class.\n",
    "+ Can be accessed from within the class.\n",
    "+ cannot be accessed from subclasses"
   ]
  },
  {
   "cell_type": "code",
   "execution_count": null,
   "metadata": {},
   "outputs": [],
   "source": [
    "class Base:\n",
    "    def __init__(self,name, age):\n",
    "        self.__name = name\n",
    "        self.__age = age\n",
    "    \n",
    "    def __welcom(self):\n",
    "        # inside class\n",
    "        return f\"Hello {self.__name}\"\n",
    "    \n",
    "class Sub(Base):\n",
    "    def __init__(self, name):\n",
    "        super().__init__(name)\n",
    "\n",
    "\n",
    "# outside class\n",
    "obj1 = Base(\"Ali\",15)\n",
    "# print(obj1.__name) # error\n",
    "# print(obj1.__welcom()) # error\n",
    "\n",
    "# sub class\n",
    "# obj2 = Sub(\"Elsayed\",16)\n",
    "# print(obj2.__name) # error\n",
    "# print(obj2.__welcom()) # error"
   ]
  },
  {
   "attachments": {},
   "cell_type": "markdown",
   "metadata": {},
   "source": [
    "+ Getter and Setter"
   ]
  },
  {
   "cell_type": "code",
   "execution_count": null,
   "metadata": {},
   "outputs": [],
   "source": [
    "class Base:\n",
    "    def __init__(self,name, level, age):\n",
    "        self.name = name    # public\n",
    "        self._level = level # protected\n",
    "        self.__age = age  \n",
    "\n",
    "obj= Base(\"vf\",5,7)\n",
    "obj.name = \"gdg\"\n",
    "\n",
    "'''\n",
    "set : change value\n",
    "get : return value\n",
    "'''\n",
    "def get_name"
   ]
  },
  {
   "cell_type": "code",
   "execution_count": null,
   "metadata": {},
   "outputs": [],
   "source": [
    "class Base:\n",
    "    def __init__(self,name, level, age):\n",
    "        self.name = name    # public\n",
    "        self._level = level # protected\n",
    "        self.__age = age    # private\n",
    "    \n",
    "    def get_name(self):\n",
    "        return self.name\n",
    "    \n",
    "    def set_name(self, name):\n",
    "        self.name = name\n",
    "\n",
    "    def get_level(self):\n",
    "        return self._level\n",
    "    \n",
    "    def set_level(self, level):\n",
    "        self._level = level\n",
    "    \n",
    "    def get_age(self):\n",
    "        return self.__age\n",
    "    \n",
    "    def set_age(self, age):\n",
    "        self.__age = age\n",
    "\n",
    "class Sub(Base):\n",
    "    def __init__(self, name):\n",
    "        super().__init__(name)"
   ]
  },
  {
   "cell_type": "code",
   "execution_count": null,
   "metadata": {},
   "outputs": [],
   "source": [
    "obj= Base(\"vf\",5,7)\n",
    "obj.set_name(\"ALi\")\n",
    "print(obj.get_name())"
   ]
  },
  {
   "attachments": {},
   "cell_type": "markdown",
   "metadata": {},
   "source": [
    "### 5. Abstract\n",
    "+ abstract class has one or more abstract method\n",
    "+ add @abstractmethod decorator on abstract methods\n",
    "+ from abc module ABCMeta class is meta class used for make base class is abstract"
   ]
  },
  {
   "cell_type": "code",
   "execution_count": null,
   "metadata": {},
   "outputs": [],
   "source": [
    "class University:\n",
    "    def has_AI(self):\n",
    "        return \"YES\"\n",
    "    \n",
    "class ERU(University):\n",
    "    def has_AI(self):\n",
    "        return \"YES\"\n",
    "    \n",
    "class BUC(University):\n",
    "    def has_AI(self):\n",
    "        return \"NO\""
   ]
  },
  {
   "cell_type": "code",
   "execution_count": null,
   "metadata": {},
   "outputs": [],
   "source": [
    "one = University()\n",
    "print(one.has_AI())"
   ]
  },
  {
   "cell_type": "code",
   "execution_count": null,
   "metadata": {},
   "outputs": [],
   "source": [
    "class University:\n",
    "    def has_AI(self):\n",
    "        pass\n",
    "\n",
    "class ERU(University):\n",
    "    def has_AI(self):\n",
    "        return \"YES\"\n",
    "    \n",
    "class BUC(University):\n",
    "    def has_AI(self):\n",
    "        return \"NO\""
   ]
  },
  {
   "cell_type": "code",
   "execution_count": null,
   "metadata": {},
   "outputs": [],
   "source": [
    "from abc import ABCMeta , abstractmethod\n",
    "from math import pi\n",
    "\n",
    "class University(metaclass=ABCMeta):\n",
    "    @abstractmethod\n",
    "    def has_AI(self):\n",
    "        pass\n",
    "    \n",
    "class ERU(University):\n",
    "    def has_AI(self):\n",
    "        return \"YES\"\n",
    "    \n",
    "class BUC(University):\n",
    "    def has_AI(self):\n",
    "        return \"NO\""
   ]
  },
  {
   "cell_type": "code",
   "execution_count": null,
   "metadata": {},
   "outputs": [],
   "source": [
    "# Can't instantiate abstract class University with abstract method has_AI_uni\n",
    "# one = University()\n",
    "# print(one.has_AI()) # error"
   ]
  },
  {
   "cell_type": "code",
   "execution_count": null,
   "metadata": {},
   "outputs": [],
   "source": [
    "two = ERU()\n",
    "print(two.has_AI())"
   ]
  },
  {
   "attachments": {},
   "cell_type": "markdown",
   "metadata": {},
   "source": [
    "## Quiz 1"
   ]
  },
  {
   "cell_type": "code",
   "execution_count": 35,
   "metadata": {},
   "outputs": [
    {
     "data": {
      "text/plain": [
       "7"
      ]
     },
     "execution_count": 35,
     "metadata": {},
     "output_type": "execute_result"
    }
   ],
   "source": [
    "# Q1\n",
    "'''\n",
    "Write a function called get_highest that takes 2 numbers as parameters and returns the highest of the 2 numbers.\n",
    "'''\n",
    "\n",
    "def get_highest(x , y):\n",
    "    if x > y:\n",
    "        return x\n",
    "    elif x == y:\n",
    "        return \"equal\"\n",
    "    else:\n",
    "        return y\n",
    "\n",
    "n1 = int(input(\"Enter first number: \"))\n",
    "n2 = int(input(\"Enter second number: \"))\n",
    "get_highest(n1,n2)"
   ]
  },
  {
   "cell_type": "code",
   "execution_count": null,
   "metadata": {},
   "outputs": [],
   "source": [
    "# Q2\n",
    "'''\n",
    "write a python class named Rectangle constructed by a length and width and a method which will compute the area of a rectangle.\n",
    "'''\n",
    "class Rectangle:\n",
    "    def __init__(self, length, width):\n",
    "        self.length = length\n",
    "        self.width = width\n",
    "    \n",
    "    def area(self):\n",
    "        return self.length * self.width\n",
    "\n",
    "rec = Rectangle(5,6)\n",
    "print(rec.area())"
   ]
  }
 ],
 "metadata": {
  "kernelspec": {
   "display_name": "Python 3",
   "language": "python",
   "name": "python3"
  },
  "language_info": {
   "codemirror_mode": {
    "name": "ipython",
    "version": 3
   },
   "file_extension": ".py",
   "mimetype": "text/x-python",
   "name": "python",
   "nbconvert_exporter": "python",
   "pygments_lexer": "ipython3",
   "version": "3.10.8"
  },
  "orig_nbformat": 4,
  "vscode": {
   "interpreter": {
    "hash": "ab58cbacd942ca503049d3378ed1180a79e5c5d17c40fd38c92a577d131c0358"
   }
  }
 },
 "nbformat": 4,
 "nbformat_minor": 2
}
