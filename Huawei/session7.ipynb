{
 "cells": [
  {
   "attachments": {},
   "cell_type": "markdown",
   "metadata": {},
   "source": [
    "# Math module"
   ]
  },
  {
   "cell_type": "code",
   "execution_count": 2,
   "metadata": {},
   "outputs": [],
   "source": [
    "import math"
   ]
  },
  {
   "cell_type": "code",
   "execution_count": null,
   "metadata": {},
   "outputs": [],
   "source": [
    "def sum(x,y):\n",
    "    return x+y"
   ]
  },
  {
   "cell_type": "code",
   "execution_count": 3,
   "metadata": {},
   "outputs": [
    {
     "name": "stdout",
     "output_type": "stream",
     "text": [
      "1.0\n",
      "1\n"
     ]
    }
   ],
   "source": [
    "# modulos or remainder\n",
    "print(math.fmod(10, 3)) # return float >  1.0\n",
    "print(10 % 3)        # return int   >  1\n",
    "\n",
    "# print(int(math.fmod(10, 3))) # return int >  1"
   ]
  },
  {
   "cell_type": "code",
   "execution_count": null,
   "metadata": {},
   "outputs": [],
   "source": [
    "print(math.factorial(3)) # 6\n",
    "'''\n",
    "3 * 2 * 1 = 6\n",
    "'''"
   ]
  },
  {
   "cell_type": "code",
   "execution_count": 4,
   "metadata": {},
   "outputs": [
    {
     "name": "stdout",
     "output_type": "stream",
     "text": [
      "3.141592653589793\n"
     ]
    }
   ],
   "source": [
    "# constants\n",
    "print(math.pi) # 3.141592653589793"
   ]
  },
  {
   "cell_type": "code",
   "execution_count": 5,
   "metadata": {},
   "outputs": [
    {
     "name": "stdout",
     "output_type": "stream",
     "text": [
      "12.566370614359172\n"
     ]
    }
   ],
   "source": [
    "'''\n",
    "area of a circle = pi * r**2\n",
    "'''\n",
    "def area_circle(r):\n",
    "    return math.pi * r**2\n",
    "\n",
    "r = 2\n",
    "print(area_circle(r))"
   ]
  },
  {
   "cell_type": "code",
   "execution_count": null,
   "metadata": {},
   "outputs": [],
   "source": [
    "# constants\n",
    "print(math.e) # 2.718281828459045"
   ]
  },
  {
   "cell_type": "code",
   "execution_count": 6,
   "metadata": {},
   "outputs": [
    {
     "name": "stdout",
     "output_type": "stream",
     "text": [
      "148.4131591025766\n",
      "148.41315910257657\n"
     ]
    }
   ],
   "source": [
    "# exponential \n",
    "print(math.exp(5))\n",
    "print(math.e ** 5)"
   ]
  },
  {
   "cell_type": "code",
   "execution_count": 7,
   "metadata": {},
   "outputs": [
    {
     "name": "stdout",
     "output_type": "stream",
     "text": [
      "5.0\n"
     ]
    }
   ],
   "source": [
    "print(math.sqrt(25)) # 5.0"
   ]
  },
  {
   "cell_type": "code",
   "execution_count": 8,
   "metadata": {},
   "outputs": [
    {
     "name": "stdout",
     "output_type": "stream",
     "text": [
      "25.0\n"
     ]
    }
   ],
   "source": [
    "print(math.pow(5 , 2)) # 25.0"
   ]
  },
  {
   "cell_type": "code",
   "execution_count": 10,
   "metadata": {},
   "outputs": [
    {
     "name": "stdout",
     "output_type": "stream",
     "text": [
      "3.0204248861443626\n",
      "20.499999999999996\n"
     ]
    }
   ],
   "source": [
    "print(math.log(20.5)) # 3.0204248861443626\n",
    "''' default base is >> e\n",
    "log(20.5) to base e = 3.0204248861443626\n",
    "base ** y = x\n",
    "e ** 3.0204248861443626 = 20.5\n",
    "'''\n",
    "print(math.pow(math.e , 3.0204248861443626)) # 20.499999999999996"
   ]
  },
  {
   "cell_type": "code",
   "execution_count": 11,
   "metadata": {},
   "outputs": [
    {
     "name": "stdout",
     "output_type": "stream",
     "text": [
      "0.5\n",
      "2.0\n"
     ]
    }
   ],
   "source": [
    "print(math.log(7,49)) # 0.5\n",
    "\n",
    "''' base is 49\n",
    "log(7) to base 49 = 0.5\n",
    "base ** y = x\n",
    "49 ** 0.5 = 7\n",
    "'''\n",
    "\n",
    "print(math.log(49,7)) # 2.0"
   ]
  },
  {
   "cell_type": "code",
   "execution_count": 12,
   "metadata": {},
   "outputs": [
    {
     "name": "stdout",
     "output_type": "stream",
     "text": [
      "4.0\n",
      "4.0\n"
     ]
    }
   ],
   "source": [
    "print(math.log10(10000)) # 4.0\n",
    "\n",
    "''' base is >> 10\n",
    "log(10000) to base 10 = 4.0\n",
    "base ** y = x\n",
    "10 ** 4.0 = 10000\n",
    "'''\n",
    "print(math.log(50 , 10)) # 0.4"
   ]
  },
  {
   "cell_type": "code",
   "execution_count": 13,
   "metadata": {},
   "outputs": [
    {
     "name": "stdout",
     "output_type": "stream",
     "text": [
      "180.0\n",
      "3.141592653589793\n"
     ]
    }
   ],
   "source": [
    "# radian and degree\n",
    "'''\n",
    "radian / degree = pi / 180 \n",
    "so ..\n",
    "radian = degree * pi / 180 \n",
    "degree = radian * 180 / pi\n",
    "\n",
    "> radian to degree on calculator = number + shift + ans + 2 dy button radian + shift + mode + 3 dy button degree\n",
    "> degree to radian on calculator = number + shift + ans + 1 da button degree + shift + mode + 4 dy button radian\n",
    "'''\n",
    "print(math.degrees(math.pi)) # 5.7 radian  = 326.58594322456923 degree\n",
    "print(math.radians(180)) # 360 degrees = 6.283185307179586 radians"
   ]
  },
  {
   "cell_type": "code",
   "execution_count": 16,
   "metadata": {},
   "outputs": [
    {
     "name": "stdout",
     "output_type": "stream",
     "text": [
      "-0.9880316240928618\n",
      "0.49999999999999994\n"
     ]
    }
   ],
   "source": [
    "print(math.sin(30)) # ???\n",
    "\n",
    "x = math.radians(30)\n",
    "print(math.sin(x))"
   ]
  },
  {
   "cell_type": "code",
   "execution_count": 17,
   "metadata": {},
   "outputs": [
    {
     "name": "stdout",
     "output_type": "stream",
     "text": [
      "0.49999999999999994\n",
      "0.5000000000000001\n",
      "0.9999999999999999\n"
     ]
    }
   ],
   "source": [
    "# Trigonometric functions\n",
    "'''\n",
    "must be angel is 'radians'\n",
    "result is radians\n",
    "'''\n",
    "\n",
    "print(math.sin(math.radians(30))) # 0.5\n",
    "print(math.cos(math.radians(60))) # 0.5\n",
    "print(math.tan(math.radians(45))) # 1.0"
   ]
  },
  {
   "cell_type": "code",
   "execution_count": 19,
   "metadata": {},
   "outputs": [
    {
     "name": "stdout",
     "output_type": "stream",
     "text": [
      "0.5235987755982989\n",
      "30.000000000000004\n"
     ]
    }
   ],
   "source": [
    "# Inverse Trigonometric Functions\n",
    "'''\n",
    "asin => arcsin = inverse of sin = sin ** -1\n",
    "acos => arccos = inverse of cos = cos ** -1\n",
    "atan => arctan = inverse of tan = tan ** -1\n",
    "return number radinas\n",
    "'''\n",
    "# sin30 = 0.5\n",
    "print(math.asin(0.5)) \n",
    "print(math.degrees(math.asin(0.5))) \n",
    "\n",
    "print(math.acos(0.5)) \n",
    "print(math.degrees(math.acos(0.5)))\n",
    "\n",
    "print(math.atan((1))) \n",
    "print(math.degrees(math.acos(1))) "
   ]
  },
  {
   "cell_type": "code",
   "execution_count": 20,
   "metadata": {},
   "outputs": [
    {
     "name": "stdout",
     "output_type": "stream",
     "text": [
      "2.3012989023072947\n",
      "1.600286857702386\n",
      "0.9171523356672744\n"
     ]
    }
   ],
   "source": [
    "# Hyperbolic functions\n",
    "\n",
    "print(math.sinh(math.radians(90))) \n",
    "print(math.cosh(math.radians(60))) \n",
    "print(math.tanh(math.radians(90))) "
   ]
  },
  {
   "cell_type": "code",
   "execution_count": 21,
   "metadata": {},
   "outputs": [
    {
     "name": "stdout",
     "output_type": "stream",
     "text": [
      "70.0\n",
      "-60.0\n"
     ]
    }
   ],
   "source": [
    "# second if positive then first positive \n",
    "# second if negative then first is negative\n",
    "print(math.copysign(-70, 5)) # 70.0\n",
    "print(math.copysign(60, -7)) # -60.0"
   ]
  },
  {
   "cell_type": "code",
   "execution_count": 22,
   "metadata": {},
   "outputs": [
    {
     "name": "stdout",
     "output_type": "stream",
     "text": [
      "6\n",
      "6\n"
     ]
    }
   ],
   "source": [
    "# ceil ^\n",
    "print(math.ceil(5.1))\n",
    "print(math.ceil(5.9))"
   ]
  },
  {
   "cell_type": "code",
   "execution_count": 23,
   "metadata": {},
   "outputs": [
    {
     "name": "stdout",
     "output_type": "stream",
     "text": [
      "5\n",
      "5\n"
     ]
    }
   ],
   "source": [
    "# floor \n",
    "print(math.floor(5.1))\n",
    "print(math.floor(5.9))"
   ]
  },
  {
   "cell_type": "code",
   "execution_count": 24,
   "metadata": {},
   "outputs": [
    {
     "name": "stdout",
     "output_type": "stream",
     "text": [
      "24.0\n"
     ]
    }
   ],
   "source": [
    "# Gamma function\n",
    "print(math.gamma(5)) # 24.0"
   ]
  },
  {
   "attachments": {},
   "cell_type": "markdown",
   "metadata": {},
   "source": [
    "# random module"
   ]
  },
  {
   "cell_type": "code",
   "execution_count": 29,
   "metadata": {},
   "outputs": [],
   "source": [
    "import random as rm"
   ]
  },
  {
   "cell_type": "code",
   "execution_count": 32,
   "metadata": {},
   "outputs": [
    {
     "name": "stdout",
     "output_type": "stream",
     "text": [
      "0.9244002860929055\n"
     ]
    }
   ],
   "source": [
    "# random()\n",
    "print(rm.random()) # random number from 0 to 1"
   ]
  },
  {
   "cell_type": "code",
   "execution_count": 42,
   "metadata": {},
   "outputs": [
    {
     "name": "stdout",
     "output_type": "stream",
     "text": [
      "178\n"
     ]
    }
   ],
   "source": [
    "# randint(start,end)\n",
    "print(rm.randint(100,250)) # random integer numbers from 10 to 19"
   ]
  },
  {
   "cell_type": "code",
   "execution_count": 40,
   "metadata": {},
   "outputs": [
    {
     "name": "stdout",
     "output_type": "stream",
     "text": [
      "19.677510568414817\n"
     ]
    }
   ],
   "source": [
    "# uniform(start, end, size) \n",
    "print(rm.uniform(10.2 , 20)) # random float numbers from 10.2 to 19"
   ]
  },
  {
   "cell_type": "code",
   "execution_count": 45,
   "metadata": {},
   "outputs": [
    {
     "name": "stdout",
     "output_type": "stream",
     "text": [
      "48\n",
      "50\n"
     ]
    }
   ],
   "source": [
    "# randrange(end) \n",
    "# default start = 0\n",
    "print(rm.randrange(100)) # random integers numbers from 0 to 99\n",
    "\n",
    "# randrange(start, end , step) \n",
    "print(rm.randrange(10,100,2)) # random integers numbers from 10 to 100 step 2 => even"
   ]
  },
  {
   "cell_type": "code",
   "execution_count": null,
   "metadata": {},
   "outputs": [],
   "source": [
    "# choice(list)\n",
    "print(rm.choice([1,5,6])) # take random numbers from list\n",
    "print(rm.choice(\"Hello\")) # take random numbers from list"
   ]
  },
  {
   "cell_type": "code",
   "execution_count": 47,
   "metadata": {},
   "outputs": [
    {
     "name": "stdout",
     "output_type": "stream",
     "text": [
      "[3, 14, 19, 9, 13]\n"
     ]
    },
    {
     "data": {
      "text/plain": [
       "['green', 'black']"
      ]
     },
     "execution_count": 47,
     "metadata": {},
     "output_type": "execute_result"
    }
   ],
   "source": [
    "# sample(range() , k_numbers)\n",
    "# k_numbers is < range\n",
    "\n",
    "for i in range(10):\n",
    "    pass\n",
    "\n",
    "print(rm.sample(range(20) , 5)) # random 10 numbers from 0 to 19\n",
    "# print(rm.sample(range(10) ,15)) # error \n",
    "\n",
    "rm.sample(['red', 'blue', 'green' , 'black'], 2)"
   ]
  },
  {
   "cell_type": "code",
   "execution_count": 52,
   "metadata": {},
   "outputs": [
    {
     "name": "stdout",
     "output_type": "stream",
     "text": [
      "[5, 2, 7, 8, 1]\n"
     ]
    }
   ],
   "source": [
    "# shuffle(list) \n",
    "# change sort elements in list\n",
    "# mfe4 create variable\n",
    "# items = rm.shuffle([1,2,5,7,8])\n",
    "# print(items) # return none \n",
    "\n",
    "# # must create variable to list and pass variable da l shuffle\n",
    "items = [1,2,5,7,8]\n",
    "rm.shuffle(items)\n",
    "print(items)"
   ]
  },
  {
   "cell_type": "code",
   "execution_count": null,
   "metadata": {},
   "outputs": [],
   "source": []
  }
 ],
 "metadata": {
  "kernelspec": {
   "display_name": "Python 3",
   "language": "python",
   "name": "python3"
  },
  "language_info": {
   "codemirror_mode": {
    "name": "ipython",
    "version": 3
   },
   "file_extension": ".py",
   "mimetype": "text/x-python",
   "name": "python",
   "nbconvert_exporter": "python",
   "pygments_lexer": "ipython3",
   "version": "3.10.8"
  },
  "orig_nbformat": 4,
  "vscode": {
   "interpreter": {
    "hash": "ab58cbacd942ca503049d3378ed1180a79e5c5d17c40fd38c92a577d131c0358"
   }
  }
 },
 "nbformat": 4,
 "nbformat_minor": 2
}
