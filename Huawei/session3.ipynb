{
  "cells": [
    {
      "cell_type": "code",
      "execution_count": null,
      "metadata": {},
      "outputs": [],
      "source": [
        "# Kariam Ashraf seven points\n",
        "# Abduallah mohamed six points\n",
        "# Yousef emad five points\n",
        "# Akram four points\n",
        "# Romiasaa one point"
      ]
    },
    {
      "cell_type": "code",
      "execution_count": 1,
      "metadata": {
        "colab": {
          "base_uri": "https://localhost:8080/"
        },
        "id": "2h8ZGX2FzHcn",
        "outputId": "5c6a9334-992b-48c3-8d7f-446546b82468"
      },
      "outputs": [
        {
          "name": "stdout",
          "output_type": "stream",
          "text": [
            "a is 1\n",
            "b is 2\n",
            "ls is (1, 2, 3, 4, 5)\n",
            "dict is {'six': 6, 'seven': 7, 'eight': 8}\n"
          ]
        }
      ],
      "source": [
        "# Unpacking\n",
        "\n",
        "def f(a,b,*ls,**dic):\n",
        "    print(f'a is {a}') # 1\n",
        "\n",
        "    print(f'b is {b}') # 2\n",
        "\n",
        "    print(f'ls is {ls}') # as tuple\n",
        "\n",
        "    print(f'dict is {dic}')\n",
        "\n",
        "f(1,2,1,2,3,4,5,six=6,seven=7,eight=8)"
      ]
    },
    {
      "cell_type": "code",
      "execution_count": 2,
      "metadata": {
        "colab": {
          "base_uri": "https://localhost:8080/"
        },
        "id": "9Lsa-BAIzHcr",
        "outputId": "5992ef57-5dc8-4877-af84-806a620708cb"
      },
      "outputs": [
        {
          "name": "stdout",
          "output_type": "stream",
          "text": [
            "x = 7\n",
            "y = 2\n",
            "power = 49\n"
          ]
        }
      ],
      "source": [
        "# method \n",
        "\n",
        "def sm(x = 2, y = 7):\n",
        "    print(f\"x = {x}\")\n",
        "    print(f\"y = {y}\")\n",
        "    print(f\"power = {x ** y}\")\n",
        "\n",
        "sm(7,2)"
      ]
    },
    {
      "cell_type": "code",
      "execution_count": 4,
      "metadata": {
        "colab": {
          "base_uri": "https://localhost:8080/"
        },
        "id": "FvRvLUO1zHcr",
        "outputId": "93d4a753-855f-4d43-fccd-6fa58b002fe0"
      },
      "outputs": [
        {
          "name": "stdout",
          "output_type": "stream",
          "text": [
            "25\n"
          ]
        }
      ],
      "source": [
        "# Lambda\n",
        "\n",
        "# def sm(x,y, z):\n",
        "#     power = x**y\n",
        "#     return power\n",
        "\n",
        "# print(sm(7,2))\n",
        "\n",
        "\n",
        "sm = lambda x : x **2\n",
        "print(sm(5))"
      ]
    },
    {
      "cell_type": "code",
      "execution_count": 7,
      "metadata": {
        "colab": {
          "base_uri": "https://localhost:8080/"
        },
        "id": "UCqHQU8PzHcs",
        "outputId": "28f1c882-ea39-4e4e-ef15-0cb04447fd1d"
      },
      "outputs": [
        {
          "name": "stdout",
          "output_type": "stream",
          "text": [
            "[0, 1, 4, 9, 16]\n"
          ]
        }
      ],
      "source": [
        "square = lambda x: x ** 2\n",
        "a = []\n",
        "for i in range(5): # 0 1 2 3 4\n",
        "   a.append(square(i))\n",
        "   \n",
        "print(a)"
      ]
    },
    {
      "cell_type": "code",
      "execution_count": 11,
      "metadata": {
        "colab": {
          "base_uri": "https://localhost:8080/"
        },
        "id": "_CsjLOXlzHcs",
        "outputId": "b4e6b909-1ac0-4ddb-be21-95b947d7c0af"
      },
      "outputs": [
        {
          "name": "stdout",
          "output_type": "stream",
          "text": [
            "1\n",
            "4\n",
            "1\n"
          ]
        }
      ],
      "source": [
        "# Global and Local\n",
        "\n",
        "gl = 1 # global Variable \n",
        "\n",
        "def fun1():\n",
        "    lc1 = 4 # local Variable \n",
        "    print(lc1)\n",
        "    print(gl)\n",
        "\n",
        "# print(lc1)\n",
        "def fun2():\n",
        "    lc2 = 4 # local Variable \n",
        "    print(gl) \n",
        "    # print(lc1)\n",
        "    # print(lc2)\n",
        "  \n",
        "\n",
        "print(gl)\n",
        "fun1()\n",
        "# print(lc2)"
      ]
    },
    {
      "cell_type": "code",
      "execution_count": 12,
      "metadata": {
        "colab": {
          "base_uri": "https://localhost:8080/"
        },
        "id": "3YlvC3eqzHct",
        "outputId": "1c114666-7ea3-4bdb-ba25-bb57ef52edec"
      },
      "outputs": [
        {
          "name": "stdout",
          "output_type": "stream",
          "text": [
            "5\n",
            "2\n",
            "2\n"
          ]
        }
      ],
      "source": [
        "x = 5 \n",
        "\n",
        "def one():\n",
        "    global x\n",
        "    x = 2\n",
        "    print(x)\n",
        "\n",
        "print(x)\n",
        "one()\n",
        "print(x)"
      ]
    },
    {
      "cell_type": "code",
      "execution_count": 13,
      "metadata": {
        "colab": {
          "base_uri": "https://localhost:8080/"
        },
        "id": "jbA3L0XSzHct",
        "outputId": "2cc799db-6368-4ab2-e9bf-6d677e45dfd2"
      },
      "outputs": [
        {
          "name": "stdout",
          "output_type": "stream",
          "text": [
            "X = 1\n",
            "X = 2\n",
            "X = 1\n",
            "X = 3\n",
            "X = 3\n"
          ]
        }
      ],
      "source": [
        "x = 1\n",
        "# 5 points\n",
        "\n",
        "def two():\n",
        "    x = 2\n",
        "    print(f\"X = {x}\")\n",
        "\n",
        "print(f\"X = {x}\") # 2 1 2 1 \n",
        "\n",
        "def three():\n",
        "    global x \n",
        "    x = 3\n",
        "    print(f\"X = {x}\")\n",
        "\n",
        "two() # 2 2 2 \n",
        "print(f\"X = {x}\") # 1\n",
        "three() # 3\n",
        "print(f\"X = {x}\") "
      ]
    },
    {
      "cell_type": "code",
      "execution_count": 15,
      "metadata": {
        "colab": {
          "base_uri": "https://localhost:8080/"
        },
        "id": "fvgTQVZ8zHcu",
        "outputId": "4065911a-8d89-4a87-f40f-9d52f3a08fed"
      },
      "outputs": [
        {
          "name": "stdout",
          "output_type": "stream",
          "text": [
            "24\n"
          ]
        }
      ],
      "source": [
        "# recursive \n",
        "# find factorial\n",
        "# 5 5*4*3*2*1\n",
        "def fact(n):# 4\n",
        "    if n == 1:\n",
        "        return 1\n",
        "    else:\n",
        "        return n * fact(n-1) # 4 * 3 * 2 * 1\n",
        "    \n",
        "print(fact(4))"
      ]
    },
    {
      "cell_type": "markdown",
      "metadata": {
        "id": "kcTy9bmczHcw"
      },
      "source": [
        "## 13. Features of OOP or Object Oriented Programming:\n",
        "+ Why OOP ?\n",
        "+ Class & Object\n",
        "+ Inheritance\n",
        "+ Polymorphism\n",
        "+ Encapsulation\n",
        "+ Abstract"
      ]
    },
    {
      "cell_type": "markdown",
      "metadata": {
        "id": "xW53e7LCzHcy"
      },
      "source": [
        "### 0. Why OOP ?"
      ]
    },
    {
      "cell_type": "code",
      "execution_count": null,
      "metadata": {
        "id": "7ue8kLgizHcz"
      },
      "outputs": [],
      "source": [
        "dic = {\"name\": \"Elsayed\",\n",
        "       \"age\": 20,\n",
        "       \"monthly_salary\": 5000,\n",
        "       \"yearly_salary\": dic[\"monthly_salary\"] * 12\n",
        "       }\n",
        "# can't make calc on dict"
      ]
    },
    {
      "cell_type": "markdown",
      "metadata": {
        "id": "qsFxduNazHc0"
      },
      "source": [
        "### 1. Class & Object\n",
        "+ class is blueprint\n",
        "+ create class with keyword \"class\".\n",
        "+ class name written with \"Pascalcase\" or Upper camelcase style."
      ]
    },
    {
      "cell_type": "code",
      "execution_count": null,
      "metadata": {
        "id": "5a4CRoUazHc0"
      },
      "outputs": [],
      "source": []
    },
    {
      "cell_type": "code",
      "execution_count": 19,
      "metadata": {
        "id": "kj0PYebpzHc1"
      },
      "outputs": [],
      "source": [
        "# pass : skip error\n",
        "\n",
        "class Car:\n",
        "  pass\n",
        "\n",
        "  if x ==5:\n",
        "    pass\n"
      ]
    },
    {
      "cell_type": "markdown",
      "metadata": {
        "id": "CpcGtZbNzHc1"
      },
      "source": [
        "+ When create new class must be create method __init__\n",
        "+ __init__ >> initialize data or attribute to class \n",
        "+ self refer to \"Current Instance\"\n",
        "+ self must be first parameter"
      ]
    },
    {
      "cell_type": "code",
      "execution_count": null,
      "metadata": {
        "id": "I1Ot_EczzHc2"
      },
      "outputs": [],
      "source": [
        "class Car:\n",
        "    def __init__(self):\n",
        "        pass\n"
      ]
    },
    {
      "cell_type": "markdown",
      "metadata": {
        "id": "Vt2Aq-8lzHc2"
      },
      "source": [
        "+ create attribute > class and object"
      ]
    },
    {
      "cell_type": "code",
      "execution_count": null,
      "metadata": {
        "id": "UdruSh50zHc2"
      },
      "outputs": [],
      "source": [
        "class Car:\n",
        "    # class attribute\n",
        "    \n",
        "    wheels = 4\n",
        "    count_cars = 0\n",
        "\n",
        "    def __init__(self, name, age):\n",
        "      self.name = name\n",
        "      self.age =age\n",
        "\n",
        "\n",
        "    def __init__(self, model , color):\n",
        "        # object attribute\n",
        "\n",
        "        self.model = model\n",
        "        self.color = color\n",
        "        Car.count_cars += 1"
      ]
    },
    {
      "cell_type": "markdown",
      "metadata": {
        "id": "jzlXg-zrzHc3"
      },
      "source": [
        "+ create method "
      ]
    },
    {
      "cell_type": "code",
      "execution_count": 21,
      "metadata": {
        "id": "tTq5bhfMzHc3"
      },
      "outputs": [],
      "source": [
        "class Car:\n",
        "    # class attribute\n",
        "    wheels = 4\n",
        "    count_cars = 0\n",
        "    # Car.count_cars\n",
        "\n",
        "    def __init__(self, model , color, length = 15):\n",
        "        # object attribute\n",
        "        self.model = model\n",
        "        self.color = \"Yellow\"\n",
        "        self.length = length\n",
        "        Car.count_cars += 1\n",
        "\n",
        "    # object methods\n",
        "    # must be pass parameter self\n",
        "    # point object itself\n",
        "    def move(self):\n",
        "        return \"Moving car\"\n",
        "    \n",
        "    def stop(self):\n",
        "        return \"Stop car\"\n",
        "    \n",
        "    # class methods\n",
        "    # must be @classmethod\n",
        "    # must be pass parameter cls \n",
        "    # Point class itself\n",
        "    # used when you want access or do something in class itself\n",
        "    @classmethod\n",
        "    def show_cars_count(cls):\n",
        "        return f\"You have {cls.count_cars} car\""
      ]
    },
    {
      "cell_type": "markdown",
      "metadata": {
        "id": "E7_apc80zHc3"
      },
      "source": [
        "+ create object "
      ]
    },
    {
      "cell_type": "code",
      "execution_count": 22,
      "metadata": {
        "id": "Ons9HrcYzHc4"
      },
      "outputs": [],
      "source": [
        "# objectname = classname()\n",
        "tesla = Car(\"telsa\",\"red\") # bas kda :)\n",
        " \n",
        "# java :)\n",
        "# class_name object_name = new class_name(); "
      ]
    },
    {
      "cell_type": "markdown",
      "metadata": {
        "id": "EAaBQRGhzHc4"
      },
      "source": [
        "+ To know object is from class eyh ?"
      ]
    },
    {
      "cell_type": "code",
      "execution_count": 23,
      "metadata": {
        "colab": {
          "base_uri": "https://localhost:8080/"
        },
        "id": "4PKiY2D4zHc4",
        "outputId": "f482178b-410e-45f7-8728-3e7ef02059a8"
      },
      "outputs": [
        {
          "name": "stdout",
          "output_type": "stream",
          "text": [
            "<class '__main__.Car'>\n"
          ]
        }
      ],
      "source": [
        "# __class__\n",
        "\n",
        "print(tesla.__class__)"
      ]
    },
    {
      "cell_type": "markdown",
      "metadata": {
        "id": "0bbKToN3zHc5"
      },
      "source": [
        "+ To know attribute and methods about object"
      ]
    },
    {
      "cell_type": "code",
      "execution_count": null,
      "metadata": {
        "id": "jiIWAFRxzHc5"
      },
      "outputs": [],
      "source": [
        "# dir \n",
        "\n",
        "print(dir(tesla))"
      ]
    },
    {
      "cell_type": "code",
      "execution_count": 24,
      "metadata": {
        "colab": {
          "base_uri": "https://localhost:8080/"
        },
        "id": "2JASTxZrzHc5",
        "outputId": "b146ce55-ae39-4f9b-db42-439f062c5f58"
      },
      "outputs": [
        {
          "name": "stdout",
          "output_type": "stream",
          "text": [
            "4\n",
            "1\n",
            "telsa\n",
            "Yellow\n",
            "15\n"
          ]
        }
      ],
      "source": [
        "print(Car.wheels)\n",
        "print(Car.count_cars)\n",
        "print(tesla.model)\n",
        "print(tesla.color)\n",
        "print(tesla.length)"
      ]
    },
    {
      "cell_type": "code",
      "execution_count": 26,
      "metadata": {
        "colab": {
          "base_uri": "https://localhost:8080/"
        },
        "id": "20H_rhhszHc5",
        "outputId": "f3be97af-c13f-4019-c292-acb49e82458b"
      },
      "outputs": [
        {
          "name": "stdout",
          "output_type": "stream",
          "text": [
            "Moving car\n",
            "Stop car\n",
            "You have 1 car\n"
          ]
        }
      ],
      "source": [
        "print(tesla.move())\n",
        "print(tesla.stop())\n",
        "\n",
        "print(Car.show_cars_count())"
      ]
    },
    {
      "cell_type": "code",
      "execution_count": null,
      "metadata": {
        "id": "Fkgo7zHEMQ43"
      },
      "outputs": [],
      "source": [
        "move # attribute\n",
        "move() # method"
      ]
    },
    {
      "cell_type": "code",
      "execution_count": null,
      "metadata": {
        "id": "wTBNrVawzHc6"
      },
      "outputs": [],
      "source": [
        "# next session with points :)\n",
        "\n",
        "class Car:\n",
        "    # class attribute\n",
        "    wheels = 4\n",
        "    count_cars = 0\n",
        "\n",
        "    def __init__(self, company , color, length = 15):\n",
        "        # object attribute\n",
        "        self.company = company\n",
        "        self.color = color\n",
        "        self.length = length\n",
        "        Car.count_cars += 1\n",
        "    \n",
        "    # use attribute in method\n",
        "    def do_action(self, action): # stop or move\n",
        "        print(action)\n",
        "        action = action.lower()\n",
        "        print(action)\n",
        "\n",
        "        if action == 'move':\n",
        "            return f\"{action} {self.company}\"\n",
        "        elif action == 'stop':\n",
        "            return f\"{action} {self.company}\"\n",
        "        else:\n",
        "            return f\"{action} {self.company}\"\n",
        "    \n",
        "    @classmethod\n",
        "    def show_cars_count(cls):\n",
        "        return f\"You have {cls.count_cars} car\"\n",
        "    \n",
        "bmw = Car(\"bmw\", \"green\")\n",
        "print(bmw.do_action(\"Stop\"))"
      ]
    },
    {
      "cell_type": "code",
      "execution_count": null,
      "metadata": {
        "id": "iYAJxL3GzHc6"
      },
      "outputs": [],
      "source": [
        "# next session with points :)\n",
        "\n",
        "class Car:\n",
        "    # class attribute\n",
        "    wheels = 4\n",
        "    count_cars = 0\n",
        "\n",
        "    def __init__(self, company , color, length = 15):\n",
        "        # object attribute\n",
        "        self.company = company\n",
        "        self.color = color\n",
        "        self.length = length\n",
        "        Car.count_cars += 1\n",
        "\n",
        "    def move(self):\n",
        "        return \"Moving\"\n",
        "\n",
        "    # use attribute in method\n",
        "    def do_action(self, action): # stop or move\n",
        "        print(action)\n",
        "        action = action.lower()\n",
        "        print(action)\n",
        "\n",
        "        if action == 'move':\n",
        "            return f\"{action} {self.company}\"\n",
        "        elif action == 'stop':\n",
        "            return f\"{action} {self.company}\"\n",
        "        else:\n",
        "            return f\"{action} {self.company}\"\n",
        "\n",
        "    @classmethod\n",
        "    def show_cars_count(cls):\n",
        "        return f\"You have {cls.count_cars} car\"\n",
        "\n",
        "    def all_info(self):\n",
        "        return f\"Your company is {self.company}\\nYour color is {self.color}\\tand length = {self.length}\\nHas {self.wheels} wheels\\nmake actions {self.move()}\\nCount cars = {Car.show_cars_count()}\"\n",
        "    \n",
        "bmw = Car(\"bmw\", \"green\")\n",
        "print(bmw.all_info())"
      ]
    },
    {
      "cell_type": "code",
      "execution_count": null,
      "metadata": {
        "id": "bN5mRCPHzHc6"
      },
      "outputs": [],
      "source": [
        "tesla = Car(\"telsa\",\"red\")\n",
        "print(bmw.all_info())"
      ]
    },
    {
      "cell_type": "code",
      "execution_count": null,
      "metadata": {
        "id": "U1MuY2yGzHc7"
      },
      "outputs": [],
      "source": [
        "\"\"\" Summary Session.\n",
        "\n",
        "# create class\n",
        "class Nameclass:\n",
        "    # class attribute >> wheels , count\n",
        "    .\n",
        "    ..\n",
        "\n",
        "    def __init__(self, other_data):\n",
        "        # object attribute for only this object >> color , speed , design\n",
        "        self.other_data = other_data\n",
        "        .\n",
        "\n",
        "    # object method  ..\n",
        "    def method_name(self , other_data):\n",
        "        pass\n",
        "        \n",
        "    def method_name(self , other_data):\n",
        "        pass\n",
        "\n",
        "    # class method \n",
        "    @classmethod\n",
        "    def method_name(cls , other_data):\n",
        "        pass\n",
        "\n",
        "# create object\n",
        "obj_name = class_name()\n",
        "\n",
        "# print object attribute and object attribute with object_name\n",
        "\n",
        "# print class attribute and class attribute with class_name\n",
        "\"\"\""
      ]
    }
  ],
  "metadata": {
    "colab": {
      "provenance": []
    },
    "kernelspec": {
      "display_name": "Python 3",
      "language": "python",
      "name": "python3"
    },
    "language_info": {
      "codemirror_mode": {
        "name": "ipython",
        "version": 3
      },
      "file_extension": ".py",
      "mimetype": "text/x-python",
      "name": "python",
      "nbconvert_exporter": "python",
      "pygments_lexer": "ipython3",
      "version": "3.10.8"
    },
    "orig_nbformat": 4,
    "vscode": {
      "interpreter": {
        "hash": "ab58cbacd942ca503049d3378ed1180a79e5c5d17c40fd38c92a577d131c0358"
      }
    }
  },
  "nbformat": 4,
  "nbformat_minor": 0
}
