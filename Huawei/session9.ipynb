{
 "cells": [
  {
   "cell_type": "code",
   "execution_count": null,
   "metadata": {},
   "outputs": [],
   "source": [
    "import numpy as np"
   ]
  },
  {
   "cell_type": "code",
   "execution_count": null,
   "metadata": {},
   "outputs": [],
   "source": [
    "# slice in list \n",
    "ls = [1,2,3,5,4,8,9]\n",
    "print(ls[1])\n",
    "print(ls[-2])\n",
    "# [start:end:step]\n",
    "print(ls[::2])"
   ]
  },
  {
   "cell_type": "code",
   "execution_count": null,
   "metadata": {},
   "outputs": [],
   "source": [
    "# slice in array 1D\n",
    "\n",
    "a = np.arange(2,9) # [2 3 4 5 6 7 8]\n",
    "print(a)\n",
    "print(a[3]) # 5\n",
    "print(a[-1]) # 8\n",
    "print(a[::-2]) # [8 6 4 2]"
   ]
  },
  {
   "cell_type": "code",
   "execution_count": null,
   "metadata": {},
   "outputs": [],
   "source": [
    "# slice in array 2D\n",
    "\n",
    "a = np.arange(1,37).reshape(6,6)\n",
    "'''\n",
    "[[ 1  2  3  4  5  6]\n",
    " [ 7  8  9 10 11 12]\n",
    " [13 14 15 16 17 18]\n",
    " [19 20 21 22 23 24]\n",
    " [25 26 27 28 29 30]\n",
    " [31 32 33 34 35 36]]\n",
    "'''\n",
    "print(a[3]) # [19 20 21 22 23 24]\n",
    "print(a[-1]) #  [31 32 33 34 35 36]\n",
    "print(a[::-2])\n",
    "'''\n",
    "[[31 32 33 34 35 36]\n",
    " [19 20 21 22 23 24]\n",
    " [ 7  8  9 10 11 12]]\n",
    "'''"
   ]
  },
  {
   "cell_type": "code",
   "execution_count": null,
   "metadata": {},
   "outputs": [],
   "source": [
    "a = np.arange(1,37).reshape(6,6)\n",
    "'''\n",
    "[[ 1  2  3  4  5  6]\n",
    " [ 7  8  9 10 11 12]\n",
    " [13 14 15 16 17 18]\n",
    " [19 20 21 22 23 24]\n",
    " [25 26 27 28 29 30]\n",
    " [31 32 33 34 35 36]]\n",
    "'''\n",
    "print(a[3,2]) # 21\n",
    "print(a[2,:]) #  [13 14 15 16 17 18]"
   ]
  },
  {
   "cell_type": "code",
   "execution_count": null,
   "metadata": {},
   "outputs": [],
   "source": [
    "a = np.arange(1,37).reshape(6,6)\n",
    "'''\n",
    "[[ 1  2  3  4  5  6]\n",
    " [ 7  8  9 10 11 12]\n",
    " [13 14 15 16 17 18]\n",
    " [19 20 21 22 23 24]\n",
    " [25 26 27 28 29 30]\n",
    " [31 32 33 34 35 36]]\n",
    "'''\n",
    "\n",
    "print(a[:,2]) #  [3 9 15 21 27 33]"
   ]
  },
  {
   "cell_type": "code",
   "execution_count": null,
   "metadata": {},
   "outputs": [],
   "source": [
    "a = np.arange(1,37).reshape(6,6)\n",
    "'''\n",
    "[[ 1  2  3  4  5  6]\n",
    " [ 7  8  9 10 11 12]\n",
    " [13 14 15 16 17 18]\n",
    " [19 20 21 22 23 24]\n",
    " [25 26 27 28 29 30]\n",
    " [31 32 33 34 35 36]]\n",
    "'''\n",
    "print(a[: , 2:4])\n",
    "'''\n",
    "[[3 4]\n",
    " [9 10]\n",
    " [15 16]\n",
    " [21 22]\n",
    " [27 28]\n",
    " [33 34]\n",
    "'''"
   ]
  },
  {
   "cell_type": "code",
   "execution_count": null,
   "metadata": {},
   "outputs": [],
   "source": [
    "a = np.arange(1,37).reshape(6,6)\n",
    "'''\n",
    "[[ 1  2  3  4  5  6]\n",
    " [ 7  8  9 10 11 12]\n",
    " [13 14 15 16 17 18]\n",
    " [19 20 21 22 23 24]\n",
    " [25 26 27 28 29 30]\n",
    " [31 32 33 34 35 36]]\n",
    "'''\n",
    "print(a[1:4 , 1:3])\n",
    "'''\n",
    "[[ 8  9]\n",
    " [14 15]\n",
    " [20 21]]\n",
    "'''"
   ]
  },
  {
   "cell_type": "code",
   "execution_count": null,
   "metadata": {},
   "outputs": [],
   "source": [
    "a = np.arange(1,37).reshape(6,6)\n",
    "'''\n",
    "[[ 1  2  3  4  5  6]\n",
    " [ 7  8  9 10 11 12]\n",
    " [13 14 15 16 17 18]\n",
    " [19 20 21 22 23 24]\n",
    " [25 26 27 28 29 30]\n",
    " [31 32 33 34 35 36]]\n",
    "'''\n",
    "print(a[:,:])\n",
    "'''\n",
    "[[ 1  2  3  4  5  6]\n",
    " [ 7  8  9 10 11 12]\n",
    " [13 14 15 16 17 18]\n",
    " [19 20 21 22 23 24]\n",
    " [25 26 27 28 29 30]\n",
    " [31 32 33 34 35 36]]\n",
    "'''"
   ]
  },
  {
   "cell_type": "code",
   "execution_count": null,
   "metadata": {},
   "outputs": [],
   "source": [
    "a = np.arange(1,37).reshape(6,6)\n",
    "'''\n",
    "[[ 1  2  3  4  5  6]\n",
    " [ 7  8  9 10 11 12]\n",
    " [13 14 15 16 17 18]\n",
    " [19 20 21 22 23 24]\n",
    " [25 26 27 28 29 30]\n",
    " [31 32 33 34 35 36]]\n",
    "'''\n",
    "print(a[::-1 , ::-1])\n",
    "'''\n",
    "[[36 35 34 33 32 31]\n",
    " [30 29 28 27 26 25]\n",
    " [24 23 22 21 20 19]\n",
    " [18 17 16 15 14 13]\n",
    " [12 11 10  9  8  7]\n",
    " [ 6  5  4  3  2  1]]\n",
    "'''"
   ]
  },
  {
   "cell_type": "code",
   "execution_count": null,
   "metadata": {},
   "outputs": [],
   "source": [
    "ls = [1,2,3]\n",
    "ls[1] = 5\n",
    "print(ls)"
   ]
  },
  {
   "cell_type": "code",
   "execution_count": null,
   "metadata": {},
   "outputs": [],
   "source": [
    "a = np.arange(1,37).reshape(6,6)\n",
    "'''\n",
    "[[ 1  2  3  4  5  6]\n",
    " [ 7  8  9 10 11 12]\n",
    " [13 14 15 16 17 18]\n",
    " [19 20 21 22 23 24]\n",
    " [25 26 27 28 29 30]\n",
    " [31 32 33 34 35 36]]\n",
    "'''\n",
    "a[2 , 4] = 0\n",
    "print(a)\n",
    "'''\n",
    "[[ 1  2  3  4  5  6]\n",
    " [ 7  8  9 10 11 12]\n",
    " [13 14 15 16 0 18]\n",
    " [19 20 21 22 23 24]\n",
    " [25 26 27 28 29 30]\n",
    " [31 32 33 34 35 36]]\n",
    "'''"
   ]
  },
  {
   "cell_type": "code",
   "execution_count": null,
   "metadata": {},
   "outputs": [],
   "source": [
    "a = np.arange(1,37).reshape(6,6)\n",
    "'''\n",
    "[[ 1  2  3  4  5  6]\n",
    " [ 7  8  9 10 11 12]\n",
    " [13 14 15 16 17 18]\n",
    " [19 20 21 22 23 24]\n",
    " [25 26 27 28 29 30]\n",
    " [31 32 33 34 35 36]]\n",
    "'''\n",
    "a[:,4] = 0\n",
    "print(a)\n",
    "'''\n",
    "[[ 1  2  3  4  0  6]\n",
    " [ 7  8  9 10  0 12]\n",
    " [13 14 15 16  0 18]\n",
    " [19 20 21 22  0 24]\n",
    " [25 26 27 28  0 30]\n",
    " [31 32 33 34  0 36]]\n",
    "'''"
   ]
  },
  {
   "cell_type": "code",
   "execution_count": null,
   "metadata": {},
   "outputs": [],
   "source": [
    "a = np.arange(1,37).reshape(6,6)\n",
    "'''\n",
    "[[ 1  2  3  4  5  6]\n",
    " [ 7  8  9 10 11 12]\n",
    " [13 14 15 16 17 18]\n",
    " [19 20 21 22 23 24]\n",
    " [25 26 27 28 29 30]\n",
    " [31 32 33 34 35 36]]\n",
    "'''\n",
    "a[3,:] = 0\n",
    "print(a)\n",
    "'''\n",
    "[[ 1  2  3  4  5  6]\n",
    " [ 7  8  9 10 11 12]\n",
    " [13 14 15 16 17 18]\n",
    " [ 0  0  0  0  0  0]\n",
    " [25 26 27 28 29 30]\n",
    " [31 32 33 34 35 36]]\n",
    "'''"
   ]
  },
  {
   "cell_type": "code",
   "execution_count": null,
   "metadata": {},
   "outputs": [],
   "source": [
    "a = np.arange(16).reshape(4,4)\n",
    "'''\n",
    "[[ 0,  1,  2,  3],\n",
    " [ 4,  5,  6,  7],\n",
    " [ 8,  9, 10, 11],\n",
    " [12, 13, 14, 15]]\n",
    "'''\n",
    "b = a[2: , 3:] # change with a\n",
    "print(b)\n",
    "a[:,:] = 7\n",
    "print(a)\n",
    "print(b)"
   ]
  },
  {
   "cell_type": "code",
   "execution_count": null,
   "metadata": {},
   "outputs": [],
   "source": [
    "a = np.arange(16).reshape(4,4)\n",
    "'''\n",
    "[[ 0,  1,  2,  3],\n",
    " [ 4,  5,  6,  7],\n",
    " [ 8,  9, 10, 11],\n",
    " [12, 13, 14, 15]]\n",
    "'''\n",
    "b = a[2: , 3:].copy() # not change with a\n",
    "print(b)\n",
    "a[:,:] = 7\n",
    "print(a)\n",
    "print(b)"
   ]
  },
  {
   "cell_type": "code",
   "execution_count": null,
   "metadata": {},
   "outputs": [],
   "source": [
    "# dtype(matrix)\n",
    "a = np.arange(7) # [0 1 2 3 4 5 6]\n",
    "print(a.dtype) # int64 > integer 64 bit\n",
    "\n",
    "b = np.array(['a', 'b'])\n",
    "print(b.dtype) # U1"
   ]
  },
  {
   "cell_type": "code",
   "execution_count": null,
   "metadata": {},
   "outputs": [],
   "source": [
    "# trace(matrix) collection diagonal \n",
    "print(np.trace(np.eye(5))) # 1+1+1+1+1 = 5 \n",
    "'''\n",
    "[[1. 0. 0. 0. 0.]\n",
    " [0. 1. 0. 0. 0.]\n",
    " [0. 0. 1. 0. 0.]\n",
    " [0. 0. 0. 1. 0.]\n",
    " [0. 0. 0. 0. 1.]]\n",
    "'''"
   ]
  },
  {
   "cell_type": "code",
   "execution_count": null,
   "metadata": {},
   "outputs": [],
   "source": [
    "a = np.arange(9).reshape(3,3)\n",
    "'''\n",
    "[[0 1 2]\n",
    " [3 4 5]\n",
    " [6 7 8]]\n",
    "'''\n",
    "print(np.trace(a)) # 12"
   ]
  },
  {
   "cell_type": "code",
   "execution_count": null,
   "metadata": {},
   "outputs": [],
   "source": [
    "a = np.arange(8).reshape((2,2,2))\n",
    "'''[[[0 1] # **\n",
    "    [2 3]]\n",
    "\n",
    "    [[4 5]\n",
    "    [6 7]]]''' # **\n",
    "print(np.trace(a))"
   ]
  },
  {
   "cell_type": "code",
   "execution_count": null,
   "metadata": {},
   "outputs": [],
   "source": [
    "a = np.arange(27).reshape((3,3,3))\n",
    "'''[[[ 0  1  2] **\n",
    "     [ 3  4  5]\n",
    "     [ 6  7  8]]\n",
    "\n",
    " [[ 9 10 11]\n",
    "  [12 13 14] **\n",
    "  [15 16 17]]\n",
    "\n",
    " [[18 19 20]\n",
    "  [21 22 23]\n",
    "  [24 25 26]]] ** '''\n",
    "# print(a)\n",
    "print(np.trace(a)) # [36 39 42]"
   ]
  },
  {
   "cell_type": "code",
   "execution_count": null,
   "metadata": {},
   "outputs": [],
   "source": [
    "# vstack((matrix1,matrix2)) : must equal cols\n",
    "a = np.arange(8).reshape(2,4)\n",
    "'''\n",
    "[[0 1 2 3]\n",
    " [4 5 6 7]]\n",
    "'''\n",
    "b = 3*np.arange(8).reshape(2,4)\n",
    "'''\n",
    "[[ 0  3  6  9]\n",
    " [12 15 18 21]]\n",
    "'''\n",
    "avb = np.vstack((a,b))\n",
    "print(avb)\n",
    "'''\n",
    "[[ 0  1  2  3]\n",
    " [ 4  5  6  7]\n",
    " [ 0  3  6  9]\n",
    " [12 15 18 21]]\n",
    "'''"
   ]
  },
  {
   "cell_type": "code",
   "execution_count": null,
   "metadata": {},
   "outputs": [],
   "source": [
    "# hstack((matrix1,matrix2)) : must equal rows\n",
    "a = np.arange(8).reshape(2,4)\n",
    "'''\n",
    "[[0 1 2 3]\n",
    " [4 5 6 7]]\n",
    "'''\n",
    "b = 3*np.arange(8).reshape(2,4)\n",
    "'''\n",
    "[[ 0  3  6  9]\n",
    " [12 15 18 21]]\n",
    "'''\n",
    "ahb = np.hstack((a,b))\n",
    "print(ahb)\n",
    "'''\n",
    "[[ 0  1  2  3  0  3  6  9]\n",
    " [ 4  5  6  7 12 15 18 21]]\n",
    "'''"
   ]
  },
  {
   "cell_type": "code",
   "execution_count": null,
   "metadata": {},
   "outputs": [],
   "source": [
    "b = np.ones((5,5))\n",
    "b[1:-1 , 1:-1] = 0\n",
    "print(b)\n",
    "print(np.count_nonzero(b))"
   ]
  },
  {
   "cell_type": "code",
   "execution_count": null,
   "metadata": {},
   "outputs": [],
   "source": [
    "# dot(matrix) : multiply matrix\n",
    "#  (2,3) * (3,5) = out => (2,5)\n",
    "a = np.arange(6).reshape(2,3)\n",
    "'''\n",
    "[[0, 1, 2],\n",
    "[3, 4, 5]]\n",
    "'''\n",
    "b = np.arange(6).reshape(3,2)\n",
    "'''\n",
    "[[0, 1],\n",
    "[2, 3],\n",
    "[4, 5]]\n",
    "'''\n",
    "print(np.dot(a,b))\n",
    "'''\n",
    "[[10 13]\n",
    " [28 40]]\n",
    "'''"
   ]
  },
  {
   "cell_type": "code",
   "execution_count": null,
   "metadata": {},
   "outputs": [],
   "source": [
    "# sum(matrix) : sum matrix\n",
    "a = np.arange(12).reshape(3,4)\n",
    "'''[[ 0,  1,  2,  3],\n",
    "    [ 4,  5,  6,  7],\n",
    "    [ 8,  9, 10, 11]]'''\n",
    "print(np.sum(a)) # 66\n",
    "print(np.sum(a,axis = 1)) # rows => [6 22 38]\n",
    "print(np.sum(a,axis = 0)) # cols =>[12 15 18 21]"
   ]
  },
  {
   "cell_type": "code",
   "execution_count": null,
   "metadata": {},
   "outputs": [],
   "source": [
    "# add(matrix , number, out)\n",
    "a = np.arange(7)\n",
    "'''\n",
    "[0 1 2 3 4 5 6]\n",
    "'''\n",
    "b = np.add(a,7) # [7 7 7 7 7 7 7]\n",
    "print(b)\n",
    "# [ 7  8  9 10 11 12 13]"
   ]
  },
  {
   "cell_type": "code",
   "execution_count": null,
   "metadata": {},
   "outputs": [],
   "source": [
    "# add.reduce(matrix) return collection numbers\n",
    "a = np.arange(7) # [0 1 2 3 4 5 6]\n",
    "print(np.add.reduce(a)) # 21"
   ]
  },
  {
   "cell_type": "code",
   "execution_count": null,
   "metadata": {},
   "outputs": [],
   "source": [
    "# add.accumulate(matrix) return matrix with collection all back \n",
    "a = np.arange(2,7) # [2 3 4 5 6]\n",
    "print(np.add.accumulate(a))\n",
    "'''\n",
    "[2 3+2 4+3+2 5+4+3+2 6+5+4+3+2] =  [2 5 9 14 20]\n",
    "'''"
   ]
  },
  {
   "cell_type": "code",
   "execution_count": null,
   "metadata": {},
   "outputs": [],
   "source": [
    "# multiply(matrix , number, out )\n",
    "a = np.arange(7)\n",
    "'''\n",
    "[0 1 2 3 4 5 6]\n",
    "'''\n",
    "b = np.zeros(7)\n",
    "'''\n",
    "[0. 0. 0. 0. 0. 0. 0.]\n",
    "'''\n",
    "np.multiply(a,10,out=b)\n",
    "print(b)\n",
    "'''\n",
    "[ 0. 10. 20. 30. 40. 50. 60.]\n",
    "'''"
   ]
  },
  {
   "cell_type": "code",
   "execution_count": null,
   "metadata": {},
   "outputs": [],
   "source": [
    "# multiply.reduce(matrix) return multiply all numbers\n",
    "a = np.arange(2,7) # [2 3 4 5 6]\n",
    "print(np.multiply.reduce(a)) # 720"
   ]
  },
  {
   "cell_type": "code",
   "execution_count": null,
   "metadata": {},
   "outputs": [],
   "source": [
    "# multiply.accumulate(matrix) ~ same factorial\n",
    "a = np.arange(1,7) # [1 2 3 4 5 6]\n",
    "print(np.multiply.accumulate(a))\n",
    "'''\n",
    "[1 2*1 3*2*1 4*3*2*1  5*4*3*2*1 6*5*4*3*2*1] = [1 2 6 24 120 720]\n",
    "'''"
   ]
  },
  {
   "cell_type": "code",
   "execution_count": null,
   "metadata": {},
   "outputs": [],
   "source": [
    "# power(matrix , power, out)\n",
    "a = np.arange(7)\n",
    "# [0 1 2 3 4 5 6]\n",
    "\n",
    "c = np.power(a,3)\n",
    "print(c)\n",
    "# [  0   1   8  27  64 125 216]"
   ]
  },
  {
   "cell_type": "code",
   "execution_count": null,
   "metadata": {},
   "outputs": [],
   "source": [
    "# sort(matrix , axis=0 or 1)\n",
    "a = np.random.randint(4,9,size = 12).reshape(3,4)\n",
    "print(a)\n",
    "print()\n",
    "print(np.sort(a, axis=0)) # cols\n",
    "print()\n",
    "print(np.sort(a, axis=1)) # rows"
   ]
  },
  {
   "cell_type": "code",
   "execution_count": null,
   "metadata": {},
   "outputs": [],
   "source": [
    "# linalg.det(matrix)\n",
    "a = np.arange(1,5).reshape(2,2)\n",
    "'''\n",
    "[[1 2]\n",
    " [3 4]]\n",
    "'''\n",
    "print(np.linalg.det(a)) # 1*4 - 2*3 = -2.0\n",
    "\n",
    "b = np.arange(9).reshape(3,3) \n",
    "'''\n",
    "  - + -\n",
    "[[0 1 2]\n",
    " [3 4 5]\n",
    " [6 7 8]]\n",
    "'''\n",
    "print(np.linalg.det(b)) # -0*(4*8 - 5*7) +1*(3*8 - 5*6) -2*(3*7 - 4*6) = 0.0"
   ]
  },
  {
   "cell_type": "code",
   "execution_count": null,
   "metadata": {},
   "outputs": [],
   "source": [
    "# linalg.inv(matrix) : linear algebra function\n",
    "a = np.random.randint(5,15,size =9).reshape(3,3)\n",
    "print(a)\n",
    "b = np.linalg.inv(a)\n",
    "print(np.linalg.inv(a))"
   ]
  }
 ],
 "metadata": {
  "kernelspec": {
   "display_name": "Python 3",
   "language": "python",
   "name": "python3"
  },
  "language_info": {
   "codemirror_mode": {
    "name": "ipython",
    "version": 3
   },
   "file_extension": ".py",
   "mimetype": "text/x-python",
   "name": "python",
   "nbconvert_exporter": "python",
   "pygments_lexer": "ipython3",
   "version": "3.10.8"
  },
  "orig_nbformat": 4,
  "vscode": {
   "interpreter": {
    "hash": "ab58cbacd942ca503049d3378ed1180a79e5c5d17c40fd38c92a577d131c0358"
   }
  }
 },
 "nbformat": 4,
 "nbformat_minor": 2
}
