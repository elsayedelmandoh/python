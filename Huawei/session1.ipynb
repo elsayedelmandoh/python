{
  "cells": [
    {
      "cell_type": "markdown",
      "metadata": {
        "id": "hydRFun1uhdO"
      },
      "source": [
        "# Python ...!"
      ]
    },
    {
      "cell_type": "markdown",
      "metadata": {
        "id": "3QGfDvtvuhdS"
      },
      "source": [
        "## Topics Session 1 :)\n",
        "#### 0. Why python ? ^_^\n",
        "#### 1. Variable \n",
        "#### 2. Datatypes \n",
        "#### 3. Operations\n",
        "#### 3. Numbers\n",
        "#### 4. Strings\n",
        "#### 5. List , Tuple , set , Dict : methods"
      ]
    },
    {
      "cell_type": "markdown",
      "metadata": {
        "id": "ZzcLfjzKuhdU"
      },
      "source": [
        "## 0.0 Why python ?\n",
        "+ One of the most important programming languages in world.\n",
        "+ always update\n",
        "+ run on all OS system : linux , window , mac\n",
        "+ support OOP\n",
        "+ Artificial Intelligence \n",
        "+ Data Science\n",
        "+ hacking\n",
        "+ Web developing: framework Django , Flask فلاسك\n",
        "+ disktop app: framework PyGUI , Tkinter\n",
        "+ mobile app: framework kivy\n",
        "+ gaming: Pygame"
      ]
    },
    {
      "cell_type": "markdown",
      "metadata": {
        "id": "uWSZR21Tuhde"
      },
      "source": [
        "## 0.1 Apps with python\n",
        "+ Inst\n",
        "+ Uber\n",
        "+ Spotify\n",
        "+ Dropbox"
      ]
    },
    {
      "cell_type": "markdown",
      "metadata": {
        "id": "8h7lBT5ruhdf"
      },
      "source": [
        "## 1.0 Variable :\n",
        "+ can start with A-Z a-z or underscore _\n",
        "+ can't start with number \n",
        "+ don't use special char 'symbols' or space @ # $ % &\n",
        "+ don't use keywords => if True False"
      ]
    },
    {
      "cell_type": "markdown",
      "metadata": {
        "id": "zua30zGiuhdf"
      },
      "source": [
        "### 1.1 can use with A-Z a-z or underscore _  or number"
      ]
    },
    {
      "cell_type": "code",
      "execution_count": 1,
      "metadata": {
        "id": "On2iv5w3uhdg"
      },
      "outputs": [],
      "source": [
        "name = \"elsayed\"\n",
        "_name = \"elsayed\"\n",
        "first_name = \"elsayed\"\n",
        "name1 = \"elsayed\"\n",
        "#  x = \"7\""
      ]
    },
    {
      "cell_type": "markdown",
      "metadata": {
        "id": "D3LBuTf1uhdg"
      },
      "source": [
        "### 1.2 can't start with number "
      ]
    },
    {
      "cell_type": "code",
      "execution_count": 146,
      "metadata": {
        "id": "1mcgnjWPuhdh"
      },
      "outputs": [],
      "source": [
        "# 1name = \"Elsayed\"\n",
        "# 4x = 5"
      ]
    },
    {
      "cell_type": "markdown",
      "metadata": {
        "id": "bb_BOfe8uhdh"
      },
      "source": [
        "### 1.3 don't use special char 'symbols' or space @ # $ % &"
      ]
    },
    {
      "cell_type": "code",
      "execution_count": 145,
      "metadata": {
        "id": "l6h_QlVpuhdi"
      },
      "outputs": [],
      "source": [
        "# -num = 5\n",
        "# !num = 5"
      ]
    },
    {
      "cell_type": "markdown",
      "metadata": {
        "id": "e6Y4Ncf6uhdi"
      },
      "source": [
        "### 1.4 don't use keywords => if True False"
      ]
    },
    {
      "cell_type": "markdown",
      "metadata": {
        "id": "0-KsB9Jxuhdj"
      },
      "source": [
        "#### 1.4.1 from module keyword import variable kwlist"
      ]
    },
    {
      "cell_type": "code",
      "execution_count": null,
      "metadata": {
        "id": "52qTsmdIuhdj"
      },
      "outputs": [],
      "source": [
        "from keyword import kwlist\n",
        "kwlist"
      ]
    },
    {
      "cell_type": "markdown",
      "metadata": {
        "id": "cZ7tc3weuhdj"
      },
      "source": [
        "#### 1.4.2 using method help"
      ]
    },
    {
      "cell_type": "code",
      "execution_count": null,
      "metadata": {
        "id": "ESp5iexVuhdj"
      },
      "outputs": [],
      "source": [
        "help('keywords')"
      ]
    },
    {
      "cell_type": "code",
      "execution_count": null,
      "metadata": {
        "id": "5r56-Ol_uhdk"
      },
      "outputs": [],
      "source": [
        "# to info about methods \n",
        "help('for')"
      ]
    },
    {
      "cell_type": "markdown",
      "metadata": {
        "id": "_8B7ly0Zuhdk"
      },
      "source": [
        "### 1.5 delete variable "
      ]
    },
    {
      "cell_type": "code",
      "execution_count": 70,
      "metadata": {
        "id": "WYPn9L3suhdk"
      },
      "outputs": [],
      "source": [
        "a=5\n",
        "# print(a)\n",
        "del(a) # delete object a\n",
        "# print(a) # error a not defined"
      ]
    },
    {
      "cell_type": "markdown",
      "metadata": {
        "id": "KMfnWiAEuhdk"
      },
      "source": [
        "## 2.0 Datatype :\n",
        "+ int\n",
        "+ float\n",
        "+ string or str\n",
        "+ boolean or bool\n",
        "+ list \n",
        "+ tuple\n",
        "+ set\n",
        "+ dict is key : value\n",
        "+ complex is REAL and imaginary "
      ]
    },
    {
      "cell_type": "markdown",
      "metadata": {
        "id": "sBAGFKtouhdl"
      },
      "source": [
        "### 2.1 int"
      ]
    },
    {
      "cell_type": "code",
      "execution_count": null,
      "metadata": {
        "id": "nejULOJpuhdl"
      },
      "outputs": [],
      "source": [
        "num1 = 7\n",
        "print(type(num1))"
      ]
    },
    {
      "cell_type": "markdown",
      "metadata": {
        "id": "ayg-02gPuhdm"
      },
      "source": [
        "### 2.2 float"
      ]
    },
    {
      "cell_type": "code",
      "execution_count": 15,
      "metadata": {
        "colab": {
          "base_uri": "https://localhost:8080/"
        },
        "id": "Sz_iHlD7uhdm",
        "outputId": "c1f74911-d643-4973-b208-fc2f584b2a07"
      },
      "outputs": [
        {
          "output_type": "stream",
          "name": "stdout",
          "text": [
            "<class 'float'>\n"
          ]
        }
      ],
      "source": [
        "num2 = 2.474\n",
        "print(type(num2))"
      ]
    },
    {
      "cell_type": "markdown",
      "metadata": {
        "id": "dn6m1b2Xuhdn"
      },
      "source": [
        "### 2.3 String"
      ]
    },
    {
      "cell_type": "code",
      "execution_count": 14,
      "metadata": {
        "colab": {
          "base_uri": "https://localhost:8080/"
        },
        "id": "4pee5xVuuhdn",
        "outputId": "6ffc671d-71df-46a0-bd78-ee61e57122c8"
      },
      "outputs": [
        {
          "output_type": "stream",
          "name": "stdout",
          "text": [
            "<class 'str'>\n"
          ]
        }
      ],
      "source": [
        "name = 'Elsayed'\n",
        "print(type(name))"
      ]
    },
    {
      "cell_type": "markdown",
      "metadata": {
        "id": "sXsrvi6Puhdo"
      },
      "source": [
        "### 2.4 Boolean"
      ]
    },
    {
      "cell_type": "code",
      "execution_count": 16,
      "metadata": {
        "colab": {
          "base_uri": "https://localhost:8080/"
        },
        "id": "kdlG7NZluhdp",
        "outputId": "3c48684d-ce09-4e8c-d13b-f17772985944"
      },
      "outputs": [
        {
          "output_type": "stream",
          "name": "stdout",
          "text": [
            "<class 'bool'>\n"
          ]
        }
      ],
      "source": [
        "attend = True\n",
        "print(type(attend))"
      ]
    },
    {
      "cell_type": "markdown",
      "metadata": {
        "id": "A1acrN1Ouhdq"
      },
      "source": [
        "### 2.5 List"
      ]
    },
    {
      "cell_type": "code",
      "execution_count": 17,
      "metadata": {
        "colab": {
          "base_uri": "https://localhost:8080/"
        },
        "id": "Jr0PT08zuhdr",
        "outputId": "e0bce71d-d6bb-4a0d-b0dd-946cc6c60447"
      },
      "outputs": [
        {
          "output_type": "stream",
          "name": "stdout",
          "text": [
            "<class 'list'>\n"
          ]
        }
      ],
      "source": [
        "ls=[1,\"st\"]\n",
        "print(type(ls))"
      ]
    },
    {
      "cell_type": "markdown",
      "metadata": {
        "id": "MlZTnlASuhdr"
      },
      "source": [
        "### 2.6 Tuple"
      ]
    },
    {
      "cell_type": "code",
      "execution_count": 18,
      "metadata": {
        "colab": {
          "base_uri": "https://localhost:8080/"
        },
        "id": "2adPheD0uhdr",
        "outputId": "2b7382a6-8410-4d07-dd69-5833d3ee0f2f"
      },
      "outputs": [
        {
          "output_type": "stream",
          "name": "stdout",
          "text": [
            "<class 'tuple'>\n"
          ]
        }
      ],
      "source": [
        "tp=(1,\"st\")\n",
        "print(type(tp))"
      ]
    },
    {
      "cell_type": "markdown",
      "metadata": {
        "id": "hEEH6NPquhdr"
      },
      "source": [
        "### 2.7 Set"
      ]
    },
    {
      "cell_type": "code",
      "execution_count": 19,
      "metadata": {
        "colab": {
          "base_uri": "https://localhost:8080/"
        },
        "id": "PLSscFqXuhds",
        "outputId": "e0bb7078-c979-475e-ecf8-a4cba8f81976"
      },
      "outputs": [
        {
          "output_type": "stream",
          "name": "stdout",
          "text": [
            "<class 'set'>\n"
          ]
        }
      ],
      "source": [
        "st={1,\"st\"}\n",
        "print(type(st))"
      ]
    },
    {
      "cell_type": "markdown",
      "metadata": {
        "id": "KSu4PrUGuhds"
      },
      "source": [
        "### 2.8 Dict is Key : value"
      ]
    },
    {
      "cell_type": "code",
      "execution_count": 20,
      "metadata": {
        "colab": {
          "base_uri": "https://localhost:8080/"
        },
        "id": "O1vqrXHOuhds",
        "outputId": "1017a10b-5de6-44be-fc68-26280f2d9194"
      },
      "outputs": [
        {
          "output_type": "stream",
          "name": "stdout",
          "text": [
            "<class 'dict'>\n"
          ]
        }
      ],
      "source": [
        "dt={\"id\":54,\"Name\":\"Ali\"}\n",
        "print(type(dt))"
      ]
    },
    {
      "cell_type": "markdown",
      "metadata": {
        "id": "hX8rg8ltuhds"
      },
      "source": [
        "### 2.9 Complex is REAL and imaginary "
      ]
    },
    {
      "cell_type": "code",
      "execution_count": 22,
      "metadata": {
        "colab": {
          "base_uri": "https://localhost:8080/"
        },
        "id": "wTAKqm65uhdt",
        "outputId": "4788df40-f853-4e60-a407-9fc1bf9a5b66"
      },
      "outputs": [
        {
          "output_type": "stream",
          "name": "stdout",
          "text": [
            "7.0\n",
            "4.0\n",
            "<class 'complex'>\n"
          ]
        }
      ],
      "source": [
        "com = 7 + 4j\n",
        "print(com.real)\n",
        "print(com.imag)\n",
        "print(type(com))"
      ]
    },
    {
      "cell_type": "markdown",
      "metadata": {
        "id": "eWjNYibjuhdt"
      },
      "source": [
        "### 2.10 read number or text using bool"
      ]
    },
    {
      "cell_type": "code",
      "execution_count": 24,
      "metadata": {
        "colab": {
          "base_uri": "https://localhost:8080/"
        },
        "id": "NqPbu7Ituhdt",
        "outputId": "43c426a9-3528-43da-a0a3-64756ed8cb23"
      },
      "outputs": [
        {
          "output_type": "stream",
          "name": "stdout",
          "text": [
            "True\n",
            "True\n",
            "False\n",
            "False\n",
            "enter number ?\n",
            "False\n"
          ]
        }
      ],
      "source": [
        "print(bool(5.2)) # True\n",
        "print(bool(\"Matrix\")) # True\n",
        "print(bool(0)) # False\n",
        "print(bool(\"\")) # False\n",
        "\n",
        "print(bool(input(\"enter number ?\")))"
      ]
    },
    {
      "cell_type": "markdown",
      "metadata": {
        "id": "2vaoeS_Wuhdt"
      },
      "source": [
        "## 3.0 Operations :"
      ]
    },
    {
      "cell_type": "markdown",
      "metadata": {
        "id": "UYdKqk8Buhdu"
      },
      "source": [
        "### 3.1 Addition"
      ]
    },
    {
      "cell_type": "code",
      "execution_count": 25,
      "metadata": {
        "colab": {
          "base_uri": "https://localhost:8080/"
        },
        "id": "GxCatgOvuhdu",
        "outputId": "22b96224-60bd-404f-c0f3-2bddc6e18b34"
      },
      "outputs": [
        {
          "output_type": "stream",
          "name": "stdout",
          "text": [
            "20 + 3 = 23\n"
          ]
        }
      ],
      "source": [
        "x = 20\n",
        "y = 3\n",
        "\n",
        "print(f\"{x} + {y} = {x + y}\")"
      ]
    },
    {
      "cell_type": "markdown",
      "metadata": {
        "id": "0U2aOXlZuhdu"
      },
      "source": [
        "### 3.2 Subtraction"
      ]
    },
    {
      "cell_type": "code",
      "execution_count": 26,
      "metadata": {
        "colab": {
          "base_uri": "https://localhost:8080/"
        },
        "id": "sQmJ18hJuhdu",
        "outputId": "95f2fe48-49a2-48c8-aee8-a1c94f7e7455"
      },
      "outputs": [
        {
          "output_type": "stream",
          "name": "stdout",
          "text": [
            "20 - 3 = 17\n"
          ]
        }
      ],
      "source": [
        "print(f\"{x} - {y} = {x - y}\")"
      ]
    },
    {
      "cell_type": "markdown",
      "metadata": {
        "id": "98dDm1vpuhdv"
      },
      "source": [
        "### 3.3 Multiplication"
      ]
    },
    {
      "cell_type": "code",
      "execution_count": 27,
      "metadata": {
        "colab": {
          "base_uri": "https://localhost:8080/"
        },
        "id": "qKdJQVPOuhdv",
        "outputId": "36bf2b96-e069-4261-b9c0-a4096c723126"
      },
      "outputs": [
        {
          "output_type": "stream",
          "name": "stdout",
          "text": [
            "20 * 3 = 60\n"
          ]
        }
      ],
      "source": [
        "print(f\"{x} * {y} = {x * y}\")"
      ]
    },
    {
      "cell_type": "markdown",
      "metadata": {
        "id": "bTasphb5uhdv"
      },
      "source": [
        "### 3.4 Division: "
      ]
    },
    {
      "cell_type": "code",
      "execution_count": 28,
      "metadata": {
        "colab": {
          "base_uri": "https://localhost:8080/"
        },
        "id": "B8FDS6t_uhdv",
        "outputId": "d9686523-e511-4117-8c6b-154f3e08ebd8"
      },
      "outputs": [
        {
          "output_type": "stream",
          "name": "stdout",
          "text": [
            "20 / 3 = 6.666666666666667\n"
          ]
        }
      ],
      "source": [
        "print(f\"{x} / {y} = {x / y}\")  # result is float"
      ]
    },
    {
      "cell_type": "markdown",
      "metadata": {
        "id": "NjiCZ08euhdv"
      },
      "source": [
        "### 3.5 Integer Division : "
      ]
    },
    {
      "cell_type": "code",
      "execution_count": 29,
      "metadata": {
        "colab": {
          "base_uri": "https://localhost:8080/"
        },
        "id": "XisoWGKmuhdw",
        "outputId": "f86273b7-1065-41c4-ea15-b52dfd453acb"
      },
      "outputs": [
        {
          "output_type": "stream",
          "name": "stdout",
          "text": [
            "20 // 3 = 6\n"
          ]
        }
      ],
      "source": [
        "print(f\"{x} // {y} = {x // y}\")  # result is int"
      ]
    },
    {
      "cell_type": "markdown",
      "metadata": {
        "id": "SWD2e9Qnuhdw"
      },
      "source": [
        "### 3.6 Mod or Remendar: "
      ]
    },
    {
      "cell_type": "code",
      "execution_count": 30,
      "metadata": {
        "colab": {
          "base_uri": "https://localhost:8080/",
          "height": 72
        },
        "id": "bnQbrNabuhdw",
        "outputId": "d06388c0-5ec7-4f1c-9966-2d638ea0a67e"
      },
      "outputs": [
        {
          "output_type": "stream",
          "name": "stdout",
          "text": [
            "20 % 3 = 2\n"
          ]
        },
        {
          "output_type": "execute_result",
          "data": {
            "text/plain": [
              "'\\nResult : 20 % 3 = 2\\n\\n+ Steps manual : \\n1- integer division : num1 // num2\\n20 // 3 = 6 \\n2- Equation dy: num1 - (result div * num2)\\n20 - (6 * 3) = 4 \\n'"
            ],
            "application/vnd.google.colaboratory.intrinsic+json": {
              "type": "string"
            }
          },
          "metadata": {},
          "execution_count": 30
        }
      ],
      "source": [
        "print(f\"{x} % {y} = {x % y}\")\n",
        "\"\"\"\n",
        "Result : 20 % 3 = 2\n",
        "\n",
        "+ Steps manual : \n",
        "1- integer division : num1 // num2\n",
        "20 // 3 = 6 \n",
        "2- Equation dy: num1 - (result div * num2)\n",
        "20 - (6 * 3) = 4 \n",
        "\"\"\""
      ]
    },
    {
      "cell_type": "markdown",
      "metadata": {
        "id": "DSMAT7uSuhdw"
      },
      "source": [
        "### 3.7 Power: "
      ]
    },
    {
      "cell_type": "code",
      "execution_count": 31,
      "metadata": {
        "colab": {
          "base_uri": "https://localhost:8080/"
        },
        "id": "crSDcDmYuhdx",
        "outputId": "0f5aefce-4cad-46c7-cec8-d864f4f30745"
      },
      "outputs": [
        {
          "output_type": "stream",
          "name": "stdout",
          "text": [
            "20 ** 3 = 8000\n"
          ]
        }
      ],
      "source": [
        "print(f\"{x} ** {y} = {x ** y}\")"
      ]
    },
    {
      "cell_type": "markdown",
      "metadata": {
        "id": "jtnNHW_Xuhdx"
      },
      "source": [
        "### 3.8 Equal Equal: "
      ]
    },
    {
      "cell_type": "code",
      "execution_count": null,
      "metadata": {
        "id": "GCELu23Suhdx"
      },
      "outputs": [],
      "source": [
        "print(f\"{x} == {y} = {x == y}\")\n",
        "x = 5\n",
        "x == 5 ?"
      ]
    },
    {
      "cell_type": "markdown",
      "metadata": {
        "id": "IV1fN_Fxuhdy"
      },
      "source": [
        "### 3.9 Greater than: "
      ]
    },
    {
      "cell_type": "code",
      "execution_count": 32,
      "metadata": {
        "colab": {
          "base_uri": "https://localhost:8080/"
        },
        "id": "LNlPqc3auhdy",
        "outputId": "a426be5f-7fc4-49d0-b360-0c646bdd51ed"
      },
      "outputs": [
        {
          "output_type": "stream",
          "name": "stdout",
          "text": [
            "20 > 3 = True\n"
          ]
        }
      ],
      "source": [
        "print(f\"{x} > {y} = {x > y}\")"
      ]
    },
    {
      "cell_type": "markdown",
      "metadata": {
        "id": "M_s7Hi9euhdy"
      },
      "source": [
        "### 3.10 Greater than or equal: {"
      ]
    },
    {
      "cell_type": "code",
      "execution_count": 33,
      "metadata": {
        "colab": {
          "base_uri": "https://localhost:8080/"
        },
        "id": "9p5902P9uhdy",
        "outputId": "5799d306-8896-411b-9e02-9ce97553a801"
      },
      "outputs": [
        {
          "output_type": "stream",
          "name": "stdout",
          "text": [
            "20 >= 3 = True\n"
          ]
        }
      ],
      "source": [
        "print(f\"{x} >= {y} = {x >= y}\")"
      ]
    },
    {
      "cell_type": "markdown",
      "metadata": {
        "id": "4Waq1u6Duhdz"
      },
      "source": [
        "### 3.11 Less than: "
      ]
    },
    {
      "cell_type": "code",
      "execution_count": null,
      "metadata": {
        "id": "8CZjCv4Xuhdz"
      },
      "outputs": [],
      "source": [
        "print(f\"{x} < {y} = {x < y}\")"
      ]
    },
    {
      "cell_type": "markdown",
      "metadata": {
        "id": "vB50d1PZuhdz"
      },
      "source": [
        "### 3.12 Less than or equal: "
      ]
    },
    {
      "cell_type": "code",
      "execution_count": 34,
      "metadata": {
        "colab": {
          "base_uri": "https://localhost:8080/"
        },
        "id": "nCrG1_i7uhd0",
        "outputId": "f7c536f4-3ca4-440f-fe90-4c5170f5fc9b"
      },
      "outputs": [
        {
          "output_type": "stream",
          "name": "stdout",
          "text": [
            "20 <= 3 = False\n"
          ]
        }
      ],
      "source": [
        "print(f\"{x} <= {y} = {x <= y}\")"
      ]
    },
    {
      "cell_type": "markdown",
      "metadata": {
        "id": "Y90-XcJluhd0"
      },
      "source": [
        "### 3.13 Operation Methods"
      ]
    },
    {
      "cell_type": "code",
      "execution_count": 36,
      "metadata": {
        "colab": {
          "base_uri": "https://localhost:8080/"
        },
        "id": "YX7iJA48uhd0",
        "outputId": "13af9f0f-f223-46c0-a674-1c15b3456244"
      },
      "outputs": [
        {
          "output_type": "stream",
          "name": "stdout",
          "text": [
            "(5+4j)\n",
            "(-5, 0)\n",
            "2\n",
            "0.01\n"
          ]
        }
      ],
      "source": [
        "x = 10\n",
        "y = -2\n",
        "\n",
        "# 5 is real and 4j is imaginary.\n",
        "print(complex(5,4)) \n",
        "\n",
        "# return tuple from two element : (div , mod)\n",
        "print(divmod(x,y)) \n",
        "20 / 3\n",
        "20 % 3\n",
        "\n",
        "print(abs(y))\n",
        "print(pow(x,y))\n",
        "x ** y"
      ]
    },
    {
      "cell_type": "markdown",
      "metadata": {
        "id": "r69rQHSuuhd1"
      },
      "source": [
        "## 4.0 Numbers"
      ]
    },
    {
      "cell_type": "markdown",
      "metadata": {
        "id": "D5BwVbMfuhd1"
      },
      "source": [
        "### 4.1 Numbering System"
      ]
    },
    {
      "cell_type": "markdown",
      "metadata": {
        "id": "HoTQ0TXruhd2"
      },
      "source": [
        "#### 4.1.1 decimal"
      ]
    },
    {
      "cell_type": "code",
      "execution_count": null,
      "metadata": {
        "id": "dwPU2O6suhd2"
      },
      "outputs": [],
      "source": [
        "print(7) # 7"
      ]
    },
    {
      "cell_type": "markdown",
      "metadata": {
        "id": "rIrlWQX1uhd3"
      },
      "source": [
        "#### 4.1.2 binary to decimal"
      ]
    },
    {
      "cell_type": "code",
      "execution_count": 38,
      "metadata": {
        "colab": {
          "base_uri": "https://localhost:8080/"
        },
        "id": "r21N1yL6uhd3",
        "outputId": "9f4e481e-48a0-4640-ba8f-dc959b6de093"
      },
      "outputs": [
        {
          "output_type": "stream",
          "name": "stdout",
          "text": [
            "11\n"
          ]
        }
      ],
      "source": [
        "print(0b1011) # 5"
      ]
    },
    {
      "cell_type": "markdown",
      "metadata": {
        "id": "8Q2Z428uuhd3"
      },
      "source": [
        "#### 4.1.3 octal to decimal"
      ]
    },
    {
      "cell_type": "code",
      "execution_count": 71,
      "metadata": {
        "colab": {
          "base_uri": "https://localhost:8080/"
        },
        "id": "VJkTVxfIuhd3",
        "outputId": "d68753e3-7d55-4d8d-8fed-cb1732b01c55"
      },
      "outputs": [
        {
          "output_type": "stream",
          "name": "stdout",
          "text": [
            "111\n"
          ]
        }
      ],
      "source": [
        "print(0o157) # 87\n",
        "# 0 7"
      ]
    },
    {
      "cell_type": "markdown",
      "metadata": {
        "id": "bkC_VHBuuhd4"
      },
      "source": [
        "#### 4.1.4 Hexa to decimal"
      ]
    },
    {
      "cell_type": "code",
      "execution_count": null,
      "metadata": {
        "id": "kPMmA5dsuhd5"
      },
      "outputs": [],
      "source": [
        "print(0x3f) # 63"
      ]
    },
    {
      "cell_type": "markdown",
      "metadata": {
        "id": "4M4GsRzkuhd6"
      },
      "source": [
        "#### 4.1.5 hexa to character "
      ]
    },
    {
      "cell_type": "markdown",
      "metadata": {
        "id": "nCSbrwEkuhd6"
      },
      "source": [
        "<!-- more info -->\n",
        "https://www.rapidtables.com/convert/number/binary-to-decimal.html"
      ]
    },
    {
      "cell_type": "markdown",
      "metadata": {
        "id": "x_3rG158uhd7"
      },
      "source": [
        "#### 4.1.6 Exponential ( E ) "
      ]
    },
    {
      "cell_type": "code",
      "execution_count": 44,
      "metadata": {
        "colab": {
          "base_uri": "https://localhost:8080/"
        },
        "id": "ubUODbmruhd8",
        "outputId": "49467f22-fbb9-42c8-bdd3-ab85e00c554c"
      },
      "outputs": [
        {
          "output_type": "stream",
          "name": "stdout",
          "text": [
            "200000.0\n",
            "200000\n"
          ]
        }
      ],
      "source": [
        "print(2E5) # 2E4 = 2*(10*10*10*10) = 2*10**5 = 20000.0\n",
        "print(2*10**5)"
      ]
    },
    {
      "cell_type": "markdown",
      "metadata": {
        "id": "8F38Mwchuhd8"
      },
      "source": [
        "### 4.2 Casting"
      ]
    },
    {
      "cell_type": "markdown",
      "metadata": {
        "id": "zmLc3YDvuhd8"
      },
      "source": [
        "#### 4.2.1 can convert from Int to Folat or Complex"
      ]
    },
    {
      "cell_type": "code",
      "execution_count": 72,
      "metadata": {
        "colab": {
          "base_uri": "https://localhost:8080/"
        },
        "id": "whdRctUyuhd8",
        "outputId": "d474296e-46d6-4f76-a8bb-dca907aa3dc8"
      },
      "outputs": [
        {
          "output_type": "stream",
          "name": "stdout",
          "text": [
            "70\n",
            "70.0\n",
            "(70+0j)\n"
          ]
        }
      ],
      "source": [
        "print(70) # 70\n",
        "print(float(70)) # 70.0 \n",
        "print(complex(70)) # 70+0j"
      ]
    },
    {
      "cell_type": "markdown",
      "metadata": {
        "id": "zT36tfKfuhd9"
      },
      "source": [
        "#### 4.2.2 can convert from Folat to Int or Complex"
      ]
    },
    {
      "cell_type": "code",
      "execution_count": null,
      "metadata": {
        "id": "4z8RWSY2uhd9"
      },
      "outputs": [],
      "source": [
        "print(70.56) # 70.56\n",
        "print(int(70)) # 70\n",
        "print(complex(70)) # 70+0j"
      ]
    },
    {
      "cell_type": "markdown",
      "metadata": {
        "id": "KXbzBtf1uhd9"
      },
      "source": [
        "#### 4.2.3 can't convert Complex to any type"
      ]
    },
    {
      "cell_type": "code",
      "execution_count": 144,
      "metadata": {
        "id": "2wSFzAv7uhd9"
      },
      "outputs": [],
      "source": [
        "com = 10+9j \n",
        "# print(int(com)) # Error\n",
        "# print(float(com)) # Error"
      ]
    },
    {
      "cell_type": "markdown",
      "metadata": {
        "id": "4fIeZ-ltuhd-"
      },
      "source": [
        "## 5.0 String"
      ]
    },
    {
      "cell_type": "code",
      "execution_count": null,
      "metadata": {
        "id": "WXI8pS6quhd-"
      },
      "outputs": [],
      "source": [
        "# single quote\n",
        "str1 = 'Here we go'"
      ]
    },
    {
      "cell_type": "code",
      "execution_count": null,
      "metadata": {
        "id": "eubUDZIOuhd-"
      },
      "outputs": [],
      "source": [
        "# duble quote\n",
        "str1 = \"Here we go\""
      ]
    },
    {
      "cell_type": "code",
      "execution_count": null,
      "metadata": {
        "id": "M6vKVg26uhd_"
      },
      "outputs": [],
      "source": [
        "# triple quote => support mult lines\n",
        "str1 = '''Here\n",
        "we\n",
        "go'''\n",
        "str1 = \"\"\"Here\n",
        "we\n",
        "go\"\"\""
      ]
    },
    {
      "cell_type": "code",
      "execution_count": 48,
      "metadata": {
        "colab": {
          "base_uri": "https://localhost:8080/"
        },
        "id": "JFuIoMDmuhd_",
        "outputId": "59567e02-1899-43ab-ea7b-ea32d60e667b"
      },
      "outputs": [
        {
          "output_type": "stream",
          "name": "stdout",
          "text": [
            "im \"proud\" of 'u' !\n"
          ]
        }
      ],
      "source": [
        "# single double triple quote ' ' \" \" ''' '''\n",
        "str1 = \"\"\"he ll o\"\"\"\n",
        "print(str1)"
      ]
    },
    {
      "cell_type": "markdown",
      "metadata": {
        "id": "9sl-sM-_uheA"
      },
      "source": [
        "### 5.1 Formating"
      ]
    },
    {
      "cell_type": "markdown",
      "metadata": {
        "id": "GnYD6zZbuheA"
      },
      "source": [
        ">> There are three ways to perform string formatting:\n",
        "\n",
        "1. An improved technique uses the .format() string method.\n",
        "2. The newest method, introduced with Python 3.6, uses formatted string or f-strings."
      ]
    },
    {
      "cell_type": "markdown",
      "metadata": {
        "id": "QPNFSre6uheB"
      },
      "source": [
        "#### 5.1.2  .format()"
      ]
    },
    {
      "cell_type": "code",
      "execution_count": 75,
      "metadata": {
        "colab": {
          "base_uri": "https://localhost:8080/"
        },
        "id": "bEv6YJnnuheB",
        "outputId": "15d67b42-faed-4b39-b8ea-84cece9669fd"
      },
      "outputs": [
        {
          "output_type": "stream",
          "name": "stdout",
          "text": [
            "78.74\n"
          ]
        }
      ],
      "source": [
        "# %d %f %s\n",
        "\n",
        "num1 , num2 , str1 = 78 , 78.744454 , 'matrix'\n",
        "print('{:.2f}'.format(num2))\n",
        "# print('Integer ={:d}\\nfloat ={:7.2f}\\nString ={:5.4s}'.format(num1 , num2 , str1))"
      ]
    },
    {
      "cell_type": "code",
      "execution_count": 76,
      "metadata": {
        "colab": {
          "base_uri": "https://localhost:8080/"
        },
        "id": "3GfY-kU_uheC",
        "outputId": "b0d06ebd-4768-4f38-b6ef-c9379f18038f"
      },
      "outputs": [
        {
          "output_type": "stream",
          "name": "stdout",
          "text": [
            "myMoney is: 766_573_563_487\n",
            "myMoney is: 766,573,563,487\n",
            "myMoney is: 766_573_563_487.45\n"
          ]
        }
      ],
      "source": [
        "# Format money\n",
        "# with underscore or comma bas\n",
        "myMoney= 766573563487\n",
        "print(\"myMoney is: {:_d}\".format(myMoney)) \n",
        "print(\"myMoney is: {:,}\".format(myMoney)) \n",
        "\n",
        "myMoney= 766573563487.4515\n",
        "# print(\"myMoney is: {:,f}\".format(myMoney))\n",
        "print(\"myMoney is: {:_.2f}\".format(myMoney)) \n",
        "\n",
        "# print(\"myMoney is: {:&d}\".format(myMoney)) # Error"
      ]
    },
    {
      "cell_type": "markdown",
      "metadata": {
        "id": "TfSAIFVGuheC"
      },
      "source": [
        "#### 5.1.3  f-strings   f\"  \""
      ]
    },
    {
      "cell_type": "code",
      "execution_count": 78,
      "metadata": {
        "colab": {
          "base_uri": "https://localhost:8080/"
        },
        "id": "J2uHhRpZuheC",
        "outputId": "d9b9747a-b5e1-4339-bd74-3cb26f72dc68"
      },
      "outputs": [
        {
          "output_type": "stream",
          "name": "stdout",
          "text": [
            "78\n"
          ]
        }
      ],
      "source": [
        "num1 , num2 , str1 = 78 , 78.744454 , 'matrix'\n",
        "print(f'{num2}')\n",
        "# print(f'Integer ={num1}\\nfloat ={num2}\\nString ={str1}')"
      ]
    },
    {
      "cell_type": "code",
      "execution_count": 79,
      "metadata": {
        "colab": {
          "base_uri": "https://localhost:8080/"
        },
        "id": "lYnLZfVDuheC",
        "outputId": "677f4101-30c6-4ea9-cfff-89c936d7bd86"
      },
      "outputs": [
        {
          "output_type": "stream",
          "name": "stdout",
          "text": [
            "   23.4\n",
            "10 digit and one  decimal number is:23.4\n"
          ]
        }
      ],
      "source": [
        "num = 23.45\n",
        "# %10 : minimum number of digit in output\n",
        "# .4 : minimum number of digit in number\n",
        "\n",
        "# .format\n",
        "# print(\"10 digit and four decimal number is:{:10.4f}\".format(num))\n",
        "\n",
        "# f-string\n",
        "print(f'{num:{7}.{1}f}')\n",
        "print(f\"10 digit and one  decimal number is:{num:.{1}f}\")"
      ]
    },
    {
      "cell_type": "markdown",
      "metadata": {
        "id": "rCQXn9anuheC"
      },
      "source": [
        "Site : PyFormat.info >> for more details about Formatting"
      ]
    },
    {
      "cell_type": "code",
      "source": [
        "x = \" hello\"\n",
        "print(x*5)"
      ],
      "metadata": {
        "colab": {
          "base_uri": "https://localhost:8080/"
        },
        "id": "untXdvF2J7gL",
        "outputId": "67013017-0dc8-4f52-9e44-62d9df77c0d7"
      },
      "execution_count": 80,
      "outputs": [
        {
          "output_type": "stream",
          "name": "stdout",
          "text": [
            " hello hello hello hello hello\n"
          ]
        }
      ]
    },
    {
      "cell_type": "markdown",
      "metadata": {
        "id": "FYJdLr0KuheD"
      },
      "source": [
        "### 5.2 Repetition"
      ]
    },
    {
      "cell_type": "code",
      "execution_count": 82,
      "metadata": {
        "colab": {
          "base_uri": "https://localhost:8080/"
        },
        "id": "DDIhG-YguheD",
        "outputId": "1238ca8a-4419-4675-cc58-0dd25a697a53"
      },
      "outputs": [
        {
          "output_type": "stream",
          "name": "stdout",
          "text": [
            "matrixmatrixmatrix\n"
          ]
        }
      ],
      "source": [
        "# Repeat string\n",
        "\n",
        "str1 = 'matrix'\n",
        "print(str1 * 3)"
      ]
    },
    {
      "cell_type": "markdown",
      "metadata": {
        "id": "ITfrqyRYuheI"
      },
      "source": [
        "### 5.6 Indexing \n",
        "+ Access single element\n",
        "+ used square brackets []\n",
        "+ Zero Based Indexing [0]"
      ]
    },
    {
      "cell_type": "code",
      "execution_count": 86,
      "metadata": {
        "colab": {
          "base_uri": "https://localhost:8080/"
        },
        "id": "iwvkv9bRuheI",
        "outputId": "48c20fed-2d2f-4218-e7cc-eec82f725523"
      },
      "outputs": [
        {
          "output_type": "stream",
          "name": "stdout",
          "text": [
            "l\n",
            "l\n"
          ]
        }
      ],
      "source": [
        "str3 = \"Mesh Hello World\"\n",
        "\n",
        "print(str3[-2])\n",
        "print(str3[14])\n",
        "# # from start \n",
        "# print(str3[0])\n",
        "# print(str3[7])\n",
        "\n",
        "# # from end \n",
        "# print(str3[-1])\n",
        "# print(str3[-7])"
      ]
    },
    {
      "cell_type": "markdown",
      "metadata": {
        "id": "dDG4Gcr4uheJ"
      },
      "source": [
        "### 5.7 Slicing \n",
        "+ Access multiple element\n",
        "+ used square brackets [:]\n",
        "+ Zero Based Indexing [0]\n",
        "+ [start:end:steps] => End not include\n",
        "+ Note: \n",
        "+ if start > End => print nothing\n",
        "+ default Step is positive => move from left\n",
        "+ Step negative => move from right"
      ]
    },
    {
      "cell_type": "code",
      "execution_count": 90,
      "metadata": {
        "colab": {
          "base_uri": "https://localhost:8080/",
          "height": 36
        },
        "id": "kSNbAf5DuheK",
        "outputId": "a7634091-fe31-46dd-f758-36e70cccabe8"
      },
      "outputs": [
        {
          "output_type": "execute_result",
          "data": {
            "text/plain": [
              "'Mesh'"
            ],
            "application/vnd.google.colaboratory.intrinsic+json": {
              "type": "string"
            }
          },
          "metadata": {},
          "execution_count": 90
        }
      ],
      "source": [
        "str4 = \"Mesh Hello World bardo\"\n",
        "# [start:end]\n",
        "str4[0:4]"
      ]
    },
    {
      "cell_type": "code",
      "execution_count": 89,
      "metadata": {
        "colab": {
          "base_uri": "https://localhost:8080/"
        },
        "id": "kFUE3GD1uheL",
        "outputId": "f8b2a7d6-1808-467b-a38c-e989d22197d9"
      },
      "outputs": [
        {
          "output_type": "stream",
          "name": "stdout",
          "text": [
            "\n"
          ]
        }
      ],
      "source": [
        "# if start > End\n",
        "print(str4[4:1])"
      ]
    },
    {
      "cell_type": "code",
      "execution_count": 91,
      "metadata": {
        "colab": {
          "base_uri": "https://localhost:8080/"
        },
        "id": "dK1VTQNhuheL",
        "outputId": "96ad2e89-afda-4cb4-a352-34999be23d75"
      },
      "outputs": [
        {
          "output_type": "stream",
          "name": "stdout",
          "text": [
            "sh H\n"
          ]
        }
      ],
      "source": [
        "print(str4[2:6])"
      ]
    },
    {
      "cell_type": "code",
      "execution_count": 97,
      "metadata": {
        "colab": {
          "base_uri": "https://localhost:8080/"
        },
        "id": "s8PY8WXJuheM",
        "outputId": "3d579c1b-d20e-42be-84d5-e4dc55f5e3f4"
      },
      "outputs": [
        {
          "output_type": "stream",
          "name": "stdout",
          "text": [
            "Mheoodao\n"
          ]
        }
      ],
      "source": [
        "str4 = \"Mesh Hello World bardo\"\n",
        "print(str4[::3]) # from index 0 to end by step 3\n",
        "\n",
        "# print(str4[:]) # all element\n",
        "# print(str4[::]) # all element"
      ]
    },
    {
      "cell_type": "code",
      "execution_count": null,
      "metadata": {
        "id": "RMtLKz9GMCLc"
      },
      "outputs": [],
      "source": [
        "print(str4[::3]) # from index 0 to end by step 3\n",
        "print(str4[::-2]) # from index 0 to end by step 1"
      ]
    },
    {
      "cell_type": "code",
      "execution_count": null,
      "metadata": {
        "id": "KjKZEKgSuheM"
      },
      "outputs": [],
      "source": [
        "print(str4[:2]) # index 0 and 1\n",
        "print(str4[2:]) # from index 2 to end\n",
        "\n",
        "print(str4[-3:]) # index -3 to end\n",
        "print(str4[:-2]) # index 0 to -3"
      ]
    },
    {
      "cell_type": "code",
      "execution_count": null,
      "metadata": {
        "id": "jV2wfQouuheM"
      },
      "outputs": [],
      "source": [
        "print(str4[::3]) # from index 0 to end by step 3\n",
        "print(str4[::-2]) # from index 0 to end by step 1"
      ]
    },
    {
      "cell_type": "code",
      "execution_count": null,
      "metadata": {
        "id": "25TRcdC_uheN"
      },
      "outputs": [],
      "source": [
        "# Step positive => from left\n",
        "print(str4[:5:2]) "
      ]
    },
    {
      "cell_type": "code",
      "execution_count": null,
      "metadata": {
        "id": "GSkVZpKEuheN"
      },
      "outputs": [],
      "source": [
        "# Step negative => from right\n",
        "print(str4[:-5:-2]) "
      ]
    },
    {
      "cell_type": "code",
      "execution_count": null,
      "metadata": {
        "id": "2L052BzduheO"
      },
      "outputs": [],
      "source": [
        "# reverse string\n",
        "str4[::-1] "
      ]
    },
    {
      "cell_type": "markdown",
      "metadata": {
        "id": "ic1MupbGuheO"
      },
      "source": [
        "### 5.8 Methods String"
      ]
    },
    {
      "cell_type": "markdown",
      "metadata": {
        "id": "SHARHbQyuheO"
      },
      "source": [
        "#### 5.8.1 input()\n",
        "+ take input from user\n",
        "+ type is string "
      ]
    },
    {
      "cell_type": "code",
      "execution_count": 98,
      "metadata": {
        "colab": {
          "base_uri": "https://localhost:8080/"
        },
        "id": "MuSqiw5AuheP",
        "outputId": "14ea1a90-7e1e-4e8e-af91-d29279509896"
      },
      "outputs": [
        {
          "output_type": "stream",
          "name": "stdout",
          "text": [
            "Enter your favourite movie ?fgd\n",
            "Your movie is fgd\n"
          ]
        }
      ],
      "source": [
        "name = input(\"Enter your favourite movie ?\")\n",
        "print(f\"Your movie is {name}\")"
      ]
    },
    {
      "cell_type": "markdown",
      "metadata": {
        "id": "N8QBz2MuuheP"
      },
      "source": [
        "#### 5.8.2 len()\n",
        "+ length of string and spaces"
      ]
    },
    {
      "cell_type": "code",
      "execution_count": 99,
      "metadata": {
        "colab": {
          "base_uri": "https://localhost:8080/"
        },
        "id": "bHoBskWHuheP",
        "outputId": "83b6f11d-e742-4554-a9d3-8d8850de8411"
      },
      "outputs": [
        {
          "output_type": "stream",
          "name": "stdout",
          "text": [
            "say something ....aaaaa\n",
            "aaaaa\n",
            "Length of string is : 5\n"
          ]
        }
      ],
      "source": [
        "sia = input(\"say something ....\")\n",
        "print(sia)\n",
        "print(\"Length of string is : \" + str(len(sia))) "
      ]
    },
    {
      "cell_type": "code",
      "execution_count": null,
      "metadata": {
        "id": "8SURT38vuheQ"
      },
      "outputs": [],
      "source": [
        "# str to convert number(length) to string to print it ganb l text .\n",
        "\n"
      ]
    },
    {
      "cell_type": "code",
      "execution_count": 100,
      "metadata": {
        "colab": {
          "base_uri": "https://localhost:8080/"
        },
        "id": "bw27TJsCuheQ",
        "outputId": "bc5bc024-783d-4158-e1df-956afb6b4498"
      },
      "outputs": [
        {
          "output_type": "stream",
          "name": "stdout",
          "text": [
            "3\n",
            "9\n"
          ]
        }
      ],
      "source": [
        "# ba7sb space bardo\n",
        "\n",
        "a = \"Rio\" \n",
        "b = \"   Rio   \" \n",
        "print(len(a)) # 3\n",
        "print(len(b)) # 9"
      ]
    },
    {
      "cell_type": "markdown",
      "metadata": {
        "id": "yjJYRk58uheR"
      },
      "source": [
        "#### 5.8.3 strip()\n",
        "+ Function str.strip(\"str\") >> remove space in right and left of string\n",
        "+ Function str.rstrip(\"str\") >> remove space in right of string\n",
        "+ Function str.lstrip(\"str\") >> remove space in left of string\n",
        "+ deafult str = ' ' >> space "
      ]
    },
    {
      "cell_type": "code",
      "execution_count": 105,
      "metadata": {
        "colab": {
          "base_uri": "https://localhost:8080/"
        },
        "id": "z-jTXKd2uheR",
        "outputId": "c20ae81e-973d-4a3e-dfc2-6d5ebbd68a62"
      },
      "outputs": [
        {
          "output_type": "stream",
          "name": "stdout",
          "text": [
            "hello frined !          \n"
          ]
        }
      ],
      "source": [
        "# default is space\n",
        "\n",
        "c = '#####hello frined !          '\n",
        "print(c.strip('#')) # hello frined !\n",
        "# print(c.rstrip()) #           hello frined !\n",
        "# print(c.lstrip()) # hello frined !"
      ]
    },
    {
      "cell_type": "code",
      "execution_count": null,
      "metadata": {
        "id": "BF_450sRuheR"
      },
      "outputs": [],
      "source": [
        "# change default\n",
        "\n",
        "c = '##########     hello frined !   ##############'\n",
        "\n",
        "# remove hash from right and left of string not romove space\n",
        "print(c.strip('#')) #      hello frined !\n",
        "\n",
        "# remove hash from right of string not romove space\n",
        "print(c.rstrip('#')) # ##########     hello frined !\n",
        "\n",
        "# remove hash from left of string not romove space\n",
        "print(c.lstrip('#')) #      hello frined !   ##############"
      ]
    },
    {
      "cell_type": "markdown",
      "metadata": {
        "id": "oONbo7C2uheS"
      },
      "source": [
        "#### 5.8.4  title()\n",
        "- every char of every word of string is captial \n",
        "- char which after number is captial bardo"
      ]
    },
    {
      "cell_type": "code",
      "execution_count": 106,
      "metadata": {
        "colab": {
          "base_uri": "https://localhost:8080/"
        },
        "id": "ZsWzxFnOuheS",
        "outputId": "a6419c20-ebfa-4b66-daa6-50f3798f9530"
      },
      "outputs": [
        {
          "output_type": "stream",
          "name": "stdout",
          "text": [
            "It Is 5G\n"
          ]
        }
      ],
      "source": [
        "tit = \"it is 5g\"\n",
        "print(tit.title()) "
      ]
    },
    {
      "cell_type": "markdown",
      "metadata": {
        "id": "4Qf-tX5XuheS"
      },
      "source": [
        "#### 5.8.5 istitle()\n",
        ">> return true law ?\n",
        "- kol awl char in kol word kan captial \n",
        "- char elly ba3d number kan captial bardo\n",
        ">> otherwise return false "
      ]
    },
    {
      "cell_type": "code",
      "execution_count": 107,
      "metadata": {
        "colab": {
          "base_uri": "https://localhost:8080/"
        },
        "id": "HTQOpXcQuheT",
        "outputId": "b97fcd02-c841-40f2-ea76-464e03e73e80"
      },
      "outputs": [
        {
          "output_type": "stream",
          "name": "stdout",
          "text": [
            "True\n",
            "False\n"
          ]
        }
      ],
      "source": [
        "istit1 = \"It Is 5G\"\n",
        "print(istit1.istitle()) # true\n",
        "\n",
        "istit2 = \"It Is 5g\"\n",
        "print(istit2.istitle()) # false"
      ]
    },
    {
      "cell_type": "markdown",
      "metadata": {
        "id": "gMLg6wkfuheT"
      },
      "source": [
        "#### 5.8.6 capitalize()\n",
        "- first char of first word in string is captial \n",
        "- char elly ba3d number is small"
      ]
    },
    {
      "cell_type": "code",
      "execution_count": 108,
      "metadata": {
        "colab": {
          "base_uri": "https://localhost:8080/"
        },
        "id": "hzdRZXnRuheU",
        "outputId": "51c52e9e-a332-4d51-fce1-2e8aa8b4c34f"
      },
      "outputs": [
        {
          "output_type": "stream",
          "name": "stdout",
          "text": [
            "It is 5g\n"
          ]
        }
      ],
      "source": [
        "d = \"it is 5g\"\n",
        "print(d.capitalize())"
      ]
    },
    {
      "cell_type": "markdown",
      "metadata": {
        "id": "NzP1JybwuheU"
      },
      "source": [
        "#### 5.8.7 zfill()\n",
        ">> bt5ly number 2d ba3d zay \n",
        "- 1\n",
        "- 98\n",
        "- 890\n",
        ">> hyb2a\n",
        "- 001\n",
        "- 098\n",
        "- 890 \n",
        "\n",
        ">> lazm variable is string\n",
        ">> lazm is feeh parameter integer is width of string"
      ]
    },
    {
      "cell_type": "code",
      "execution_count": 111,
      "metadata": {
        "colab": {
          "base_uri": "https://localhost:8080/"
        },
        "id": "1C3Lj0i_uheV",
        "outputId": "643baae6-f9f7-4e8d-bd77-b680422633d3"
      },
      "outputs": [
        {
          "output_type": "stream",
          "name": "stdout",
          "text": [
            "001\n",
            "011\n",
            "111\n"
          ]
        }
      ],
      "source": [
        "# zfill(width) : insert zeroes\n",
        "\n",
        "e,f,g = \"1\",\"11\",\"111\"\n",
        "print(e.zfill(3)) # 001\n",
        "print(f.zfill(3)) # 011\n",
        "print(g.zfill(3)) # 111"
      ]
    },
    {
      "cell_type": "markdown",
      "metadata": {
        "id": "Xdh6e1I2uheV"
      },
      "source": [
        "#### 5.8.8 upper()\n",
        ">> Function str.upper()\n",
        "+ Convert string to captial characters baskda"
      ]
    },
    {
      "cell_type": "code",
      "execution_count": 112,
      "metadata": {
        "colab": {
          "base_uri": "https://localhost:8080/"
        },
        "id": "JLKhR4fduheW",
        "outputId": "4c483d90-af6b-4c7c-ca29-70cf6ecd3356"
      },
      "outputs": [
        {
          "output_type": "stream",
          "name": "stdout",
          "text": [
            "I AM HERE\n"
          ]
        }
      ],
      "source": [
        "upp =\"I Am Here\"\n",
        "print(upp.upper())"
      ]
    },
    {
      "cell_type": "markdown",
      "metadata": {
        "id": "yKu4J32HuheW"
      },
      "source": [
        "#### 5.8.9 isupper()\n",
        "+ return true if string is upper case otherwise false"
      ]
    },
    {
      "cell_type": "code",
      "execution_count": null,
      "metadata": {
        "id": "XjpUEKSQuheW"
      },
      "outputs": [],
      "source": [
        "upp1 =\"I AM HERE\"\n",
        "print(upp1.isupper()) # true\n",
        "\n",
        "upp2 =\"I Am Here\"\n",
        "print(upp2.isupper()) # false"
      ]
    },
    {
      "cell_type": "markdown",
      "metadata": {
        "id": "FdG4V21SuheW"
      },
      "source": [
        "#### 5.8.10 lower()\n",
        ">> Function str.lower()\n",
        "+ Convert string to small characters baskda"
      ]
    },
    {
      "cell_type": "code",
      "execution_count": 113,
      "metadata": {
        "colab": {
          "base_uri": "https://localhost:8080/"
        },
        "id": "yZf5-gFhuheW",
        "outputId": "866c8185-f954-4b7c-fb96-ae57ebe403dc"
      },
      "outputs": [
        {
          "output_type": "stream",
          "name": "stdout",
          "text": [
            "i am here\n"
          ]
        }
      ],
      "source": [
        "low =\"I Am Here\"\n",
        "print(low.lower())"
      ]
    },
    {
      "cell_type": "markdown",
      "metadata": {
        "id": "2lPZJ9yzuheX"
      },
      "source": [
        "#### 5.8.11 islower()\n",
        "+ return true if string is lower case otherwise false"
      ]
    },
    {
      "cell_type": "code",
      "execution_count": null,
      "metadata": {
        "id": "hslepyx9uheX"
      },
      "outputs": [],
      "source": [
        "low1 =\"i am here\"\n",
        "print(low1.islower()) # true\n",
        "\n",
        "low2 =\"I Am Here\"\n",
        "print(low2.islower()) # false"
      ]
    },
    {
      "cell_type": "markdown",
      "metadata": {
        "id": "DzUZ1psPuheX"
      },
      "source": [
        "#### 5.8.12 split()\n",
        ">> str.split(sep = ' ' , max split)\n",
        "+ split from left\n",
        "+ return data as list\n",
        "+ sep is default = \" \" > space \n",
        "+ max split : numbers data elly h3mlha split bas w another data is one string"
      ]
    },
    {
      "cell_type": "code",
      "execution_count": 115,
      "metadata": {
        "colab": {
          "base_uri": "https://localhost:8080/"
        },
        "id": "71Y9gH_ouheY",
        "outputId": "0e8c169b-01d7-48c1-f4e3-d1d24935ca6f"
      },
      "outputs": [
        {
          "output_type": "stream",
          "name": "stdout",
          "text": [
            "<class 'str'>\n",
            "['hello', 'rio', 'come', 'here']\n",
            "<class 'list'>\n"
          ]
        }
      ],
      "source": [
        "dog1 = \"hello  rio  come here\"\n",
        "print(type(dog1))\n",
        "print(dog1.split()) # spilt all string to list \n",
        "print(type(dog1.split())) # type of data is list ..."
      ]
    },
    {
      "cell_type": "code",
      "execution_count": null,
      "metadata": {
        "id": "araQNvU7uheZ"
      },
      "outputs": [],
      "source": [
        "# change default \n",
        "\n",
        "dog2 = \"hello-rio-come-here\"\n",
        "print(dog2.split('-')) # spilt all string with dash"
      ]
    },
    {
      "cell_type": "code",
      "execution_count": null,
      "metadata": {
        "id": "JWK6dYRwuhea"
      },
      "outputs": [],
      "source": [
        "print(dog2.split('-',2)) # split only two element from left"
      ]
    },
    {
      "cell_type": "markdown",
      "metadata": {
        "id": "qmloNHe6uheb"
      },
      "source": [
        "#### 5.8.13 rsplit()\n",
        "+ split from right "
      ]
    },
    {
      "cell_type": "code",
      "execution_count": 118,
      "metadata": {
        "colab": {
          "base_uri": "https://localhost:8080/"
        },
        "id": "CmP6USwNuhec",
        "outputId": "d2103843-eb25-4bc9-b900-a8ae78b220f9"
      },
      "outputs": [
        {
          "output_type": "stream",
          "name": "stdout",
          "text": [
            "['hello-rio-come', 'here']\n"
          ]
        }
      ],
      "source": [
        "dog2 = \"hello-rio-come-here\"\n",
        "# split only two element from right\n",
        "print(dog2.rsplit('-',1)) "
      ]
    },
    {
      "cell_type": "markdown",
      "metadata": {
        "id": "mWWqyRxtuhec"
      },
      "source": [
        "#### 5.8.14 Center()\n",
        ">> center(width , fillchar)\n",
        "- must be enter parameter width\n",
        "- width >> number of chars elly htreturn\n",
        "- fillchar >> char elly h7to badl spaces\n",
        "- default fillchar is spaces"
      ]
    },
    {
      "cell_type": "code",
      "execution_count": 119,
      "metadata": {
        "colab": {
          "base_uri": "https://localhost:8080/"
        },
        "id": "ZKJUE2Yguhed",
        "outputId": "0cad4eac-e664-4671-e7ca-9e3a30469118"
      },
      "outputs": [
        {
          "output_type": "stream",
          "name": "stdout",
          "text": [
            "    Elsayed    \n",
            "####Elsayed####\n"
          ]
        }
      ],
      "source": [
        "cen = 'Elsayed'\n",
        "print(cen.center(15)) # sapces in start and end of string\n",
        "print(cen.center(15,'#')) # hash in start and end of string"
      ]
    },
    {
      "cell_type": "markdown",
      "metadata": {
        "id": "Gx1WsSqkuhed"
      },
      "source": [
        "#### 5.8.15 count()\n",
        ">> Function str.count(substring , beg = 0 , end = len(str))\n",
        "- by search 3la \"substring\" w by return str da mwgod kam mara"
      ]
    },
    {
      "cell_type": "code",
      "execution_count": 121,
      "metadata": {
        "colab": {
          "base_uri": "https://localhost:8080/"
        },
        "id": "fHdeI337uhed",
        "outputId": "2ec2924f-7fc6-4df9-de2f-606e145aab20"
      },
      "outputs": [
        {
          "output_type": "stream",
          "name": "stdout",
          "text": [
            "3\n",
            "1\n",
            "2\n",
            "1\n"
          ]
        }
      ],
      "source": [
        "coun=\"Matrix hi Hi matrix hi hi \"\n",
        "print(coun.count(\"hi\")) # 2\n",
        "print(coun.count(\"Hi\")) # 1 , because H != h\n",
        "print(coun.count(\"hi\",10)) # 2 , Search 3la \"hi\" form index 10 to end\n",
        "print(coun.count(\"hi\",5, 15)) # 2 , Search 3la \"hi\" form index 5 to index 15"
      ]
    },
    {
      "cell_type": "markdown",
      "metadata": {
        "id": "MJHwf0SLuhee"
      },
      "source": [
        "#### 5.8.16 swapcase()\n",
        ">> str.swapcase()\n",
        "+ convert lower case to upper case and upper case to lower case .."
      ]
    },
    {
      "cell_type": "code",
      "execution_count": 122,
      "metadata": {
        "colab": {
          "base_uri": "https://localhost:8080/"
        },
        "id": "z9Fm3DLquhee",
        "outputId": "4d255a98-d4ab-49b9-f0cb-41ca1e158abc"
      },
      "outputs": [
        {
          "output_type": "stream",
          "name": "stdout",
          "text": [
            "i aM hERE\n"
          ]
        }
      ],
      "source": [
        "h =\"I Am Here\"\n",
        "print(h.swapcase()) # i aM hERE"
      ]
    },
    {
      "cell_type": "markdown",
      "metadata": {
        "id": "ToE8i7Hwuhee"
      },
      "source": [
        "#### 5.8.17 startswith()\n",
        ">> str.startswith('char' , start  , end) \n",
        "- not include end\n",
        "- return True >> if string is start with this char\n",
        "- otherwise false"
      ]
    },
    {
      "cell_type": "code",
      "execution_count": 123,
      "metadata": {
        "colab": {
          "base_uri": "https://localhost:8080/"
        },
        "id": "0H-PrKpVuhef",
        "outputId": "04830025-3ba2-437e-94bc-a25f223d568b"
      },
      "outputs": [
        {
          "output_type": "stream",
          "name": "stdout",
          "text": [
            "True\n",
            "False\n",
            "True\n"
          ]
        }
      ],
      "source": [
        "j = 'hello friennd'\n",
        "print(j.startswith('h')) # true\n",
        "print(j.startswith('f')) # false\n",
        "print(j.startswith('f',6,20)) # true"
      ]
    },
    {
      "cell_type": "markdown",
      "metadata": {
        "id": "ISMazDVLuhef"
      },
      "source": [
        "#### 5.8.18 endswith()\n",
        ">> str.endswith('char' , start  , end)\n",
        "- not include end\n",
        "- return True if string is end with this char\n",
        "- otherwise false"
      ]
    },
    {
      "cell_type": "code",
      "execution_count": null,
      "metadata": {
        "id": "LiNK84Ciuhef"
      },
      "outputs": [],
      "source": [
        "k = 'hello friend'\n",
        "print(k.endswith('d')) # true\n",
        "print(k.endswith('o')) # false\n",
        "print(j.endswith('o',1,5)) # true"
      ]
    },
    {
      "cell_type": "markdown",
      "metadata": {
        "id": "2SxqAMXCuhef"
      },
      "source": [
        "#### 5.8.19 index()\n",
        ">> str.index(substring , start , end)\n",
        "+ search 3la 'substring' mwgod in index kam \n",
        "+ return index\n",
        "+ law 'substring' m4 mwgod btgeb ' Error ' <<<<<< mohma dy"
      ]
    },
    {
      "cell_type": "code",
      "execution_count": 143,
      "metadata": {
        "colab": {
          "base_uri": "https://localhost:8080/"
        },
        "id": "0gEgnplRuhef",
        "outputId": "cd7d51ec-8613-4599-d90d-2e786ec02c6f"
      },
      "outputs": [
        {
          "output_type": "stream",
          "name": "stdout",
          "text": [
            "10\n",
            "10\n"
          ]
        }
      ],
      "source": [
        "ind = 'come here Rio'\n",
        "print(ind.index('R')) # index 10\n",
        "print(ind.index('R', 2 , 20)) # index 10\n",
        "# print(ind.index('R', 2 , 8)) # Error >> substring not found"
      ]
    },
    {
      "cell_type": "markdown",
      "metadata": {
        "id": "2jmPIJhuuheg"
      },
      "source": [
        "#### 5.8.20 find()\n",
        ">> str.index(substring , start , end)\n",
        "+ search 3la 'substring' mwgod in index kam \n",
        "+ return index\n",
        "+ law m4 mwgod btrturn ' -1 '"
      ]
    },
    {
      "cell_type": "code",
      "execution_count": 127,
      "metadata": {
        "colab": {
          "base_uri": "https://localhost:8080/"
        },
        "id": "sGS74K4Buheg",
        "outputId": "5a1bf233-3174-4202-a0c9-73f67978b876"
      },
      "outputs": [
        {
          "output_type": "stream",
          "name": "stdout",
          "text": [
            "10\n",
            "10\n",
            "-1\n"
          ]
        }
      ],
      "source": [
        "fin = 'come here Rio'\n",
        "print(fin.find('R')) # index 10\n",
        "print(fin.find('R', 3 , 20)) # index 10\n",
        "print(ind.find('R', 3 , 8)) # -1 >> 34an substring not found"
      ]
    },
    {
      "cell_type": "markdown",
      "metadata": {
        "id": "dq2gvJdfuheg"
      },
      "source": [
        "#### 5.8.21 rjust()\n",
        ">> str.rjust(width , fillchar)\n",
        "- string is right\n",
        "- width >> number of chars elly htreturn\n",
        "- fillchar >> char elly h7to badl spaces\n",
        "- default fillchar is spaces"
      ]
    },
    {
      "cell_type": "code",
      "execution_count": 128,
      "metadata": {
        "colab": {
          "base_uri": "https://localhost:8080/"
        },
        "id": "-JenYqgbuheg",
        "outputId": "5617f832-acf9-4c93-a15c-5b855363c639"
      },
      "outputs": [
        {
          "output_type": "stream",
          "name": "stdout",
          "text": [
            "        Elsayed\n",
            "########Elsayed\n"
          ]
        }
      ],
      "source": [
        "rjus = 'Elsayed'\n",
        "print(rjus.rjust(15)) # default spaces befor string >>         Elsayed\n",
        "print(rjus.rjust(15,'#')) # hash befor string >> ########Elsayed"
      ]
    },
    {
      "cell_type": "markdown",
      "metadata": {
        "id": "r72tiTjEuheh"
      },
      "source": [
        "#### 5.8.22 ljust()\n",
        ">> str.ljust(width , fillchar)\n",
        "- string is left\n",
        "- width >> number of chars elly htreturn\n",
        "- fillchar >> char elly h7to badl spaces`\n",
        "- default fillchar is spaces"
      ]
    },
    {
      "cell_type": "code",
      "execution_count": 129,
      "metadata": {
        "colab": {
          "base_uri": "https://localhost:8080/"
        },
        "id": "_EKQCvIQuheh",
        "outputId": "89a59741-d34c-44a0-e2ed-eeafeeaabbd8"
      },
      "outputs": [
        {
          "output_type": "stream",
          "name": "stdout",
          "text": [
            "Elsayed        \n",
            "Elsayed44444444\n"
          ]
        }
      ],
      "source": [
        "ljus = 'Elsayed'\n",
        "print(ljus.ljust(15)) # default spaces after string >> Elsayed        \n",
        "print(ljus.ljust(15,'4')) # hash after string >> Elsayed########"
      ]
    },
    {
      "cell_type": "markdown",
      "metadata": {
        "id": "aVwV3bTiuheh"
      },
      "source": [
        "#### 5.8.23 splitlines()\n",
        "+ return kol line f list"
      ]
    },
    {
      "cell_type": "code",
      "execution_count": 130,
      "metadata": {
        "colab": {
          "base_uri": "https://localhost:8080/"
        },
        "id": "64cOCHSSuheh",
        "outputId": "fcb0bfaa-b65d-4d68-86b1-08538a41fac1"
      },
      "outputs": [
        {
          "output_type": "stream",
          "name": "stdout",
          "text": [
            "first line\n",
            "second line\n",
            "third line\n",
            "['first line', 'second line', 'third line']\n"
          ]
        }
      ],
      "source": [
        "lines1 = \"\"\"first line\n",
        "second line\n",
        "third line\"\"\"\n",
        "print(lines1) # kol line f line\n",
        "print(lines1.splitlines()) # list of lines >> ['first line', 'second line', 'third line ']"
      ]
    },
    {
      "cell_type": "code",
      "execution_count": null,
      "metadata": {
        "id": "30a3gRBXuhei"
      },
      "outputs": [],
      "source": [
        "lines2 = \"\"\"first line\\nsecond line\\nthird line\"\"\"\n",
        "print(lines2) \n",
        "print(lines2.splitlines()) # list of lines >> ['first line', 'second line', 'third line ']"
      ]
    },
    {
      "cell_type": "markdown",
      "metadata": {
        "id": "t8sEwXDbuhei"
      },
      "source": [
        "#### 5.8.24 expandtabs()\n",
        "+ default 5 spaces .."
      ]
    },
    {
      "cell_type": "code",
      "execution_count": 133,
      "metadata": {
        "colab": {
          "base_uri": "https://localhost:8080/"
        },
        "id": "WcKS8awOuhei",
        "outputId": "e84f3f05-ed8e-4158-f9a9-22a7bbfdcc9b"
      },
      "outputs": [
        {
          "output_type": "stream",
          "name": "stdout",
          "text": [
            "hey     Rio, come       here    !\n",
            "hey    Rio, come     here   !\n"
          ]
        }
      ],
      "source": [
        "exptab = 'hey\\tRio, come\\there\\t!'\n",
        "# 5 spaces\n",
        "print(exptab.expandtabs()) \n",
        "# 2 spaces\n",
        "print(exptab.expandtabs(7))"
      ]
    },
    {
      "cell_type": "markdown",
      "metadata": {
        "id": "p-gwELeeuhej"
      },
      "source": [
        "#### 5.8.25 isspace()\n",
        "+ return space when string is space otherwise false"
      ]
    },
    {
      "cell_type": "code",
      "execution_count": 134,
      "metadata": {
        "colab": {
          "base_uri": "https://localhost:8080/"
        },
        "id": "Tjuf504fuhej",
        "outputId": "ad86e39c-c49e-43cf-b3b2-85caaf4e5dd9"
      },
      "outputs": [
        {
          "output_type": "stream",
          "name": "stdout",
          "text": [
            "True\n",
            "False\n"
          ]
        }
      ],
      "source": [
        "spa1 = \" \"  \n",
        "print(spa1.isspace()) # True\n",
        "\n",
        "spa2 = \"\"      \n",
        "print(spa2.isspace()) # False"
      ]
    },
    {
      "cell_type": "markdown",
      "metadata": {
        "id": "2MAcrNWyuhej"
      },
      "source": [
        "#### 5.8.26 isidentifier()\n",
        "+ return true if string is variable otherwwise false\n",
        "\n",
        ">> Variable Rules:\n",
        "+ can start with A-Z a-z or underscore _\n",
        "+ can't start with number \n",
        "+ don't use special char 'symbols' or space @ # $ % &\n",
        "+ don't use keywords => if True False"
      ]
    },
    {
      "cell_type": "code",
      "execution_count": 135,
      "metadata": {
        "colab": {
          "base_uri": "https://localhost:8080/"
        },
        "id": "s9Z-9C8Buhej",
        "outputId": "7eddf43a-99b8-41cb-bd02-af9db6f9e390"
      },
      "outputs": [
        {
          "output_type": "stream",
          "name": "stdout",
          "text": [
            "True\n",
            "False\n"
          ]
        }
      ],
      "source": [
        "isidfi1 = 'Elsayed_Elmandoh'\n",
        "print(isidfi1.isidentifier()) # true\n",
        "\n",
        "isidfi2 = 'Elsayed-Elmandoh'\n",
        "print(isidfi2.isidentifier()) # false"
      ]
    },
    {
      "cell_type": "markdown",
      "metadata": {
        "id": "3-jtZI8Quhek"
      },
      "source": [
        "#### 5.8.27 isalpha()\n",
        ">> str.isalpha(\"str\")\n",
        "+ return true when string is alpha otherwise false"
      ]
    },
    {
      "cell_type": "code",
      "execution_count": 136,
      "metadata": {
        "colab": {
          "base_uri": "https://localhost:8080/"
        },
        "id": "Ih8x2l8Zuhek",
        "outputId": "754bf38f-47d5-41c4-8566-6e2f2adc0732"
      },
      "outputs": [
        {
          "output_type": "stream",
          "name": "stdout",
          "text": [
            "True\n",
            "False\n"
          ]
        }
      ],
      "source": [
        "x= \"RIO\"\n",
        "print(x.isalpha()) # true \n",
        "\n",
        "y = \"RIO45745\"\n",
        "print(y.isalpha()) # false"
      ]
    },
    {
      "cell_type": "markdown",
      "metadata": {
        "id": "QH0xlsQxuhek"
      },
      "source": [
        "#### 5.8.28 isdigit()\n",
        ">> str.isdigit(\"str\")\n",
        "+ return true when str is number otherwise false"
      ]
    },
    {
      "cell_type": "code",
      "execution_count": null,
      "metadata": {
        "id": "pJmNQGqWuhel"
      },
      "outputs": [],
      "source": [
        "x= \"363\"\n",
        "print(x.isdigit()) # true \n",
        "\n",
        "y = \"RIO45745\"\n",
        "print(y.isdigit()) # false"
      ]
    },
    {
      "cell_type": "markdown",
      "metadata": {
        "id": "2fvjsU5Ruhel"
      },
      "source": [
        "##### 5.8.29 isalnum()\n",
        "+ return true when string is alpha , number , alpha and number each other otherwise false"
      ]
    },
    {
      "cell_type": "code",
      "execution_count": 137,
      "metadata": {
        "colab": {
          "base_uri": "https://localhost:8080/"
        },
        "id": "NV8UWJa1uhel",
        "outputId": "567b64f5-3e20-4cb3-864f-b524f043d71e"
      },
      "outputs": [
        {
          "output_type": "stream",
          "name": "stdout",
          "text": [
            "True\n",
            "True\n",
            "True\n"
          ]
        }
      ],
      "source": [
        "x= \"RIO\"\n",
        "print(x.isalnum()) # true : alpha\n",
        "\n",
        "y = \"436373\"\n",
        "print(y.isalnum()) # true : number\n",
        "\n",
        "z = 'RIO45745'\n",
        "print(z.isalnum()) # true : alpha and number"
      ]
    },
    {
      "cell_type": "markdown",
      "metadata": {
        "id": "jT6eu0Icuhem"
      },
      "source": [
        "#### 5.8.30 replace()\n",
        ">> str.replace(old , new, count)\n",
        "+ replace old with new\n",
        "+ count > default is loop on all words in string"
      ]
    },
    {
      "cell_type": "code",
      "execution_count": 138,
      "metadata": {
        "colab": {
          "base_uri": "https://localhost:8080/"
        },
        "id": "PXtp5O_Buhem",
        "outputId": "f44f4056-2623-497f-deea-634d4b09cab9"
      },
      "outputs": [
        {
          "output_type": "stream",
          "name": "stdout",
          "text": [
            "im is E R two 7 - zero 7 7 four \n",
            "im is E R two 7 - zero seven seven four \n",
            "im is E R two 7 - zero 7 seven four \n"
          ]
        }
      ],
      "source": [
        "rep = \"im is E R two seven - zero seven seven four \"\n",
        "\n",
        "print(rep.replace(\"seven\",\"7\")) # replace all seven with 7\n",
        "print(rep.replace(\"seven\",\"7\",1)) # replace only first seven with 7\n",
        "print(rep.replace(\"seven\",\"7\",2)) # replace only first and two seven with 7"
      ]
    },
    {
      "cell_type": "markdown",
      "metadata": {
        "id": "x_F1mq00uhen"
      },
      "source": [
        "#### 5.8.31 join()\n",
        ">> str.join(iterable()) \n",
        "+ iterable : elements I can loop on : list or tuple "
      ]
    },
    {
      "cell_type": "code",
      "execution_count": 141,
      "metadata": {
        "colab": {
          "base_uri": "https://localhost:8080/"
        },
        "id": "pN3Xo7W7uhen",
        "outputId": "27293496-a7e4-4072-ac1a-c1c9d23032e3"
      },
      "outputs": [
        {
          "output_type": "stream",
          "name": "stdout",
          "text": [
            "Elsayed-Mohamed-Elmandoh\n"
          ]
        }
      ],
      "source": [
        "joi = ['Elsayed' , 'Mohamed' , 'Elmandoh']\n",
        "# print('\\n'.join(joi)) # join every element in list\n",
        "print('-'.join(joi)) # convert from list to str"
      ]
    },
    {
      "cell_type": "code",
      "execution_count": 142,
      "metadata": {
        "colab": {
          "base_uri": "https://localhost:8080/"
        },
        "id": "y-72yoiouhen",
        "outputId": "cf81042e-592f-4ef3-e0d0-7ae791139c10"
      },
      "outputs": [
        {
          "output_type": "stream",
          "name": "stdout",
          "text": [
            "['hello', 'rio', 'come', 'here']\n",
            "<class 'list'>\n"
          ]
        }
      ],
      "source": [
        "spl = \"hello  rio  come here\"\n",
        "print(spl.split()) # spilt every element in string\n",
        "print(type(spl.split())) # convert from str to list ..."
      ]
    },
    {
      "cell_type": "code",
      "execution_count": null,
      "metadata": {
        "id": "VvabjgeQuheo"
      },
      "outputs": [],
      "source": [
        "print('-'.join(joi)) # Elsayed-Mohamed-Elmandoh\n",
        "print(' '.join(joi)) # Elsayed Mohamed Elmandoh\n",
        "print(','.join(joi)) # Elsayed,Mohamed,Elmandoh"
      ]
    }
  ],
  "metadata": {
    "kernelspec": {
      "display_name": "Python 3",
      "language": "python",
      "name": "python3"
    },
    "language_info": {
      "codemirror_mode": {
        "name": "ipython",
        "version": 3
      },
      "file_extension": ".py",
      "mimetype": "text/x-python",
      "name": "python",
      "nbconvert_exporter": "python",
      "pygments_lexer": "ipython3",
      "version": "3.10.8"
    },
    "orig_nbformat": 4,
    "vscode": {
      "interpreter": {
        "hash": "ab58cbacd942ca503049d3378ed1180a79e5c5d17c40fd38c92a577d131c0358"
      }
    },
    "colab": {
      "provenance": []
    }
  },
  "nbformat": 4,
  "nbformat_minor": 0
}