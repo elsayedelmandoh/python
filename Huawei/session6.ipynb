{
 "cells": [
  {
   "attachments": {},
   "cell_type": "markdown",
   "metadata": {},
   "source": [
    "+ Abstract"
   ]
  },
  {
   "cell_type": "code",
   "execution_count": 5,
   "metadata": {},
   "outputs": [],
   "source": [
    "from abc import ABCMeta , abstractmethod \n",
    "\n",
    "class University(metaclass=ABCMeta):\n",
    "    @abstractmethod\n",
    "    def has_AI_uni(self):\n",
    "        pass\n",
    "\n",
    "    def welcome(self):\n",
    "        return \"welcome\"\n",
    "    \n",
    "class ERU(University):\n",
    "    def has_AI_uni(self):\n",
    "        return \"YES\"\n",
    "    \n",
    "class BUC(University):\n",
    "    def has_AI_uni(self):\n",
    "        return \"NO\"    "
   ]
  },
  {
   "cell_type": "code",
   "execution_count": 6,
   "metadata": {},
   "outputs": [
    {
     "ename": "TypeError",
     "evalue": "Can't instantiate abstract class University with abstract method has_AI_uni",
     "output_type": "error",
     "traceback": [
      "\u001b[1;31m---------------------------------------------------------------------------\u001b[0m",
      "\u001b[1;31mTypeError\u001b[0m                                 Traceback (most recent call last)",
      "Cell \u001b[1;32mIn [6], line 2\u001b[0m\n\u001b[0;32m      1\u001b[0m \u001b[39m# Can't instantiate abstract class University with abstract method has_AI_uni\u001b[39;00m\n\u001b[1;32m----> 2\u001b[0m one \u001b[39m=\u001b[39m University()\n\u001b[0;32m      3\u001b[0m \u001b[39mprint\u001b[39m(one\u001b[39m.\u001b[39mwelcome())\n",
      "\u001b[1;31mTypeError\u001b[0m: Can't instantiate abstract class University with abstract method has_AI_uni"
     ]
    }
   ],
   "source": [
    "# Can't instantiate abstract class University with abstract method has_AI_uni\n",
    "one = University()\n",
    "print(one.welcome())"
   ]
  },
  {
   "cell_type": "code",
   "execution_count": 7,
   "metadata": {},
   "outputs": [],
   "source": [
    "from abc import ABCMeta , abstractmethod\n",
    "\n",
    "class University(metaclass=ABCMeta):\n",
    "    @abstractmethod\n",
    "    def has_AI_uni(self):\n",
    "        pass\n",
    "\n",
    "    def welcome(self):\n",
    "        return \"welcome\"\n",
    "    \n",
    "    @classmethod\n",
    "    def hello(self):\n",
    "        return \"hello\"\n",
    "    \n",
    "class ERU(University):\n",
    "    def has_AI_uni(self):\n",
    "        return \"YES\"\n",
    "    \n",
    "class BUC(University):\n",
    "    def has_AI_uni(self):\n",
    "        return \"NO\"    "
   ]
  },
  {
   "cell_type": "code",
   "execution_count": 8,
   "metadata": {},
   "outputs": [
    {
     "name": "stdout",
     "output_type": "stream",
     "text": [
      "hello\n"
     ]
    }
   ],
   "source": [
    "# Can't instantiate abstract class University with abstract method has_AI_uni\n",
    "# one = University()\n",
    "print(University.hello())"
   ]
  },
  {
   "attachments": {},
   "cell_type": "markdown",
   "metadata": {},
   "source": [
    "# Handing File"
   ]
  },
  {
   "attachments": {},
   "cell_type": "markdown",
   "metadata": {},
   "source": [
    "+ open(\"path\", mode) : to open the file\n",
    "\n",
    "+ w => write only and delete old writing (Override)\n",
    "+ w+ => Write and read and delete old writing (Override)\n",
    "\n",
    "+ a => Append only and not delete old writing\n",
    "+ a+ => Append and read and not delete old writing\n",
    "\n",
    "+ r => reading file only\n",
    "+ r+ => reading and writing the file.\n",
    "\n",
    "+ w & w+ & a & a+ > Create file, If it not found ...\n",
    "\n",
    "+ name.close() : to close the file"
   ]
  },
  {
   "attachments": {},
   "cell_type": "markdown",
   "metadata": {},
   "source": [
    "# w \n",
    "1. Write only \n",
    "2. delete old writing (Override) \n",
    "3. create file if it not found"
   ]
  },
  {
   "cell_type": "code",
   "execution_count": 9,
   "metadata": {},
   "outputs": [
    {
     "data": {
      "text/plain": [
       "'d:\\\\Courses\\\\Huawei\\\\ERU\\\\el7ony_bgd\\\\Session6'"
      ]
     },
     "execution_count": 9,
     "metadata": {},
     "output_type": "execute_result"
    }
   ],
   "source": [
    "import os \n",
    "os.getcwd()"
   ]
  },
  {
   "cell_type": "code",
   "execution_count": 11,
   "metadata": {},
   "outputs": [
    {
     "name": "stdout",
     "output_type": "stream",
     "text": [
      "d:\\\\Courses\\\\Huawei\\\\ERU\\\\el7ony_bgd\\\\Session6\\\\file.txt\n",
      "w\n"
     ]
    }
   ],
   "source": [
    "inp = input(\"Say something ..\")\n",
    "file = open(r'd:\\\\Courses\\\\Huawei\\\\ERU\\\\el7ony_bgd\\\\Session6\\\\file.txt','w')\n",
    "print(file.name)\n",
    "print(file.mode)\n",
    "file.write(inp) \n",
    "file.close()"
   ]
  },
  {
   "cell_type": "code",
   "execution_count": 13,
   "metadata": {},
   "outputs": [],
   "source": [
    "listskills = ['python ','C++\\n', 'java ','HTML\\n']\n",
    "file = open(r'd:\\\\Courses\\\\Huawei\\\\ERU\\\\el7ony_bgd\\\\Session6\\\\file.txt','w')\n",
    "# file.write(listskills) # error : write() argument must be str, not list\n",
    "file.writelines(listskills) \n",
    "file.close()"
   ]
  },
  {
   "attachments": {},
   "cell_type": "markdown",
   "metadata": {},
   "source": [
    "# w+\n",
    "1. Write \n",
    "2. read \n",
    "3. delete old writing (Override)\n",
    "4. create file if it not found"
   ]
  },
  {
   "cell_type": "code",
   "execution_count": 15,
   "metadata": {},
   "outputs": [
    {
     "name": "stdout",
     "output_type": "stream",
     "text": [
      "lo guys\n"
     ]
    }
   ],
   "source": [
    "# method seek() \n",
    "# return from speciffic position in file\n",
    "file = open(r'd:\\\\Courses\\\\Huawei\\\\ERU\\\\el7ony_bgd\\\\Session6\\\\file.txt','w+')\n",
    "file.write(\"hello guys\")\n",
    "file.seek(3)\n",
    "print(file.read())\n",
    "file.close()"
   ]
  },
  {
   "attachments": {},
   "cell_type": "markdown",
   "metadata": {},
   "source": [
    "# a\n",
    "1. Append only \n",
    "2. not delete old writing\n",
    "3. create new file if it not found"
   ]
  },
  {
   "cell_type": "code",
   "execution_count": 16,
   "metadata": {},
   "outputs": [],
   "source": [
    "inp = input(\"Say something ..\")\n",
    "file = open(r'd:\\\\Courses\\\\Huawei\\\\ERU\\\\el7ony_bgd\\\\Session6\\\\file.txt','a')\n",
    "file.write(inp) \n",
    "file.close()"
   ]
  },
  {
   "attachments": {},
   "cell_type": "markdown",
   "metadata": {},
   "source": [
    "# a+\n",
    "1. Append \n",
    "2. read \n",
    "2. not delete old writing\n",
    "3. create new file if it not found"
   ]
  },
  {
   "cell_type": "code",
   "execution_count": 18,
   "metadata": {},
   "outputs": [
    {
     "name": "stdout",
     "output_type": "stream",
     "text": [
      "o guyshiabc123\n"
     ]
    }
   ],
   "source": [
    "inp = input(\"Say something ..\")\n",
    "file = open(r'd:\\\\Courses\\\\Huawei\\\\ERU\\\\el7ony_bgd\\\\Session6\\\\file.txt','a+')\n",
    "file.write(inp) \n",
    "file.seek(4)\n",
    "print(file.read()) \n",
    "file.close()\n",
    "# hello guyshiabc"
   ]
  },
  {
   "cell_type": "code",
   "execution_count": 19,
   "metadata": {},
   "outputs": [
    {
     "name": "stdout",
     "output_type": "stream",
     "text": [
      "\n"
     ]
    }
   ],
   "source": [
    "# two point :)\n",
    "inp = input(\"Say something ..\")\n",
    "file = open(r'd:\\\\Courses\\\\Huawei\\\\ERU\\\\el7ony_bgd\\\\Session6\\\\file.txt','a+')\n",
    "file.write(inp) \n",
    "print(file.read()) \n",
    "file.close()"
   ]
  },
  {
   "attachments": {},
   "cell_type": "markdown",
   "metadata": {},
   "source": [
    "# r \n",
    "1. read data only"
   ]
  },
  {
   "cell_type": "code",
   "execution_count": 21,
   "metadata": {},
   "outputs": [
    {
     "name": "stdout",
     "output_type": "stream",
     "text": [
      "hel\n"
     ]
    }
   ],
   "source": [
    "# method read('number of chars')\n",
    "# if args is empty then return all chars\n",
    "\n",
    "file = open(r'd:\\\\Courses\\\\Huawei\\\\ERU\\\\el7ony_bgd\\\\Session6\\\\file.txt','r')\n",
    "print(file.read(3)) # read only 3 characters\n",
    "# print(file.read()) # read all characters , support str not list\n",
    "file.close() # close file"
   ]
  },
  {
   "attachments": {},
   "cell_type": "markdown",
   "metadata": {},
   "source": [
    "# r+ \n",
    "1. read \n",
    "2. write"
   ]
  },
  {
   "cell_type": "code",
   "execution_count": 23,
   "metadata": {},
   "outputs": [
    {
     "name": "stdout",
     "output_type": "stream",
     "text": [
      "hello guyshiabc123sssuuu\n",
      "\n"
     ]
    }
   ],
   "source": [
    "# method read('number of chars')\n",
    "# if args is empty then return all chars\n",
    "inp = input(\"er8y ..\")\n",
    "file = open(r'd:\\\\Courses\\\\Huawei\\\\ERU\\\\el7ony_bgd\\\\Session6\\\\file.txt','r+')\n",
    "print(file.read())\n",
    "file.write(inp)\n",
    "print(file.read())\n",
    "file.close() # close file"
   ]
  },
  {
   "attachments": {},
   "cell_type": "markdown",
   "metadata": {},
   "source": [
    "+ Script contians code written outside the scope of classes and functions.\n",
    "+ Modeule is set of variable , functions and classes.\n",
    "+ Package is set of modules\n",
    "+ Library is set of packages\n",
    "+ Framework is set of libraries."
   ]
  },
  {
   "attachments": {},
   "cell_type": "markdown",
   "metadata": {},
   "source": [
    "+ import name_module\n",
    "+ import name_module as alias\n",
    "+ => from name_module import function1 , function2 , ....\n",
    "+ from name_module import *"
   ]
  },
  {
   "cell_type": "code",
   "execution_count": 27,
   "metadata": {},
   "outputs": [],
   "source": [
    "# import test\n",
    "# import test as t\n",
    "from test import *"
   ]
  },
  {
   "cell_type": "code",
   "execution_count": null,
   "metadata": {},
   "outputs": [],
   "source": []
  },
  {
   "attachments": {},
   "cell_type": "markdown",
   "metadata": {},
   "source": [
    "# Statistics module"
   ]
  },
  {
   "cell_type": "code",
   "execution_count": 25,
   "metadata": {},
   "outputs": [],
   "source": [
    "# as is alias\n",
    "import statistics as st\n",
    "# from statistics import mean"
   ]
  },
  {
   "cell_type": "code",
   "execution_count": 28,
   "metadata": {},
   "outputs": [
    {
     "name": "stdout",
     "output_type": "stream",
     "text": [
      "4\n"
     ]
    }
   ],
   "source": [
    "# mean ..\n",
    "'''\n",
    "mean = (x1,x2,x3,x4)/n\n",
    "     = (7+3+5+1)/4 = 16 / 4 = 4\n",
    "'''\n",
    "ls = [7,3,5,1]\n",
    "print(st.mean(ls)) # 4\n",
    "\n",
    "# print(mean(ls)) # 4"
   ]
  },
  {
   "cell_type": "code",
   "execution_count": 29,
   "metadata": {},
   "outputs": [
    {
     "name": "stdout",
     "output_type": "stream",
     "text": [
      "2.3863636363636362\n"
     ]
    }
   ],
   "source": [
    "# harmonic_mean ..\n",
    "'''\n",
    "harmonic_mean = n / (1/x1 + 1/x2 + 1/x3 + 1/x4)\n",
    "              = 4 / (1/7 + 1/3 + 1/5 + 1/1) = 105 / 44\n",
    "'''\n",
    "print(st.harmonic_mean(ls)) # 2.3863636363636362"
   ]
  },
  {
   "cell_type": "code",
   "execution_count": 30,
   "metadata": {},
   "outputs": [
    {
     "name": "stdout",
     "output_type": "stream",
     "text": [
      "5\n"
     ]
    }
   ],
   "source": [
    "# median ..\n",
    "'''\n",
    "- sort elements\n",
    "- median in case odd numbers = take median element\n",
    "- median in case even numbers = (median1 + median2)/ 2\n",
    "'''\n",
    "# odd\n",
    "ls = [7,3,5,1,6]\n",
    "# 1 3 5 6 7\n",
    "# 5\n",
    "print(st.median(ls)) # 5 "
   ]
  },
  {
   "cell_type": "code",
   "execution_count": 32,
   "metadata": {},
   "outputs": [
    {
     "name": "stdout",
     "output_type": "stream",
     "text": [
      "4.0\n"
     ]
    }
   ],
   "source": [
    "# one point 3la 4.0\n",
    "# even\n",
    "ls = [7,3,5,1] \n",
    "# 1 3 5 7\n",
    "# (3 + 5)/2 = 4\n",
    "print(st.median(ls)) # 4 "
   ]
  },
  {
   "cell_type": "code",
   "execution_count": 33,
   "metadata": {},
   "outputs": [
    {
     "name": "stdout",
     "output_type": "stream",
     "text": [
      "5\n"
     ]
    }
   ],
   "source": [
    "# median_low\n",
    "'''\n",
    "odd  : take med element\n",
    "even : m4 rule dy b2a => (med1 + med2)/ 2  \n",
    "       take \"median1\" only\n",
    "''' \n",
    "# odd\n",
    "ls = [7,3,5,1,6]\n",
    "# 1 3 5 6 7\n",
    "# 5\n",
    "print(st.median_low(ls)) # 5 "
   ]
  },
  {
   "cell_type": "code",
   "execution_count": 34,
   "metadata": {},
   "outputs": [
    {
     "name": "stdout",
     "output_type": "stream",
     "text": [
      "3\n"
     ]
    }
   ],
   "source": [
    "# even\n",
    "ls = [7,3,5,1]\n",
    "# 1 3 5 7\n",
    "# 3\n",
    "print(st.median_low(ls)) # 3"
   ]
  },
  {
   "cell_type": "code",
   "execution_count": 35,
   "metadata": {},
   "outputs": [
    {
     "name": "stdout",
     "output_type": "stream",
     "text": [
      "5\n"
     ]
    }
   ],
   "source": [
    "# median_high\n",
    "'''\n",
    "odd : take med element\n",
    "even : No (med1 + med2)/ 2  but take med2 element only\n",
    "''' \n",
    "# odd\n",
    "ls = [7,3,5,1,6]\n",
    "# 1 3 5 6 7\n",
    "# 5\n",
    "print(st.median_high(ls)) # 5 "
   ]
  },
  {
   "cell_type": "code",
   "execution_count": 36,
   "metadata": {},
   "outputs": [
    {
     "name": "stdout",
     "output_type": "stream",
     "text": [
      "5\n"
     ]
    }
   ],
   "source": [
    "# even\n",
    "ls = [7,3,5,1]\n",
    "# 1 3 5 7\n",
    "print(st.median_high(ls)) # 5"
   ]
  },
  {
   "cell_type": "code",
   "execution_count": 37,
   "metadata": {},
   "outputs": [
    {
     "name": "stdout",
     "output_type": "stream",
     "text": [
      "5\n"
     ]
    }
   ],
   "source": [
    "# mode ..\n",
    "'''\n",
    "the most frequent elements\n",
    "'''\n",
    "ls = [7,3,5,5,5,5,1,6]\n",
    "print(st.mode(ls)) # 5 "
   ]
  },
  {
   "cell_type": "code",
   "execution_count": 41,
   "metadata": {},
   "outputs": [
    {
     "name": "stdout",
     "output_type": "stream",
     "text": [
      "136.44665957468843\n"
     ]
    }
   ],
   "source": [
    "# stdev .. s\n",
    "'''\n",
    "Rule : \n",
    "    x' => x dash => mean\n",
    "    stdev = root(sum((x - x')**2) / n - 1)\n",
    "'''\n",
    "# class1 = [1,3,1,0,3,2,1]\n",
    "# print(st.stdev(class1)) # 1.1338934190276817\n",
    "\n",
    "# class3 = [100,98,97,96,101,103]\n",
    "# print(st.stdev(class3)) # 2.6394443859772205\n",
    "\n",
    "# class2 = [1,3,5,455,0,6,101,180,115,20,50]\n",
    "# print(st.stdev(class2)) # 61.17917054922295"
   ]
  },
  {
   "cell_type": "code",
   "execution_count": 42,
   "metadata": {},
   "outputs": [
    {
     "name": "stdout",
     "output_type": "stream",
     "text": [
      "1138.6666666666667\n"
     ]
    }
   ],
   "source": [
    "# variance .. s**2\n",
    "'''\n",
    "with rule :\n",
    "    x' => x dash => mean\n",
    "    s**2 = sum((x - x')**2) / N - 1\n",
    "'''\n",
    "ls = [1,-25,-10,50,60,10]\n",
    "print(st.variance(ls)) # 1138.6666666666667"
   ]
  },
  {
   "cell_type": "code",
   "execution_count": null,
   "metadata": {},
   "outputs": [],
   "source": []
  }
 ],
 "metadata": {
  "kernelspec": {
   "display_name": "Python 3",
   "language": "python",
   "name": "python3"
  },
  "language_info": {
   "codemirror_mode": {
    "name": "ipython",
    "version": 3
   },
   "file_extension": ".py",
   "mimetype": "text/x-python",
   "name": "python",
   "nbconvert_exporter": "python",
   "pygments_lexer": "ipython3",
   "version": "3.10.8"
  },
  "orig_nbformat": 4,
  "vscode": {
   "interpreter": {
    "hash": "ab58cbacd942ca503049d3378ed1180a79e5c5d17c40fd38c92a577d131c0358"
   }
  }
 },
 "nbformat": 4,
 "nbformat_minor": 2
}
