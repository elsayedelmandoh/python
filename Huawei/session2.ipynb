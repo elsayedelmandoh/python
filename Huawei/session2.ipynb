{
 "cells": [
  {
   "attachments": {},
   "cell_type": "markdown",
   "metadata": {},
   "source": [
    "## 5. List \n",
    "## 6. Tuple \n",
    "## 7. set \n",
    "## 8. Dict\n",
    "## 9. if\n",
    "## 10. for\n",
    "## 11. while\n",
    "## 12. function"
   ]
  },
  {
   "attachments": {},
   "cell_type": "markdown",
   "metadata": {},
   "source": [
    "### 5.0 List\n",
    "+ represented by square bracket []\n",
    "+ List allows duplicate elements\n",
    "+ List are Mutable >> Can make any changes with index\n",
    "+ List are ordered >> Can access elements with index"
   ]
  },
  {
   "attachments": {},
   "cell_type": "markdown",
   "metadata": {},
   "source": [
    "#### 5.1 List with different datatype "
   ]
  },
  {
   "cell_type": "code",
   "execution_count": null,
   "metadata": {},
   "outputs": [],
   "source": [
    "# Create list from different data type\n",
    "lst = [1, \"Elsayed\", True , 3.5 , [2,4,6]]"
   ]
  },
  {
   "attachments": {},
   "cell_type": "markdown",
   "metadata": {},
   "source": [
    "#### 5.2 List allows duplicate elements"
   ]
  },
  {
   "cell_type": "code",
   "execution_count": null,
   "metadata": {},
   "outputs": [],
   "source": [
    "lst2 = [1,2,3,3,3,4,4,5,6]\n",
    "print(lst2) # [1,2,3,3,3,4,4,5,6]"
   ]
  },
  {
   "attachments": {},
   "cell_type": "markdown",
   "metadata": {},
   "source": [
    "#### 5.3 List is mutable >> Can make any changes with index"
   ]
  },
  {
   "cell_type": "code",
   "execution_count": null,
   "metadata": {},
   "outputs": [],
   "source": [
    "lst[2] = False\n",
    "print(lst) # [1, \"Elsayed\", False , 3.5 , [2,4,6]]\n",
    "\n",
    "lst[0:2] = [] \n",
    "print(lst) # [False , 3.5 , [2,4,6]]"
   ]
  },
  {
   "attachments": {},
   "cell_type": "markdown",
   "metadata": {},
   "source": [
    "#### 5.4 List is ordered >> Can access elements with index"
   ]
  },
  {
   "cell_type": "code",
   "execution_count": null,
   "metadata": {},
   "outputs": [],
   "source": [
    "lst = [1, \"Elsayed\", True , 3.5 , [2,4,6]]\n",
    "\n",
    "print(lst[0]) # 1\n",
    "print(lst[-1]) # [2,4,6]"
   ]
  },
  {
   "cell_type": "code",
   "execution_count": null,
   "metadata": {},
   "outputs": [],
   "source": [
    "# 2D\n",
    "print(lst[4][2]) # 6"
   ]
  },
  {
   "cell_type": "code",
   "execution_count": null,
   "metadata": {},
   "outputs": [],
   "source": [
    "# supoort slicin ..\n",
    "print(lst[1:4]) [\"Elsayed\", True, 3.5]"
   ]
  },
  {
   "attachments": {},
   "cell_type": "markdown",
   "metadata": {},
   "source": [
    "#### 5.5 Methods List"
   ]
  },
  {
   "attachments": {},
   "cell_type": "markdown",
   "metadata": {},
   "source": [
    "##### append()"
   ]
  },
  {
   "cell_type": "code",
   "execution_count": null,
   "metadata": {},
   "outputs": [],
   "source": [
    "lst = [1, \"Elsayed\", True , 3.5 , [2,4,6], 34]\n",
    "lst.append(11)\n",
    "print(lst) # [1, \"Elsayed\", True , 3.5 , [2,4,6], 34, 11]"
   ]
  },
  {
   "cell_type": "code",
   "execution_count": null,
   "metadata": {},
   "outputs": [],
   "source": [
    "lst = [1, \"Elsayed\", True , 3.5 , [2,4,6], 34]\n",
    "newlst= [1,2]\n",
    "\n",
    "lst.append(newlst) \n",
    "print(lst) # [1, \"Elsayed\", True , 3.5 , [2,4,6], 34, 11, [1,2]]"
   ]
  },
  {
   "attachments": {},
   "cell_type": "markdown",
   "metadata": {},
   "source": [
    "##### extend()"
   ]
  },
  {
   "cell_type": "code",
   "execution_count": null,
   "metadata": {},
   "outputs": [],
   "source": [
    "lst = [1, \"Elsayed\", True , 3.5 , [2,4,6], 34]\n",
    "newlst= [1,2]\n",
    "\n",
    "lst.extend(newlst)\n",
    "print(lst) # [1, \"Elsayed\", True , 3.5 , [2,4,6], 34, 1, 2]"
   ]
  },
  {
   "attachments": {},
   "cell_type": "markdown",
   "metadata": {},
   "source": [
    "##### remove()"
   ]
  },
  {
   "cell_type": "code",
   "execution_count": null,
   "metadata": {},
   "outputs": [],
   "source": [
    "lst = [1, \"Elsayed\", True ,[2,4,6], 7]\n",
    "lst.remove(7)\n",
    "print(lst) # [1, 'Elsayed', True, [2, 4, 6]]"
   ]
  },
  {
   "attachments": {},
   "cell_type": "markdown",
   "metadata": {},
   "source": [
    "##### pop()"
   ]
  },
  {
   "cell_type": "code",
   "execution_count": null,
   "metadata": {},
   "outputs": [],
   "source": [
    "# pop() : remove and return last element\n",
    "po = [1,2,24,5]\n",
    "x = po.pop()\n",
    "print(x) # 5\n",
    "print(po) # [1,2,24]"
   ]
  },
  {
   "attachments": {},
   "cell_type": "markdown",
   "metadata": {},
   "source": [
    "##### sort()"
   ]
  },
  {
   "cell_type": "code",
   "execution_count": null,
   "metadata": {},
   "outputs": [],
   "source": [
    "lst = [4,5,6,7,6,2]\n",
    "lst.sort()\n",
    "print(lst) # [2, 4, 5, 6, 6, 7]"
   ]
  },
  {
   "cell_type": "code",
   "execution_count": null,
   "metadata": {},
   "outputs": [],
   "source": [
    "lst = [4,5,6,7,6,2]\n",
    "lst.sort(reverse=True)\n",
    "print(lst) # [7, 6, 6, 5, 4, 2]"
   ]
  },
  {
   "attachments": {},
   "cell_type": "markdown",
   "metadata": {},
   "source": [
    "##### reverse()"
   ]
  },
  {
   "cell_type": "code",
   "execution_count": null,
   "metadata": {},
   "outputs": [],
   "source": [
    "lst = [5,6,7,1,'c','Z']\n",
    "lst.reverse()\n",
    "print(lst)"
   ]
  },
  {
   "attachments": {},
   "cell_type": "markdown",
   "metadata": {},
   "source": [
    "##### clear()"
   ]
  },
  {
   "cell_type": "code",
   "execution_count": null,
   "metadata": {},
   "outputs": [],
   "source": [
    "a = [2,3,5,6]\n",
    "a.clear()\n",
    "print(a)"
   ]
  },
  {
   "attachments": {},
   "cell_type": "markdown",
   "metadata": {},
   "source": [
    "##### copy()"
   ]
  },
  {
   "cell_type": "code",
   "execution_count": null,
   "metadata": {},
   "outputs": [],
   "source": [
    "co = [2,5,6]\n",
    "coplist = co.copy()\n",
    "print(co) # [2,5,6]\n",
    "print(coplist) # [2,5,6]"
   ]
  },
  {
   "attachments": {},
   "cell_type": "markdown",
   "metadata": {},
   "source": [
    "##### count()"
   ]
  },
  {
   "cell_type": "code",
   "execution_count": null,
   "metadata": {},
   "outputs": [],
   "source": [
    "cou = [1,2,3,4,4,4]\n",
    "print(cou.count(4)) "
   ]
  },
  {
   "attachments": {},
   "cell_type": "markdown",
   "metadata": {},
   "source": [
    "##### index()"
   ]
  },
  {
   "cell_type": "code",
   "execution_count": null,
   "metadata": {},
   "outputs": [],
   "source": [
    "ind = [1,3,4,4,5,\"Elsayed\"]\n",
    "print(ind.index(\"Elsayed\")) # 5\n",
    "# if element is not found return 'Error'"
   ]
  },
  {
   "attachments": {},
   "cell_type": "markdown",
   "metadata": {},
   "source": [
    "##### insert()"
   ]
  },
  {
   "cell_type": "code",
   "execution_count": null,
   "metadata": {},
   "outputs": [],
   "source": [
    "ins = [2,4,5,6]\n",
    "ins.insert(0,\"aa\") # [\"aa\",2,4,5,6]\n",
    "print(ins)"
   ]
  },
  {
   "attachments": {},
   "cell_type": "markdown",
   "metadata": {},
   "source": [
    "### 6.0 Tuple\n",
    "+ Represented by brackets ( )\n",
    "+ Tuple allows duplicate elements\n",
    "+ Tuple  is immutable >> Can't make any changes with index\n",
    "+ Tuple is ordered >> Can access elements with index"
   ]
  },
  {
   "attachments": {},
   "cell_type": "markdown",
   "metadata": {},
   "source": [
    "#### 6.1 Tuple with different datatype "
   ]
  },
  {
   "cell_type": "code",
   "execution_count": null,
   "metadata": {},
   "outputs": [],
   "source": [
    "tup = (\"Hello\",5,True,7.5,8)\n",
    "print(tup)"
   ]
  },
  {
   "attachments": {},
   "cell_type": "markdown",
   "metadata": {},
   "source": [
    "#### 6.2 Tuple allows duplicate elements"
   ]
  },
  {
   "cell_type": "code",
   "execution_count": null,
   "metadata": {},
   "outputs": [],
   "source": [
    "tup = (1,2,3,3,3,4)\n",
    "print(tup) # (1, 2, 3, 3, 3, 4)"
   ]
  },
  {
   "attachments": {},
   "cell_type": "markdown",
   "metadata": {},
   "source": [
    "#### 6.3 Tuple is immutable >> Can't make any changes with index"
   ]
  },
  {
   "cell_type": "code",
   "execution_count": null,
   "metadata": {},
   "outputs": [],
   "source": [
    "tup = (True,3,\"Hello\",8.5)\n",
    "# tup[1] = 5"
   ]
  },
  {
   "attachments": {},
   "cell_type": "markdown",
   "metadata": {},
   "source": [
    "#### 6.4 Tuple is ordered >> Can access elements with index"
   ]
  },
  {
   "cell_type": "code",
   "execution_count": null,
   "metadata": {},
   "outputs": [],
   "source": [
    "tup = (3,4,5,6,7,9,8)\n",
    "print(tup[3]) # 6\n",
    "print(tup[-2]) # 9"
   ]
  },
  {
   "attachments": {},
   "cell_type": "markdown",
   "metadata": {},
   "source": [
    "### 7.0 Set\n",
    "+ Represented by curly brackets { }\n",
    "+ Set doesn’t allow duplicate elements\n",
    "+ Set is immutable >> Can't make any changes with index\n",
    "+ Set is unordered >> Can't access elements with index"
   ]
  },
  {
   "attachments": {},
   "cell_type": "markdown",
   "metadata": {},
   "source": [
    "#### 7.1 Set with different datatype "
   ]
  },
  {
   "cell_type": "code",
   "execution_count": null,
   "metadata": {},
   "outputs": [],
   "source": [
    "st = {1, 6.5 , False ,'Hello'}"
   ]
  },
  {
   "attachments": {},
   "cell_type": "markdown",
   "metadata": {},
   "source": [
    "#### 7.2 Set doesn’t allow duplicate elements"
   ]
  },
  {
   "cell_type": "code",
   "execution_count": null,
   "metadata": {},
   "outputs": [],
   "source": [
    "st = {1,\"hello\",6,6,6,6,6}\n",
    "print(st)"
   ]
  },
  {
   "attachments": {},
   "cell_type": "markdown",
   "metadata": {},
   "source": [
    "#### 7.3 Set is immutable >> Can't make any changes with index"
   ]
  },
  {
   "cell_type": "code",
   "execution_count": null,
   "metadata": {},
   "outputs": [],
   "source": [
    "st = {1,\"rio\",6,4.6,5}\n",
    "# st[2] = 5  # 'set' object does not support item assignment"
   ]
  },
  {
   "attachments": {},
   "cell_type": "markdown",
   "metadata": {},
   "source": [
    "#### 7.4 Set is unordered >> Can't access elements with index"
   ]
  },
  {
   "cell_type": "code",
   "execution_count": null,
   "metadata": {},
   "outputs": [],
   "source": [
    "st = {1,\"rio\",6,4.6,5}\n",
    "# print(st[2]) # 'set' object is not subscriptable"
   ]
  },
  {
   "attachments": {},
   "cell_type": "markdown",
   "metadata": {},
   "source": [
    "#### 7.5 Methods Set"
   ]
  },
  {
   "attachments": {},
   "cell_type": "markdown",
   "metadata": {},
   "source": [
    "#### add "
   ]
  },
  {
   "cell_type": "code",
   "execution_count": null,
   "metadata": {},
   "outputs": [],
   "source": [
    "st = {1, \"rio\", 6, 5, 6}\n",
    "st.add(7)\n",
    "print(st)"
   ]
  },
  {
   "attachments": {},
   "cell_type": "markdown",
   "metadata": {},
   "source": [
    "# remove()"
   ]
  },
  {
   "cell_type": "code",
   "execution_count": null,
   "metadata": {},
   "outputs": [],
   "source": [
    "st={1,2,3,4}\n",
    "st.remove(2) # remove 2\n",
    "print(st) # {1, 3, 4}\n",
    "# st.remove(7) # Error , 7 not found"
   ]
  },
  {
   "attachments": {},
   "cell_type": "markdown",
   "metadata": {},
   "source": [
    "# discard()"
   ]
  },
  {
   "cell_type": "code",
   "execution_count": null,
   "metadata": {},
   "outputs": [],
   "source": [
    "st={1,2,3,4}\n",
    "st.discard(1) # remove 1\n",
    "st.discard(7) # not error\n",
    "print(st) # {2, 3, 4}"
   ]
  },
  {
   "attachments": {},
   "cell_type": "markdown",
   "metadata": {},
   "source": [
    "### 8.0 Dictionary\n",
    "+ Represented by curly brackets  { }\n",
    "+ Dictionary doesn’t allow duplicate keys\n",
    "+ Dictionary is mutable >> Can make any changes with key\n",
    "+ Dictionary is ordered >> Can access elements with key"
   ]
  },
  {
   "attachments": {},
   "cell_type": "markdown",
   "metadata": {},
   "source": [
    "#### 8.1 Dictionary with different datatype "
   ]
  },
  {
   "cell_type": "code",
   "execution_count": null,
   "metadata": {},
   "outputs": [],
   "source": [
    "# key is immutable > [string, number, tuple]\n",
    "# value is any data type\n",
    "\n",
    "data = {\"name\":\"Elsayed\",\n",
    "2: 'Two',\n",
    "(\"gender\",\"age\") : [\"male\",20]}"
   ]
  },
  {
   "attachments": {},
   "cell_type": "markdown",
   "metadata": {},
   "source": [
    "#### 8.2 Dictionary doesn’t allow duplicate keys"
   ]
  },
  {
   "cell_type": "code",
   "execution_count": null,
   "metadata": {},
   "outputs": [],
   "source": [
    "data = {\"name\": \"Elsayed\",\n",
    "2: 'Two',\n",
    "(\"gender\",\"age\") : [\"male\",20],\n",
    "\"name\": \"Ahmed\"}\n",
    "\n",
    "print(len(data))\n",
    "print(data)"
   ]
  },
  {
   "attachments": {},
   "cell_type": "markdown",
   "metadata": {},
   "source": [
    "#### 8.3 Dictionary is mutable >> Can make any changes with key"
   ]
  },
  {
   "cell_type": "code",
   "execution_count": null,
   "metadata": {},
   "outputs": [],
   "source": [
    "data = {\"name\":\"Elsayed\",\n",
    "2: 'Two',\n",
    "(\"gender\",\"age\") : [\"male\",20]}\n",
    "\n",
    "data[\"name\"] = 'Ali'\n",
    "print(data)"
   ]
  },
  {
   "attachments": {},
   "cell_type": "markdown",
   "metadata": {},
   "source": [
    "#### 8.4 Dictionary is ordered >> Can access elements with key"
   ]
  },
  {
   "cell_type": "code",
   "execution_count": null,
   "metadata": {},
   "outputs": [],
   "source": [
    "# Dictionary is \" ordered\" To use index you can use key as index to element,\n",
    "data = {\"name\":\"Elsayed\",\n",
    "2: 'Two',\n",
    "(\"gender\",\"age\") : [\"male\",20]}\n",
    "\n",
    "print(data[\"name\"]) # Elsayed   "
   ]
  },
  {
   "attachments": {},
   "cell_type": "markdown",
   "metadata": {},
   "source": [
    "#### 8.5 Methods Dictionary"
   ]
  },
  {
   "attachments": {},
   "cell_type": "markdown",
   "metadata": {},
   "source": [
    "##### update()"
   ]
  },
  {
   "cell_type": "code",
   "execution_count": null,
   "metadata": {},
   "outputs": [],
   "source": [
    "# add data\n",
    "member={ \n",
    "   \"name\":\"Elsayed\"\n",
    "}\n",
    "\n",
    "member[\"age\"]=36\n",
    "print(member) # {'name': 'Osama', 'age': 36}\n",
    "\n",
    "member.update({\"id\":4865}) # update existing key or add new key\n",
    "print(member)"
   ]
  },
  {
   "attachments": {},
   "cell_type": "markdown",
   "metadata": {},
   "source": [
    "##### get()"
   ]
  },
  {
   "cell_type": "code",
   "execution_count": null,
   "metadata": {},
   "outputs": [],
   "source": [
    "# to print data\n",
    "data = {\"name\":\"Elsayed\",\n",
    "2: 'Two',\n",
    "(\"gender\",\"age\") : [\"male\",20]}\n",
    "\n",
    "print(data[\"name\"]) # Elsayed   \n",
    "print(data.get(\"name\")) # Elsayed"
   ]
  },
  {
   "attachments": {},
   "cell_type": "markdown",
   "metadata": {},
   "source": [
    "##### keys()"
   ]
  },
  {
   "cell_type": "code",
   "execution_count": null,
   "metadata": {},
   "outputs": [],
   "source": [
    "# to show keys\n",
    "data = {\"name\":\"Elsayed\",\n",
    "2: 'Two',\n",
    "(\"gender\",\"age\") : [\"male\",20]}\n",
    "\n",
    "data.keys()"
   ]
  },
  {
   "attachments": {},
   "cell_type": "markdown",
   "metadata": {},
   "source": [
    "##### values()"
   ]
  },
  {
   "cell_type": "code",
   "execution_count": null,
   "metadata": {},
   "outputs": [],
   "source": [
    "# to show values\n",
    "data = {\"name\":\"Elsayed\",\n",
    "2: 'Two',\n",
    "(\"gender\",\"age\") : [\"male\",20]}\n",
    "\n",
    "print(data.values())\n"
   ]
  },
  {
   "attachments": {},
   "cell_type": "markdown",
   "metadata": {},
   "source": [
    "##### items()"
   ]
  },
  {
   "cell_type": "code",
   "execution_count": null,
   "metadata": {},
   "outputs": [],
   "source": [
    "# to show keys and values\n",
    "data = {\"name\":\"Elsayed\",\n",
    "2: 'Two',\n",
    "(\"gender\",\"age\") : [\"male\",20]}\n",
    "\n",
    "print(data.items())"
   ]
  },
  {
   "attachments": {},
   "cell_type": "markdown",
   "metadata": {},
   "source": [
    "#### 9.0 iF"
   ]
  },
  {
   "cell_type": "code",
   "execution_count": null,
   "metadata": {},
   "outputs": [],
   "source": [
    "grade = 70\n",
    "\n",
    "if grade > 85 or grade == 85 :\n",
    "    print('A')\n",
    "elif grade >= 70:\n",
    "    print('B')\n",
    "elif grade >= 65:\n",
    "    print('C')\n",
    "elif grade < 65 and grade >= 50:\n",
    "    print('D')\n",
    "else:\n",
    "    print(\"Great you Failed :)\")"
   ]
  },
  {
   "cell_type": "code",
   "execution_count": null,
   "metadata": {},
   "outputs": [],
   "source": [
    "# if on one line\n",
    "code = input(\"Found Error ? (y/n): \").strip().lower()\n",
    "print(\"Hello World\" if code == 'n' else \"No hello\")"
   ]
  },
  {
   "attachments": {},
   "cell_type": "markdown",
   "metadata": {},
   "source": [
    "#### 10.0 For"
   ]
  },
  {
   "cell_type": "code",
   "execution_count": null,
   "metadata": {},
   "outputs": [],
   "source": [
    "for i in range(5,11):\n",
    "    print(i)\n",
    "else:\n",
    "    print('Done')"
   ]
  },
  {
   "cell_type": "code",
   "execution_count": null,
   "metadata": {},
   "outputs": [],
   "source": [
    "for i in range(10,20,2) :\n",
    "    print(i)"
   ]
  },
  {
   "cell_type": "code",
   "execution_count": null,
   "metadata": {},
   "outputs": [],
   "source": [
    "lst = [1, \"Elsayed\", True , 3.5 , [2,4,6]]\n",
    "\n",
    "for i in lst:\n",
    "    print(i)"
   ]
  },
  {
   "cell_type": "code",
   "execution_count": null,
   "metadata": {},
   "outputs": [],
   "source": [
    "# enumerate : add count to list\n",
    "lst = [\"Zero\",\"One\", \"Two\", \"Three\" , \"Four\"]\n",
    "\n",
    "for count,element in enumerate(lst):\n",
    "    print(f'{count}- {element} ')\n",
    "else:\n",
    "    print('Done')"
   ]
  },
  {
   "cell_type": "code",
   "execution_count": null,
   "metadata": {},
   "outputs": [],
   "source": [
    "# enumerate : add count to list\n",
    "lst = [\"Zero\",\"One\", \"Two\", \"Three\" , \"Four\"]\n",
    "\n",
    "for count,element in enumerate(lst,5):\n",
    "    print(f'{count}- {element} ')\n",
    "else:\n",
    "    print('Done')"
   ]
  },
  {
   "cell_type": "code",
   "execution_count": null,
   "metadata": {},
   "outputs": [],
   "source": [
    "# merge two lists\n",
    "lst1 = [0,1,2,3,4]\n",
    "lst2 = [\"Zero\",\"One\", \"Two\", \"Three\" , \"Four\"]\n",
    "\n",
    "for l1, l2 in zip(lst1, lst2):\n",
    "    print(f'{l1}- {l2}')\n",
    "else:\n",
    "    print('Done')"
   ]
  },
  {
   "attachments": {},
   "cell_type": "markdown",
   "metadata": {},
   "source": [
    "#### 11.0 While"
   ]
  },
  {
   "cell_type": "code",
   "execution_count": null,
   "metadata": {},
   "outputs": [],
   "source": [
    "n = int(input(\"Enter number: \"))\n",
    "\n",
    "while n <= 10:\n",
    "    print(n)\n",
    "    n +=1\n",
    "else:\n",
    "    print(\"Done\")"
   ]
  },
  {
   "cell_type": "code",
   "execution_count": null,
   "metadata": {},
   "outputs": [],
   "source": [
    "# break\n",
    "n = 4\n",
    "\n",
    "while n <= 10:\n",
    "\n",
    "    if n == 6:\n",
    "        break\n",
    "    \n",
    "    print(n)\n",
    "    n +=1\n",
    "else:\n",
    "    print(\"Done\")"
   ]
  },
  {
   "cell_type": "code",
   "execution_count": null,
   "metadata": {},
   "outputs": [],
   "source": [
    "# continue\n",
    "n = 6\n",
    "\n",
    "while n < 10:\n",
    "    n +=1\n",
    "\n",
    "    if n % 2 == 0:\n",
    "        continue\n",
    "    \n",
    "    print(n)\n",
    "else:\n",
    "    print(\"Done\")"
   ]
  },
  {
   "attachments": {},
   "cell_type": "markdown",
   "metadata": {},
   "source": [
    "#### 12.0 Function\n",
    "+ use def to create function.."
   ]
  },
  {
   "cell_type": "code",
   "execution_count": null,
   "metadata": {},
   "outputs": [],
   "source": [
    "def sum(n1, n2):\n",
    "    print(n1+n2)\n",
    "\n",
    "sum(5,7)"
   ]
  },
  {
   "cell_type": "code",
   "execution_count": null,
   "metadata": {},
   "outputs": [],
   "source": [
    "def mul(n1, n2, n3):\n",
    "    return n1 * n2 * n3\n",
    "\n",
    "print(mul(7,5,2))"
   ]
  },
  {
   "cell_type": "code",
   "execution_count": null,
   "metadata": {},
   "outputs": [],
   "source": [
    "# unlimited args\n",
    "\n",
    "def avg(*n):\n",
    "    sum = 0\n",
    "    for i in n:\n",
    "        sum += i\n",
    "    return sum/ len(n)\n",
    "\n",
    "print(avg(7,5,2,4))"
   ]
  },
  {
   "cell_type": "code",
   "execution_count": null,
   "metadata": {},
   "outputs": [],
   "source": [
    "# unlimited args List or tuple\n",
    "\n",
    "def avg(*n):\n",
    "    sum = 0\n",
    "    for i in n:\n",
    "        sum += i\n",
    "    return sum/ len(n)\n",
    "\n",
    "tup = (1,2,3,3,3,4)\n",
    "print(avg(*tup))\n",
    "print(16/6)"
   ]
  },
  {
   "cell_type": "code",
   "execution_count": null,
   "metadata": {},
   "outputs": [],
   "source": [
    "# unlimited args Dict\n",
    "\n",
    "def dict(id,level,name):\n",
    "    print(f\"{id}\")\n",
    "    print(f\"{name}\")\n",
    "    print(f\"{level}\")\n",
    "    \n",
    "data = {\"name\":\"Elsayed\",\n",
    "\"id\": 215,\n",
    "\"level\" : 3}\n",
    "dict(**data)"
   ]
  },
  {
   "cell_type": "code",
   "execution_count": null,
   "metadata": {},
   "outputs": [],
   "source": [
    "# default args\n",
    "\n",
    "def dict(id,level,name,uni=\"ERU\"):\n",
    "    print(f\"{id}\")\n",
    "    print(f\"{name}\")\n",
    "    print(f\"{level}\")\n",
    "    # print(f\"{uni}\")\n",
    "    \n",
    "data = {\"name\":\"Elsayed\",\n",
    "\"id\": 215,\n",
    "\"level\" : 3}\n",
    "dict(**data)"
   ]
  },
  {
   "cell_type": "code",
   "execution_count": null,
   "metadata": {},
   "outputs": [],
   "source": [
    "# lambda\n",
    "\n",
    "square = lambda x , y: x * y\n",
    "\n",
    "a = []\n",
    "for i in range(3):\n",
    "   a.append(square(i , i+1))\n",
    "\n",
    "print(a)"
   ]
  }
 ],
 "metadata": {
  "kernelspec": {
   "display_name": "Python 3",
   "language": "python",
   "name": "python3"
  },
  "language_info": {
   "codemirror_mode": {
    "name": "ipython",
    "version": 3
   },
   "file_extension": ".py",
   "mimetype": "text/x-python",
   "name": "python",
   "nbconvert_exporter": "python",
   "pygments_lexer": "ipython3",
   "version": "3.10.8"
  },
  "orig_nbformat": 4,
  "vscode": {
   "interpreter": {
    "hash": "ab58cbacd942ca503049d3378ed1180a79e5c5d17c40fd38c92a577d131c0358"
   }
  }
 },
 "nbformat": 4,
 "nbformat_minor": 2
}
