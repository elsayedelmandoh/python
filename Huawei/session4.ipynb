{
 "cells": [
  {
   "attachments": {},
   "cell_type": "markdown",
   "metadata": {},
   "source": [
    "+ download file in colab"
   ]
  },
  {
   "cell_type": "code",
   "execution_count": null,
   "metadata": {},
   "outputs": [],
   "source": [
    "# romiassaa three point\n",
    "# yousef emad two\n",
    "# kareem 1\n",
    "# abdullah 1 \n",
    "# akram 2\n",
    "\n",
    "class Car:\n",
    "    # class attribute\n",
    "    wheels = 4\n",
    "    count_cars = 0\n",
    "\n",
    "    # lazm parameter 2bl default parameter\n",
    "    def __init__(self, company , color, length = 15):\n",
    "        # object attribute\n",
    "        self.company = company\n",
    "        self.color = 'yellow'\n",
    "        self.length = length\n",
    "        Car.count_cars += 1\n",
    "    \n",
    "    # use attribute in method\n",
    "    def do_action(self, action): # stop or move\n",
    "        print(action) # \n",
    "        action = action.lower()\n",
    "        print(action) # \n",
    "\n",
    "        if action == 'move':\n",
    "            return f\"{action} {self.company}\"\n",
    "        elif action == 'stop':\n",
    "            return f\"{action} {self.company}\"\n",
    "        else:\n",
    "            return f\"aywa ana a3ml eyh ?!\"\n",
    "    \n",
    "    @classmethod\n",
    "    def show_cars_count(cls):\n",
    "        return f\"You have {cls.count_cars} car\""
   ]
  },
  {
   "cell_type": "code",
   "execution_count": null,
   "metadata": {},
   "outputs": [],
   "source": [
    "bmw = Car(\"bmw\", \"green\", 20)\n",
    "bmw.color = 'red'\n",
    "print(bmw.color)"
   ]
  },
  {
   "cell_type": "code",
   "execution_count": null,
   "metadata": {},
   "outputs": [],
   "source": [
    "# stop != STOP\n",
    "tsla = Car(\"tesla\", \"white\", 15)\n",
    "print(tsla.do_action(\"STOP\"))"
   ]
  },
  {
   "cell_type": "code",
   "execution_count": null,
   "metadata": {},
   "outputs": [],
   "source": [
    "mercedes = Car(\"mercedes\", \"black\", 18)\n",
    "print(mercedes.do_action(\"Move\"))"
   ]
  },
  {
   "cell_type": "code",
   "execution_count": null,
   "metadata": {},
   "outputs": [],
   "source": [
    "print(bmw.do_action(\"stp\"))"
   ]
  },
  {
   "cell_type": "code",
   "execution_count": null,
   "metadata": {},
   "outputs": [],
   "source": [
    "Car.show_cars_count()"
   ]
  },
  {
   "cell_type": "code",
   "execution_count": null,
   "metadata": {},
   "outputs": [],
   "source": [
    "# next session with points :)\n",
    "\n",
    "class Car:\n",
    "    # class attribute\n",
    "    wheels = 4\n",
    "    count_cars = 0\n",
    "\n",
    "    def __init__(self, company , color, length = 15):\n",
    "        # object attribute\n",
    "        self.company = company\n",
    "        self.color = color\n",
    "        self.length = length\n",
    "        Car.count_cars += 1\n",
    "\n",
    "    def move(self):\n",
    "        ''' Take input from user and call function do action that return action'''\n",
    "        inp_user = input(\"Enter Action:\")\n",
    "        return self.do_action(inp_user)\n",
    "\n",
    "    # use attribute in method\n",
    "    def do_action(self, action): # stop or move\n",
    "        '''take parameter action and return move or stop or otherwise .'''\n",
    "\n",
    "        action = action.lower()\n",
    "        print(action)\n",
    "\n",
    "        if action == 'move':\n",
    "            return f\"{action} {self.company}\"\n",
    "        elif action == 'stop':\n",
    "            return f\"{action} {self.company}\"\n",
    "        else:\n",
    "            return f\"{action} {self.company}\"\n",
    "\n",
    "    @classmethod\n",
    "    def show_cars_count(cls):\n",
    "        return f\"You have {cls.count_cars} car\"\n",
    "\n",
    "    def all_info(self):\n",
    "        '''\n",
    "        get info about object.\n",
    "        '''\n",
    "        return f\"Your company is {self.company}\\nYour color is {self.color}\\tand length = {self.length}\\nHas {Car.wheels} wheels\\nAction is {self.move()}\\nCount cars = {Car.show_cars_count()}\""
   ]
  },
  {
   "cell_type": "code",
   "execution_count": null,
   "metadata": {},
   "outputs": [],
   "source": [
    "bmw = Car(\"bmw\", \"green\")\n",
    "print(bmw.all_info())"
   ]
  },
  {
   "attachments": {},
   "cell_type": "markdown",
   "metadata": {},
   "source": [
    "## 13. Features of OOP or Object Oriented Programming:\n",
    "+ Why OOP ? :(\n",
    "+ Class & Object :(\n",
    "+ Inheritance :)\n",
    "+ Polymorphism :)\n",
    "+ Encapsulation :)\n",
    "+ Abstract :)"
   ]
  },
  {
   "attachments": {},
   "cell_type": "markdown",
   "metadata": {},
   "source": [
    "### 2. Inheritance\n",
    "+ pass parameter base class_name \n",
    "+ with classname() or with super()"
   ]
  },
  {
   "cell_type": "code",
   "execution_count": null,
   "metadata": {},
   "outputs": [],
   "source": [
    "# Base class\n",
    "class User:\n",
    "    def __init__(self,name, age):\n",
    "        self.name = name\n",
    "        self.age = age\n",
    "    \n",
    "    def welcom(self):\n",
    "        return f\"Welcome {self.name}\"\n",
    "\n",
    "# sub class\n",
    "class Student(User):\n",
    "    def __init__(self, name, age):\n",
    "        # classname.__init__(self, other_data)\n",
    "        # User.__init__(self, name, age)\n",
    "\n",
    "        # super().__init__(other_data)\n",
    "        super().__init__(name, age)\n",
    "\n",
    "        # not inheritance\n",
    "        # self.name = name\n",
    "        # self.name = name\n",
    "\n",
    "# create object\n",
    "user_one = User(\"ahmed\",25)\n",
    "student_one = Student(\"Elsayed\", 20)\n",
    "print(student_one.welcom())"
   ]
  },
  {
   "attachments": {},
   "cell_type": "markdown",
   "metadata": {},
   "source": [
    "+ one base , two sub"
   ]
  },
  {
   "cell_type": "code",
   "execution_count": null,
   "metadata": {},
   "outputs": [],
   "source": [
    "# Base class\n",
    "class User:\n",
    "    def __init__(self,name, age):\n",
    "        self.name = name\n",
    "        self.age = age\n",
    "    \n",
    "    def welcom(self):\n",
    "        return f\"Welcome {self.name}\"\n",
    "\n",
    "# sub class\n",
    "class Student(User):\n",
    "    def __init__(self, name, age, level):\n",
    "        super().__init__(name, age)\n",
    "        self.level = level\n",
    "\n",
    "    def get_level(self):\n",
    "        return f\"Level {self.level} \"\n",
    "    \n",
    "# sub class\n",
    "class Admin(User):\n",
    "    def __init__(self, name, age, salary):\n",
    "        super().__init__(name, age)\n",
    "        self.salary = salary\n",
    "    \n",
    "    def work(self):\n",
    "        return f\"Salary = {self.salary} ..\"\n",
    "\n",
    "\n",
    "# create object\n",
    "user_one = User(\"ahmed\",25)\n",
    "student_one = Student(\"Elsayed\", 20, 3)\n",
    "admin_one = Admin(\"Ali\", 20, 5000)\n",
    "print(admin_one.work())"
   ]
  },
  {
   "attachments": {},
   "cell_type": "markdown",
   "metadata": {},
   "source": [
    "+ two base , one sub"
   ]
  },
  {
   "cell_type": "code",
   "execution_count": null,
   "metadata": {},
   "outputs": [],
   "source": [
    "class Base1:\n",
    "    def __init__(self):\n",
    "        print(\"Base 1\")\n",
    "    \n",
    "    def one(self):\n",
    "        return \"one\"\n",
    "\n",
    "class Base2:\n",
    "    def __init__(self):\n",
    "        print(\"Base 2\")\n",
    "\n",
    "    def two(self):\n",
    "        print(\"two\")\n",
    "\n",
    "class Sub1(Base2 , Base1):\n",
    "    def __init__(self):\n",
    "        super().__init__()\n",
    "\n",
    "sb = Sub1()\n",
    "\n",
    "print(sb.one())\n",
    "sb.two()"
   ]
  },
  {
   "attachments": {},
   "cell_type": "markdown",
   "metadata": {},
   "source": [
    "### 3. Polymorphism\n",
    "+ Many Forms"
   ]
  },
  {
   "cell_type": "code",
   "execution_count": null,
   "metadata": {},
   "outputs": [],
   "source": [
    "def sum(x,y):\n",
    "    return x+y\n",
    "\n",
    "def sum(x,y):\n",
    "    return x*y"
   ]
  },
  {
   "cell_type": "code",
   "execution_count": null,
   "metadata": {},
   "outputs": [],
   "source": [
    "# method + : plus and connection\n",
    "\n",
    "# plus\n",
    "print(5 + 10 + 15)\n",
    "\n",
    "# connection\n",
    "print(\"Hello\" + \"python\" + \"hi\")"
   ]
  },
  {
   "cell_type": "code",
   "execution_count": null,
   "metadata": {},
   "outputs": [],
   "source": [
    "# method len()\n",
    "\n",
    "# integer\n",
    "print(len([1,5,9,8,7,6,3]))\n",
    "\n",
    "# chars\n",
    "print(len(\"Helloggggrge\"))\n",
    "\n",
    "# keys \n",
    "print(len({\"name\": \"Elsayed\",\n",
    "           \"level\":3,\n",
    "           \"age\": 20}))\n"
   ]
  },
  {
   "cell_type": "code",
   "execution_count": null,
   "metadata": {},
   "outputs": [],
   "source": [
    "class Calc:\n",
    "    def operation(self,x,y):\n",
    "        pass\n",
    "    \n",
    "class Sum(Calc):\n",
    "    @classmethod\n",
    "    def operation(cls,x,y):\n",
    "        return x + y\n",
    "    \n",
    "class Mul(Calc):\n",
    "    @classmethod\n",
    "    def operation(cls,x,y):\n",
    "        return x * y\n",
    "        \n",
    "# print(Calc.operation(4,5))\n",
    "print(Sum.operation(4,5))\n",
    "\n",
    "print(Mul.operation(4,5))"
   ]
  },
  {
   "cell_type": "code",
   "execution_count": null,
   "metadata": {},
   "outputs": [],
   "source": [
    "import math\n",
    "from math import pi\n",
    "class Circle:\n",
    "    def __init__(self, radius):\n",
    "        self.radius = radius\n",
    "\n",
    "    def area(self):\n",
    "        return pi * self.radius**2"
   ]
  }
 ],
 "metadata": {
  "kernelspec": {
   "display_name": "Python 3",
   "language": "python",
   "name": "python3"
  },
  "language_info": {
   "codemirror_mode": {
    "name": "ipython",
    "version": 3
   },
   "file_extension": ".py",
   "mimetype": "text/x-python",
   "name": "python",
   "nbconvert_exporter": "python",
   "pygments_lexer": "ipython3",
   "version": "3.10.8"
  },
  "orig_nbformat": 4,
  "vscode": {
   "interpreter": {
    "hash": "ab58cbacd942ca503049d3378ed1180a79e5c5d17c40fd38c92a577d131c0358"
   }
  }
 },
 "nbformat": 4,
 "nbformat_minor": 2
}
