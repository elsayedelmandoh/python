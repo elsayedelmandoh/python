{
 "cells": [
  {
   "attachments": {},
   "cell_type": "markdown",
   "metadata": {},
   "source": [
    "# a+\n",
    "1. Append \n",
    "2. read \n",
    "2. not delete old writing\n",
    "3. create new file if it not found"
   ]
  },
  {
   "cell_type": "code",
   "execution_count": null,
   "metadata": {},
   "outputs": [],
   "source": [
    "# yousef 4\n",
    "# akram 2\n",
    "# malak 4\n",
    "# romaissaa 1\n",
    "\n",
    "# two point :)\n",
    "inp = input(\"Say something ..\")\n",
    "file = open(r'd:\\\\Courses\\\\Huawei\\\\ERU\\\\el7ony_bgd\\\\Session8\\\\file.txt','a+')\n",
    "file.write(inp) \n",
    "# file.seek(2)\n",
    "print(file.read()) \n",
    "file.close()"
   ]
  },
  {
   "cell_type": "code",
   "execution_count": null,
   "metadata": {},
   "outputs": [],
   "source": [
    "import statistics as st"
   ]
  },
  {
   "cell_type": "code",
   "execution_count": null,
   "metadata": {},
   "outputs": [],
   "source": [
    "# one point 3la 4.0\n",
    "# even\n",
    "ls = [7,3,5,1] \n",
    "# 1 3 5 7\n",
    "# (3 + 5)/2 = 4\n",
    "print(st.median(ls)) # 4 \n",
    "\n",
    "# //\n",
    "# /"
   ]
  },
  {
   "cell_type": "markdown",
   "metadata": {},
   "source": [
    "# Numpy Module"
   ]
  },
  {
   "cell_type": "markdown",
   "metadata": {},
   "source": [
    "+ numpy for math \n",
    "+ pandas for data\n",
    "+ matlab for grap"
   ]
  },
  {
   "cell_type": "code",
   "execution_count": null,
   "metadata": {},
   "outputs": [],
   "source": [
    "import numpy as np"
   ]
  },
  {
   "cell_type": "code",
   "execution_count": null,
   "metadata": {},
   "outputs": [],
   "source": [
    "'''\n",
    "radian / degree = pi / 180 \n",
    "so ..\n",
    "radian = degree * pi / 180   \n",
    "degree = radian * 180 / pi\n",
    "'''\n",
    "print(np.deg2rad(180))\n",
    "print(np.rad2deg(3.141592653589793))"
   ]
  },
  {
   "cell_type": "code",
   "execution_count": null,
   "metadata": {},
   "outputs": [],
   "source": [
    "# floor \n",
    "print(np.floor(2.7)) # 2\n",
    "print(np.floor(2.3)) # 2"
   ]
  },
  {
   "cell_type": "code",
   "execution_count": null,
   "metadata": {},
   "outputs": [],
   "source": [
    "# ceil \n",
    "print(np.ceil(2.7)) # 3\n",
    "print(np.ceil(2.3)) # 3"
   ]
  },
  {
   "cell_type": "code",
   "execution_count": null,
   "metadata": {},
   "outputs": [],
   "source": [
    "# round \n",
    "'''\n",
    "0.0 to 0.5 are floor\n",
    "0.6 to 0.9 are ceil\n",
    "'''\n",
    "print(np.round(2.0)) # 2\n",
    "print(np.round(2.5)) # 2\n",
    "print(np.round(2.6)) # 3\n",
    "print(np.round(2.9)) # 3"
   ]
  },
  {
   "cell_type": "code",
   "execution_count": null,
   "metadata": {},
   "outputs": [],
   "source": [
    "# modulus \n",
    "# mod(n1,n2) = n1 % n2\n",
    "print(np.mod(31,5)) # 1\n",
    "print(np.mod(5,200)) # "
   ]
  },
  {
   "cell_type": "code",
   "execution_count": null,
   "metadata": {},
   "outputs": [],
   "source": [
    "# power(base,power)\n",
    "print(np.power(2,3)) # 8"
   ]
  },
  {
   "attachments": {},
   "cell_type": "markdown",
   "metadata": {},
   "source": [
    "## Arrays or Matrix\n",
    "+ array : same data type\n",
    "+ list , tuple , set , dict : diff data type"
   ]
  },
  {
   "cell_type": "code",
   "execution_count": null,
   "metadata": {},
   "outputs": [],
   "source": [
    "ls = [1, 2, 'hello', 5, 4]\n",
    "print(ls) \n",
    "print('*'*30)\n",
    "arr = np.array(ls)\n",
    "print(arr)"
   ]
  },
  {
   "cell_type": "code",
   "execution_count": null,
   "metadata": {},
   "outputs": [],
   "source": [
    "ls = [[1,2,3],[4,5,6],[7,8,9]]\n",
    "print(ls) # [[1, 2, 3], [4, 5, 6], [7, 8, 9]]\n",
    "print('*'*30)\n",
    "arr = np.array(ls)\n",
    "print(arr)"
   ]
  },
  {
   "attachments": {},
   "cell_type": "markdown",
   "metadata": {},
   "source": [
    "+ random.random((laayers , row , colum))"
   ]
  },
  {
   "cell_type": "code",
   "execution_count": null,
   "metadata": {},
   "outputs": [],
   "source": [
    "# return matrix form 0 to 1 as matrix 2 layers 3 rows and 4 columns\n",
    "\n",
    "def he(x):\n",
    "    pass\n",
    "x  = [3,3,4]\n",
    "\n",
    "he(x)\n",
    "print(np.random.random((3,3,4,2,5)))"
   ]
  },
  {
   "attachments": {},
   "cell_type": "markdown",
   "metadata": {},
   "source": [
    "+ rand(layers , rows , cols)"
   ]
  },
  {
   "cell_type": "code",
   "execution_count": null,
   "metadata": {},
   "outputs": [],
   "source": [
    "# one points\n",
    "# return matrix form 0 to 1 as matrix 3 layers 4 rows and 2 columns\n",
    "def he(x = 5,y = 6,z = 8):\n",
    "    pass\n",
    "x  = 3\n",
    "y  = 4\n",
    "z  = 2\n",
    "he(x,y,z)\n",
    "\n",
    "\n",
    "print(np.random.rand(4,2))"
   ]
  },
  {
   "attachments": {},
   "cell_type": "markdown",
   "metadata": {},
   "source": [
    "+ random.uniform(low,high,count)"
   ]
  },
  {
   "cell_type": "code",
   "execution_count": null,
   "metadata": {},
   "outputs": [],
   "source": [
    "# return as list\n",
    "\n",
    "print(np.random.uniform(200)) # 1 random numbers from 1 to 9\n",
    "print(np.random.uniform(1,10,5)) # 16 random numbers from 1 to 9"
   ]
  },
  {
   "attachments": {},
   "cell_type": "markdown",
   "metadata": {},
   "source": [
    "+ random.randint(start, end, count)"
   ]
  },
  {
   "cell_type": "code",
   "execution_count": null,
   "metadata": {},
   "outputs": [],
   "source": [
    "# random number from 0 to 199\n",
    "print(np.random.randint(200))\n",
    "\n",
    "# random matrix => 1 rows and 5 columns with numbers numbers from 100 to 199\n",
    "print(np.random.randint(100,200,5))"
   ]
  },
  {
   "cell_type": "code",
   "execution_count": null,
   "metadata": {},
   "outputs": [],
   "source": [
    "# ndim : number of dimensions\n",
    "x = np.random.randint(100,200 , size=5)\n",
    "x.ndim\n",
    "print(np.random.randint(100,200 , size=5)) # vector\n",
    "print(np.random.randint(100,200 , size=5).ndim) "
   ]
  },
  {
   "cell_type": "code",
   "execution_count": null,
   "metadata": {},
   "outputs": [],
   "source": [
    "# random matrix 2 rows and 5 columns with numbers from 100 to 199\n",
    "\n",
    "print(np.random.randint(100,200 , size=(2,5))) \n",
    "print(np.random.randint(100,200 , size=(2,5)).ndim) "
   ]
  },
  {
   "cell_type": "code",
   "execution_count": null,
   "metadata": {},
   "outputs": [],
   "source": [
    "# random matrix 2 layers and 5 rows and 3 columns with numbers from 100 to 199\n",
    "\n",
    "print(np.random.randint(100,200 , size=(2,5,3)))\n",
    "print(np.random.randint(100,200 , size=(2,5,3)).ndim)"
   ]
  },
  {
   "cell_type": "code",
   "execution_count": null,
   "metadata": {},
   "outputs": [],
   "source": [
    "# random matrix 3 layers and 5 rows and 4 columns with numbers from 100 to 199\n",
    "\n",
    "print(np.random.randint(100,200, (3,5,4)))"
   ]
  },
  {
   "attachments": {},
   "cell_type": "markdown",
   "metadata": {},
   "source": [
    "+ reshape(arrays , (rows,columns))"
   ]
  },
  {
   "cell_type": "code",
   "execution_count": null,
   "metadata": {},
   "outputs": [],
   "source": [
    "print(np.reshape(np.random.randint(10,20,8) , (2,4)))"
   ]
  },
  {
   "attachments": {},
   "cell_type": "markdown",
   "metadata": {},
   "source": [
    "+ random.choice(list)"
   ]
  },
  {
   "cell_type": "code",
   "execution_count": null,
   "metadata": {},
   "outputs": [],
   "source": [
    "ls = ['a',1,True,1.5,False,'Hello']\n",
    "print(np.random.choice(ls))"
   ]
  },
  {
   "attachments": {},
   "cell_type": "markdown",
   "metadata": {},
   "source": [
    "+ random.shuffle(list)"
   ]
  },
  {
   "cell_type": "code",
   "execution_count": null,
   "metadata": {},
   "outputs": [],
   "source": [
    "ls = [4,5,6,7,8,9]\n",
    "np.random.shuffle(ls)\n",
    "print(ls)"
   ]
  },
  {
   "attachments": {},
   "cell_type": "markdown",
   "metadata": {},
   "source": [
    "+ zeros(layout,rows,cols)"
   ]
  },
  {
   "cell_type": "code",
   "execution_count": null,
   "metadata": {},
   "outputs": [],
   "source": [
    "print(np.zeros(5)) # 1D"
   ]
  },
  {
   "cell_type": "code",
   "execution_count": null,
   "metadata": {},
   "outputs": [],
   "source": [
    "print(np.zeros((5,6))) # 2D"
   ]
  },
  {
   "cell_type": "code",
   "execution_count": null,
   "metadata": {},
   "outputs": [],
   "source": [
    "print(np.zeros((2,5,6))) # 3D"
   ]
  },
  {
   "attachments": {},
   "cell_type": "markdown",
   "metadata": {},
   "source": [
    "+ ones(layout,rows,cols)"
   ]
  },
  {
   "cell_type": "code",
   "execution_count": null,
   "metadata": {},
   "outputs": [],
   "source": [
    "print(np.ones(6)) # 1D"
   ]
  },
  {
   "cell_type": "code",
   "execution_count": null,
   "metadata": {},
   "outputs": [],
   "source": [
    "print(np.ones((4,2))) # 2D"
   ]
  },
  {
   "cell_type": "code",
   "execution_count": null,
   "metadata": {},
   "outputs": [],
   "source": [
    "print(np.ones((2,3,5))) # 3D"
   ]
  },
  {
   "cell_type": "code",
   "execution_count": null,
   "metadata": {},
   "outputs": [],
   "source": [
    "# max(matrix)\n",
    "# argmax(matrix)\n",
    "a = np.random.randint(5,10,size = 9).reshape(3,3)\n",
    "print(a)\n",
    "print(np.max(a))\n",
    "print(np.argmax(a)) # position"
   ]
  },
  {
   "cell_type": "code",
   "execution_count": null,
   "metadata": {},
   "outputs": [],
   "source": [
    "# min(matrix)\n",
    "# argmin(matrix)\n",
    "a = np.random.randint(5,10,size = 8).reshape(2,4)\n",
    "print(a)\n",
    "print(np.min(a))\n",
    "print(np.argmin(a)) # position"
   ]
  },
  {
   "attachments": {},
   "cell_type": "markdown",
   "metadata": {},
   "source": [
    "+ eye(rows,cols)"
   ]
  },
  {
   "cell_type": "code",
   "execution_count": null,
   "metadata": {},
   "outputs": [],
   "source": [
    "# Identity matrix\n",
    "print(np.eye(5))"
   ]
  },
  {
   "cell_type": "code",
   "execution_count": null,
   "metadata": {},
   "outputs": [],
   "source": [
    "print(np.eye(2,4,3))"
   ]
  },
  {
   "attachments": {},
   "cell_type": "markdown",
   "metadata": {},
   "source": [
    "+ identity"
   ]
  },
  {
   "cell_type": "code",
   "execution_count": null,
   "metadata": {},
   "outputs": [],
   "source": [
    "print(np.identity(3))"
   ]
  },
  {
   "cell_type": "code",
   "execution_count": null,
   "metadata": {},
   "outputs": [],
   "source": [
    "print(np.identity((3)))"
   ]
  },
  {
   "cell_type": "code",
   "execution_count": null,
   "metadata": {},
   "outputs": [],
   "source": [
    "print(np.identity((3)).shape)"
   ]
  },
  {
   "attachments": {},
   "cell_type": "markdown",
   "metadata": {},
   "source": [
    "+ diag(list)"
   ]
  },
  {
   "cell_type": "code",
   "execution_count": null,
   "metadata": {},
   "outputs": [],
   "source": [
    "print(np.diag([2,3,6,5,8]))"
   ]
  },
  {
   "attachments": {},
   "cell_type": "markdown",
   "metadata": {},
   "source": [
    "+ full((rows, cols), number)"
   ]
  },
  {
   "cell_type": "code",
   "execution_count": null,
   "metadata": {},
   "outputs": [],
   "source": [
    "print(np.full((5,3) , 7))"
   ]
  },
  {
   "attachments": {},
   "cell_type": "markdown",
   "metadata": {},
   "source": [
    "+ arange"
   ]
  },
  {
   "cell_type": "code",
   "execution_count": null,
   "metadata": {},
   "outputs": [],
   "source": [
    "print(np.arange(27))"
   ]
  },
  {
   "cell_type": "code",
   "execution_count": null,
   "metadata": {},
   "outputs": [],
   "source": [
    "print(np.arange(27).size)"
   ]
  },
  {
   "cell_type": "code",
   "execution_count": null,
   "metadata": {},
   "outputs": [],
   "source": [
    "print(np.arange(10).reshape(2,5))"
   ]
  },
  {
   "attachments": {},
   "cell_type": "markdown",
   "metadata": {},
   "source": [
    "+ reshape"
   ]
  },
  {
   "cell_type": "code",
   "execution_count": null,
   "metadata": {},
   "outputs": [],
   "source": [
    "# reshape(list,(rows,columns))\n",
    "ls = np.random.randint(10,20,8)\n",
    "arr = np.reshape(ls,(2,4))\n",
    "\n",
    "# print(ls)\n",
    "print(arr)"
   ]
  },
  {
   "attachments": {},
   "cell_type": "markdown",
   "metadata": {},
   "source": [
    "+ shape"
   ]
  },
  {
   "cell_type": "code",
   "execution_count": null,
   "metadata": {},
   "outputs": [],
   "source": [
    "print(ls.shape)\n",
    "print(arr.shape)"
   ]
  },
  {
   "attachments": {},
   "cell_type": "markdown",
   "metadata": {},
   "source": [
    "+ len"
   ]
  },
  {
   "cell_type": "code",
   "execution_count": null,
   "metadata": {},
   "outputs": [],
   "source": [
    "print(len(arr)) # = count rows = 3"
   ]
  },
  {
   "attachments": {},
   "cell_type": "markdown",
   "metadata": {},
   "source": [
    "+ arange"
   ]
  },
  {
   "cell_type": "code",
   "execution_count": null,
   "metadata": {},
   "outputs": [],
   "source": [
    "# arange(start=0,end).reshape(rows,cols,layout)\n",
    "print(np.arange(27))\n",
    "\n",
    "print(np.arange(27).reshape(3,3,3))"
   ]
  },
  {
   "attachments": {},
   "cell_type": "markdown",
   "metadata": {},
   "source": [
    "+ linspace"
   ]
  },
  {
   "cell_type": "code",
   "execution_count": null,
   "metadata": {},
   "outputs": [],
   "source": [
    "# linspace(start, end, count=50) # include end # count default 50\n",
    "print(np.linspace(10,20)) # 50 number in matrix from 10 to 20  "
   ]
  },
  {
   "cell_type": "code",
   "execution_count": null,
   "metadata": {},
   "outputs": [],
   "source": [
    "print(np.linspace(10,20,5)) "
   ]
  },
  {
   "cell_type": "code",
   "execution_count": null,
   "metadata": {},
   "outputs": [],
   "source": [
    "print(np.linspace(10,20,6).reshape(2,3)) "
   ]
  },
  {
   "attachments": {},
   "cell_type": "markdown",
   "metadata": {},
   "source": [
    "+ mean , std , var"
   ]
  },
  {
   "cell_type": "code",
   "execution_count": null,
   "metadata": {},
   "outputs": [],
   "source": [
    "# mean and standard deviation and varience\n",
    "a = np.arange(12).reshape(3,4)\n",
    "print(a)\n",
    "print(np.mean(a)) # 5.5\n",
    "print(np.std(a)) # 3.4\n",
    "print(np.var(a)) # 11.9"
   ]
  }
 ],
 "metadata": {
  "kernelspec": {
   "display_name": "Python 3",
   "language": "python",
   "name": "python3"
  },
  "language_info": {
   "codemirror_mode": {
    "name": "ipython",
    "version": 3
   },
   "file_extension": ".py",
   "mimetype": "text/x-python",
   "name": "python",
   "nbconvert_exporter": "python",
   "pygments_lexer": "ipython3",
   "version": "3.10.8"
  },
  "orig_nbformat": 4,
  "vscode": {
   "interpreter": {
    "hash": "ab58cbacd942ca503049d3378ed1180a79e5c5d17c40fd38c92a577d131c0358"
   }
  }
 },
 "nbformat": 4,
 "nbformat_minor": 2
}
