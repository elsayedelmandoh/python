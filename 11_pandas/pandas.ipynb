{
 "cells": [
  {
   "cell_type": "markdown",
   "metadata": {},
   "source": [
    "# Pandas .."
   ]
  },
  {
   "cell_type": "code",
   "execution_count": 1,
   "metadata": {},
   "outputs": [],
   "source": [
    "import pandas as pd\n",
    "import numpy as np"
   ]
  },
  {
   "cell_type": "code",
   "execution_count": null,
   "metadata": {},
   "outputs": [],
   "source": [
    "ls = [1,2,5.6,49,20,35,14,16,7]\n",
    "# print(pd.Series(ls))"
   ]
  },
  {
   "cell_type": "code",
   "execution_count": null,
   "metadata": {},
   "outputs": [],
   "source": [
    "a={1:\"Ajith\",2:\"Kannan\"} \n",
    "pd.Series(a)"
   ]
  },
  {
   "cell_type": "code",
   "execution_count": null,
   "metadata": {},
   "outputs": [],
   "source": [
    "# index into Series\n",
    "print(pd.Series(ls,index=['a','b','c','d','e','f','g','h','i']))"
   ]
  },
  {
   "cell_type": "code",
   "execution_count": null,
   "metadata": {},
   "outputs": [],
   "source": [
    "# describe to return count, mean, std, min, 25, 50, 75, max \n",
    "# print(pd.Series(ls).describe())\n",
    "print(f'Mean: {pd.Series(ls).describe().mean()}') # 16.622222"
   ]
  },
  {
   "cell_type": "code",
   "execution_count": null,
   "metadata": {},
   "outputs": [],
   "source": [
    "# agg to return some parts from method describe()\n",
    "print(pd.Series(ls).agg(['max','min']))"
   ]
  },
  {
   "cell_type": "code",
   "execution_count": null,
   "metadata": {},
   "outputs": [],
   "source": [
    "pd.Index(ls) \n",
    "# Float64Index([1.0, 2.0, 5.6, 49.0, 20.0, 35.0, 14.0, 16.0, 7.0], dtype='float64')"
   ]
  },
  {
   "cell_type": "code",
   "execution_count": null,
   "metadata": {},
   "outputs": [],
   "source": [
    "'''\n",
    "& : and\n",
    "| : or\n",
    "^ : not duplicated\n",
    "# not support float\n",
    "'''\n",
    "a = pd.Index([3,15,5,25])\n",
    "b = pd.Index([1,5,3,20])\n",
    "print(a | b)"
   ]
  },
  {
   "cell_type": "code",
   "execution_count": null,
   "metadata": {},
   "outputs": [],
   "source": [
    "print(a & b)"
   ]
  },
  {
   "cell_type": "code",
   "execution_count": null,
   "metadata": {},
   "outputs": [],
   "source": [
    "print(a ^ b)"
   ]
  },
  {
   "cell_type": "markdown",
   "metadata": {},
   "source": [
    "# plot "
   ]
  },
  {
   "cell_type": "code",
   "execution_count": null,
   "metadata": {},
   "outputs": [],
   "source": [
    "# plot() => default line , found line or pie or bar or ..\n",
    "print(pd.Series(ls).plot(kind='line'))"
   ]
  },
  {
   "cell_type": "code",
   "execution_count": null,
   "metadata": {},
   "outputs": [],
   "source": [
    "# pie\n",
    "print(pd.Series([1,5,3,6,9]).plot(kind='pie'))"
   ]
  },
  {
   "cell_type": "code",
   "execution_count": null,
   "metadata": {},
   "outputs": [],
   "source": [
    "# bar\n",
    "print(pd.Series([1,5,7,8,15,30,2]).plot(kind = 'bar'))"
   ]
  },
  {
   "cell_type": "code",
   "execution_count": null,
   "metadata": {},
   "outputs": [],
   "source": [
    "# barh\n",
    "print(pd.Series([1,5,7,8,15,30,2]).plot(kind = 'barh')) # bar horizontal"
   ]
  },
  {
   "cell_type": "code",
   "execution_count": null,
   "metadata": {},
   "outputs": [],
   "source": [
    "# hist\n",
    "print(pd.Series([1,5,7,8,15,30,2]).plot(kind = 'hist')) # frequency تكرار"
   ]
  },
  {
   "cell_type": "code",
   "execution_count": null,
   "metadata": {},
   "outputs": [],
   "source": [
    "# box : must sort numbers and line on min and max and median\n",
    "print(pd.Series([1,2,5,6,11,8,15,30,35]).plot(kind='box'))"
   ]
  },
  {
   "cell_type": "code",
   "execution_count": null,
   "metadata": {},
   "outputs": [],
   "source": [
    "# kda متعلاقة بالكثاقة والتكرار\n",
    "print(pd.Series([1,2,5,6,11,8,15,30,35]).plot(kind='kde')) # kde or density\n",
    "print(pd.Series([1,2,5,6,11,8,15,30,35]).plot(kind='density')) # kde or density"
   ]
  },
  {
   "cell_type": "code",
   "execution_count": null,
   "metadata": {},
   "outputs": [],
   "source": [
    "print(pd.Series([1,2,5,6,11,8,15,30,35]).plot(kind='area')) # kde or density"
   ]
  },
  {
   "cell_type": "markdown",
   "metadata": {},
   "source": [
    "# data frame"
   ]
  },
  {
   "cell_type": "code",
   "execution_count": null,
   "metadata": {},
   "outputs": [],
   "source": [
    "ls1 = np.random.randint(0,6,(2,3)) # two rows and three cols\n",
    "rows = ['a','b'] \n",
    "cols = ['one','two','three']\n",
    "print(pd.DataFrame(ls1,index= rows, columns=cols))"
   ]
  },
  {
   "cell_type": "code",
   "execution_count": null,
   "metadata": {},
   "outputs": [],
   "source": [
    "# dict \n",
    "a = pd.Series({'malak': 12,'nada': 15,'mhmd':18,'elsayed':20})\n",
    "b = pd.Series({'malak': 17,'nada': 10,'mhmd':15.9,'elsayed':20})\n",
    "c = pd.Series({'malak': 12,'nada': 19,'mhmd':18,'elsayed':20})\n",
    "\n",
    "tab = pd.DataFrame({'CV':a,'ML':b,'AI':c})\n",
    "print(tab)\n",
    "'''\n",
    "         CV    ML  AI\n",
    "malak    12  17.0  12\n",
    "nada     15  10.0  19\n",
    "mhmd     18  15.9  18\n",
    "elsayed  20  20.0  20\n",
    "'''"
   ]
  },
  {
   "cell_type": "code",
   "execution_count": null,
   "metadata": {},
   "outputs": [],
   "source": [
    "print(tab['AI'])"
   ]
  },
  {
   "cell_type": "code",
   "execution_count": null,
   "metadata": {},
   "outputs": [],
   "source": [
    "# Transpose\n",
    "print(tab.T)"
   ]
  },
  {
   "cell_type": "code",
   "execution_count": null,
   "metadata": {},
   "outputs": [],
   "source": [
    "# keys and values\n",
    "print(tab.keys()) # Index(['CV', 'ML', 'AI'], dtype='object')\n",
    "print(tab.columns) # Index(['CV', 'ML', 'AI'], dtype='object')\n",
    "\n",
    "print(tab.values)\n",
    "\n",
    "print(tab.index) # Index(['malak', 'nada', 'mhmd', 'elsayed'], dtype='object')"
   ]
  },
  {
   "cell_type": "code",
   "execution_count": null,
   "metadata": {},
   "outputs": [],
   "source": [
    "print(15 in tab.values) # True\n",
    "print(\"AI\" in tab.keys()) # True\n",
    "print(\"AI\" in tab.columns)\n",
    "print(\"malak\" in tab.index)"
   ]
  },
  {
   "cell_type": "code",
   "execution_count": null,
   "metadata": {},
   "outputs": [],
   "source": [
    "# stack : بيفك الداتا\n",
    "print(tab.stack())"
   ]
  },
  {
   "cell_type": "code",
   "execution_count": null,
   "metadata": {},
   "outputs": [],
   "source": [
    "# iloc[rows,cols] : index location\n",
    "print(tab)\n",
    "\n",
    "print(tab.iloc[:2,1:])\n",
    "\n",
    "print(tab.iloc[1,2]) # 19"
   ]
  },
  {
   "cell_type": "code",
   "execution_count": null,
   "metadata": {},
   "outputs": [],
   "source": [
    "# loc[rows,cols] : location name(rows or cols)\n",
    "print(tab.loc['nada':,'ML':])"
   ]
  },
  {
   "cell_type": "code",
   "execution_count": null,
   "metadata": {},
   "outputs": [],
   "source": [
    "# equation \n",
    "print(tab.loc[tab['AI'] > 18])"
   ]
  },
  {
   "cell_type": "code",
   "execution_count": null,
   "metadata": {},
   "outputs": [],
   "source": [
    "# specifie some cols\n",
    "# loc[condition , cols]\n",
    "print(tab.loc[tab['ML']> 15 , ['CV','AI']])\n"
   ]
  },
  {
   "cell_type": "code",
   "execution_count": null,
   "metadata": {},
   "outputs": [],
   "source": [
    "# print(tab)\n",
    "\n",
    "# sort_values\n",
    "print(tab['AI'].sort_values(ascending=True))\n",
    "\n",
    "print(tab['AI'].sort_values(ascending=False))"
   ]
  },
  {
   "cell_type": "code",
   "execution_count": null,
   "metadata": {},
   "outputs": [],
   "source": [
    "# another way for sort_values\n",
    "\n",
    "# dict \n",
    "a = pd.Series({'malak': 17,'nada': 15,'mhmd':12,'elsayed':20})\n",
    "b = pd.Series({'malak': 16,'nada': 10,'mhmd':15.9,'elsayed':20}) # all decimal\n",
    "c = pd.Series({'malak': 18,'nada': 17,'mhmd':11,'elsayed':20})\n",
    "\n",
    "tab = pd.DataFrame({'CV':a,'ML':b,'AI':c})\n",
    "# print(tab)\n",
    "\n",
    "print(tab.sort_values(['CV'], ascending=True)) # one cols , ascending = True or False\n"
   ]
  },
  {
   "cell_type": "code",
   "execution_count": null,
   "metadata": {},
   "outputs": [],
   "source": [
    "# sort_index \n",
    "'''\n",
    "axis = 0 : sort ascending by index or rows\n",
    "axis = 1 : sort ascending by cols\n",
    "'''\n",
    "# rows or index\n",
    "print(tab.sort_index(axis=0))\n",
    "\n",
    "\n",
    "# cols \n",
    "print(tab.sort_index(axis=1))"
   ]
  },
  {
   "cell_type": "code",
   "execution_count": null,
   "metadata": {},
   "outputs": [],
   "source": [
    "# max min std mean median \n",
    "print(tab.max())\n",
    "print(tab['CV'].max()) # 20"
   ]
  },
  {
   "cell_type": "code",
   "execution_count": null,
   "metadata": {},
   "outputs": [],
   "source": [
    "# min \n",
    "print(tab.min())\n",
    "print(tab['AI'].min()) # 12"
   ]
  },
  {
   "cell_type": "code",
   "execution_count": null,
   "metadata": {},
   "outputs": [],
   "source": [
    "# std : standard deviation\n",
    "print(tab.std())\n",
    "print(tab['ML'].std()) # 4.191558978073274"
   ]
  },
  {
   "cell_type": "code",
   "execution_count": null,
   "metadata": {},
   "outputs": [],
   "source": [
    "# mean\n",
    "print(tab.mean())\n",
    "print(tab['CV'].mean()) # 16.25"
   ]
  },
  {
   "cell_type": "code",
   "execution_count": null,
   "metadata": {},
   "outputs": [],
   "source": [
    "# median \n",
    "print(tab.median())\n",
    "print(tab['AI'].median()) # 18.5"
   ]
  },
  {
   "cell_type": "code",
   "execution_count": null,
   "metadata": {},
   "outputs": [],
   "source": [
    "# corr : correlation  معامل الارتباط\n",
    "# العلاقة بين قرب الداتا في العماويد\n",
    "\n",
    "# print(pd.DataFrame(np.random.rand(5,4) , columns = ['AI','Math','Stat','Algo'], index = ['a','b','c','d','e']))\n",
    "\n",
    "print(pd.DataFrame(np.random.rand(5,4) , columns = ['AI','Math','Stat','Algo'], index = ['a','b','c','d','e']).corr())"
   ]
  },
  {
   "cell_type": "code",
   "execution_count": null,
   "metadata": {},
   "outputs": [],
   "source": [
    "# skew مقدار الانحراف\n",
    "# print(pd.DataFrame(np.random.rand(4,3), columns= ['AI','Math','Stat'], index = [1,2,3,4]))\n",
    "\n",
    "print(pd.DataFrame(np.random.rand(4,3), columns= ['AI','Math','Stat'], index = [1,2,3,4]).skew())"
   ]
  },
  {
   "cell_type": "markdown",
   "metadata": {},
   "source": [
    "# some things in creating DataFrame"
   ]
  },
  {
   "cell_type": "code",
   "execution_count": null,
   "metadata": {},
   "outputs": [],
   "source": [
    "print(pd.DataFrame({'square':i**2 , 'root':i**0.5 , 'cube':i**3} for i in range(5)))"
   ]
  },
  {
   "cell_type": "code",
   "execution_count": null,
   "metadata": {},
   "outputs": [],
   "source": [
    "print(pd.DataFrame([{'square':2 , 'root':0.5 , 'cube':3},{'a':53 , 'b': 31},{'root':15,'a':53}]))"
   ]
  },
  {
   "cell_type": "code",
   "execution_count": null,
   "metadata": {},
   "outputs": [],
   "source": [
    "# sum cols from two cols\n",
    "a = pd.Series({'ahmed':12,'Ali':15,'elsayed':19})\n",
    "b = pd.Series({'ahmed':10,'Ali':14,'elsayed':20})\n",
    "c = pd.Series({'ahmed':13,'Ali':16,'elsayed':18})\n",
    "\n",
    "grades = pd.DataFrame({'AI':a,'ML':b,'CV':c})\n",
    "grades['total'] = grades['AI'] + grades['ML'] + grades['CV']\n",
    "# print(grades)"
   ]
  },
  {
   "cell_type": "code",
   "execution_count": null,
   "metadata": {},
   "outputs": [],
   "source": [
    "tot = pd.DataFrame(np.random.rand(2,3) , columns=['AI','Math','Stat'])\n",
    "\n",
    "res = pd.eval('tot.AI + tot.Math + tot.Stat')\n",
    "# print(res)"
   ]
  },
  {
   "cell_type": "code",
   "execution_count": null,
   "metadata": {},
   "outputs": [],
   "source": [
    "# using query\n",
    "\n",
    "tot = pd.DataFrame(np.random.rand(2,3) , columns=['AI','Math','Stat'])\n",
    "res = tot.query('AI < 0.5 and Math < 0.3')\n",
    "print(res)"
   ]
  },
  {
   "cell_type": "code",
   "execution_count": null,
   "metadata": {},
   "outputs": [],
   "source": [
    "# using temp 1 and temp 2\n",
    "tot = pd.DataFrame(np.random.rand(2,3) , columns=['AI','Math','Stat'])\n",
    "\n",
    "tmp1 = tot.AI < 0.5\n",
    "tmp2 = tot.Math < 0.5\n",
    "print(tot[tmp1 & tmp2])"
   ]
  },
  {
   "cell_type": "code",
   "execution_count": null,
   "metadata": {},
   "outputs": [],
   "source": [
    "# make function with dataframe\n",
    "\n",
    "def makeDataFrame(cols,rows):\n",
    "    data = {col: [str(col) + str(row) for row in rows] for col in cols}\n",
    "    return pd.DataFrame(data,rows)\n",
    "\n",
    "print(makeDataFrame('ABC',range(3)))"
   ]
  },
  {
   "cell_type": "code",
   "execution_count": null,
   "metadata": {},
   "outputs": [],
   "source": [
    "# merge \n",
    "data1 = pd.DataFrame({'emp':['Ali','ahmed','elsayed'],'group':['Accounting','Engineering','HR']})\n",
    "data2 = pd.DataFrame({'emp':['Ali','ahmed','elsayed'],'hire_date':[2008,2012,2014]})\n",
    "print(pd.merge(data1, data2))"
   ]
  },
  {
   "cell_type": "code",
   "execution_count": null,
   "metadata": {},
   "outputs": [],
   "source": [
    "data1 = pd.DataFrame({'emp':['Ali','ahmed','elsayed'],'group':['Accounting','Engineering','HR']})\n",
    "data2 = pd.DataFrame({'name':['Ali','ahmed','elsayed'],'hire_date':[2008,2012,2014]})\n",
    "print(pd.merge(data1,data2,left_on='emp',right_on='name'))"
   ]
  },
  {
   "cell_type": "code",
   "execution_count": null,
   "metadata": {},
   "outputs": [],
   "source": [
    "# merge with drop\n",
    "data1 = pd.DataFrame({'emp':['Ali','ahmed','elsayed'],'group':['Accounting','Engineering','HR']})\n",
    "data2 = pd.DataFrame({'name':['Ali','ahmed','elsayed'],'hire_date':[2008,2012,2014]})\n",
    "print(pd.merge(data1,data2,left_on='emp',right_on='name').drop('emp',axis=1))"
   ]
  },
  {
   "cell_type": "code",
   "execution_count": null,
   "metadata": {},
   "outputs": [],
   "source": [
    "# set_index \n",
    "data1 = pd.DataFrame({'emp':['Ali','ahmed','elsayed'],'group':['Accounting','Engineering','HR']})\n",
    "data2 = pd.DataFrame({'name':['Ali','ahmed','elsayed'],'hire_date':[2008,2012,2014]})\n",
    "data2 = data1.set_index('emp') # make a key \n",
    "print(data2)"
   ]
  },
  {
   "cell_type": "code",
   "execution_count": null,
   "metadata": {},
   "outputs": [],
   "source": [
    "# merge with how  : same inner will return comman data only\n",
    "data1 = pd.DataFrame({'name':['Ali','ahmed','elsayed'],'group':['Accounting','Engineering','HR']})\n",
    "data2 = pd.DataFrame({'name':['Ali','elsayed'],'hire_date':[2012,2014]})\n",
    "print(pd.merge(data1,data2))"
   ]
  },
  {
   "cell_type": "code",
   "execution_count": null,
   "metadata": {},
   "outputs": [],
   "source": [
    "# merge with how inner : comman data only\n",
    "data1 = pd.DataFrame({'name':['Ali','ahmed','elsayed'],'group':['Accounting','Engineering','HR']})\n",
    "data2 = pd.DataFrame({'name':['Ali','elsayed'],'hire_date':[2012,2014]})\n",
    "print(pd.merge(data1,data2,how ='inner'))"
   ]
  },
  {
   "cell_type": "code",
   "execution_count": null,
   "metadata": {},
   "outputs": [],
   "source": [
    "# merge with how outer : all data\n",
    "data1 = pd.DataFrame({'name':['Ali','ahmed','elsayed'],'group':['Accounting','Engineering','HR']})\n",
    "data2 = pd.DataFrame({'name':['Ali','elsayed'],'hire_date':[2012,2014]})\n",
    "print(pd.merge(data1,data2,how ='outer'))\n",
    "'''\n",
    "      name        group  hire_date\n",
    "0      Ali   Accounting     2012.0\n",
    "1    ahmed  Engineering        NaN\n",
    "2  elsayed           HR     2014.0\n",
    "'''"
   ]
  },
  {
   "cell_type": "code",
   "execution_count": null,
   "metadata": {},
   "outputs": [],
   "source": [
    "# merge with how right : must be return data2\n",
    "data1 = pd.DataFrame({'name':['Ali','ahmed','elsayed'],'group':['Accounting','Engineering','HR']})\n",
    "data2 = pd.DataFrame({'name':['Ali','elsayed'],'hire_date':[2012,2014]})\n",
    "print(pd.merge(data1,data2,how ='right'))\n",
    "'''\n",
    "      name       group  hire_date\n",
    "0      Ali  Accounting       2012\n",
    "1  elsayed          HR       2014\n",
    "'''"
   ]
  },
  {
   "cell_type": "code",
   "execution_count": null,
   "metadata": {},
   "outputs": [],
   "source": [
    "# merge with how left : must be return data1\n",
    "data1 = pd.DataFrame({'name':['Ali','ahmed','elsayed'],'group':['Accounting','Engineering','HR']})\n",
    "data2 = pd.DataFrame({'name':['Ali','elsayed'],'hire_date':[2012,2014]})\n",
    "print(pd.merge(data1,data2,how ='left'))\n",
    "'''\n",
    "      name        group  hire_date\n",
    "0      Ali   Accounting     2012.0\n",
    "1    ahmed  Engineering        NaN\n",
    "2  elsayed           HR     2014.0\n",
    "'''"
   ]
  },
  {
   "cell_type": "code",
   "execution_count": null,
   "metadata": {},
   "outputs": [],
   "source": [
    "# some proccess\n",
    "data1 = pd.DataFrame({'A':np.random.rand(5),'B':np.random.rand(5)})\n",
    "'''\n",
    "         A         B\n",
    "0  0.329862  0.912133\n",
    "1  0.887305  0.056660\n",
    "2  0.328744  0.176212\n",
    "3  0.780575  0.777976\n",
    "4  0.358864  0.694629\n",
    "'''"
   ]
  },
  {
   "cell_type": "code",
   "execution_count": null,
   "metadata": {},
   "outputs": [],
   "source": [
    "print(\"Sum:\\n\",data1.sum())\n",
    "'''\n",
    "Sum:\n",
    " A    2.685349\n",
    "B    2.617611\n",
    "dtype: float64\n",
    "'''"
   ]
  },
  {
   "cell_type": "code",
   "execution_count": null,
   "metadata": {},
   "outputs": [],
   "source": [
    "print(\"Mean:\\n\",data1.mean(axis='rows'))\n",
    "'''\n",
    "Mean:\n",
    " A    0.537070\n",
    "B    0.523522\n",
    "dtype: float64'''"
   ]
  },
  {
   "cell_type": "code",
   "execution_count": null,
   "metadata": {},
   "outputs": [],
   "source": [
    "print(\"Mean:\\n\",data1.mean(axis='columns'))\n",
    "'''\n",
    "Mean:\n",
    " 0    0.620997\n",
    "1    0.471983\n",
    "2    0.252478\n",
    "3    0.779276\n",
    "4    0.526747\n",
    "dtype: float64\n",
    "'''"
   ]
  },
  {
   "cell_type": "code",
   "execution_count": null,
   "metadata": {},
   "outputs": [],
   "source": [
    "print(\"Count:\\n\",data1.count())\n",
    "'''\n",
    "Count:\n",
    " A    5\n",
    "B    5\n",
    "dtype: int64\n",
    "'''"
   ]
  },
  {
   "cell_type": "code",
   "execution_count": null,
   "metadata": {},
   "outputs": [],
   "source": [
    "print(\"Min:\\n\",data1.min())\n",
    "'''\n",
    "Min:\n",
    " A    0.328744\n",
    "B    0.056660\n",
    "dtype: float64\n",
    "'''"
   ]
  },
  {
   "cell_type": "code",
   "execution_count": null,
   "metadata": {},
   "outputs": [],
   "source": [
    "print(\"Max:\\n\",data1.max())\n",
    "'''\n",
    "Max:\n",
    " A    0.887305\n",
    "B    0.912133\n",
    "dtype: float64\n",
    "'''"
   ]
  },
  {
   "cell_type": "code",
   "execution_count": null,
   "metadata": {},
   "outputs": [],
   "source": [
    "print(\"Std:\\n\",data1.std())\n",
    "'''\n",
    "Std:\n",
    " A    0.273885\n",
    "B    0.381978\n",
    "dtype: float64\n",
    "'''"
   ]
  },
  {
   "cell_type": "code",
   "execution_count": null,
   "metadata": {},
   "outputs": [],
   "source": [
    "# group by\n",
    "data1 = pd.DataFrame({'name':['A','B','C','A','C'],'number':[12,14,13,15,17]})\n",
    "print(data1.groupby('name').sum())\n",
    "'''\n",
    "      number\n",
    "name        \n",
    "A         27\n",
    "B         14\n",
    "C         30\n",
    "'''"
   ]
  },
  {
   "cell_type": "code",
   "execution_count": null,
   "metadata": {},
   "outputs": [],
   "source": [
    "# group by with describe \n",
    "data1 = pd.DataFrame({'name':['A','B','C','A','C'],'number':[12,14,13,15,17]})\n",
    "print(data1.groupby('name').describe())\n",
    "'''\n",
    "     number                                                \n",
    "      count  mean       std   min    25%   50%    75%   max\n",
    "name                                                       \n",
    "A       2.0  13.5  2.121320  12.0  12.75  13.5  14.25  15.0\n",
    "B       1.0  14.0       NaN  14.0  14.00  14.0  14.00  14.0\n",
    "C       2.0  15.0  2.828427  13.0  14.00  15.0  16.00  17.0\n",
    "'''"
   ]
  },
  {
   "cell_type": "code",
   "execution_count": null,
   "metadata": {},
   "outputs": [],
   "source": [
    "# group by with unstack\n",
    "data1 = pd.DataFrame({'name':['A','B','C','A','C'],'number':[12,14,13,15,17]})\n",
    "print(data1.groupby('name').describe().unstack())\n",
    "'''\n",
    "               name\n",
    "number  count  A        2.000000\n",
    "               B        1.000000\n",
    "               C        2.000000\n",
    "        mean   A       13.500000\n",
    "               B       14.000000\n",
    "               C       15.000000\n",
    "        std    A        2.121320\n",
    "               B             NaN\n",
    "               C        2.828427\n",
    "        min    A       12.000000\n",
    "               B       14.000000\n",
    "               C       13.000000\n",
    "        25%    A       12.750000\n",
    "               B       14.000000\n",
    "               C       14.000000\n",
    "        50%    A       13.500000\n",
    "               B       14.000000\n",
    "               C       15.000000\n",
    "        75%    A       14.250000\n",
    "               B       14.000000\n",
    "               C       16.000000\n",
    "        max    A       15.000000\n",
    "               B       14.000000\n",
    "               C       17.000000\n",
    "dtype: float64\n",
    "'''"
   ]
  },
  {
   "cell_type": "code",
   "execution_count": null,
   "metadata": {},
   "outputs": [],
   "source": [
    "# group by & aggregate \n",
    "\n",
    "data1 = pd.DataFrame({'name':['A','B','C','A','C'],'nums1':[12,14,13,15,17],'nums2':[9,16,18,10,15]})\n",
    "print(data1.groupby('name').aggregate({'nums1':'min', 'nums2':'max'}))\n",
    "'''\n",
    "      nums1  nums2\n",
    "name              \n",
    "A        12     10\n",
    "B        14     16\n",
    "C        13     18\n",
    "'''"
   ]
  },
  {
   "cell_type": "code",
   "execution_count": null,
   "metadata": {},
   "outputs": [],
   "source": [
    "# group by with filter : run on 'nums1'\n",
    "data1 = pd.DataFrame({'name':['A','B','C','A','C'],'nums1':[12,14,13,15,17],'nums2':[9,16,18,10,15]})\n",
    "# make function\n",
    "def fil_nums1(x):\n",
    "    return x['nums1'].std() > 1\n",
    "\n",
    "print(data1.groupby('name').filter(fil_nums1))\n",
    "'''\n",
    "  name  nums1  nums2\n",
    "0    A     12      9\n",
    "2    C     13     18\n",
    "3    A     15     10\n",
    "4    C     17     15\n",
    "'''"
   ]
  },
  {
   "cell_type": "code",
   "execution_count": null,
   "metadata": {},
   "outputs": [],
   "source": [
    "# group by with transform : run all cols and remove 'name' cols\n",
    "data1 = pd.DataFrame({'name':['A','B','C','A','C'],'nums1':[12,14,13,15,17],'nums2':[9,16,18,10,15]})\n",
    "print(data1.groupby('name').transform(lambda x : x**2))\n",
    "'''\n",
    "   nums1  nums2\n",
    "0    144     81\n",
    "1    196    256\n",
    "2    169    324\n",
    "3    225    100\n",
    "4    289    225\n",
    "'''"
   ]
  },
  {
   "cell_type": "markdown",
   "metadata": {},
   "source": [
    "# multindex"
   ]
  },
  {
   "cell_type": "code",
   "execution_count": null,
   "metadata": {},
   "outputs": [],
   "source": [
    "# rows\n",
    "index = [('California', 2000),('California', 2010),\n",
    "        ('New York', 2000),('New York', 2010),\n",
    "        ('Texas', 2000),('Texas', 2010)]\n",
    "# to make tuples are index\n",
    "index = pd.MultiIndex.from_tuples(index)\n",
    "print(index)\n",
    "'''\n",
    "MultiIndex([('California', 2000),\n",
    "            ('California', 2010),\n",
    "            (  'New York', 2000),\n",
    "            (  'New York', 2010),\n",
    "            (     'Texas', 2000),\n",
    "            (     'Texas', 2010)],\n",
    "           )\n",
    "'''"
   ]
  },
  {
   "cell_type": "code",
   "execution_count": null,
   "metadata": {},
   "outputs": [],
   "source": [
    "# rows\n",
    "index = [('California', 2000),('California', 2010),\n",
    "        ('New York', 2000),('New York', 2010),\n",
    "        ('Texas', 2000),('Texas', 2010)]\n",
    "# elements\n",
    "populations = [10000,15000,\n",
    "                20000,25000,\n",
    "                30000,35000]\n",
    "\n",
    "# to make tuples are index\n",
    "index = pd.MultiIndex.from_tuples(index)\n",
    "\n",
    "# series (data , index)\n",
    "pop = pd.Series(populations, index=index)\n",
    "print(pop)\n",
    "'''\n",
    "California  2000    10000\n",
    "            2010    15000\n",
    "New York    2000    20000\n",
    "            2010    25000\n",
    "Texas       2000    30000\n",
    "            2010    35000\n",
    "dtype: int64\n",
    "'''"
   ]
  },
  {
   "cell_type": "code",
   "execution_count": null,
   "metadata": {},
   "outputs": [],
   "source": [
    "# rows\n",
    "index = [('California', 2000),('California', 2010),\n",
    "        ('New York', 2000),('New York', 2010),\n",
    "        ('Texas', 2000),('Texas', 2010)]\n",
    "# elements\n",
    "populations = [10000,15000,\n",
    "                20000,25000,\n",
    "                30000,35000]\n",
    "\n",
    "# to make tuples are index\n",
    "index = pd.MultiIndex.from_tuples(index)\n",
    "\n",
    "# series (data , index)\n",
    "pop = pd.Series(populations, index=index)\n",
    "print(pop[:,2010])\n",
    "'''\n",
    "California    15000\n",
    "New York      25000\n",
    "Texas         35000\n",
    "dtype: int64\n",
    "'''"
   ]
  },
  {
   "cell_type": "code",
   "execution_count": null,
   "metadata": {},
   "outputs": [],
   "source": [
    "# unstack : convert multindex to table \n",
    "\n",
    "# rows\n",
    "index = [('California', 2000),('California', 2010),\n",
    "        ('New York', 2000),('New York', 2010),\n",
    "        ('Texas', 2000),('Texas', 2010)]\n",
    "# data\n",
    "populations = [10000,15000,\n",
    "                20000,25000,\n",
    "                30000,35000]\n",
    "\n",
    "index = pd.MultiIndex.from_tuples(index)\n",
    "pop = pd.Series(populations, index=index)\n",
    "print(pop.unstack())\n",
    "'''\n",
    "             2000   2010\n",
    "California  10000  15000\n",
    "New York    20000  25000\n",
    "Texas       30000  35000\n",
    "'''"
   ]
  },
  {
   "cell_type": "code",
   "execution_count": null,
   "metadata": {},
   "outputs": [],
   "source": [
    "# max between dataframe and multindex\n",
    "# make multiindex\n",
    "index = [('California', 2000),('California', 2010),\n",
    "            ('New York', 2000),('New York', 2010),\n",
    "            ('Texas', 2000),('Texas', 2010)]\n",
    "\n",
    "populations = [10000,15000,\n",
    "            20000,25000,\n",
    "            30000,35000]\n",
    "\n",
    "index = pd.MultiIndex.from_tuples(index)\n",
    "pop = pd.Series(populations, index=index)\n",
    "print(pop)\n",
    "'''\n",
    "California  2000    10000\n",
    "            2010    15000\n",
    "New York    2000    20000\n",
    "            2010    25000\n",
    "Texas       2000    30000\n",
    "            2010    35000\n",
    "dtype: int64\n",
    "'''\n",
    "\n",
    "# make dataframe to add column \"under18\"\n",
    "pop_df = pd.DataFrame({'total': pop,\n",
    "                        'under18':[9267089, 9284094,4687374,\n",
    "                        4318033,5906301, 6879014]})\n",
    "\n",
    "print(pop_df)\n",
    "'''\n",
    "               total  under18\n",
    "California 2000  10000  9267089\n",
    "           2010  15000  9284094\n",
    "New York   2000  20000  4687374\n",
    "           2010  25000  4318033\n",
    "Texas      2000  30000  5906301\n",
    "           2010  35000  6879014\n",
    "'''"
   ]
  },
  {
   "cell_type": "code",
   "execution_count": 1,
   "metadata": {},
   "outputs": [
    {
     "ename": "NameError",
     "evalue": "name 'pd' is not defined",
     "output_type": "error",
     "traceback": [
      "\u001b[0;31m---------------------------------------------------------------------------\u001b[0m",
      "\u001b[0;31mNameError\u001b[0m                                 Traceback (most recent call last)",
      "\u001b[1;32m/media/elsayedelmandoh/Rio/Courses/Python/009-mod_pandas/mod_pandas.ipynb Cell 81\u001b[0m in \u001b[0;36m<cell line: 1>\u001b[0;34m()\u001b[0m\n\u001b[0;32m----> <a href='vscode-notebook-cell:/media/elsayedelmandoh/Rio/Courses/Python/009-mod_pandas/mod_pandas.ipynb#Y143sZmlsZQ%3D%3D?line=0'>1</a>\u001b[0m df \u001b[39m=\u001b[39m pd\u001b[39m.\u001b[39mDataFrame(np\u001b[39m.\u001b[39mrandom\u001b[39m.\u001b[39mrand(\u001b[39m4\u001b[39m, \u001b[39m2\u001b[39m),\n\u001b[1;32m      <a href='vscode-notebook-cell:/media/elsayedelmandoh/Rio/Courses/Python/009-mod_pandas/mod_pandas.ipynb#Y143sZmlsZQ%3D%3D?line=1'>2</a>\u001b[0m                     index\u001b[39m=\u001b[39m[[\u001b[39m'\u001b[39m\u001b[39ma\u001b[39m\u001b[39m'\u001b[39m, \u001b[39m'\u001b[39m\u001b[39ma\u001b[39m\u001b[39m'\u001b[39m, \u001b[39m'\u001b[39m\u001b[39mb\u001b[39m\u001b[39m'\u001b[39m, \u001b[39m'\u001b[39m\u001b[39mb\u001b[39m\u001b[39m'\u001b[39m],[\u001b[39m1\u001b[39m, \u001b[39m2\u001b[39m, \u001b[39m1\u001b[39m, \u001b[39m2\u001b[39m]],\n\u001b[1;32m      <a href='vscode-notebook-cell:/media/elsayedelmandoh/Rio/Courses/Python/009-mod_pandas/mod_pandas.ipynb#Y143sZmlsZQ%3D%3D?line=2'>3</a>\u001b[0m                     columns\u001b[39m=\u001b[39m[\u001b[39m'\u001b[39m\u001b[39mincome\u001b[39m\u001b[39m'\u001b[39m, \u001b[39m'\u001b[39m\u001b[39mprofit\u001b[39m\u001b[39m'\u001b[39m])\n\u001b[1;32m      <a href='vscode-notebook-cell:/media/elsayedelmandoh/Rio/Courses/Python/009-mod_pandas/mod_pandas.ipynb#Y143sZmlsZQ%3D%3D?line=3'>4</a>\u001b[0m \u001b[39mprint\u001b[39m(df)\n\u001b[1;32m      <a href='vscode-notebook-cell:/media/elsayedelmandoh/Rio/Courses/Python/009-mod_pandas/mod_pandas.ipynb#Y143sZmlsZQ%3D%3D?line=4'>5</a>\u001b[0m \u001b[39m'''\u001b[39;00m\n\u001b[1;32m      <a href='vscode-notebook-cell:/media/elsayedelmandoh/Rio/Courses/Python/009-mod_pandas/mod_pandas.ipynb#Y143sZmlsZQ%3D%3D?line=5'>6</a>\u001b[0m \u001b[39m       income    profit\u001b[39;00m\n\u001b[1;32m      <a href='vscode-notebook-cell:/media/elsayedelmandoh/Rio/Courses/Python/009-mod_pandas/mod_pandas.ipynb#Y143sZmlsZQ%3D%3D?line=6'>7</a>\u001b[0m \u001b[39ma 1  0.879999  0.134067\u001b[39;00m\n\u001b[0;32m   (...)\u001b[0m\n\u001b[1;32m     <a href='vscode-notebook-cell:/media/elsayedelmandoh/Rio/Courses/Python/009-mod_pandas/mod_pandas.ipynb#Y143sZmlsZQ%3D%3D?line=9'>10</a>\u001b[0m \u001b[39m  2  0.266206  0.357697\u001b[39;00m\n\u001b[1;32m     <a href='vscode-notebook-cell:/media/elsayedelmandoh/Rio/Courses/Python/009-mod_pandas/mod_pandas.ipynb#Y143sZmlsZQ%3D%3D?line=10'>11</a>\u001b[0m \u001b[39m'''\u001b[39;00m\n",
      "\u001b[0;31mNameError\u001b[0m: name 'pd' is not defined"
     ]
    }
   ],
   "source": [
    "df = pd.DataFrame(np.random.rand(4, 2),\n",
    "                    index=[['a', 'a', 'b', 'b'],[1, 2, 1, 2]],\n",
    "                    columns=['income', 'profit'])\n",
    "print(df)\n",
    "'''\n",
    "       income    profit\n",
    "a 1  0.879999  0.134067\n",
    "  2  0.352078  0.569864\n",
    "b 1  0.014661  0.056899\n",
    "  2  0.266206  0.357697\n",
    "'''"
   ]
  },
  {
   "cell_type": "code",
   "execution_count": null,
   "metadata": {},
   "outputs": [],
   "source": [
    "# dict using to rows\n",
    "        # (key) as tuple : values\n",
    "data = {('California', 2000): 10000,\n",
    "        ('California', 2010):15000,\n",
    "        ('Texas', 2000): 20000,\n",
    "        ('Texas', 2010): 25000,\n",
    "        ('New York', 2000): 30000,\n",
    "        ('New York', 2010): 35000}\n",
    "print(pd.Series(data))\n",
    "'''\n",
    "California  2000    10000\n",
    "            2010    15000\n",
    "Texas       2000    20000\n",
    "            2010    25000\n",
    "New York    2000    30000\n",
    "            2010    35000\n",
    "dtype: int64\n",
    "'''"
   ]
  },
  {
   "cell_type": "code",
   "execution_count": null,
   "metadata": {},
   "outputs": [],
   "source": [
    "# from product .. بتعمل تباديل وتوافيق .. from multiindex \n",
    "\n",
    "# rows\n",
    "index = pd.MultiIndex.from_product([[2013, 2014],[1, 2]],\n",
    "                                    names=['year', 'visit']) # name rows\n",
    "\n",
    "# cols\n",
    "columns = pd.MultiIndex.from_product([['Bob', 'Guido', 'Sue'],['HR', 'Temp']],\n",
    "                                        names=['subject', 'type']) # name cols\n",
    "\n",
    "# data\n",
    "data = np.round(np.random.randn(4, 6)) # random integer number\n",
    "\n",
    "# make dataframe \n",
    "health_data = pd.DataFrame(data, index=index, columns=columns)\n",
    "print(health_data)\n",
    "'''\n",
    "subject     Bob      Guido       Sue     \n",
    "type         HR Temp    HR Temp   HR Temp\n",
    "year visit                               \n",
    "2013 1     -0.0 -1.0  -0.0 -2.0 -2.0 -0.0\n",
    "     2     -1.0 -1.0  -0.0 -0.0  1.0  1.0\n",
    "2014 1      1.0  1.0  -2.0  2.0 -1.0  0.0\n",
    "     2      0.0  0.0  -1.0  2.0 -0.0 -1.0\n",
    "'''"
   ]
  },
  {
   "cell_type": "code",
   "execution_count": null,
   "metadata": {},
   "outputs": [],
   "source": [
    "# from product .. بتعمل تباديل وتوافيق .. from multiindex \n",
    "\n",
    "# rows\n",
    "index = pd.MultiIndex.from_product([[2013, 2014],[1, 2]],\n",
    "                                    names=['year', 'visit']) # name rows\n",
    "\n",
    "# cols\n",
    "columns = pd.MultiIndex.from_product([['Bob', 'Guido', 'Sue'],['HR', 'Temp']],\n",
    "                                        names=['subject', 'type']) # name cols\n",
    "\n",
    "# data\n",
    "data = np.round(np.random.randn(4, 6)) # random integer number\n",
    "\n",
    "# make dataframe \n",
    "health_data = pd.DataFrame(data, index=index, columns=columns)\n",
    "print(health_data['Guido'])\n",
    "'''\n",
    "type         HR  Temp\n",
    "year visit           \n",
    "2013 1     -0.0  -1.0\n",
    "     2     -1.0   1.0\n",
    "2014 1     -0.0  -0.0\n",
    "     2     -1.0  -0.0\n",
    "'''"
   ]
  },
  {
   "cell_type": "code",
   "execution_count": null,
   "metadata": {},
   "outputs": [],
   "source": [
    "# from product .. بتعمل تباديل وتوافيق .. from multiindex \n",
    "\n",
    "# rows\n",
    "index = pd.MultiIndex.from_product([[2013, 2014],[1, 2]],\n",
    "                                    names=['year', 'visit']) # name rows\n",
    "\n",
    "# cols\n",
    "columns = pd.MultiIndex.from_product([['Bob', 'Guido', 'Sue'],['HR', 'Temp']],\n",
    "                                        names=['subject', 'type']) # name cols\n",
    "\n",
    "# data\n",
    "data = np.round(np.random.randn(4, 6)) # random integer number\n",
    "\n",
    "# make dataframe \n",
    "health_data = pd.DataFrame(data, index=index, columns=columns)\n",
    "print(health_data['Guido','HR'])\n",
    "'''\n",
    "year  visit\n",
    "2013  1       -1.0\n",
    "      2       -1.0\n",
    "2014  1       -0.0\n",
    "      2        0.0\n",
    "'''"
   ]
  },
  {
   "cell_type": "code",
   "execution_count": null,
   "metadata": {},
   "outputs": [],
   "source": [
    "# loc \n",
    "index = pd.MultiIndex.from_product([[2013, 2014],[1, 2]],\n",
    "                                    names=['year', 'visit'])\n",
    "\n",
    "columns = pd.MultiIndex.from_product([['Bob', 'Guido', 'Sue'],['HR', 'Temp']],\n",
    "                                    names=['subject', 'type'])\n",
    "\n",
    "data = np.round(np.random.randn(4, 6))\n",
    "\n",
    "health_data = pd.DataFrame(data, index=index, columns=columns)\n",
    "print(health_data.loc[:, ('Bob', 'HR')])\n",
    "'''\n",
    "year  visit\n",
    "2013  1       -0.0\n",
    "      2        1.0\n",
    "2014  1        1.0\n",
    "      2       -2.0\n",
    "Name: (Bob, HR), dtype: float64\n",
    "'''"
   ]
  },
  {
   "cell_type": "code",
   "execution_count": null,
   "metadata": {},
   "outputs": [],
   "source": [
    "# loc using idx\n",
    "index = pd.MultiIndex.from_product([[2013, 2014],[1, 2]],\n",
    "                                    names=['year', 'visit'])\n",
    "\n",
    "columns = pd.MultiIndex.from_product([['Bob', 'Guido', 'Sue'],\n",
    "                                        ['HR', 'Temp']],\n",
    "                                        names=['subject', 'type'])\n",
    "\n",
    "# data\n",
    "data = np.round(np.random.randn(4, 6))\n",
    "\n",
    "# make dataframe\n",
    "health_data = pd.DataFrame(data, index=index, columns=columns)\n",
    "\n",
    "idx = pd.IndexSlice # to define index\n",
    "\n",
    "print(health_data.loc[idx[:, 1], idx[:, 'HR']])"
   ]
  },
  {
   "cell_type": "markdown",
   "metadata": {},
   "source": [
    "# string"
   ]
  },
  {
   "cell_type": "code",
   "execution_count": null,
   "metadata": {},
   "outputs": [],
   "source": [
    "data = ['Peter','salma','ali','nada','15',' ','ah med']\n",
    "print(pd.Series(data).str.isalnum())\n",
    "'''\n",
    "0     True\n",
    "1     True\n",
    "2     True\n",
    "3     True\n",
    "4     True\n",
    "5    False\n",
    "6    False\n",
    "dtype: bool\n",
    "'''"
   ]
  },
  {
   "cell_type": "code",
   "execution_count": null,
   "metadata": {},
   "outputs": [],
   "source": [
    "data = ['Peter','salma','ALI','nada','15',' ','ah med']\n",
    "print(pd.Series(data).str.isalpha())\n",
    "'''\n",
    "0     True\n",
    "1     True\n",
    "2     True\n",
    "3     True\n",
    "4    False\n",
    "5    False\n",
    "6    False\n",
    "dtype: bool\n",
    "'''"
   ]
  },
  {
   "cell_type": "code",
   "execution_count": null,
   "metadata": {},
   "outputs": [],
   "source": [
    "data = ['Peter','salma','ALI','nada','15',' ','ah med']\n",
    "print(pd.Series(data).str.isnumeric())\n",
    "'''\n",
    "0    False\n",
    "1    False\n",
    "2    False\n",
    "3    False\n",
    "4     True\n",
    "5    False\n",
    "6    False\n",
    "dtype: bool\n",
    "'''"
   ]
  },
  {
   "cell_type": "code",
   "execution_count": null,
   "metadata": {},
   "outputs": [],
   "source": [
    "data = ['Peter','salma','ALI','nada','15',' ','ah med']\n",
    "print(pd.Series(data).str.swapcase())\n",
    "'''\n",
    "0     pETER\n",
    "1     SALMA\n",
    "2       ali\n",
    "3      NADA\n",
    "4        15\n",
    "5          \n",
    "6    AH MED\n",
    "dtype: object\n",
    "'''"
   ]
  },
  {
   "attachments": {},
   "cell_type": "markdown",
   "metadata": {},
   "source": [
    "+ imputation = modify data\n",
    "+ law feeh outlayer f b3ml imputation with medium not mean\n",
    "+ inplace in modify not create\n",
    "+ le6: 000000 zeros"
   ]
  },
  {
   "cell_type": "markdown",
   "metadata": {},
   "source": [
    "# To Datatime"
   ]
  },
  {
   "cell_type": "code",
   "execution_count": null,
   "metadata": {},
   "outputs": [],
   "source": [
    "print(pd.to_datetime(\"18th of june, 2002\")) # 2002-06-18 00:00:00"
   ]
  },
  {
   "cell_type": "code",
   "execution_count": null,
   "metadata": {},
   "outputs": [],
   "source": [
    "# datatime : to make time\n",
    "# 'D' : Day\n",
    "print(pd.to_datetime(\"18th of june, 2002\") - pd.to_timedelta(np.arange(10) , 'D'))  \n",
    "\n",
    "'''\n",
    "DatetimeIndex(['2002-06-18', '2002-06-17', '2002-06-16', '2002-06-15',\n",
    "               '2002-06-14', '2002-06-13', '2002-06-12', '2002-06-11',\n",
    "               '2002-06-10', '2002-06-09'],\n",
    "'''"
   ]
  },
  {
   "cell_type": "code",
   "execution_count": null,
   "metadata": {},
   "outputs": [],
   "source": [
    "# DatatimeIndex  : to make index\n",
    "\n",
    "index = pd.DatetimeIndex(['2010-01-10','2015-05-15','2017-05-16'])\n",
    "data = pd.Series([0,1,2], index=index)\n",
    "print(data['2010-01-1':'2015-06-15'])\n",
    "'''\n",
    "2010-01-10    0\n",
    "2015-05-15    1\n",
    "dtype: int64\n",
    "'''"
   ]
  },
  {
   "cell_type": "code",
   "execution_count": null,
   "metadata": {},
   "outputs": [],
   "source": [
    "index = pd.DatetimeIndex(['2010-01-10','2015-05-15','2017-07-16'])\n",
    "data = pd.Series([0,1,2], index=index)\n",
    "print(data['2015-05'])# 2015-05-15    1\n"
   ]
  },
  {
   "cell_type": "code",
   "execution_count": null,
   "metadata": {},
   "outputs": [],
   "source": [
    "# datarange : data from to \n",
    "data = pd.date_range('2015-01-01','2017-01-01') # include end\n",
    "print(data)"
   ]
  },
  {
   "cell_type": "code",
   "execution_count": null,
   "metadata": {},
   "outputs": [],
   "source": [
    "# period : increasing with 1 : number of increasing\n",
    "# freq : default is 'D' days \n",
    "# 'H' : hour\n",
    "# 'D' : Day\n",
    "# 'M' : Month\n",
    "\n",
    "# increasing with days\n",
    "print(pd.date_range('2015-01-01',periods=7,freq='D'))\n",
    "'''\n",
    "DatetimeIndex(['2015-01-01', '2015-01-02', '2015-01-03', '2015-01-04',\n",
    "               '2015-01-05', '2015-01-06', '2015-01-07'],\n",
    "'''"
   ]
  },
  {
   "cell_type": "code",
   "execution_count": null,
   "metadata": {},
   "outputs": [],
   "source": [
    "# increasing with hours\n",
    "print(pd.date_range('2015-01-01',periods=7,freq='H'))\n",
    "'''\n",
    "DatetimeIndex(['2015-01-01 00:00:00', '2015-01-01 01:00:00',\n",
    "               '2015-01-01 02:00:00', '2015-01-01 03:00:00',\n",
    "               '2015-01-01 04:00:00', '2015-01-01 05:00:00',\n",
    "               '2015-01-01 06:00:00'],\n",
    "'''"
   ]
  },
  {
   "cell_type": "code",
   "execution_count": null,
   "metadata": {},
   "outputs": [],
   "source": [
    "# increasing with months\n",
    "print(pd.date_range('2015-01-01',periods=7,freq='M'))\n",
    "'''\n",
    "DatetimeIndex(['2015-01-31', '2015-02-28', '2015-03-31', '2015-04-30',\n",
    "               '2015-05-31', '2015-06-30', '2015-07-31'],\n",
    "'''"
   ]
  },
  {
   "cell_type": "code",
   "execution_count": null,
   "metadata": {},
   "outputs": [],
   "source": [
    "# timedelta_range(start, periods  , freq)\n",
    "\n",
    "print(pd.timedelta_range(0,periods=7,freq='2H40T50S'))\n",
    "'''\n",
    "TimedeltaIndex(['0 days 00:00:00', '0 days 02:40:50', '0 days 05:21:40',\n",
    "                '0 days 08:02:30', '0 days 10:43:20', '0 days 13:24:10',\n",
    "                '0 days 16:05:00'],\n",
    "'''"
   ]
  },
  {
   "cell_type": "code",
   "execution_count": null,
   "metadata": {},
   "outputs": [],
   "source": [
    "# BDay : Business Day\n",
    "from pandas.tseries.offsets import BDay\n",
    "print(pd.date_range('2022-01-07',periods=5,freq=BDay())) \n",
    "'''\n",
    "# day 8 and day 9 is weekend ..\n",
    "DatetimeIndex(['2022-01-07', '2022-01-10', '2022-01-11', '2022-01-12',\n",
    "               '2022-01-13'],\n",
    "'''"
   ]
  },
  {
   "cell_type": "markdown",
   "metadata": {},
   "source": [
    "# Files"
   ]
  },
  {
   "cell_type": "code",
   "execution_count": null,
   "metadata": {},
   "outputs": [],
   "source": [
    "# read.cvs\n",
    "# csv : files Excel\n",
    "# head(number of rows) : default is 5 rows\n",
    "read_file = pd.read_csv(r\"/media/elsayedelmandoh/Rio/Courses/Python/Coding/009-mod_pandas/csv2.csv\")\n",
    "print(read_file.head())"
   ]
  },
  {
   "cell_type": "code",
   "execution_count": null,
   "metadata": {},
   "outputs": [],
   "source": [
    "read_file = pd.read_csv(r\"/media/elsayedelmandoh/Rio/Courses/Python/Coding/009-mod_pandas/csv2.csv\")\n",
    "print(read_file.head(10)) # read 10 rows"
   ]
  },
  {
   "cell_type": "code",
   "execution_count": null,
   "metadata": {},
   "outputs": [],
   "source": [
    "read_file = pd.read_csv(r\"/media/elsayedelmandoh/Rio/Courses/Python/Coding/009-mod_pandas/csv2.csv\")\n",
    "print(read_file) # read all rows"
   ]
  },
  {
   "cell_type": "code",
   "execution_count": null,
   "metadata": {},
   "outputs": [],
   "source": [
    "# convert file to .csv\n",
    "read_file = pd.read_csv(r\"/media/elsayedelmandoh/Rio/Courses/Python/Coding/009-mod_pandas/data.txt\")\n",
    "read_file.to_csv(r\"/media/elsayedelmandoh/Rio/Courses/Python/Coding/009-mod_pandas/csv2.csv\")\n",
    "print(read_file) # read all rows"
   ]
  },
  {
   "cell_type": "code",
   "execution_count": null,
   "metadata": {},
   "outputs": [],
   "source": [
    "# make column is unique (index)\n",
    "read_file = pd.read_csv(r\"/media/elsayedelmandoh/Rio/Courses/Python/Coding/009-mod_pandas/csv2.csv\",index_col=\"Sex\")\n",
    "print(read_file)"
   ]
  },
  {
   "cell_type": "code",
   "execution_count": null,
   "metadata": {},
   "outputs": [],
   "source": [
    "# convert file txt to file excel\n",
    "\n",
    "w = pd.Series({'a':1 ,'b':2 ,'c':3 ,'d':4 ,'e':5})\n",
    "x = pd.Series({'b':7 ,'c':8 ,'d':9 ,'e':10})\n",
    "y = pd.Series({'a':11 ,'b':12 ,'c':13 ,'d':14 ,'e':15})\n",
    "z = pd.Series({'a':16 ,'b':17 ,'c':18 ,'d':19 ,'e':20})\n",
    "grades = pd.DataFrame({'Math':w,'Physics':x,'French':y,'Chemistry':z})\n",
    "print(grades)\n",
    "grades.to_excel(r\"/media/elsayedelmandoh/Rio/Courses/Python/Coding/009-mod_pandas/data.xls\",sheet_name=\"Sheet 1\")"
   ]
  },
  {
   "cell_type": "code",
   "execution_count": null,
   "metadata": {},
   "outputs": [],
   "source": [
    "# read file excel\n",
    "\n",
    "data = pd.read_excel(r\"/media/elsayedelmandoh/Rio/Courses/Python/Coding/009-mod_pandas/data.xls\")\n",
    "print(data)"
   ]
  },
  {
   "cell_type": "code",
   "execution_count": null,
   "metadata": {},
   "outputs": [],
   "source": [
    "# make cols names\n",
    "\n",
    "data = pd.read_excel(r\"/media/elsayedelmandoh/Rio/Courses/Python/Coding/009-mod_pandas/data.xls\",names=['a','b','c','d'])\n",
    "print(data)"
   ]
  },
  {
   "cell_type": "code",
   "execution_count": null,
   "metadata": {},
   "outputs": [],
   "source": [
    "# set_option(precision, 3)\n",
    "\n",
    "data = pd.read_excel(r\"/media/elsayedelmandoh/Rio/Courses/Python/Coding/009-mod_pandas/data.xls\",names=['a','b','c','d'])\n",
    "pd.set_option(\"precision\",2) # to digit after comma\n",
    "print(data)\n",
    "'''\n",
    "   a      b   c   d\n",
    "a  1    NaN  11  16\n",
    "b  2   7.00  12  17\n",
    "c  3   8.46  13  18\n",
    "d  4   9.66  14  19\n",
    "e  5  10.00  15  20\n",
    "'''\n",
    "print(data.describe())\n",
    "'''\n",
    "          a      b      c      d\n",
    "count  5.00   4.00   5.00   5.00\n",
    "mean   3.00   8.78  13.00  18.00\n",
    "std    1.58   1.36   1.58   1.58\n",
    "min    1.00   7.00  11.00  16.00\n",
    "25%    2.00   8.09  12.00  17.00\n",
    "50%    3.00   9.06  13.00  18.00\n",
    "75%    4.00   9.74  14.00  19.00\n",
    "max    5.00  10.00  15.00  20.00\n",
    "'''"
   ]
  },
  {
   "cell_type": "code",
   "execution_count": null,
   "metadata": {},
   "outputs": [],
   "source": [
    "# data\n",
    "'''\n",
    "   a      b   c   d\n",
    "a  1    NaN  11  16\n",
    "b  2   7.00  12  17\n",
    "c  3   8.46  13  18\n",
    "d  4   9.66  14  19\n",
    "e  5  10.00  15  20\n",
    "'''\n",
    "# size() : count of data in cols\n",
    "print(data.groupby('a').size()) "
   ]
  },
  {
   "cell_type": "code",
   "execution_count": null,
   "metadata": {},
   "outputs": [],
   "source": [
    "# corr :method person\n",
    "data = pd.read_excel(r\"/media/elsayedelmandoh/Rio/Courses/Python/Coding/009-mod_pandas/data.xls\",names=['a','b','c','d'])\n",
    "'''\n",
    "   a      b   c   d\n",
    "a  1    NaN  11  16\n",
    "b  2   7.00  12  17\n",
    "c  3   8.46  13  18\n",
    "d  4   9.66  14  19\n",
    "e  5  10.00  15  20\n",
    "'''\n",
    "\n",
    "print(data.corr(method='pearson'))\n",
    "'''\n",
    "      a     b     c     d\n",
    "a  1.00  0.20  0.83  0.85\n",
    "b  0.20  1.00  0.41  0.15\n",
    "c  0.83  0.41  1.00  0.97\n",
    "d  0.85  0.15  0.97  1.00\n",
    "'''"
   ]
  },
  {
   "cell_type": "code",
   "execution_count": null,
   "metadata": {},
   "outputs": [],
   "source": [
    "# corr :method person\n",
    "data = pd.read_excel(r\"/media/elsayedelmandoh/Rio/Courses/Python/Coding/009-mod_pandas/data.xls\",names=['a','b','c','d'])\n",
    "'''\n",
    "   a      b   c   d\n",
    "a  1    NaN  11  16\n",
    "b  2   7.00  12  17\n",
    "c  3   8.46  13  18\n",
    "d  4   9.66  14  19\n",
    "e  5  10.00  15  20\n",
    "'''\n",
    "\n",
    "print(data.skew())\n",
    "'''\n",
    "a    1.33\n",
    "b    1.51\n",
    "c    0.26\n",
    "d    0.62\n",
    "dtype: float64\n",
    "'''"
   ]
  },
  {
   "cell_type": "markdown",
   "metadata": {},
   "source": [
    "# Electro pi"
   ]
  },
  {
   "cell_type": "markdown",
   "metadata": {},
   "source": [
    "filter with character "
   ]
  },
  {
   "cell_type": "code",
   "execution_count": 2,
   "metadata": {},
   "outputs": [],
   "source": [
    "import pandas as pd"
   ]
  },
  {
   "cell_type": "markdown",
   "metadata": {},
   "source": [
    "merge with how left : must be return data1"
   ]
  },
  {
   "cell_type": "code",
   "execution_count": 40,
   "metadata": {},
   "outputs": [
    {
     "data": {
      "text/html": [
       "<div>\n",
       "<style scoped>\n",
       "    .dataframe tbody tr th:only-of-type {\n",
       "        vertical-align: middle;\n",
       "    }\n",
       "\n",
       "    .dataframe tbody tr th {\n",
       "        vertical-align: top;\n",
       "    }\n",
       "\n",
       "    .dataframe thead th {\n",
       "        text-align: right;\n",
       "    }\n",
       "</style>\n",
       "<table border=\"1\" class=\"dataframe\">\n",
       "  <thead>\n",
       "    <tr style=\"text-align: right;\">\n",
       "      <th></th>\n",
       "      <th>name</th>\n",
       "      <th>group</th>\n",
       "      <th>hire_date</th>\n",
       "    </tr>\n",
       "  </thead>\n",
       "  <tbody>\n",
       "    <tr>\n",
       "      <th>0</th>\n",
       "      <td>Ali</td>\n",
       "      <td>Accounting</td>\n",
       "      <td>2012.0</td>\n",
       "    </tr>\n",
       "    <tr>\n",
       "      <th>1</th>\n",
       "      <td>ahmed</td>\n",
       "      <td>Engineering</td>\n",
       "      <td>NaN</td>\n",
       "    </tr>\n",
       "    <tr>\n",
       "      <th>2</th>\n",
       "      <td>elsayed</td>\n",
       "      <td>HR</td>\n",
       "      <td>2014.0</td>\n",
       "    </tr>\n",
       "  </tbody>\n",
       "</table>\n",
       "</div>"
      ],
      "text/plain": [
       "      name        group  hire_date\n",
       "0      Ali   Accounting     2012.0\n",
       "1    ahmed  Engineering        NaN\n",
       "2  elsayed           HR     2014.0"
      ]
     },
     "execution_count": 40,
     "metadata": {},
     "output_type": "execute_result"
    }
   ],
   "source": [
    "data1 = pd.DataFrame({'name':['Ali','ahmed','elsayed'],'group':['Accounting','Engineering','HR']})\n",
    "data2 = pd.DataFrame({'name':['Ali','elsayed'],'hire_date':[2012,2014]})\n",
    "df = pd.merge(data1,data2,how ='left')\n",
    "df"
   ]
  },
  {
   "cell_type": "markdown",
   "metadata": {},
   "source": [
    "filter"
   ]
  },
  {
   "cell_type": "code",
   "execution_count": 41,
   "metadata": {},
   "outputs": [
    {
     "data": {
      "text/html": [
       "<div>\n",
       "<style scoped>\n",
       "    .dataframe tbody tr th:only-of-type {\n",
       "        vertical-align: middle;\n",
       "    }\n",
       "\n",
       "    .dataframe tbody tr th {\n",
       "        vertical-align: top;\n",
       "    }\n",
       "\n",
       "    .dataframe thead th {\n",
       "        text-align: right;\n",
       "    }\n",
       "</style>\n",
       "<table border=\"1\" class=\"dataframe\">\n",
       "  <thead>\n",
       "    <tr style=\"text-align: right;\">\n",
       "      <th></th>\n",
       "      <th>name</th>\n",
       "      <th>hire_date</th>\n",
       "    </tr>\n",
       "  </thead>\n",
       "  <tbody>\n",
       "    <tr>\n",
       "      <th>0</th>\n",
       "      <td>Ali</td>\n",
       "      <td>2012.0</td>\n",
       "    </tr>\n",
       "    <tr>\n",
       "      <th>1</th>\n",
       "      <td>ahmed</td>\n",
       "      <td>NaN</td>\n",
       "    </tr>\n",
       "    <tr>\n",
       "      <th>2</th>\n",
       "      <td>elsayed</td>\n",
       "      <td>2014.0</td>\n",
       "    </tr>\n",
       "  </tbody>\n",
       "</table>\n",
       "</div>"
      ],
      "text/plain": [
       "      name  hire_date\n",
       "0      Ali     2012.0\n",
       "1    ahmed        NaN\n",
       "2  elsayed     2014.0"
      ]
     },
     "execution_count": 41,
     "metadata": {},
     "output_type": "execute_result"
    }
   ],
   "source": [
    "df.filter(like='e', axis=1)"
   ]
  },
  {
   "cell_type": "markdown",
   "metadata": {},
   "source": [
    "groupby"
   ]
  },
  {
   "cell_type": "code",
   "execution_count": 42,
   "metadata": {},
   "outputs": [
    {
     "data": {
      "text/html": [
       "<div>\n",
       "<style scoped>\n",
       "    .dataframe tbody tr th:only-of-type {\n",
       "        vertical-align: middle;\n",
       "    }\n",
       "\n",
       "    .dataframe tbody tr th {\n",
       "        vertical-align: top;\n",
       "    }\n",
       "\n",
       "    .dataframe thead th {\n",
       "        text-align: right;\n",
       "    }\n",
       "</style>\n",
       "<table border=\"1\" class=\"dataframe\">\n",
       "  <thead>\n",
       "    <tr style=\"text-align: right;\">\n",
       "      <th></th>\n",
       "      <th>name</th>\n",
       "      <th>group</th>\n",
       "    </tr>\n",
       "    <tr>\n",
       "      <th>hire_date</th>\n",
       "      <th></th>\n",
       "      <th></th>\n",
       "    </tr>\n",
       "  </thead>\n",
       "  <tbody>\n",
       "    <tr>\n",
       "      <th>2012.0</th>\n",
       "      <td>Ali</td>\n",
       "      <td>Accounting</td>\n",
       "    </tr>\n",
       "    <tr>\n",
       "      <th>2014.0</th>\n",
       "      <td>elsayed</td>\n",
       "      <td>HR</td>\n",
       "    </tr>\n",
       "  </tbody>\n",
       "</table>\n",
       "</div>"
      ],
      "text/plain": [
       "              name       group\n",
       "hire_date                     \n",
       "2012.0         Ali  Accounting\n",
       "2014.0     elsayed          HR"
      ]
     },
     "execution_count": 42,
     "metadata": {},
     "output_type": "execute_result"
    }
   ],
   "source": [
    "df.groupby('hire_date').sum()"
   ]
  },
  {
   "cell_type": "code",
   "execution_count": 43,
   "metadata": {},
   "outputs": [],
   "source": [
    "# df.drop_duplicates('column', keep='last') # keep = 'first'"
   ]
  },
  {
   "cell_type": "code",
   "execution_count": 44,
   "metadata": {},
   "outputs": [
    {
     "data": {
      "text/plain": [
       "name         0\n",
       "group        0\n",
       "hire_date    1\n",
       "dtype: int64"
      ]
     },
     "execution_count": 44,
     "metadata": {},
     "output_type": "execute_result"
    }
   ],
   "source": [
    "df.isna().sum()"
   ]
  },
  {
   "cell_type": "markdown",
   "metadata": {},
   "source": [
    "drop na"
   ]
  },
  {
   "cell_type": "code",
   "execution_count": 45,
   "metadata": {},
   "outputs": [],
   "source": [
    "df_without_na = df.dropna() # drop all na in dataframe"
   ]
  },
  {
   "cell_type": "code",
   "execution_count": 46,
   "metadata": {},
   "outputs": [
    {
     "data": {
      "text/plain": [
       "name         0\n",
       "group        0\n",
       "hire_date    0\n",
       "dtype: int64"
      ]
     },
     "execution_count": 46,
     "metadata": {},
     "output_type": "execute_result"
    }
   ],
   "source": [
    "df_without_na.isna().sum()"
   ]
  },
  {
   "cell_type": "code",
   "execution_count": 47,
   "metadata": {},
   "outputs": [
    {
     "data": {
      "text/html": [
       "<div>\n",
       "<style scoped>\n",
       "    .dataframe tbody tr th:only-of-type {\n",
       "        vertical-align: middle;\n",
       "    }\n",
       "\n",
       "    .dataframe tbody tr th {\n",
       "        vertical-align: top;\n",
       "    }\n",
       "\n",
       "    .dataframe thead th {\n",
       "        text-align: right;\n",
       "    }\n",
       "</style>\n",
       "<table border=\"1\" class=\"dataframe\">\n",
       "  <thead>\n",
       "    <tr style=\"text-align: right;\">\n",
       "      <th></th>\n",
       "      <th>name</th>\n",
       "      <th>group</th>\n",
       "      <th>hire_date</th>\n",
       "    </tr>\n",
       "  </thead>\n",
       "  <tbody>\n",
       "    <tr>\n",
       "      <th>0</th>\n",
       "      <td>Ali</td>\n",
       "      <td>Accounting</td>\n",
       "      <td>2012.0</td>\n",
       "    </tr>\n",
       "    <tr>\n",
       "      <th>2</th>\n",
       "      <td>elsayed</td>\n",
       "      <td>HR</td>\n",
       "      <td>2014.0</td>\n",
       "    </tr>\n",
       "  </tbody>\n",
       "</table>\n",
       "</div>"
      ],
      "text/plain": [
       "      name       group  hire_date\n",
       "0      Ali  Accounting     2012.0\n",
       "2  elsayed          HR     2014.0"
      ]
     },
     "execution_count": 47,
     "metadata": {},
     "output_type": "execute_result"
    }
   ],
   "source": [
    "df_without_na"
   ]
  },
  {
   "cell_type": "markdown",
   "metadata": {},
   "source": [
    "fill with mean"
   ]
  },
  {
   "cell_type": "code",
   "execution_count": 49,
   "metadata": {},
   "outputs": [],
   "source": [
    "import numpy as np"
   ]
  },
  {
   "cell_type": "code",
   "execution_count": 50,
   "metadata": {},
   "outputs": [],
   "source": [
    "df['hire_date'].fillna(np.mean(df['hire_date']), inplace=True) "
   ]
  },
  {
   "cell_type": "code",
   "execution_count": 51,
   "metadata": {},
   "outputs": [
    {
     "data": {
      "text/html": [
       "<div>\n",
       "<style scoped>\n",
       "    .dataframe tbody tr th:only-of-type {\n",
       "        vertical-align: middle;\n",
       "    }\n",
       "\n",
       "    .dataframe tbody tr th {\n",
       "        vertical-align: top;\n",
       "    }\n",
       "\n",
       "    .dataframe thead th {\n",
       "        text-align: right;\n",
       "    }\n",
       "</style>\n",
       "<table border=\"1\" class=\"dataframe\">\n",
       "  <thead>\n",
       "    <tr style=\"text-align: right;\">\n",
       "      <th></th>\n",
       "      <th>name</th>\n",
       "      <th>group</th>\n",
       "      <th>hire_date</th>\n",
       "    </tr>\n",
       "  </thead>\n",
       "  <tbody>\n",
       "    <tr>\n",
       "      <th>0</th>\n",
       "      <td>Ali</td>\n",
       "      <td>Accounting</td>\n",
       "      <td>2012.0</td>\n",
       "    </tr>\n",
       "    <tr>\n",
       "      <th>1</th>\n",
       "      <td>ahmed</td>\n",
       "      <td>Engineering</td>\n",
       "      <td>2013.0</td>\n",
       "    </tr>\n",
       "    <tr>\n",
       "      <th>2</th>\n",
       "      <td>elsayed</td>\n",
       "      <td>HR</td>\n",
       "      <td>2014.0</td>\n",
       "    </tr>\n",
       "  </tbody>\n",
       "</table>\n",
       "</div>"
      ],
      "text/plain": [
       "      name        group  hire_date\n",
       "0      Ali   Accounting     2012.0\n",
       "1    ahmed  Engineering     2013.0\n",
       "2  elsayed           HR     2014.0"
      ]
     },
     "execution_count": 51,
     "metadata": {},
     "output_type": "execute_result"
    }
   ],
   "source": [
    "df"
   ]
  },
  {
   "cell_type": "code",
   "execution_count": 52,
   "metadata": {},
   "outputs": [
    {
     "data": {
      "text/plain": [
       "name\n",
       "Ali        1\n",
       "ahmed      1\n",
       "elsayed    1\n",
       "Name: count, dtype: int64"
      ]
     },
     "execution_count": 52,
     "metadata": {},
     "output_type": "execute_result"
    }
   ],
   "source": [
    "df['name'].value_counts()"
   ]
  },
  {
   "cell_type": "markdown",
   "metadata": {},
   "source": [
    "Concat"
   ]
  },
  {
   "cell_type": "code",
   "execution_count": null,
   "metadata": {},
   "outputs": [],
   "source": [
    "res= pd.concat([df1,df2], ignore_index=True) # ignore: rest index"
   ]
  },
  {
   "cell_type": "markdown",
   "metadata": {},
   "source": [
    "Rest index"
   ]
  },
  {
   "cell_type": "code",
   "execution_count": null,
   "metadata": {},
   "outputs": [],
   "source": [
    "res.reset_index(inplace=True)"
   ]
  },
  {
   "cell_type": "markdown",
   "metadata": {},
   "source": [
    "Append"
   ]
  },
  {
   "cell_type": "code",
   "execution_count": null,
   "metadata": {},
   "outputs": [],
   "source": [
    "res= df1.append(df2) # == concat "
   ]
  },
  {
   "cell_type": "code",
   "execution_count": 53,
   "metadata": {},
   "outputs": [
    {
     "name": "stdout",
     "output_type": "stream",
     "text": [
      "[1 2 3 4 5 6]\n"
     ]
    }
   ],
   "source": [
    "import numpy as np\n",
    "arr1 = np.array([1, 2, 3])\n",
    "arr2 = np.array([4, 5, 6])\n",
    "arr3 = np.concatenate([arr1, arr2])\n",
    "print(arr3)"
   ]
  },
  {
   "cell_type": "code",
   "execution_count": null,
   "metadata": {},
   "outputs": [],
   "source": []
  },
  {
   "cell_type": "code",
   "execution_count": 1,
   "metadata": {},
   "outputs": [
    {
     "data": {
      "text/html": [
       "<div>\n",
       "<style scoped>\n",
       "    .dataframe tbody tr th:only-of-type {\n",
       "        vertical-align: middle;\n",
       "    }\n",
       "\n",
       "    .dataframe tbody tr th {\n",
       "        vertical-align: top;\n",
       "    }\n",
       "\n",
       "    .dataframe thead th {\n",
       "        text-align: right;\n",
       "    }\n",
       "</style>\n",
       "<table border=\"1\" class=\"dataframe\">\n",
       "  <thead>\n",
       "    <tr style=\"text-align: right;\">\n",
       "      <th></th>\n",
       "      <th>A</th>\n",
       "      <th>B</th>\n",
       "      <th>C</th>\n",
       "    </tr>\n",
       "  </thead>\n",
       "  <tbody>\n",
       "    <tr>\n",
       "      <th>0</th>\n",
       "      <td>1</td>\n",
       "      <td>4</td>\n",
       "      <td>5</td>\n",
       "    </tr>\n",
       "    <tr>\n",
       "      <th>1</th>\n",
       "      <td>2</td>\n",
       "      <td>5</td>\n",
       "      <td>7</td>\n",
       "    </tr>\n",
       "    <tr>\n",
       "      <th>2</th>\n",
       "      <td>3</td>\n",
       "      <td>6</td>\n",
       "      <td>9</td>\n",
       "    </tr>\n",
       "  </tbody>\n",
       "</table>\n",
       "</div>"
      ],
      "text/plain": [
       "   A  B  C\n",
       "0  1  4  5\n",
       "1  2  5  7\n",
       "2  3  6  9"
      ]
     },
     "execution_count": 1,
     "metadata": {},
     "output_type": "execute_result"
    }
   ],
   "source": [
    "import pandas as pd\n",
    "df = pd.DataFrame({'A': [1, 2, 3], \n",
    "                   'B': [4, 5, 6]})\n",
    "df['C'] = df.apply(lambda row: row['A'] + row['B'], axis=1)\n",
    "df"
   ]
  },
  {
   "cell_type": "code",
   "execution_count": 55,
   "metadata": {},
   "outputs": [
    {
     "name": "stdout",
     "output_type": "stream",
     "text": [
      "(3,)\n"
     ]
    }
   ],
   "source": [
    "import numpy as np\n",
    "arr = np.array([1, 2, 3])\n",
    "print(arr.shape)"
   ]
  }
 ],
 "metadata": {
  "kernelspec": {
   "display_name": "Python 3.10.4 64-bit",
   "language": "python",
   "name": "python3"
  },
  "language_info": {
   "codemirror_mode": {
    "name": "ipython",
    "version": 3
   },
   "file_extension": ".py",
   "mimetype": "text/x-python",
   "name": "python",
   "nbconvert_exporter": "python",
   "pygments_lexer": "ipython3",
   "version": "3.11.4"
  },
  "orig_nbformat": 4,
  "vscode": {
   "interpreter": {
    "hash": "916dbcbb3f70747c44a77c7bcd40155683ae19c65e1c03b4aa3499c5328201f1"
   }
  }
 },
 "nbformat": 4,
 "nbformat_minor": 2
}
