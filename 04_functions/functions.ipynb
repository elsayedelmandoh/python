{
 "cells": [
  {
   "cell_type": "markdown",
   "metadata": {},
   "source": [
    "Type functions ...\n",
    "- default args\n",
    "- positional args\n",
    "- keyword args\n",
    "- arbitrary positional args\n",
    "- arbitrary keyword args"
   ]
  },
  {
   "cell_type": "code",
   "execution_count": null,
   "metadata": {},
   "outputs": [],
   "source": [
    "def f(a=10,b=20, *args,**kwargs): \n",
    "    print(f'a : {a}')\n",
    "    print(f'b : {b}')\n",
    "    print(f'args : {args}')\n",
    "\n",
    "    for key , value in kwargs.items():\n",
    "        print(f'{key} is {value}')\n",
    "\n"
   ]
  },
  {
   "cell_type": "code",
   "execution_count": null,
   "metadata": {},
   "outputs": [],
   "source": [
    "# default args\n",
    "f()\n",
    "'''\n",
    "a : 10\n",
    "b : 20\n",
    "args : ()\n",
    "'''"
   ]
  },
  {
   "cell_type": "code",
   "execution_count": null,
   "metadata": {},
   "outputs": [],
   "source": [
    "# positional args\n",
    "f(0,4)\n",
    "\n",
    "'''\n",
    "a : 0\n",
    "b : 4\n",
    "args : ()\n",
    "'''"
   ]
  },
  {
   "cell_type": "code",
   "execution_count": null,
   "metadata": {},
   "outputs": [],
   "source": [
    "# - keyword args\n",
    "f(b=20,a=10)\n",
    "\n",
    "'''\n",
    "a : 10\n",
    "b : 20\n",
    "args : ()\n",
    "'''"
   ]
  },
  {
   "cell_type": "code",
   "execution_count": null,
   "metadata": {},
   "outputs": [],
   "source": [
    "# - arbitrary positional args\n",
    "f(1,2,3,4,5,6)\n",
    "'''\n",
    "a : 1\n",
    "b : 2\n",
    "args : (3, 4, 5, 6)\n",
    "'''"
   ]
  },
  {
   "cell_type": "code",
   "execution_count": null,
   "metadata": {},
   "outputs": [],
   "source": [
    "# - arbitrary keyword args\n",
    "f(1,2,3,4,cat='animal',dog='animal',cheese='food')\n",
    "'''\n",
    "a : 1\n",
    "b : 2\n",
    "args : (3,4)\n",
    "cat is animal\n",
    "dog is animal\n",
    "cheese is food\n",
    "'''"
   ]
  },
  {
   "cell_type": "code",
   "execution_count": null,
   "metadata": {},
   "outputs": [
    {
     "name": "stdout",
     "output_type": "stream",
     "text": [
      "(1, 3, 5)\n",
      "<class 'tuple'>\n"
     ]
    }
   ],
   "source": [
    "def fun():\n",
    "    return 1,3,5\n",
    "\n",
    "print(fun()) # (1,3,5)\n",
    "print(type(fun())) # tupe"
   ]
  },
  {
   "cell_type": "markdown",
   "metadata": {},
   "source": [
    "# Global Variables and local Variables"
   ]
  },
  {
   "cell_type": "code",
   "execution_count": null,
   "metadata": {},
   "outputs": [],
   "source": [
    "x = 10 # global variable\n",
    "\n",
    "def function(): \n",
    "    x = 20 # local variable\n",
    "    print(x)\n",
    "\n",
    "function() # print local variable x\n",
    "print(x) # print global variable x "
   ]
  },
  {
   "cell_type": "code",
   "execution_count": null,
   "metadata": {},
   "outputs": [],
   "source": [
    "x = 10 # global variable\n",
    "def function(): \n",
    "    global x # x become global \n",
    "    x = 20 # global variable\n",
    "    print(x) \n",
    "\n",
    "function() # print local variable x that is now a global variable\n",
    "print(x) # print global x "
   ]
  },
  {
   "cell_type": "markdown",
   "metadata": {},
   "source": [
    "# Pack and upack"
   ]
  },
  {
   "cell_type": "code",
   "execution_count": null,
   "metadata": {},
   "outputs": [],
   "source": [
    "def a(*list):\n",
    "    for i in list:\n",
    "        print(i*2)\n",
    "\n",
    "a(1,2,3,4)"
   ]
  },
  {
   "cell_type": "code",
   "execution_count": null,
   "metadata": {},
   "outputs": [],
   "source": [
    "def b(a,b,c,d):\n",
    "    ls = [a,b,c,d]\n",
    "    for i in ls:\n",
    "        print(i*3)\n",
    "\n",
    "tup = (1,2,3,4)\n",
    "b(*tup)"
   ]
  },
  {
   "cell_type": "code",
   "execution_count": null,
   "metadata": {},
   "outputs": [],
   "source": [
    "def c(a,*ls):\n",
    "    print('a',a)\n",
    "    for i in range(len(ls)):\n",
    "        print(f'ls {i}:', ls[i])\n",
    "\n",
    "c(1,2,5,4,7)"
   ]
  },
  {
   "cell_type": "code",
   "execution_count": null,
   "metadata": {},
   "outputs": [],
   "source": [
    "# dict\n",
    "def d(**values):\n",
    "    values.pop('one')\n",
    "    print(values)\n",
    "\n",
    "d(one=1,two=2,three=3,four=4,five=5)"
   ]
  },
  {
   "cell_type": "code",
   "execution_count": null,
   "metadata": {},
   "outputs": [],
   "source": [
    "# dict\n",
    "def d(**values):\n",
    "    for key,value in values.items():\n",
    "        print(f'{key}: {value}')\n",
    "\n",
    "d(one=1,two=2,three=3,four=4,five=5)"
   ]
  },
  {
   "cell_type": "code",
   "execution_count": null,
   "metadata": {},
   "outputs": [],
   "source": [
    "def e(**values):\n",
    "    for i in values: # loop through key\n",
    "        print(i*3)\n",
    "    for i in values.values(): # loop through values\n",
    "        print(i*3)\n",
    "e(one=1,two=2,three=3,four=4,five=5)"
   ]
  },
  {
   "cell_type": "code",
   "execution_count": null,
   "metadata": {},
   "outputs": [],
   "source": [
    "def f(a,b,*ls,**dic):\n",
    "    print(f'a is {a}')\n",
    "    print(f'b is {b}')\n",
    "    print(f'ls is {ls}') # as tuple\n",
    "    print(f'dict is {dic}')\n",
    "\n",
    "f(1,2,1,2,3,4,5,six=6,seven=7,eight=8)"
   ]
  },
  {
   "cell_type": "code",
   "execution_count": null,
   "metadata": {},
   "outputs": [],
   "source": [
    "def st(name,age,gender,gpa):\n",
    "    print(name)\n",
    "    print(age)\n",
    "    print(gender)\n",
    "    print(gpa)\n",
    "dicst= {'age': 20, 'gender': 'male', 'gpa': 3.8, 'name': 'Rio'}\n",
    "st(**dicst)"
   ]
  },
  {
   "cell_type": "code",
   "execution_count": null,
   "metadata": {},
   "outputs": [
    {
     "name": "stdout",
     "output_type": "stream",
     "text": [
      "i = 0\n",
      "a = -1 + -2 = 1\n",
      "Result= [1, 0, 1]\n",
      "*******\n",
      "i = 1\n",
      "a = 0 + -1 = 2\n",
      "Result= [1, 0, 1, 2]\n",
      "*******\n",
      "i = 2\n",
      "a = 1 + 0 = 1\n",
      "Result= [1, 0, 1, 2, 1]\n",
      "*******\n",
      "i = 3\n",
      "a = 2 + 1 = 1\n",
      "Result= [1, 0, 1, 2, 1, 1]\n",
      "*******\n",
      "i = 4\n",
      "a = 3 + 2 = 3\n",
      "Result= [1, 0, 1, 2, 1, 1, 3]\n",
      "*******\n"
     ]
    },
    {
     "data": {
      "text/plain": [
       "[1, 0, 1, 2, 1, 1, 3]"
      ]
     },
     "metadata": {},
     "output_type": "display_data"
    }
   ],
   "source": [
    "def fibs(num):\n",
    "    result = [1,0]\n",
    "    for i in range(num):\n",
    "        print(f\"i = {i}\")\n",
    "        a = result[i-1] + result[i-2]\n",
    "        print(f\"a = {i-1} + {i-2} = {a}\")\n",
    "        result.append(a)\n",
    "        print(f\"Result= {result}\")\n",
    "        print('*'*7)\n",
    "    return result\n",
    "\n",
    "fibs(5)    # [1, 0, 1, 2, 1, 1, 3, 3, 2]"
   ]
  },
  {
   "cell_type": "code",
   "execution_count": null,
   "metadata": {},
   "outputs": [],
   "source": [
    "def details(*peoples , **skills):\n",
    "    print(type(peoples)) # tuple\n",
    "    print(type(skills)) # Dict\n",
    "    print('*'*50)\n",
    "    for name in peoples:\n",
    "        print(f\"Hello {name}\")\n",
    "        for skill in skills:\n",
    "            print(f\"{skill} is {skills[skill]}\")\n",
    "        \n",
    "        print('*'*50)\n",
    "\n",
    "skills = {\"python\": \"good\", \"java\": \"bad\", \"c++\": \"good\"}\n",
    "details(\"John\", \"Jane\", \"Jack\", \"Jill\",**skills) # **skills to be a dict "
   ]
  },
  {
   "cell_type": "code",
   "execution_count": null,
   "metadata": {},
   "outputs": [],
   "source": [
    "skills=(\"Python\",\"HTML\", \"CSS\")\n",
    "# add a new skill to the tuple\n",
    "lst = list(skills) # convert tuple to list\n",
    "lst.append(\"Java\")\n",
    "skills = tuple(lst) # convert list to tuple\n",
    "\n",
    "skillsWithProgress = {\"python\": \"good\",\n",
    "\"java\": \"bad\",\n",
    "\"c++\": \"good\"}\n",
    "# add a new skill to the dict\n",
    "skillsWithProgress.update({\"HTML\":\"good\"})\n",
    "\n",
    "def details(name,*skills , **skillsWithProgress):\n",
    "    print(type(name)) # str\n",
    "    print(type(skills)) # tuple\n",
    "    print(type(skillsWithProgress)) # Dict\n",
    "    \n",
    "    print('*'*50)\n",
    "\n",
    "    print(f\"Hello {name}\")\n",
    "    for skill in skills: # loop on keys\n",
    "        print(f\"you have skill : {skill}\")\n",
    "\n",
    "    print('*'*50)\n",
    "\n",
    "    for key, value in skillsWithProgress.items(): # loop on keys and values\n",
    "        print(f\"- {key} : {value}\")\n",
    "\n",
    "\n",
    "details(\"John\", *skills ,**skillsWithProgress) # **skills to be a dict "
   ]
  },
  {
   "cell_type": "markdown",
   "metadata": {},
   "source": [
    "# function in function"
   ]
  },
  {
   "cell_type": "code",
   "execution_count": null,
   "metadata": {},
   "outputs": [],
   "source": [
    "from math import sqrt\n",
    "\n",
    "# a = int(input(\"a: \"))\n",
    "# b = int(input(\"b: \"))\n",
    "# c = int(input(\"c: \"))\n",
    "ia = 2\n",
    "ib = 9\n",
    "ic = 7\n",
    "\n",
    "'''\n",
    "res =-b * root(b**2 - 4*a*c) / 24\n",
    "'''\n",
    "def mult(ia,ic):\n",
    "    return 4*ia*ic\n",
    "\n",
    "def power(ib):\n",
    "    return ib**2\n",
    "\n",
    "def mins(p,m):\n",
    "    return p - m\n",
    "\n",
    "def root(ro):\n",
    "    return sqrt(ro)\n",
    "\n",
    "def root24(r):\n",
    "    return r/24\n",
    "\n",
    "def neg(n):\n",
    "    return -ib * n\n",
    "\n",
    "print(f'mins = {mins(power(ib) , mult(ia,ic))}') # 25\n",
    "res = neg(root24(root(mins(power(ib) , mult(ia,ic))))) # -1.875\n",
    "print(res)"
   ]
  },
  {
   "cell_type": "markdown",
   "metadata": {},
   "source": [
    "# Recursion "
   ]
  },
  {
   "cell_type": "code",
   "execution_count": null,
   "metadata": {},
   "outputs": [],
   "source": [
    "# method clean words.\n",
    "def cleanword(word):\n",
    "    if len(word) == 1: # if word is 1 char, return it\n",
    "        return word\n",
    "\n",
    "# if first and second char are the same, remove one char and call cleanword again\n",
    "    if word[0].lower() == word[1].lower(): \n",
    "                return cleanword(word[1:])\n",
    "\n",
    "    # Stash [chars that not duplicated]\n",
    "    # if first and second char are different, return first char and call cleanword again\n",
    "    return word[0] + cleanword(word[1:]) \n",
    "\n",
    "print(cleanword(\"hHheeellllooo\")) # helo"
   ]
  },
  {
   "cell_type": "code",
   "execution_count": null,
   "metadata": {},
   "outputs": [],
   "source": [
    "# recursive factorial\n",
    "def fact(n):\n",
    "    if n == 1:\n",
    "        return 1\n",
    "    else:\n",
    "        return n * fact(n-1) # 4 * 3 * 2 * 1\n",
    "    \n",
    "print(fact(4))"
   ]
  },
  {
   "cell_type": "markdown",
   "metadata": {},
   "source": [
    "# Lambda"
   ]
  },
  {
   "cell_type": "code",
   "execution_count": null,
   "metadata": {},
   "outputs": [],
   "source": [
    "# function\n",
    "def printName(name):\n",
    "    print(f'Hello {name}')\n",
    "printName('Elsayed')\n",
    "\n",
    "# Lambda\n",
    "name = lambda name: print(f'hello {name}')\n",
    "name('Elsayed')"
   ]
  },
  {
   "cell_type": "markdown",
   "metadata": {},
   "source": [
    "# Built in functions"
   ]
  },
  {
   "cell_type": "code",
   "execution_count": null,
   "metadata": {},
   "outputs": [],
   "source": [
    "# all() return True if all elements are True otherwise return False\n",
    "x= [1,2.1,True,3,4.8,(1,2,3,4),{\"one\":1,\"Two\":2}]\n",
    "print(all(x)) # true\n",
    "\n",
    "x= [1,2.1,True,3,4.8,[],(1,2,3,4),{\"one\":1,\"Two\":2}]\n",
    "print(all(x)) # False : []"
   ]
  },
  {
   "cell_type": "code",
   "execution_count": null,
   "metadata": {},
   "outputs": [],
   "source": [
    "# any() return True if any elements are True otherwise return False\n",
    "x= [1,2.1,True,3,4.8,(1,2,3,4),{\"one\":1,\"Two\":2}]\n",
    "print(any(x)) # true\n",
    "\n",
    "x= [0,[]]\n",
    "print(any(x)) # False : no one is true"
   ]
  },
  {
   "cell_type": "code",
   "execution_count": null,
   "metadata": {},
   "outputs": [],
   "source": [
    "# bin(int)\n",
    "print(bin(120)) # 0b1111000"
   ]
  },
  {
   "cell_type": "code",
   "execution_count": null,
   "metadata": {},
   "outputs": [],
   "source": [
    "# id(variable)\n",
    "a=5\n",
    "b=7\n",
    "print(id(a)) # 1913305825648\n",
    "print(id(b)) # 1913305825712"
   ]
  },
  {
   "cell_type": "code",
   "execution_count": null,
   "metadata": {},
   "outputs": [],
   "source": [
    "# sum(iterable, start)\n",
    "ls =[1,2,3,6,9,7]\n",
    "print(sum(ls,2)) # start 2"
   ]
  },
  {
   "cell_type": "code",
   "execution_count": null,
   "metadata": {},
   "outputs": [],
   "source": [
    "# round(number, numOfDigits)\n",
    "print(round(150.49)) # 150\n",
    "print(round(150.50)) # 150\n",
    "print(round(150.51)) # 151\n",
    "print(round(150.514,2)) # 151.51\n",
    "print(round(150.515,3)) # 151.515"
   ]
  },
  {
   "cell_type": "code",
   "execution_count": null,
   "metadata": {},
   "outputs": [],
   "source": [
    "# range(start , end , step) \n",
    "# start is optional \n",
    "print(list(range(0))) # end = 0 > 0 to 0 step 1\n",
    "print(list(range(5))) # end = 5 > 5 to 5 step 1\n",
    "print(tuple(range(0,2))) # start = 0 and end = 2 and step = 1\n",
    "print(list(range(0,50,5))) # start = 0 and end = 50 and step = 5"
   ]
  },
  {
   "cell_type": "code",
   "execution_count": null,
   "metadata": {},
   "outputs": [],
   "source": [
    "# print(\"str\",end=\"\\n\",sep=\" \")\n",
    "\n",
    "print(\"hello\",\"rio\")\n",
    "print(\"hello\",\"rio\",end=' $ ', sep=' , ')"
   ]
  },
  {
   "cell_type": "code",
   "execution_count": null,
   "metadata": {},
   "outputs": [],
   "source": [
    "# pow(base,exp , mod)\n",
    "print(pow(2,3)) # 2*2*2 > 8\n",
    "print(2*2*2) # 2*2*2 > 8\n",
    "\n",
    "print(pow(2,3,4)) # 2*2*2 % 4 > 0\n",
    "print(2*2*2 % 4) # 2*2*2 % 4 > 0\n",
    "\n",
    "print(pow(2,3,3)) # 2*2*2 % 3 > 2\n",
    "print(2*2*2 % 3) # 2*2*2 % 3 > 2"
   ]
  },
  {
   "cell_type": "code",
   "execution_count": null,
   "metadata": {},
   "outputs": [],
   "source": [
    "# min(iterator)\n",
    "# min(items)\n",
    "print(min(1,2,3,5,5)) # 1\n",
    "print(min(\"e\",\"z\",\"A\",'Z','a')) # A = 65 , a = 97 \n",
    "# print(min(1,2,3,5,5,\"e\",\"z\")) # Error"
   ]
  },
  {
   "cell_type": "code",
   "execution_count": null,
   "metadata": {},
   "outputs": [],
   "source": [
    "# max(iterator)\n",
    "# max(items)\n",
    "print(max(1,2,3,5,5)) # 5\n",
    "print(max(\"e\",\"z\",\"A\",'Z','a')) # z = 122 , Z = 90\n",
    "# print(max(1,2,3,5,5,\"e\",\"z\")) # Error"
   ]
  },
  {
   "cell_type": "code",
   "execution_count": null,
   "metadata": {},
   "outputs": [],
   "source": [
    "# ord(char) : take str as args and return integer\n",
    "\n",
    "print(ord('a')) # a = 97\n",
    "print(ord('A')) # A = 65\n",
    "\n",
    "print(ord('z')) # z = 122\n",
    "print(ord('Z')) # Z = 90"
   ]
  },
  {
   "cell_type": "code",
   "execution_count": null,
   "metadata": {},
   "outputs": [],
   "source": [
    "# chr(int) : take integer as args and return str\n",
    "\n",
    "print(chr(97)) # 97 = a\n",
    "print(chr(65)) # 65 = A\n",
    "\n",
    "print(chr(122)) # 122 = z\n",
    "print(chr(90)) # 90 = Z"
   ]
  },
  {
   "cell_type": "code",
   "execution_count": null,
   "metadata": {},
   "outputs": [],
   "source": [
    "# map(function, iterable) : return list of function applied to each element of iterable\n",
    "\n",
    "def title(t): # capitalize first letter of each words\n",
    "    return t.title() # 3D\n",
    "    # return t.capitalize() # 3d\n",
    "\n",
    "lsMap = [\"heLlo\",\"woRld\",\"3D\",\"3d\",\"rio\"]\n",
    "print(map(title,lsMap)) # 0x000002301411B5E0 : address object in memory\n",
    "\n",
    "for _ in map(title,lsMap):\n",
    "    print(_) # Hello World Rio"
   ]
  },
  {
   "cell_type": "code",
   "execution_count": null,
   "metadata": {},
   "outputs": [],
   "source": [
    "# map using lambda function\n",
    "for _ in map(lambda x : x.upper() ,['hi','hello','world','rio']):\n",
    "    print(f'- {_}')"
   ]
  },
  {
   "cell_type": "code",
   "execution_count": null,
   "metadata": {},
   "outputs": [],
   "source": [
    "# filter(function, iterable) : return list of elements for which function return True \n",
    "def is_even(x):\n",
    "    return x%2 == 0\n",
    "\n",
    "lsFilter = [1,2,3,4,5,6,7,8,9,10]\n",
    "\n",
    "for _ in filter(is_even, lsFilter):\n",
    "    print(_) # 2 4 6 8 10"
   ]
  },
  {
   "cell_type": "code",
   "execution_count": null,
   "metadata": {},
   "outputs": [],
   "source": [
    "# filter using lambda function\n",
    "for _ in filter(lambda x : x%2 == 0 ,(1,2,3,4,5,6,7,8,9,10)):\n",
    "    print(_) # 2 4 6 8 10"
   ]
  },
  {
   "cell_type": "code",
   "execution_count": null,
   "metadata": {},
   "outputs": [],
   "source": [
    "# reduce(function, iterable, initial=None) : return result of function applied to each element of iterable\n",
    "# initial is optional\n",
    "# import from module fucnTools\n",
    "\n",
    "from functools import reduce\n",
    "\n",
    "def add(x,y):\n",
    "    return x+y\n",
    "\n",
    "lsReduce = [1,2,3,4,5]\n",
    "# ((((1+2)+3)+4)+5) = 15\n",
    "print(reduce(add,lsReduce)) # 15"
   ]
  },
  {
   "cell_type": "code",
   "execution_count": null,
   "metadata": {},
   "outputs": [],
   "source": [
    "# reduce using lambda function\n",
    "print(reduce(lambda x,y : x+y ,[1,2,3,4,5])) # 15\n",
    "print(reduce(lambda *x : sum(x),[1,2,3,4,5])) # 15\n",
    "print(reduce(lambda x,y : x+y ,['a','b','c','d','e','f','g'])) # abcdefg"
   ]
  },
  {
   "cell_type": "code",
   "execution_count": null,
   "metadata": {},
   "outputs": [],
   "source": [
    "# enumerate(iterable, start=0) : return tuple of index and element\n",
    "# start is optional\n",
    "\n",
    "lsEnumerate = ['a','b','c','d','e','f','g']\n",
    "print(enumerate(lsEnumerate)) # 0x00000230153B4D00 : address object in memory\n",
    "\n",
    "for char in enumerate(lsEnumerate):\n",
    "    print(char) \n",
    "'''\n",
    "(0, 'a')\n",
    "(1, 'b')\n",
    "(2, 'c')\n",
    "(3, 'd')\n",
    "(4, 'e')\n",
    "(5, 'f')\n",
    "(6, 'g')\n",
    "'''\n",
    "# add counter to loop \n",
    "for counter , char in enumerate(lsEnumerate,start=1):\n",
    "     print(f'{counter} - {char}')\n",
    "'''\n",
    "1 - a\n",
    "2 - b\n",
    "3 - c\n",
    "4 - d\n",
    "5 - e\n",
    "6 - f\n",
    "7 - g\n",
    "'''"
   ]
  },
  {
   "cell_type": "code",
   "execution_count": null,
   "metadata": {},
   "outputs": [],
   "source": [
    "# reversed(iterable) : return reversed iterator of iterable\n",
    "lsReversed = [1,2,3,4,5,6,7,8,9,10]\n",
    "print(reversed(lsReversed)) # 0x000002301412ECE0 : address object in memory\n",
    "\n",
    "for _ in reversed(lsReversed):\n",
    "    print(_) # 10 9 8 7 6 5 4 3 2 1"
   ]
  },
  {
   "cell_type": "code",
   "execution_count": null,
   "metadata": {},
   "outputs": [],
   "source": [
    "# help(function) : show details about function\n",
    "# print(help(print))\n",
    "# print(help(sum))\n",
    "import random\n",
    "print(help(random))"
   ]
  },
  {
   "cell_type": "code",
   "execution_count": null,
   "metadata": {},
   "outputs": [],
   "source": [
    "# dir(object) : return list of attributes and functions of object\n",
    "import numpy\n",
    "print(dir(numpy))"
   ]
  }
 ],
 "metadata": {
  "kernelspec": {
   "display_name": "Python 3",
   "language": "python",
   "name": "python3"
  },
  "language_info": {
   "codemirror_mode": {
    "name": "ipython",
    "version": 3
   },
   "file_extension": ".py",
   "mimetype": "text/x-python",
   "name": "python",
   "nbconvert_exporter": "python",
   "pygments_lexer": "ipython3",
   "version": "3.10.8"
  },
  "orig_nbformat": 4,
  "vscode": {
   "interpreter": {
    "hash": "ab58cbacd942ca503049d3378ed1180a79e5c5d17c40fd38c92a577d131c0358"
   }
  }
 },
 "nbformat": 4,
 "nbformat_minor": 2
}
