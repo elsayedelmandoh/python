{
 "cells": [
  {
   "cell_type": "markdown",
   "metadata": {},
   "source": [
    "# String"
   ]
  },
  {
   "cell_type": "markdown",
   "metadata": {},
   "source": [
    ">> Naming rules :\n",
    "- a to z or A to Z\n",
    "- don't use any symbols except underscore(_)\n",
    "- digit 0 to 9 \n",
    "- don't use keywords\n"
   ]
  },
  {
   "cell_type": "markdown",
   "metadata": {},
   "source": [
    "# Data types ...\n",
    "\n",
    ">> Numberic ..\n",
    "int \n",
    "float\n",
    "complex\n",
    "\n",
    ">> bool >> Boolean\n",
    ">> range \n",
    ">> Set \n",
    ">> dict > Dictionary\n",
    "\n",
    ">> sequence type ..\n",
    "str > String \n",
    "List\n",
    "Tuple"
   ]
  },
  {
   "cell_type": "markdown",
   "metadata": {},
   "source": [
    "# Rules use variable ..\n",
    "\n",
    "1- use A to Z or a to z ...\n",
    "2- No numbers in beginning .\n",
    "3- No Keywords .. (Function help(\"keyword\") >> Print key words in python ) \n",
    "4- No space , no symbols (:';\"<>?\\/|@#%$^&* ....... )\n",
    "5- use _ "
   ]
  },
  {
   "cell_type": "code",
   "execution_count": null,
   "metadata": {},
   "outputs": [],
   "source": [
    "# Variable ..\n",
    "name = 'Elsayed' #str\n",
    "a = \"how r u ?\" #str\n",
    "b = 7 #int\n",
    "d = 7.8 #float\n",
    "e = True #bool\n",
    "c = 1j # Complex"
   ]
  },
  {
   "cell_type": "markdown",
   "metadata": {},
   "source": [
    "# Comment\n",
    "       in keyboard : ctrl + / \n",
    ">> Single comment : # hello Rio ..\n",
    "\n",
    ">> Mult Comment >> double triple quote > '''      ''' \n",
    "'''\n",
    "shit this actually happened\n",
    "i'm talking to imaginary person\n",
    "Mr_Robot 0:14\n",
    "''' "
   ]
  },
  {
   "cell_type": "markdown",
   "metadata": {},
   "source": [
    "# single quote , double quote , triple quote"
   ]
  },
  {
   "cell_type": "code",
   "execution_count": null,
   "metadata": {},
   "outputs": [],
   "source": [
    "print(\"hello 'rio' !\") \n",
    "print('come \"rio\" !')\n",
    "# can use multiple lines\n",
    "print(''' my \n",
    "'dog' \n",
    "is \n",
    "\"Rio\" ''') # yeah, can use single , double and triple in one line .."
   ]
  },
  {
   "cell_type": "code",
   "execution_count": null,
   "metadata": {},
   "outputs": [],
   "source": [
    "# to know keywords\n",
    "import keyword\n",
    "keyword.kwlist\n",
    "\n",
    "# with method help\n",
    "help('keywords')\n",
    "\n",
    "# to info about methods \n",
    "help('if')"
   ]
  },
  {
   "cell_type": "markdown",
   "metadata": {},
   "source": [
    "Concatenation"
   ]
  },
  {
   "cell_type": "code",
   "execution_count": null,
   "metadata": {},
   "outputs": [],
   "source": [
    "# + : connection\n",
    "print('hello'+'hello')"
   ]
  },
  {
   "cell_type": "code",
   "execution_count": null,
   "metadata": {},
   "outputs": [],
   "source": [
    "name = 'Elsayed'\n",
    "print(\"hello \" + name) "
   ]
  },
  {
   "cell_type": "markdown",
   "metadata": {},
   "source": [
    "Operations"
   ]
  },
  {
   "cell_type": "code",
   "execution_count": null,
   "metadata": {},
   "outputs": [],
   "source": [
    "# Addition (+) \n",
    "print(2+2) # 4\n",
    "\n",
    "# Subtraction (-) \n",
    "print(2-2) # 0\n",
    "\n",
    "# Multiplication (*) \n",
    "print(2*7) # 14 \n",
    "\n",
    "# Division (/)  >> Result always Float\n",
    "print(100/10) # 10.0\n",
    "\n",
    "# Integer Division or Floor Division (//) >> Result always int\n",
    "print(150//17) # 8.8 = 8 \n",
    "\n",
    "# Reminder or Modules (%) \n",
    "print(7%2) # 1\n",
    "# Steps manual : 7/2 = 3.5 >> 7 - ( 3 * 2 ) = 7 - 6 = 1  \n",
    "\n",
    "# Exponent  or Power (**) \n",
    "print(2**2) # 4\n",
    "print(2**2**2) # 16\n",
    "\n",
    "\n",
    "# Not found ++ or -- in python\n",
    "add1 , add2 = 2 , 3\n",
    "add1 += add2\n",
    "print(\"add1 :\", add1) # 5"
   ]
  },
  {
   "cell_type": "markdown",
   "metadata": {},
   "source": [
    "repeat"
   ]
  },
  {
   "cell_type": "code",
   "execution_count": null,
   "metadata": {},
   "outputs": [],
   "source": [
    "# * : repeat (asterisk)\n",
    "print('hello'*5)"
   ]
  },
  {
   "cell_type": "markdown",
   "metadata": {},
   "source": [
    " Escape Sequence ...."
   ]
  },
  {
   "cell_type": "code",
   "execution_count": null,
   "metadata": {},
   "outputs": [],
   "source": [
    "# \\n >> new line\n",
    "print(\"Hello\\nfriend ...\")\n",
    "\n",
    "# \\t >> Tab >> i think 8 space ..\n",
    "print(\"Hello\\tfriend ?\")\n",
    "\n",
    "# \\\" >> print \" \n",
    "# \\' >> print '\n",
    "print('''This\\'s \\\"lame\\\" ...''')\n",
    "\n",
    "# \\\\ >> print \\\n",
    "print(\"Maybe i should give u a \\\\name\\\\ ...\")\n",
    "\n",
    "# \\b >> back space \n",
    "print(\"but that's a slippery\\b slope\\b ...\") # remove y and e\n",
    "\n",
    "# \\ >> escape new line \n",
    "print(\"u r \\\n",
    "only in \\\n",
    "my head ...\") \n",
    "\n",
    "# carriage Return ..\n",
    "print(\"Mr Robot 0:02 \\rs1\") # repleace MR with s1"
   ]
  },
  {
   "cell_type": "markdown",
   "metadata": {},
   "source": [
    "Numbering System"
   ]
  },
  {
   "cell_type": "code",
   "execution_count": null,
   "metadata": {},
   "outputs": [],
   "source": [
    "# decimal \n",
    "print(7) # 7\n",
    "# binary to decimal\n",
    "print(0b101) # 5\n",
    "# octal to decimal\n",
    "print(0o127) # 87\n",
    "# Hexa to decimal\n",
    "print(0x3f) # 63\n",
    "\n",
    "# character hex value\n",
    "# convert hexa to character \n",
    "print(\"\\x52 \\x49 \\x4F\") # R I O\n",
    "\n",
    "# Exponential ( E ) \n",
    "print(2E4) # 2E4 = 2*(10*10*10*10) = 2*10**4 = 20000.0"
   ]
  },
  {
   "cell_type": "markdown",
   "metadata": {},
   "source": [
    "Slice Strings ..."
   ]
  },
  {
   "cell_type": "code",
   "execution_count": null,
   "metadata": {},
   "outputs": [],
   "source": [
    "# [start:end] > end not include\n",
    "# [start:end:step]\n",
    "\n",
    "dogg = \"Luka Modric\"\n",
    "\n",
    "# From first Element in string\n",
    "print(dogg[0]) # L\n",
    "print(dogg[1]) # u\n",
    "print(dogg[2]) # k\n",
    "print(dogg[3]) # a\n",
    "print(dogg[4]) # space\n",
    "\n",
    "# From Last Element in string\n",
    "print(dogg[-1]) # c\n",
    "print(dogg[-2]) # i\n",
    "print(dogg[-3]) # r\n",
    "print(dogg[-4]) # d\n",
    "print(dogg[-5]) # o\n",
    "print(dogg[-6]) # M"
   ]
  },
  {
   "cell_type": "markdown",
   "metadata": {},
   "source": [
    "Range Slice >> Use ( : ) ..."
   ]
  },
  {
   "cell_type": "code",
   "execution_count": null,
   "metadata": {},
   "outputs": [],
   "source": [
    "name = \"Elsayed Elmandoh\"\n",
    "print(\"1- \",name[:])  # 1-  Elsayed Elmandoh\n",
    "print(\"2- \",name[1:]) # 2-  lsayed Elmandoh\n",
    "print(\"3- \",name[:2]) # 3-  El\n",
    "print(\"4- \",name[-3:]) # 4-  doh\n",
    "print(\"5- \",name[:-2]) # 5-  Elsayed Elmand\n",
    "print(\"6- \",name[::]) # 6-  Elsayed Elmandoh\n",
    "print(\"7- \",name[::3]) # 7-  Eadlnh\n",
    "print(\"8- \",name[::1]) # 8-  Elsayed Elmandoh\n",
    "print(\"9- \",name[1::]) # 9-  lsayed Elmandoh\n",
    "print(\"10- \",name[-2::]) # 10-  oh\n",
    "print(\"11- \",name[::-4]) # 11-  ha a\n",
    "print(\"11- \",name[::-2]) # 11-  hdal eal"
   ]
  },
  {
   "cell_type": "markdown",
   "metadata": {},
   "source": [
    "casting"
   ]
  },
  {
   "cell_type": "code",
   "execution_count": null,
   "metadata": {},
   "outputs": [],
   "source": [
    "# you can convert from Folat to Int or Complex\n",
    "# you can convert from Int to Folat or Complex\n",
    "# you can't convert Complex to any type\n",
    "\n",
    "# int\n",
    "print(70) # 70\n",
    "print(float(70)) # 70.0 \n",
    "print(complex(70)) # 70+0j\n",
    "\n",
    "# Float\n",
    "print(70.56) # 70.56\n",
    "print(int(70)) # 70\n",
    "print(complex(70)) # 70+0j\n",
    "\n",
    "# Complex\n",
    "print(10+9j) # (10+9j)\n",
    "# print(int(10+9j)) # Error\n",
    "# print(float(10+9j)) # Error\n",
    "\n",
    "\n",
    "x = \"7477\" # string\n",
    "print(int(x)+7) # int in line da bas\n",
    "type(x) # back string again"
   ]
  },
  {
   "cell_type": "markdown",
   "metadata": {},
   "source": [
    "Seprator"
   ]
  },
  {
   "cell_type": "code",
   "execution_count": null,
   "metadata": {},
   "outputs": [],
   "source": [
    "# >> default = \" \" , one space\n",
    "print(\"hello\",\"Rio\",7) \n",
    "\n",
    "# change seprator\n",
    "print(\"Hi\",\"Rio\",7,sep=\"*\") "
   ]
  },
  {
   "cell_type": "markdown",
   "metadata": {},
   "source": [
    "End"
   ]
  },
  {
   "cell_type": "code",
   "execution_count": null,
   "metadata": {},
   "outputs": [],
   "source": [
    "# >> defalut = \"\\n\" , new line\n",
    "print(\"hello\")\n",
    "print(\"Rio\")\n",
    "\n",
    "# change end\n",
    "print(\"hello\",end = \"77\")  # defalut = 77 and m4 hy3ml new line\n",
    "print(8) # defalut = new line\n",
    "print(\"hi\") # defalut = new line"
   ]
  },
  {
   "cell_type": "markdown",
   "metadata": {},
   "source": [
    "Repetition"
   ]
  },
  {
   "cell_type": "code",
   "execution_count": null,
   "metadata": {},
   "outputs": [],
   "source": [
    "dog = \"Rio\"\n",
    "print(3*dog)\n",
    "\n",
    "y = 's'\n",
    "print(7*y)"
   ]
  },
  {
   "cell_type": "markdown",
   "metadata": {},
   "source": [
    "type()"
   ]
  },
  {
   "cell_type": "code",
   "execution_count": null,
   "metadata": {},
   "outputs": [],
   "source": [
    "# >> To know type of data ....\n",
    "\n",
    "a = \"Woow !!\"\n",
    "b = 7 \n",
    "d = 7.8 \n",
    "e = True\n",
    "c = 1j \n",
    "\n",
    "print(type(a)) # str\n",
    "print(type(b)) # int\n",
    "print(type(d)) # float\n",
    "print(type(e)) # bool\n",
    "print(type(c)) # Complex\n",
    "\n",
    "\n",
    "# complex \n",
    "comnum= 3+4j\n",
    "print(\"Real part is:\",comnum.real) # Real part is: 3.0\n",
    "print(\"Imaginary part is:\",comnum.imag) # Imaginary part is: 4.0\n",
    "\n",
    "print(complex(2,3)) # (2+3j)"
   ]
  },
  {
   "cell_type": "markdown",
   "metadata": {},
   "source": [
    "len()"
   ]
  },
  {
   "cell_type": "code",
   "execution_count": null,
   "metadata": {},
   "outputs": [],
   "source": [
    "# >> length of string and spaces and punctuation\n",
    "# ( space in end and start string )\n",
    "\n",
    "sia = input(\"Sia said ....\")\n",
    "print(sia)\n",
    "# str to convert number(length) to string to print it ganb l text .\n",
    "print(\"Length of string is : \" + str(len(sia))) \n",
    "\n",
    "# ba7sb space bardo\n",
    "a = \"Rio\" \n",
    "b = \"   Rio   \" \n",
    "print(len(a)) # 3\n",
    "print(len(b)) # 9"
   ]
  },
  {
   "cell_type": "markdown",
   "metadata": {},
   "source": [
    "String Methods .."
   ]
  },
  {
   "cell_type": "markdown",
   "metadata": {},
   "source": [
    "strip()"
   ]
  },
  {
   "cell_type": "code",
   "execution_count": null,
   "metadata": {},
   "outputs": [],
   "source": [
    "'''\n",
    "# Function str.strip(\"str\") >> remove space in right and left of string\n",
    "# Function str.rstrip(\"str\") >> remove space in right of string\n",
    "# Function str.lstrip(\"str\") >> remove space in left of string\n",
    "deafult str = ' ' >> space \n",
    "'''\n",
    "c = '          hello frined !          '\n",
    "print(c.strip()) # hello frined !\n",
    "print(c.rstrip()) #           hello frined !\n",
    "print(c.lstrip()) # hello frined !\n",
    "\n",
    "# change default\n",
    "c = '##########     hello frined !   ##############'\n",
    "# remove hash from right and left of string not romove space\n",
    "print(c.strip('#')) #      hello frined !\n",
    "# remove hash from right of string not romove space\n",
    "print(c.rstrip('#')) # ##########     hello frined !\n",
    "# remove hash from left of string not romove space\n",
    "print(c.lstrip('#')) #      hello frined !   ##############"
   ]
  },
  {
   "cell_type": "markdown",
   "metadata": {},
   "source": [
    "title()"
   ]
  },
  {
   "cell_type": "code",
   "execution_count": null,
   "metadata": {},
   "outputs": [],
   "source": [
    "'''\n",
    "- every cgar of every word of string is captial \n",
    "- char which after number is captial bardo\n",
    "'''\n",
    "tit = 'I love 2d graphics and 3g technology and Python'\n",
    "print(tit.title()) # I Love 2D Graphics And 3G Technology And Python"
   ]
  },
  {
   "cell_type": "markdown",
   "metadata": {},
   "source": [
    "istitle()"
   ]
  },
  {
   "cell_type": "code",
   "execution_count": null,
   "metadata": {},
   "outputs": [],
   "source": [
    "'''\n",
    ">> return true law ?\n",
    "- kol word f string htb2a captial \n",
    "- char elly ba3d number hyb2a captial bardo\n",
    ">> otherwise return false \n",
    "'''\n",
    "istit1 = 'I Love 2D Graphics And 3G Technology And Python'\n",
    "istit2 = 'I love 2d graphics and 3g technology and Python'\n",
    "print(istit1.istitle()) # true\n",
    "print(istit2.istitle()) # false"
   ]
  },
  {
   "cell_type": "markdown",
   "metadata": {},
   "source": [
    "capitalize()"
   ]
  },
  {
   "cell_type": "code",
   "execution_count": null,
   "metadata": {},
   "outputs": [],
   "source": [
    "'''\n",
    "- first char of first word of string is captial \n",
    "- bas char elly ba3d number hyb2a small\n",
    "'''\n",
    "d = 'i love 2d graphics and 3g technology and Python'\n",
    "print(d.capitalize())"
   ]
  },
  {
   "cell_type": "markdown",
   "metadata": {},
   "source": [
    " zfill()"
   ]
  },
  {
   "cell_type": "code",
   "execution_count": null,
   "metadata": {},
   "outputs": [],
   "source": [
    "# zfill(width)\n",
    "'''\n",
    "- bt5ly number 2d ba3d zay \n",
    "1\n",
    "98\n",
    "890\n",
    "i call zfill hyb2a\n",
    "001\n",
    "098\n",
    "890 \n",
    "\n",
    "- lazm variable is string\n",
    "- lazm is feeh parameter integer is width of string\n",
    "'''\n",
    "e,f,g = \"1\",\"11\",\"111\"\n",
    "print(e.zfill(3)) # 001\n",
    "print(f.zfill(3)) # 011\n",
    "print(g.zfill(3)) # 111"
   ]
  },
  {
   "cell_type": "markdown",
   "metadata": {},
   "source": [
    " upper()"
   ]
  },
  {
   "cell_type": "code",
   "execution_count": null,
   "metadata": {},
   "outputs": [],
   "source": [
    "'''\n",
    "Function str.upper() >> Convert string to captial characters baskda\n",
    "'''\n",
    "upp =\"I Am Here\"\n",
    "print(upp.upper())"
   ]
  },
  {
   "cell_type": "markdown",
   "metadata": {},
   "source": [
    "isupper()"
   ]
  },
  {
   "cell_type": "code",
   "execution_count": null,
   "metadata": {},
   "outputs": [],
   "source": [
    "'''\n",
    "return true if string is upper case otherwise false\n",
    "'''\n",
    "upp1 =\"I AM HERE\"\n",
    "upp2 =\"I Am Here\"\n",
    "print(upp1.isupper()) # true\n",
    "print(upp2.isupper()) # false"
   ]
  },
  {
   "cell_type": "markdown",
   "metadata": {},
   "source": [
    " lower()"
   ]
  },
  {
   "cell_type": "code",
   "execution_count": null,
   "metadata": {},
   "outputs": [],
   "source": [
    "'''\n",
    "Function str.lower() >> Convert string to small characters baskda\n",
    "'''\n",
    "low =\"I Am Here\"\n",
    "print(low.lower())"
   ]
  },
  {
   "cell_type": "markdown",
   "metadata": {},
   "source": [
    "islower()"
   ]
  },
  {
   "cell_type": "code",
   "execution_count": null,
   "metadata": {},
   "outputs": [],
   "source": [
    "'''\n",
    "return true if string is lower case otherwise false\n",
    "'''\n",
    "low1 =\"i am here\"\n",
    "low2 =\"I Am Here\"\n",
    "print(low1.islower()) # true\n",
    "print(low2.islower()) # false"
   ]
  },
  {
   "cell_type": "markdown",
   "metadata": {},
   "source": [
    "split()"
   ]
  },
  {
   "cell_type": "code",
   "execution_count": null,
   "metadata": {},
   "outputs": [],
   "source": [
    "'''\n",
    "str.split(sep = ' ' , max split) >> split from left\n",
    ">> return List of data \n",
    ">> sep is default = \" \" >> space \n",
    ">> max split : numbers data elly h3mlha split bas w another data is one string\n",
    "'''\n",
    "\n",
    "dog1 = \"hello  rio  come here\"\n",
    "print(dog1.split()) # spilt all string to list (4bh indexs kda) , default sep = \" \" space\n",
    "print(type(dog1.split())) # type of data is list ...\n",
    "\n",
    "dog2 = \"hello-rio-come-here\"\n",
    "print(dog2.split('-')) # spilt all string with default sep = \"-\"\n",
    "\n",
    "print(dog2.split('-',2)) # split only two element from left"
   ]
  },
  {
   "cell_type": "markdown",
   "metadata": {},
   "source": [
    "rsplit()"
   ]
  },
  {
   "cell_type": "code",
   "execution_count": 1,
   "metadata": {},
   "outputs": [
    {
     "name": "stdout",
     "output_type": "stream",
     "text": [
      "['hello-rio', 'come', 'here']\n"
     ]
    }
   ],
   "source": [
    "'''\n",
    "str.rsplit(sep = ' ' , max split) >> split from right \n",
    ">> return List of data \n",
    ">> sep is default = \" \" >> space \n",
    ">> max split : numbers data elly h3mlha split bas w another data is one string\n",
    "'''\n",
    "\n",
    "dog2 = \"hello-rio-come-here\"\n",
    "# split only two element from right\n",
    "print(dog2.rsplit('-',2)) "
   ]
  },
  {
   "cell_type": "markdown",
   "metadata": {},
   "source": [
    "Center()"
   ]
  },
  {
   "cell_type": "code",
   "execution_count": null,
   "metadata": {},
   "outputs": [],
   "source": [
    "'''\n",
    ">> center(width , fillchar)\n",
    "- must be enter parameter width\n",
    "- width >> number of chars elly htreturn\n",
    "- fillchar >> char elly h7to badl spaces\n",
    "- default fillchar is spaces\n",
    "'''\n",
    "cen = 'Elsayed'\n",
    "print(cen.center(15)) # sapces in start and end of string\n",
    "print(cen.center(15,'#')) # hash in start and end of string"
   ]
  },
  {
   "cell_type": "markdown",
   "metadata": {},
   "source": [
    "count()"
   ]
  },
  {
   "cell_type": "code",
   "execution_count": null,
   "metadata": {},
   "outputs": [],
   "source": [
    "'''\n",
    "Function str.count(substring , beg = 0 , end = len(str))\n",
    "- by search 3la \"substring\" w by return str da mwgod kam mara\n",
    "'''\n",
    "\n",
    "coun=\"python is easier than Java, python is perfect\"\n",
    "print(coun.count(\"python\")) # 2\n",
    "print(coun.count(\"Python\")) # 0 , because P != p\n",
    "print(coun.count(\"python\",10)) # 1 , Search 3la \"python\" form index 2 to end\n",
    "print(coun.count(\"python\",0, 40)) # 2 , Search 3la \"python\" form index 0 to index 40"
   ]
  },
  {
   "cell_type": "markdown",
   "metadata": {},
   "source": [
    "swapcase()"
   ]
  },
  {
   "cell_type": "code",
   "execution_count": null,
   "metadata": {},
   "outputs": [],
   "source": [
    "'''\n",
    "str.swapcase() >> convert lower case to upper case and upper case to lower case ..\n",
    "'''\n",
    "h =\"I Am Here\"\n",
    "print(h.swapcase()) # i aM hERE"
   ]
  },
  {
   "cell_type": "markdown",
   "metadata": {},
   "source": [
    " startswith()"
   ]
  },
  {
   "cell_type": "code",
   "execution_count": null,
   "metadata": {},
   "outputs": [],
   "source": [
    "'''\n",
    "- str.startswith('char' , start  , end) \n",
    "- end = iindex - 1 >> not include end\n",
    "- 4bh if condation kda , bt4of if string  is start with this parameter\n",
    "- return true or false\n",
    "'''\n",
    "j = 'heello friennd'\n",
    "print(j.startswith('h')) # true\n",
    "print(j.startswith('f')) # false\n",
    "print(j.startswith('f',7,20)) # true"
   ]
  },
  {
   "cell_type": "markdown",
   "metadata": {},
   "source": [
    "endswith()"
   ]
  },
  {
   "cell_type": "code",
   "execution_count": null,
   "metadata": {},
   "outputs": [],
   "source": [
    "'''\n",
    "- str.endswith('char' , start  , end) \n",
    "- end = iindex - 1 >> not include end\n",
    "- 4bh if condation kda , bt4of if string  is end with this parameter\n",
    "- return true or false\n",
    "'''\n",
    "k = 'heello friennd'\n",
    "print(k.endswith('d')) # true\n",
    "print(k.endswith('o')) # false\n",
    "print(j.endswith('o',2,6)) # true"
   ]
  },
  {
   "cell_type": "markdown",
   "metadata": {},
   "source": [
    "index()"
   ]
  },
  {
   "cell_type": "code",
   "execution_count": null,
   "metadata": {},
   "outputs": [],
   "source": [
    "'''\n",
    "str.index(substring , start , end)\n",
    ">> search 3la 'substring' mwgod in index kam \n",
    ">> return index kam\n",
    ">> law m4 mwgod btgeb ' Error ' <<<<<< mohma dy\n",
    "'''\n",
    "ind = 'come here Rio'\n",
    "print(ind.index('R')) # index 10\n",
    "print(ind.index('R', 5 , 20)) # index 10\n",
    "print(ind.index('R', 5 , 8)) # Error >> substring not found"
   ]
  },
  {
   "cell_type": "markdown",
   "metadata": {},
   "source": [
    "find()"
   ]
  },
  {
   "cell_type": "code",
   "execution_count": null,
   "metadata": {},
   "outputs": [],
   "source": [
    "'''\n",
    "str.index(substring , start , end)\n",
    ">> search 3la 'substring' mwgod in index kam \n",
    ">> return index kam\n",
    ">> law m4 mwgod btrturn ' -1 ' <<<<<< mohma dy\n",
    "'''\n",
    "fin = 'come here Rio'\n",
    "print(fin.find('R')) # index 10\n",
    "print(fin.find('R', 5 , 20)) # index 10\n",
    "print(ind.find('R', 5 , 8)) # -1 >> 34an substring not found"
   ]
  },
  {
   "cell_type": "markdown",
   "metadata": {},
   "source": [
    "rjust()"
   ]
  },
  {
   "cell_type": "code",
   "execution_count": null,
   "metadata": {},
   "outputs": [],
   "source": [
    "'''\n",
    "str.rjust(width , fillchar) >> string is right\n",
    "- width >> number of chars elly htreturn\n",
    "- fillchar >> char elly h7to badl spaces\n",
    "- default fillchar is spaces\n",
    "'''\n",
    "rjus = 'Elsayed'\n",
    "print(rjus.rjust(15)) # default spaces befor string >>         Elsayed\n",
    "print(rjus.rjust(15,'#')) # hash befor string >> ########Elsayed"
   ]
  },
  {
   "cell_type": "markdown",
   "metadata": {},
   "source": [
    "ljust()"
   ]
  },
  {
   "cell_type": "code",
   "execution_count": null,
   "metadata": {},
   "outputs": [],
   "source": [
    "'''\n",
    "str.ljust(width , fillchar) >> string is left\n",
    "- width >> number of chars elly htreturn\n",
    "- fillchar >> char elly h7to badl spaces\n",
    "- default fillchar is spaces\n",
    "'''\n",
    "ljus = 'Elsayed'\n",
    "print(ljus.ljust(15)) # default spaces after string >> Elsayed        \n",
    "print(ljus.ljust(15,'#')) # hash after string >> Elsayed########"
   ]
  },
  {
   "cell_type": "markdown",
   "metadata": {},
   "source": [
    " splitlines()"
   ]
  },
  {
   "cell_type": "code",
   "execution_count": null,
   "metadata": {},
   "outputs": [],
   "source": [
    "'''\n",
    "return kol line f list\n",
    "'''\n",
    "lines1 = \"\"\"first line\n",
    "second line\n",
    "third line\"\"\"\n",
    "print(lines1) # kol line f line\n",
    "print(lines1.splitlines()) # list of lines >> ['first line', 'second line', 'third line ']\n",
    "\n",
    "lines2 = \"\"\"first line\\nsecond line\\nthird line\"\"\"\n",
    "print(lines2) \n",
    "print(lines2.splitlines()) # list of lines >> ['first line', 'second line', 'third line ']"
   ]
  },
  {
   "cell_type": "markdown",
   "metadata": {},
   "source": [
    "expandtabs()"
   ]
  },
  {
   "cell_type": "code",
   "execution_count": null,
   "metadata": {},
   "outputs": [],
   "source": [
    "'''\n",
    "default 5 spaces ..\n",
    "'''\n",
    "exptab = 'hey\\tRio\\t,\\tcome\\there\\t!'\n",
    "# 5 spaces\n",
    "print(exptab.expandtabs()) \n",
    "# 2 spaces\n",
    "print(exptab.expandtabs(2)) "
   ]
  },
  {
   "cell_type": "markdown",
   "metadata": {},
   "source": [
    "isspace()"
   ]
  },
  {
   "cell_type": "code",
   "execution_count": null,
   "metadata": {},
   "outputs": [],
   "source": [
    "'''\n",
    "return space when string is space otherwise false\n",
    "'''\n",
    "spa1 = \" \"  \n",
    "spa2 = \"\"      \n",
    "print(spa1.isspace()) # True\n",
    "print(spa2.isspace()) # False"
   ]
  },
  {
   "cell_type": "markdown",
   "metadata": {},
   "source": [
    "isidentifier()"
   ]
  },
  {
   "cell_type": "code",
   "execution_count": null,
   "metadata": {},
   "outputs": [],
   "source": [
    "'''\n",
    "return true if string is variable otherwwise false\n",
    "'''\n",
    "isidfi1 = 'Elsayed_Elmandoh'\n",
    "isidfi2 = 'Elsayed-Elmandoh'\n",
    "print(isidfi1.isidentifier()) # true\n",
    "print(isidfi2.isidentifier()) # false"
   ]
  },
  {
   "cell_type": "markdown",
   "metadata": {},
   "source": [
    " isalpha()"
   ]
  },
  {
   "cell_type": "code",
   "execution_count": null,
   "metadata": {},
   "outputs": [],
   "source": [
    "''' \n",
    "str.isalpha(\"str\") or str.isalpha()\n",
    "return true when string is alpha otherwise false\n",
    "'''\n",
    "\n",
    "x= \"RIO\"\n",
    "y = \"RIO45745\"\n",
    "print(x.isalpha()) # true \n",
    "print(y.isalpha()) # false"
   ]
  },
  {
   "cell_type": "markdown",
   "metadata": {},
   "source": [
    " isdigit()"
   ]
  },
  {
   "cell_type": "code",
   "execution_count": null,
   "metadata": {},
   "outputs": [],
   "source": [
    "''' \n",
    "str.isdigit(\"str\") or str.isdigit()\n",
    "return true when str is number otherwise false\n",
    "'''\n",
    "\n",
    "x= \"363\"\n",
    "y = \"RIO45745\"\n",
    "print(x.isdigit()) # true \n",
    "print(y.isdigit()) # false"
   ]
  },
  {
   "cell_type": "markdown",
   "metadata": {},
   "source": [
    "isalnum()"
   ]
  },
  {
   "cell_type": "code",
   "execution_count": null,
   "metadata": {},
   "outputs": [],
   "source": [
    "'''\n",
    "return true when string is alpha , number , alpha and number each other otherwise false\n",
    "'''\n",
    "x= \"RIO\"\n",
    "y = \"436373\"\n",
    "z = 'RIO45745'\n",
    "print(x.isalnum()) # true : alpha\n",
    "print(y.isalnum()) # true : number\n",
    "print(z.isalnum()) # true : alpha and number"
   ]
  },
  {
   "cell_type": "markdown",
   "metadata": {},
   "source": [
    "replace()"
   ]
  },
  {
   "cell_type": "code",
   "execution_count": null,
   "metadata": {},
   "outputs": [],
   "source": [
    "'''\n",
    "str.replace(old , new, count) >> replace str > str\n",
    ">> count default = loop on all words in string\n",
    "'''\n",
    "\n",
    "rep = \"im is E R two seven - zero seven seven four \"\n",
    "\n",
    "print(rep.replace(\"seven\",\"7\")) # replace all seven > 7\n",
    "print(rep.replace(\"seven\",\"7\",1)) # replace only first seven > 7\n",
    "print(rep.replace(\"seven\",\"7\",2)) # replace only first and two seven > 7"
   ]
  },
  {
   "cell_type": "markdown",
   "metadata": {},
   "source": [
    "join()"
   ]
  },
  {
   "cell_type": "code",
   "execution_count": null,
   "metadata": {},
   "outputs": [],
   "source": [
    "'''\n",
    "str.join(iterable()) \n",
    ">> iterable : elements I can loop on : list or tuple \n",
    "'''\n",
    "joi = ['Elsayed' , 'Mohamed' , 'Elmandoh']\n",
    "print('\\n'.join(joi)) # every element in line\n",
    "print('-'.join(joi)) # Elsayed-Mohamed-Elmandoh\n",
    "print(' '.join(joi)) # Elsayed Mohamed Elmandoh\n",
    "print(','.join(joi)) # Elsayed,Mohamed,Elmandoh\n",
    "print(type('-'.join(joi))) # str . convert from list to str"
   ]
  },
  {
   "cell_type": "markdown",
   "metadata": {},
   "source": [
    "# Q  "
   ]
  },
  {
   "cell_type": "code",
   "execution_count": 1,
   "metadata": {},
   "outputs": [
    {
     "name": "stdout",
     "output_type": "stream",
     "text": [
      "['elsayed', 'elmandoh7', 'gmail.com']\n",
      "('elsayed', '@', 'elmandoh7@gmail.com')\n",
      "('elsayed@elmandoh7', '@', 'gmail.com')\n"
     ]
    }
   ],
   "source": [
    "'''\n",
    "split : return as list\n",
    "partition : return as tuple \n",
    "'''\n",
    "st = 'elsayed@elmandoh7@gmail.com'\n",
    "print(st.split('@')) # ['elsayed', 'elmandoh7', 'gmail.com']\n",
    "print(st.partition('@')) # ('elsayed', '@', 'elmandoh7@gmail.com')\n",
    "print(st.rpartition('@')) # ('elsayed@elmandoh7', '@', 'gmail.com')"
   ]
  },
  {
   "cell_type": "code",
   "execution_count": null,
   "metadata": {},
   "outputs": [],
   "source": [
    "# index : return index of the first occurrence of the substring otherwise error\n",
    "print(st.index('@')) # in index 7 \n",
    "# print(st.index('k')) # error\n",
    "\n",
    "# find : return index of the first occurrence of the substring otherwise -1\n",
    "print(st.find('@')) # in index 7\n",
    "print(st.find('k')) # -1"
   ]
  },
  {
   "cell_type": "markdown",
   "metadata": {},
   "source": [
    "# string Format"
   ]
  },
  {
   "cell_type": "markdown",
   "metadata": {},
   "source": [
    ">> There are three ways to perform string formatting:\n",
    "\n",
    "1. The oldest method involves placeholders using the modulo % character.\n",
    "2. An improved technique uses the .format() string method.\n",
    "3. The newest method, introduced with Python 3.6, uses formatted string literals, called f-strings."
   ]
  },
  {
   "cell_type": "markdown",
   "metadata": {},
   "source": [
    "# Placeholders ..\n",
    "1. %s : string\n",
    "2. %d : int\n",
    "3. %f : float"
   ]
  },
  {
   "cell_type": "code",
   "execution_count": null,
   "metadata": {},
   "outputs": [],
   "source": [
    "# one placeholder\n",
    "print(\"I'm going to inject %s here.\" %'something') # I'm going to inject something here."
   ]
  },
  {
   "cell_type": "markdown",
   "metadata": {},
   "source": [
    ">>> %d and %f\n",
    "\n",
    "1. %d : convert numbers to integers\n",
    "2. %f : convert numbers to float"
   ]
  },
  {
   "cell_type": "code",
   "execution_count": null,
   "metadata": {},
   "outputs": [],
   "source": [
    "print('I wrote %d programs today.' %3.75) # I wrote 3 programs today.\n",
    "print('I wrote %f programs today.' %3.75) # I wrote 3.75 programs today."
   ]
  },
  {
   "cell_type": "markdown",
   "metadata": {},
   "source": [
    ">>> %s and %r \n",
    "\n",
    "1. convert any python object to a 'string' using two separate methods: str() and repr()\n",
    "2. %r and repr() : including 'quotation marks' and any 'escape characters'."
   ]
  },
  {
   "cell_type": "code",
   "execution_count": null,
   "metadata": {},
   "outputs": [],
   "source": [
    "# quotation marks\n",
    "\n",
    "print('He said his name was %s.' %'Fred') # He said his name was Fred.\n",
    "print('He said his name was %r.' %'Fred') # He said his name was 'Fred'.\n",
    "\n",
    "# escape characters\n",
    "print('I once caught a fish %s.' %'this \\tbig') # I once caught a fish this      big.\n",
    "print('I once caught a fish %r.' %'this \\tbig') # I once caught a fish 'this \\tbig'."
   ]
  },
  {
   "cell_type": "code",
   "execution_count": null,
   "metadata": {},
   "outputs": [],
   "source": [
    "# Control Floating Point Numbers\n",
    "\n",
    "num = 7.954\n",
    "print(\"Number is %d\" %num) # Number is 7\n",
    "print(\"Number is %f\" %num) # Number is 7.954000\n",
    "print(\"Number is %.2f\" %num) # Number is 7.95\n",
    "\n",
    "# %8 : minimum number of characters the string should contain 8 chars\n",
    "# .2 : first two characters of string\n",
    "print(\"Number is %8.2f\" %num) # Number is     7.95"
   ]
  },
  {
   "cell_type": "code",
   "execution_count": null,
   "metadata": {},
   "outputs": [],
   "source": [
    "# Trancate string\n",
    "myString = \"Hello world, im Elsayed Elmandoh\"\n",
    "\n",
    "# %s : only print all string\n",
    "print(\"my String is %s\" %myString) # my String is Hello world, im Elsayed Elmandoh\n",
    "# %.5s : only print the first five characters of string\n",
    "print(\"my String is %.5s\" %myString) # my String is Hello\n",
    "\n",
    "# %40 : minimum number of characters the string should contain 40 chars\n",
    "# defalut is space in the start of string\n",
    "print(\"my String is %40s\" %myString) # my String is         Hello world, im Elsayed Elmandoh\n",
    "\n",
    "# %40 : minimum number of characters the string should contain 40 characters\n",
    "# .5 : first five characters of string\n",
    "print(\"my String is %20.5s\" %myString) # my String is                Hello\n",
    "print(\"my String is %10.5s\" %myString) # my String is      Hello"
   ]
  },
  {
   "cell_type": "markdown",
   "metadata": {},
   "source": [
    "# .format() string method\n",
    "1. .format(value) {indexOfValue : width.precision}\"\n",
    "2. .format(value) : {value:10.4f}"
   ]
  },
  {
   "cell_type": "code",
   "execution_count": null,
   "metadata": {},
   "outputs": [],
   "source": [
    "# one placeholder\n",
    "print(\"I'm going to inject {:s} here.\".format('something')) # I'm going to inject something here."
   ]
  },
  {
   "cell_type": "code",
   "execution_count": null,
   "metadata": {},
   "outputs": [],
   "source": [
    "# multiple placeholder\n",
    "print(\"I'm going to inject {:s} text here, and {:s} text here.\".format('some','more'))\n",
    "# I'm going to inject some text here, and more text here."
   ]
  },
  {
   "cell_type": "code",
   "execution_count": null,
   "metadata": {},
   "outputs": [],
   "source": [
    "print('I wrote {:.1f} programs today.'.format(3.75)) # I wrote 3.7 programs today.\n",
    "print('I wrote {:d} programs today.'.format(3)) # I wrote 3 programs today.\n",
    "\n",
    "print('I wrote {:s} programs today.'.format(\"Three\")) # I wrote Three programs today.\n",
    "print('I wrote {:6s} programs today.'.format(\"Three\"))    # I wrote Three  programs today.\n",
    "print('I wrote {:6.2s} programs today.'.format(\"Three\"))  # I wrote Th     programs today.\n",
    "print('I wrote {:^6.2s} programs today.'.format(\"Three\")) # I wrote   Th   programs today."
   ]
  },
  {
   "cell_type": "markdown",
   "metadata": {},
   "source": [
    ">>> Inserted objects can be called by index position:"
   ]
  },
  {
   "cell_type": "code",
   "execution_count": null,
   "metadata": {},
   "outputs": [],
   "source": [
    "print('The {2} {1} {0}'.format('fox','brown','quick')) # The quick brown fox"
   ]
  },
  {
   "cell_type": "code",
   "execution_count": null,
   "metadata": {},
   "outputs": [],
   "source": [
    "print('First Object: {a}, Second Object: {b}, Third Object: {c}'.format(a=1,b='Two',c=12.3))\n",
    "# First Object: 1, Second Object: Two, Third Object: 12.3\n",
    "\n",
    "print('First Object: {a}, Second Object: {d}, Third Object: {d}'.format(a=1,d='Two',c=12.3))\n",
    "# First Object: 1, Second Object: Two, Third Object: Two"
   ]
  },
  {
   "cell_type": "markdown",
   "metadata": {},
   "source": [
    ">>> Inserted objects can be reused, avoiding duplication"
   ]
  },
  {
   "cell_type": "code",
   "execution_count": null,
   "metadata": {},
   "outputs": [],
   "source": [
    "print('A %s saved is a %s earned.' %('penny','penny')) # A penny saved is a penny earned.\n",
    "# vs.\n",
    "print('A {p} saved is a {p} earned.'.format(p='penny')) # A penny saved is a penny earned."
   ]
  },
  {
   "cell_type": "markdown",
   "metadata": {},
   "source": [
    ">>> Alignment : Within the curly braces you can assign field lengths, left/right"
   ]
  },
  {
   "cell_type": "code",
   "execution_count": null,
   "metadata": {},
   "outputs": [],
   "source": [
    "# {indexOfFormat : width.precision}\n",
    "print('{1:8} | {0:9.2}'.format('Fruit', 'Quantity')) # Quantity | Fruit\n",
    "print('{0:4} | {1:5}'.format('Apples', 3.)) # Apples |   3.0\n",
    "print('{0:5} | {1:7}'.format('Oranges', 10)) # Oranges |      10"
   ]
  },
  {
   "cell_type": "markdown",
   "metadata": {},
   "source": [
    ">> By default, .format() aligns text to the left, numbers to the right\n",
    ">> You can pass an optional < , ^ , or > to set a left, center or right alignment:"
   ]
  },
  {
   "cell_type": "code",
   "execution_count": null,
   "metadata": {},
   "outputs": [],
   "source": [
    "# {indexOfFormat : <lenghts} # space on the right side\n",
    "# {indexOfFormat : >lenghts} # space on the left side\n",
    "# {indexOfFormat : ^lenghts} # space on the center side\n",
    "\n",
    "print('{0:<8} | {1:^8} | {2:>8}'.format('Left','Center','Right')) # Left     |  Center  |    Right\n",
    "print('{0:<8} | {1:^8} | {2:>8}'.format(11,22,33)) # 11       |    22    |       33"
   ]
  },
  {
   "cell_type": "markdown",
   "metadata": {},
   "source": [
    ">>> Padding : You can precede the aligment operator with a padding character"
   ]
  },
  {
   "cell_type": "code",
   "execution_count": null,
   "metadata": {},
   "outputs": [],
   "source": [
    "print('{0:+<8} | {1:/^8} | {2:.>8}'.format('Left','Center','Right')) # Left++++ | /Center/ | ...Right\n",
    "print('{0:$<8} | {1:*^8} | {2:->8}'.format(11,22,33)) # 11$$$$$$ | ***22*** | ------33"
   ]
  },
  {
   "cell_type": "markdown",
   "metadata": {},
   "source": [
    ">>> Precision : Field widths and float precision are handled in a way similar to placeholders. \n",
    "The following two print statements are equivalent:"
   ]
  },
  {
   "cell_type": "code",
   "execution_count": null,
   "metadata": {},
   "outputs": [],
   "source": [
    "print('This is my ten-character, two-decimal number:%6.2f' %13.579) \n",
    "# This is my ten-character, two-decimal number: 13.58\n",
    "\n",
    "print('This is my ten-character, two-decimal number:{0:8.1f}'.format(13.579))\n",
    "# This is my ten-character, two-decimal number:    13.6"
   ]
  },
  {
   "cell_type": "markdown",
   "metadata": {},
   "source": [
    ">> Format Money .."
   ]
  },
  {
   "cell_type": "code",
   "execution_count": null,
   "metadata": {},
   "outputs": [],
   "source": [
    "myMoney= 766573563487\n",
    "\n",
    "print(\"myMoney is: {:_d}\".format(myMoney)) # myMoney is: 766_573_563_487\n",
    "print(\"myMoney is: {:,}\".format(myMoney)) # myMoney is: 766,573,563,487\n",
    "# print(\"myMoney is: {:&}\".format(myMoney)) # Error"
   ]
  },
  {
   "cell_type": "markdown",
   "metadata": {},
   "source": [
    "# Formatted String Literals (f-strings)\n",
    "1. created in python 3.6 \n",
    "2. f\"hello {value:{width}.{precision}f}\"\n",
    "3. f\"hello {value:{width}.{precision}s}\"\n",
    "4. f\"hello {value:{width}.{precision}d}\""
   ]
  },
  {
   "cell_type": "code",
   "execution_count": null,
   "metadata": {},
   "outputs": [],
   "source": [
    "name = 'Fred'\n",
    "print(f\"He said his name is {name}.\") # He said his name is Fred."
   ]
  },
  {
   "cell_type": "code",
   "execution_count": null,
   "metadata": {},
   "outputs": [],
   "source": [
    "# placeholders\n",
    "# %r : including 'quotation marks' and any 'escape characters'.\n",
    "print('I once caught a fish %r.' %'this \\tbig') # I once caught a fish 'this \\tbig'.\n",
    "\n",
    "# f-strings\n",
    "# !r : including 'quotation marks' and any 'escape characters'.\n",
    "name = 'Fred'\n",
    "print(f\"He said his name is {name!r}\") # He said his name is 'Fred'\n"
   ]
  },
  {
   "cell_type": "markdown",
   "metadata": {},
   "source": [
    ">> Float formatting follows \"result: {value:{width}.{precision}}\"\n",
    "1. .format() : {value:10.4f}\n",
    "2. f-strings : {value:{10}.{6}}"
   ]
  },
  {
   "cell_type": "code",
   "execution_count": null,
   "metadata": {},
   "outputs": [],
   "source": [
    "num = 23.45\n",
    "print(\"My 10 character, four decimal number is:{0:10.4f}\".format(num))\n",
    "# My 10 character, four decimal number is:   23.4500\n",
    "\n",
    "print(f\"My 10 character, four decimal number is:{num:{10}.{1}f}\")\n",
    "# My 10 character, four decimal number is:      23.4"
   ]
  },
  {
   "cell_type": "markdown",
   "metadata": {},
   "source": [
    "# Site : PyFormat.info >> for more details about Formatting"
   ]
  },
  {
   "cell_type": "markdown",
   "metadata": {},
   "source": [
    "# input from user"
   ]
  },
  {
   "cell_type": "code",
   "execution_count": null,
   "metadata": {},
   "outputs": [],
   "source": [
    "ui1=input(\"Enter first name: \").strip().capitalize()\n",
    "ui2=input(\"Enter mid name: \").strip().capitalize()\n",
    "ui3=input(\"Enter last name: \").strip().capitalize()\n",
    "print(f'First name : {ui1}')\n",
    "print(f'Mid name : {ui2}')\n",
    "print(f'Last name : {ui3}')"
   ]
  },
  {
   "cell_type": "markdown",
   "metadata": {},
   "source": [
    "# Email Slice"
   ]
  },
  {
   "cell_type": "code",
   "execution_count": null,
   "metadata": {},
   "outputs": [],
   "source": [
    "nameUser=input(\"Enter your name: \").strip().capitalize()\n",
    "emailUser=input(\"Enter your email: \").strip()\n",
    "userName=emailUser[:emailUser.index('@')]\n",
    "domainName=emailUser[emailUser.index('@')+1:]\n",
    "print(f\"your name is {nameUser} \\n your email is {emailUser} \\n your username is {userName} \\n your domain name is {domainName}\")"
   ]
  },
  {
   "cell_type": "markdown",
   "metadata": {},
   "source": [
    "# Calc your age"
   ]
  },
  {
   "cell_type": "code",
   "execution_count": null,
   "metadata": {},
   "outputs": [],
   "source": [
    "ageUser=int(input(\"Enter your age: \"))\n",
    "\n",
    "# convert to all time\n",
    "month =ageUser * 12\n",
    "week = month * 4\n",
    "day = week * 7\n",
    "hour = day * 24\n",
    "minute = hour * 60\n",
    "second = minute * 60\n",
    "print(f\"your age in month is {month:,} \\nyour age in week is {week:,} \\nyour age in day is {day:,} \\nyour age in hour is {hour:,} \\nyour age in minute is {minute:,} \\nyour age in second is {second:,}\")"
   ]
  }
 ],
 "metadata": {
  "kernelspec": {
   "display_name": "Python 3",
   "language": "python",
   "name": "python3"
  },
  "language_info": {
   "codemirror_mode": {
    "name": "ipython",
    "version": 3
   },
   "file_extension": ".py",
   "mimetype": "text/x-python",
   "name": "python",
   "nbconvert_exporter": "python",
   "pygments_lexer": "ipython3",
   "version": "3.11.4"
  },
  "orig_nbformat": 4,
  "vscode": {
   "interpreter": {
    "hash": "ab58cbacd942ca503049d3378ed1180a79e5c5d17c40fd38c92a577d131c0358"
   }
  }
 },
 "nbformat": 4,
 "nbformat_minor": 2
}
